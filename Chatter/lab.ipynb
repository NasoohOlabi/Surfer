{
 "cells": [
  {
   "cell_type": "code",
   "execution_count": 1,
   "metadata": {},
   "outputs": [],
   "source": [
    "import os, sys\n",
    "parent_dir = os.path.abspath(os.path.join(os.getcwd(), '../'))\n",
    "if parent_dir not in sys.path:\n",
    "    sys.path.insert(0, parent_dir)"
   ]
  },
  {
   "cell_type": "code",
   "execution_count": 2,
   "metadata": {},
   "outputs": [],
   "source": [
    "from Chatter.prompts import *\n",
    "from Bot import *"
   ]
  },
  {
   "cell_type": "code",
   "execution_count": 3,
   "metadata": {},
   "outputs": [],
   "source": [
    "# %pip install pyperclip==1.8.2"
   ]
  },
  {
   "cell_type": "code",
   "execution_count": 4,
   "metadata": {},
   "outputs": [],
   "source": [
    "alice = Person('alice','nice',23,'female','Boston','alice@gmail.com')\n",
    "bob = Person('bob','wick',29,'male','Boston','bob@gmail.com')"
   ]
  },
  {
   "cell_type": "code",
   "execution_count": 5,
   "metadata": {},
   "outputs": [],
   "source": [
    "import pyperclip"
   ]
  },
  {
   "cell_type": "code",
   "execution_count": 6,
   "metadata": {},
   "outputs": [
    {
     "name": "stdout",
     "output_type": "stream",
     "text": [
      "alice nice is a 23 years old female who lives in Boston  and bob wick is a 29 years old male who lives in Boston . and they have been friends for a long time alice nice is a 23 years old female who lives in Boston  and bob wick is a 29 years old male who lives in Boston . and they have been friends for a long time. if you are alice and you want to tell bob about this post `235r/ExperiencedDevs•Posted byu/EcstaticAssignment12 hours agoThe backend generalist software engineer I think both myself and a lot of my coworkers/friends fall under this category of \"backend non web-dev stack agnostic generalist software engineer\" that seem to hang out in product companies.While I've gotten experience in domains by virtue of the teams and projects I've worked with, I wouldn't really identify them as being my \"specialty\". I've also never really identified with my tech stack, both because it changes a lot and because frankly the complexity of my work never seems to boil down to low level implementation expertise. There are almost never any serious design meetings where the main point of contention is anything that is on the layer of programming patterns or language details (but obviously yes to system design). The problems that I mainly solve seem to be more \"engineering\" than programming, and while I'd say they are complex, they seem to be mostly a function of general analytical reasoning and more system design-level understanding.Is this sort of position actually that common outside of tech companies? I'm asking mostly out of curiosity, but also while I was lucky to land in another tech company after getting laid off in January, if I get laid off again and don't have the same luck, I'm not sure if I should take steps to brand myself as something less generalist when exploring other options.51 commentsAwardsharesave22 people hereu/getsentry·promotedPaste this line into your terminal to use Next.js with Sentry. sentry.ioIns` and your take on the topic in less that 20 words what would you send to him in chat ?\n"
     ]
    }
   ],
   "source": [
    "t = setup(alice,bob) +' '+ start_conversation_with_post(alice,bob,demo_post[:1567])\n",
    "print(t)\n",
    "pyperclip.copy(t)"
   ]
  },
  {
   "cell_type": "code",
   "execution_count": 9,
   "metadata": {},
   "outputs": [
    {
     "name": "stdout",
     "output_type": "stream",
     "text": [
      "bob sent me this message please write a reply with about 15 words with no emoticons\n",
      "\n",
      "Hey Bob! Came across a post about backend generalist software engineers discussing their roles and specialties. They're talking about how their work is more about engineering and system design, rather than low-level programming. Curious if this kind of position is common outside of tech companies. What are your thoughts? 🤔\n"
     ]
    }
   ],
   "source": [
    "t = startChatReplyPrompt(Message(person=alice,text='''Hey Bob! Came across a post about backend generalist software engineers discussing their roles and specialties. They're talking about how their work is more about engineering and system design, rather than low-level programming. Curious if this kind of position is common outside of tech companies. What are your thoughts? 🤔'''))\n",
    "print(t)\n",
    "pyperclip.copy(t)"
   ]
  },
  {
   "cell_type": "code",
   "execution_count": 11,
   "metadata": {},
   "outputs": [
    {
     "name": "stdout",
     "output_type": "stream",
     "text": [
      "please reply she said\n",
      "\n",
      "Hi Alice, interesting perspective on backend engineers. System design's vital; this role's widespread in tech.\n"
     ]
    }
   ],
   "source": [
    "t = inChatReplyPrompt(Message(person=alice,text='''Hi Alice, interesting perspective on backend engineers. System design's vital; this role's widespread in tech.'''))\n",
    "print(t)\n",
    "pyperclip.copy(t)"
   ]
  }
 ],
 "metadata": {
  "kernelspec": {
   "display_name": "Python 3",
   "language": "python",
   "name": "python3"
  },
  "language_info": {
   "codemirror_mode": {
    "name": "ipython",
    "version": 3
   },
   "file_extension": ".py",
   "mimetype": "text/x-python",
   "name": "python",
   "nbconvert_exporter": "python",
   "pygments_lexer": "ipython3",
   "version": "3.11.4"
  },
  "orig_nbformat": 4
 },
 "nbformat": 4,
 "nbformat_minor": 2
}
