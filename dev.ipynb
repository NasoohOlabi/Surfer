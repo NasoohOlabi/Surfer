{
  "cells": [
    {
      "cell_type": "code",
      "execution_count": 51,
      "metadata": {},
      "outputs": [],
      "source": [
        "import os, sys\n",
        "parent_dir = os.path.abspath(os.path.join(os.getcwd(), '../'))\n",
        "if parent_dir not in sys.path:\n",
        "    sys.path.insert(0, parent_dir)"
      ]
    },
    {
      "cell_type": "code",
      "execution_count": 53,
      "metadata": {},
      "outputs": [],
      "source": [
        "from Surfer import GetBrowser,RedditFeed,Feed,RedditPostFeed\n",
        "from Surfer.ScriptRunner import ScriptRunner\n",
        "import .files import *\n",
        "import ...Stegasus \n",
        "from Bot import *\n",
        "from Chatter import prompts"
      ]
    },
    {
      "cell_type": "code",
      "execution_count": 54,
      "metadata": {},
      "outputs": [],
      "source": [
        "\n",
        "# Example usage\n",
        "ex = \"svg\"\n",
        "file_path = f'tiny.{ex}'\n",
        "data = ''\n",
        "for chunk in read_file_in_chunks(file_path):\n",
        "    data += chunk"
      ]
    },
    {
      "cell_type": "code",
      "execution_count": 58,
      "metadata": {},
      "outputs": [],
      "source": [
        "driver = GetBrowser()"
      ]
    },
    {
      "cell_type": "code",
      "execution_count": 63,
      "metadata": {},
      "outputs": [],
      "source": [
        "rf = RedditFeed(driver,skip=False,subreddit='unpopularopinion',newWindow=False)\n",
        "# rf = RedditFeed(driver,skip=True)"
      ]
    },
    {
      "cell_type": "code",
      "execution_count": 64,
      "metadata": {},
      "outputs": [],
      "source": [
        "posts = []\n",
        "for x in islice(rf,15):\n",
        "  posts.append(x)\n",
        "  time.sleep(2*max(1,len(x) * 0.01))"
      ]
    },
    {
      "cell_type": "code",
      "execution_count": 76,
      "metadata": {},
      "outputs": [],
      "source": [
        "gptw = ChatGPTWebsite(driver,skip=False)"
      ]
    },
    {
      "cell_type": "code",
      "execution_count": 77,
      "metadata": {},
      "outputs": [],
      "source": [
        "alice = Person('alice','nice',23,'female','Boston','alice@gmail.com')\n",
        "bob = Person('bob','wick',29,'male','Boston','bob@gmail.com')"
      ]
    },
    {
      "cell_type": "code",
      "execution_count": 78,
      "metadata": {},
      "outputs": [],
      "source": [
        "actualChat = []"
      ]
    },
    {
      "cell_type": "code",
      "execution_count": 93,
      "metadata": {},
      "outputs": [
        {
          "data": {
            "text/plain": [
              "'001111000111001101110110011001110010000001111000011011010110110001101110011100110011110100100010011010000111010001110100011100000011101000101111001011110111011101110111011101110010111001110111001100110000000000000000000000000000000000000000000000000000000000000000000000000000000000000000000000000000'"
            ]
          },
          "execution_count": 93,
          "metadata": {},
          "output_type": "execute_result"
        }
      ],
      "source": [
        "padding = 100 * '0'\n",
        "data = data[:200] + padding\n",
        "data"
      ]
    },
    {
      "cell_type": "code",
      "execution_count": 92,
      "metadata": {},
      "outputs": [
        {
          "data": {
            "text/plain": [
              "'Now look, I get it, students want to get good grades so they can get into a good college and eventually a good career.\\n\\nBut you\\'ll quickly find out in the real world that learning how to think critically is the most important way you can add value to yourself and the world. In an age where we already have instant answers for everybody, that\\'s no longer a differentiator, but how can you provide context and thought leadership on top of those tools? THAT\\'s what employers are looking for, big time.\\n\\nUnfortunately, most young people don\\'t read books much anymore (other than what\\'s required \"for the test\" at school, which is one of the best ways to expand your mind and provide context to a lot of content. Gaming has it\\'s place, but probably the least useful in the working world.\\n\\nI can\\'t tell you how many times I\\'ll work with someone who went to a good college and still can\\'t think critically. They think they can just look it up and that will save them, but it doesn\\'t. They can\\'t think for themselves, so they can\\'t take action and get stuck constantly. They can\\'t be put in front of clients because they don\\'t know how to add value.\\n\\nAnd this isn\\'t just young people, I see it a lot in the older populations as well, this inability to think critically.\\n\\nChange your mindset from \"just tell me if this is going to be on the test\" to really trying to learn the material and apply it, and you\\'ll have a much more successful career.'"
            ]
          },
          "execution_count": 92,
          "metadata": {},
          "output_type": "execute_result"
        }
      ],
      "source": [
        "demo_post = posts[2]['excerpt']\n",
        "demo_post"
      ]
    },
    {
      "cell_type": "code",
      "execution_count": 84,
      "metadata": {},
      "outputs": [
        {
          "data": {
            "text/plain": [
              "[]"
            ]
          },
          "execution_count": 84,
          "metadata": {},
          "output_type": "execute_result"
        }
      ],
      "source": [
        "actualChat"
      ]
    },
    {
      "cell_type": "code",
      "execution_count": 72,
      "metadata": {},
      "outputs": [],
      "source": [
        "time.sleep(10)"
      ]
    },
    {
      "cell_type": "code",
      "execution_count": 73,
      "metadata": {},
      "outputs": [],
      "source": [
        "driver.implicitly_wait(2)"
      ]
    },
    {
      "cell_type": "code",
      "execution_count": 91,
      "metadata": {},
      "outputs": [],
      "source": [
        "def data_sent(data:str,padding=100):\n",
        "\treturn len(data)< 100 and len(set(data)) == 1"
      ]
    },
    {
      "cell_type": "code",
      "execution_count": 94,
      "metadata": {},
      "outputs": [
        {
          "name": "stdout",
          "output_type": "stream",
          "text": [
            "1 The post emphasizes the importance of critical thinking over grades, highlighting its value in the real world and the job market. It encourages learning beyond tests and books to truly add value and excel in one's career.\n",
            "1 The post 😂😂 stresss the importance 💯 of critical 🙁 anslysis over grades, highlightimg its inmportance in the real 👍🏼👍🏼👍🏼 world and the informtion market 👌. It envcourages 🔮🔮🔮 everyone bwyond tests 👍🏽👍🏽 and grades to truly add 👍🏻 vaslue 🎉 and ezcel in one's career.\n",
            "2 Absolutely agree! The post humorously emphasizes critical analysis over grades, underlining its real-world relevance. Encouraging everyone to prioritize value and excel in their careers.\n",
            "2 Absolutely agree! The post humorously emphasizes critical analysis over grades, underlining its real-world relevance. Encouraging everyone to prioritize value and excel in their careers.\n",
            "3 Definitely! The post humorously champions critical thinking over grades, highlighting its real-world significance. Let's all focus on adding value and excelling in our careers.\n",
            "3 Definitely! The poist humorously suggests critical 😋😋 thinking over something, highlighting 😊😊 its real 😊😊😊 - life 👌 significance. Let's all focus 💯💯 on adding 👍🏾 value ✨ and excelling 💯 in our world.\n",
            "4 Absolutely, critical thinking is key! We should aim to apply it in various aspects of life, fostering growth and success. How do you think this mindset can influence decision-making?\n",
            "4 Absolutely, critical thinking is key! We should aim to apply it in various aspects of life, fostering growth and success. How do you think this mindset can influence decision-making?\n",
            "73\n",
            "5 Indeed, decision-making benefits greatly from critical thinking. It helps analyze options, foresee consequences, and make informed choices. How have you seen this mindset shape your own decisions?\n"
          ]
        },
        {
          "ename": "KeyboardInterrupt",
          "evalue": "",
          "output_type": "error",
          "traceback": [
            "\u001b[1;31m---------------------------------------------------------------------------\u001b[0m",
            "\u001b[1;31mKeyboardInterrupt\u001b[0m                         Traceback (most recent call last)",
            "Cell \u001b[1;32mIn[94], line 33\u001b[0m\n\u001b[0;32m     31\u001b[0m \u001b[39mprint\u001b[39m(i,a)\n\u001b[0;32m     32\u001b[0m actualChat\u001b[39m.\u001b[39mappend(a)\n\u001b[1;32m---> 33\u001b[0m a, rem \u001b[39m=\u001b[39m Stegasus\u001b[39m.\u001b[39;49mStegasusEncode(a,rem)\n\u001b[0;32m     34\u001b[0m \u001b[39mprint\u001b[39m(i,a)\n\u001b[0;32m     35\u001b[0m \u001b[39mprint\u001b[39m(\u001b[39mlen\u001b[39m(rem))\n",
            "File \u001b[1;32mc:\\Users\\nasoo\\Desktop\\Y5Project\\Stegasus\\stegasus.py:183\u001b[0m, in \u001b[0;36mStegasusEncode\u001b[1;34m(text, bytes_str)\u001b[0m\n\u001b[0;32m    181\u001b[0m callbacks \u001b[39m=\u001b[39m [bert_callback, emojer_callback,typo_callback]\n\u001b[0;32m    182\u001b[0m p \u001b[39m=\u001b[39m pipe(callbacks, {\u001b[39m\"\u001b[39m\u001b[39mverbose\u001b[39m\u001b[39m\"\u001b[39m: \u001b[39mFalse\u001b[39;00m,\u001b[39m\"\u001b[39m\u001b[39mpipe_verbose\u001b[39m\u001b[39m\"\u001b[39m: \u001b[39mFalse\u001b[39;00m,\u001b[39m\"\u001b[39m\u001b[39mencode\u001b[39m\u001b[39m\"\u001b[39m:\u001b[39mTrue\u001b[39;00m,\u001b[39m\"\u001b[39m\u001b[39mdecode\u001b[39m\u001b[39m\"\u001b[39m:\u001b[39mFalse\u001b[39;00m,\u001b[39m\"\u001b[39m\u001b[39mtest\u001b[39m\u001b[39m\"\u001b[39m:\u001b[39mFalse\u001b[39;00m})\n\u001b[1;32m--> 183\u001b[0m mq, bq \u001b[39m=\u001b[39m p(initial_state)\n\u001b[0;32m    184\u001b[0m bits \u001b[39m=\u001b[39m \u001b[39mlen\u001b[39m(bytes_str) \u001b[39m-\u001b[39m \u001b[39mlen\u001b[39m(bq[\u001b[39m-\u001b[39m\u001b[39m1\u001b[39m])\n\u001b[0;32m    185\u001b[0m \u001b[39mwith\u001b[39;00m \u001b[39mopen\u001b[39m(\u001b[39m'\u001b[39m\u001b[39mstats.tsv\u001b[39m\u001b[39m'\u001b[39m,\u001b[39m'\u001b[39m\u001b[39ma\u001b[39m\u001b[39m'\u001b[39m) \u001b[39mas\u001b[39;00m f:\n",
            "File \u001b[1;32mc:\\Users\\nasoo\\Desktop\\Y5Project\\Stegasus\\stegasus.py:57\u001b[0m, in \u001b[0;36mpipe.<locals>._pipe\u001b[1;34m(state)\u001b[0m\n\u001b[0;32m     56\u001b[0m \u001b[39mdef\u001b[39;00m \u001b[39m_pipe\u001b[39m(state):\n\u001b[1;32m---> 57\u001b[0m     \u001b[39mreturn\u001b[39;00m process_callbacks(state, callbacks, config, index)\n",
            "File \u001b[1;32mc:\\Users\\nasoo\\Desktop\\Y5Project\\Stegasus\\stegasus.py:51\u001b[0m, in \u001b[0;36mpipe.<locals>.process_callbacks\u001b[1;34m(state, callbacks, config, index)\u001b[0m\n\u001b[0;32m     48\u001b[0m     next_callback \u001b[39m=\u001b[39m \u001b[39mlambda\u001b[39;00m s, c, cf\u001b[39m=\u001b[39mconfig: process_callbacks(s, callbacks, cf, index \u001b[39m+\u001b[39m \u001b[39m1\u001b[39m)\n\u001b[0;32m     50\u001b[0m \u001b[39m# Call the callback with the current state, next callback, and config\u001b[39;00m\n\u001b[1;32m---> 51\u001b[0m state \u001b[39m=\u001b[39m callback(state, next_callback, config)\n\u001b[0;32m     53\u001b[0m \u001b[39m# Return the final state\u001b[39;00m\n\u001b[0;32m     54\u001b[0m \u001b[39mreturn\u001b[39;00m state\n",
            "File \u001b[1;32mc:\\Users\\nasoo\\Desktop\\Y5Project\\Stegasus\\stegasus.py:76\u001b[0m, in \u001b[0;36mbert_callback\u001b[1;34m(state, next_callback, config)\u001b[0m\n\u001b[0;32m     73\u001b[0m   bytes_pipe\u001b[39m.\u001b[39mappend(stega_bert\u001b[39m.\u001b[39mremaining_bytes)\n\u001b[0;32m     75\u001b[0m \u001b[39mif\u001b[39;00m next_callback \u001b[39mis\u001b[39;00m \u001b[39mnot\u001b[39;00m \u001b[39mNone\u001b[39;00m:\n\u001b[1;32m---> 76\u001b[0m     state \u001b[39m=\u001b[39m next_callback(state, next_callback, config)\n\u001b[0;32m     78\u001b[0m \u001b[39mif\u001b[39;00m decode:\n\u001b[0;32m     79\u001b[0m   encoded_text \u001b[39m=\u001b[39m message_pipe\u001b[39m.\u001b[39mpop()\n",
            "File \u001b[1;32mc:\\Users\\nasoo\\Desktop\\Y5Project\\Stegasus\\stegasus.py:48\u001b[0m, in \u001b[0;36mpipe.<locals>.process_callbacks.<locals>.<lambda>\u001b[1;34m(s, c, cf)\u001b[0m\n\u001b[0;32m     46\u001b[0m next_callback \u001b[39m=\u001b[39m \u001b[39mNone\u001b[39;00m\n\u001b[0;32m     47\u001b[0m \u001b[39mif\u001b[39;00m index \u001b[39m<\u001b[39m \u001b[39mlen\u001b[39m(callbacks) \u001b[39m-\u001b[39m \u001b[39m1\u001b[39m:\n\u001b[1;32m---> 48\u001b[0m     next_callback \u001b[39m=\u001b[39m \u001b[39mlambda\u001b[39;00m s, c, cf\u001b[39m=\u001b[39mconfig: process_callbacks(s, callbacks, cf, index \u001b[39m+\u001b[39;49m \u001b[39m1\u001b[39;49m)\n\u001b[0;32m     50\u001b[0m \u001b[39m# Call the callback with the current state, next callback, and config\u001b[39;00m\n\u001b[0;32m     51\u001b[0m state \u001b[39m=\u001b[39m callback(state, next_callback, config)\n",
            "File \u001b[1;32mc:\\Users\\nasoo\\Desktop\\Y5Project\\Stegasus\\stegasus.py:51\u001b[0m, in \u001b[0;36mpipe.<locals>.process_callbacks\u001b[1;34m(state, callbacks, config, index)\u001b[0m\n\u001b[0;32m     48\u001b[0m     next_callback \u001b[39m=\u001b[39m \u001b[39mlambda\u001b[39;00m s, c, cf\u001b[39m=\u001b[39mconfig: process_callbacks(s, callbacks, cf, index \u001b[39m+\u001b[39m \u001b[39m1\u001b[39m)\n\u001b[0;32m     50\u001b[0m \u001b[39m# Call the callback with the current state, next callback, and config\u001b[39;00m\n\u001b[1;32m---> 51\u001b[0m state \u001b[39m=\u001b[39m callback(state, next_callback, config)\n\u001b[0;32m     53\u001b[0m \u001b[39m# Return the final state\u001b[39;00m\n\u001b[0;32m     54\u001b[0m \u001b[39mreturn\u001b[39;00m state\n",
            "File \u001b[1;32mc:\\Users\\nasoo\\Desktop\\Y5Project\\Stegasus\\stegasus.py:109\u001b[0m, in \u001b[0;36memojer_callback\u001b[1;34m(state, next_callback, config)\u001b[0m\n\u001b[0;32m    106\u001b[0m   bytes_pipe\u001b[39m.\u001b[39mappend(rem)\n\u001b[0;32m    108\u001b[0m \u001b[39mif\u001b[39;00m next_callback \u001b[39mis\u001b[39;00m \u001b[39mnot\u001b[39;00m \u001b[39mNone\u001b[39;00m:\n\u001b[1;32m--> 109\u001b[0m     state \u001b[39m=\u001b[39m next_callback(state, next_callback, config)\n\u001b[0;32m    110\u001b[0m \u001b[39melse\u001b[39;00m:\n\u001b[0;32m    111\u001b[0m   \u001b[39mprint\u001b[39m(state)\n",
            "File \u001b[1;32mc:\\Users\\nasoo\\Desktop\\Y5Project\\Stegasus\\stegasus.py:48\u001b[0m, in \u001b[0;36mpipe.<locals>.process_callbacks.<locals>.<lambda>\u001b[1;34m(s, c, cf)\u001b[0m\n\u001b[0;32m     46\u001b[0m next_callback \u001b[39m=\u001b[39m \u001b[39mNone\u001b[39;00m\n\u001b[0;32m     47\u001b[0m \u001b[39mif\u001b[39;00m index \u001b[39m<\u001b[39m \u001b[39mlen\u001b[39m(callbacks) \u001b[39m-\u001b[39m \u001b[39m1\u001b[39m:\n\u001b[1;32m---> 48\u001b[0m     next_callback \u001b[39m=\u001b[39m \u001b[39mlambda\u001b[39;00m s, c, cf\u001b[39m=\u001b[39mconfig: process_callbacks(s, callbacks, cf, index \u001b[39m+\u001b[39;49m \u001b[39m1\u001b[39;49m)\n\u001b[0;32m     50\u001b[0m \u001b[39m# Call the callback with the current state, next callback, and config\u001b[39;00m\n\u001b[0;32m     51\u001b[0m state \u001b[39m=\u001b[39m callback(state, next_callback, config)\n",
            "File \u001b[1;32mc:\\Users\\nasoo\\Desktop\\Y5Project\\Stegasus\\stegasus.py:51\u001b[0m, in \u001b[0;36mpipe.<locals>.process_callbacks\u001b[1;34m(state, callbacks, config, index)\u001b[0m\n\u001b[0;32m     48\u001b[0m     next_callback \u001b[39m=\u001b[39m \u001b[39mlambda\u001b[39;00m s, c, cf\u001b[39m=\u001b[39mconfig: process_callbacks(s, callbacks, cf, index \u001b[39m+\u001b[39m \u001b[39m1\u001b[39m)\n\u001b[0;32m     50\u001b[0m \u001b[39m# Call the callback with the current state, next callback, and config\u001b[39;00m\n\u001b[1;32m---> 51\u001b[0m state \u001b[39m=\u001b[39m callback(state, next_callback, config)\n\u001b[0;32m     53\u001b[0m \u001b[39m# Return the final state\u001b[39;00m\n\u001b[0;32m     54\u001b[0m \u001b[39mreturn\u001b[39;00m state\n",
            "File \u001b[1;32mc:\\Users\\nasoo\\Desktop\\Y5Project\\Stegasus\\stegasus.py:145\u001b[0m, in \u001b[0;36mtypo_callback\u001b[1;34m(state, next_callback, config)\u001b[0m\n\u001b[0;32m    143\u001b[0m x \u001b[39m=\u001b[39m Typo\u001b[39m.\u001b[39mecho(text)\n\u001b[0;32m    144\u001b[0m \u001b[39massert\u001b[39;00m x \u001b[39m==\u001b[39m text\n\u001b[1;32m--> 145\u001b[0m encoded_text, rem \u001b[39m=\u001b[39m Typo\u001b[39m.\u001b[39;49mencode(text,data)\n\u001b[0;32m    147\u001b[0m message_pipe\u001b[39m.\u001b[39mappend(encoded_text)\n\u001b[0;32m    148\u001b[0m bytes_pipe\u001b[39m.\u001b[39mappend(rem)\n",
            "File \u001b[1;32mc:\\Users\\nasoo\\Desktop\\Y5Project\\Stegasus\\TypocerosJar.py:53\u001b[0m, in \u001b[0;36mJavaJarWrapper.encode\u001b[1;34m(self, string, bytes_str)\u001b[0m\n\u001b[0;32m     50\u001b[0m process\u001b[39m.\u001b[39mstdin\u001b[39m.\u001b[39mwrite(bytes_str\u001b[39m.\u001b[39mencode(\u001b[39m\"\u001b[39m\u001b[39mutf-8\u001b[39m\u001b[39m\"\u001b[39m) \u001b[39m+\u001b[39m \u001b[39mb\u001b[39m\u001b[39m\"\u001b[39m\u001b[39m\\n\u001b[39;00m\u001b[39m\"\u001b[39m)\n\u001b[0;32m     51\u001b[0m process\u001b[39m.\u001b[39mstdin\u001b[39m.\u001b[39mflush()\n\u001b[1;32m---> 53\u001b[0m output \u001b[39m=\u001b[39m process\u001b[39m.\u001b[39mstdout\u001b[39m.\u001b[39mreadline()\u001b[39m.\u001b[39mdecode(\u001b[39m\"\u001b[39m\u001b[39mutf-8\u001b[39m\u001b[39m\"\u001b[39m)\u001b[39m.\u001b[39mstrip()\n\u001b[0;32m     54\u001b[0m remaining_bytes \u001b[39m=\u001b[39m process\u001b[39m.\u001b[39mstdout\u001b[39m.\u001b[39mreadline()\u001b[39m.\u001b[39mdecode(\u001b[39m\"\u001b[39m\u001b[39mutf-8\u001b[39m\u001b[39m\"\u001b[39m)\u001b[39m.\u001b[39mstrip()\n\u001b[0;32m     56\u001b[0m \u001b[39mreturn\u001b[39;00m JavaJarWrapper\u001b[39m.\u001b[39mfrom64(output), remaining_bytes\n",
            "\u001b[1;31mKeyboardInterrupt\u001b[0m: "
          ]
        }
      ],
      "source": [
        "aliceChat = gptw.getLandingNewChat()\n",
        "a,_ = aliceChat.ask(prompts.start_conversation_with_post(alice,bob,demo_post))\n",
        "# a = actualChat[0]\n",
        "print(1,a)\n",
        "actualChat.append(a)\n",
        "a, rem = Stegasus.StegasusEncode(a,data)\n",
        "print(1,a)\n",
        "a,bobChat = aliceChat.ask(prompts.startChatReplyPrompt(Message(alice,a)),True)\n",
        "print(2,a)\n",
        "actualChat.append(a)\n",
        "# a, rem = Stegasus.StegasusEncode(a,rem) # alice is sending\n",
        "print(2,a)\n",
        "a,_ = aliceChat.ask(prompts.startChatReplyPrompt(Message(bob,a)))\n",
        "print(3,a)\n",
        "actualChat.append(a)\n",
        "a, rem = Stegasus.StegasusEncode(a,rem)\n",
        "print(3,a)\n",
        "i = 4\n",
        "while not data_sent(rem):\n",
        "\ta,_ = bobChat.ask(prompts.inChatReplyPrompt(Message(alice,a))) \n",
        "\tprint(i,a)\n",
        "\tactualChat.append(a)\n",
        "\t# a, rem = Stegasus.StegasusEncode(a,rem) # alice is sending data\n",
        "\tprint(i,a)\n",
        "\tprint(len(rem))\n",
        "\tif data_sent(rem):\n",
        "\t\tbreak\n",
        "\t# switch\n",
        "\ti += 1\n",
        "\ta,_ = aliceChat.ask(prompts.inChatReplyPrompt(Message(bob,a)))\n",
        "\tprint(i,a)\n",
        "\tactualChat.append(a)\n",
        "\ta, rem = Stegasus.StegasusEncode(a,rem)\n",
        "\tprint(i,a)\n",
        "\tprint(len(rem))\n",
        "\ti +=1"
      ]
    },
    {
      "cell_type": "code",
      "execution_count": null,
      "metadata": {},
      "outputs": [
        {
          "data": {
            "text/plain": [
              "245"
            ]
          },
          "execution_count": 28,
          "metadata": {},
          "output_type": "execute_result"
        }
      ],
      "source": [
        "len(data) - len(rem)"
      ]
    },
    {
      "cell_type": "code",
      "execution_count": null,
      "metadata": {},
      "outputs": [
        {
          "data": {
            "text/plain": [
              "30.625"
            ]
          },
          "execution_count": 29,
          "metadata": {},
          "output_type": "execute_result"
        }
      ],
      "source": [
        "(len(data) - len(rem)) / 8"
      ]
    },
    {
      "cell_type": "code",
      "execution_count": null,
      "metadata": {},
      "outputs": [],
      "source": []
    }
  ],
  "metadata": {
    "kernelspec": {
      "display_name": "Python 3",
      "language": "python",
      "name": "python3"
    },
    "language_info": {
      "codemirror_mode": {
        "name": "ipython",
        "version": 3
      },
      "file_extension": ".py",
      "mimetype": "text/x-python",
      "name": "python",
      "nbconvert_exporter": "python",
      "pygments_lexer": "ipython3",
      "version": "3.11.4"
    },
    "orig_nbformat": 4
  },
  "nbformat": 4,
  "nbformat_minor": 2
}
