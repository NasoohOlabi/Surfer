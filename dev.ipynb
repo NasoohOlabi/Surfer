{
  "cells": [
    {
      "cell_type": "code",
      "execution_count": 1,
      "metadata": {},
      "outputs": [],
      "source": [
        "import os, sys\n",
        "parent_dir = os.path.abspath(os.path.join(os.getcwd(), '../'))\n",
        "if parent_dir not in sys.path:\n",
        "    sys.path.insert(0, parent_dir)"
      ]
    },
    {
      "cell_type": "code",
      "execution_count": 2,
      "metadata": {},
      "outputs": [],
      "source": [
        "import time\n",
        "import random\n",
        "from selenium.webdriver.common.by import By\n",
        "from selenium.webdriver.support.wait import WebDriverWait\n",
        "from selenium.webdriver.support import expected_conditions as EC\n",
        "import random\n",
        "import json\n",
        "from selenium import webdriver\n",
        "from selenium.webdriver.common.action_chains import ActionChains\n",
        "import string\n",
        "from itertools import islice\n",
        "from selenium.webdriver.common.keys import Keys\n",
        "# from Feed import Feed\n",
        "from icecream import ic\n",
        "from typing import Iterator, Any, List"
      ]
    },
    {
      "cell_type": "code",
      "execution_count": 3,
      "metadata": {},
      "outputs": [],
      "source": [
        "from Surfer import GetBrowser,RedditFeed,Feed\n",
        "from Surfer.ScriptRunner import ScriptRunner"
      ]
    },
    {
      "cell_type": "code",
      "execution_count": 4,
      "metadata": {},
      "outputs": [],
      "source": [
        "\n",
        "def read_file_in_chunks(file_path, chunk_size=10):\n",
        "    with open(file_path, 'rb') as file:\n",
        "        while True:\n",
        "            chunk = file.read(chunk_size)\n",
        "            if not chunk:\n",
        "                break\n",
        "            \n",
        "            binary_string = ''.join(format(byte, '08b') for byte in chunk)\n",
        "            yield binary_string\n",
        "\n",
        "# Example usage\n",
        "ex = \"svg\"\n",
        "file_path = f'tiny.{ex}'\n",
        "data = ''\n",
        "for chunk in read_file_in_chunks(file_path):\n",
        "    data += chunk\n",
        "\n",
        "# len(acc) - 796*8\n",
        "\n",
        "def write_binary_string_to_file(binary_string, output_file_path):\n",
        "    with open(output_file_path, 'wb') as file:\n",
        "        for i in range(0, len(binary_string), 8):\n",
        "            byte = binary_string[i:i + 8]\n",
        "            if len(byte) < 8:\n",
        "                byte = byte + '0' * (8 - len(byte))\n",
        "            file.write(bytes([int(byte, 2)]))\n",
        "\n",
        "# Example usage\n",
        "binary_string = data\n",
        "output_file_path = f'out/output_file.{ex}'\n",
        "write_binary_string_to_file(binary_string, output_file_path)\n"
      ]
    },
    {
      "cell_type": "code",
      "execution_count": 5,
      "metadata": {},
      "outputs": [
        {
          "name": "stderr",
          "output_type": "stream",
          "text": [
            "c:\\Python311\\Lib\\site-packages\\tqdm\\auto.py:21: TqdmWarning: IProgress not found. Please update jupyter and ipywidgets. See https://ipywidgets.readthedocs.io/en/stable/user_install.html\n",
            "  from .autonotebook import tqdm as notebook_tqdm\n",
            "[nltk_data] Downloading package stopwords to\n",
            "[nltk_data]     C:\\Users\\nasoo\\AppData\\Roaming\\nltk_data...\n",
            "[nltk_data]   Package stopwords is already up-to-date!\n"
          ]
        },
        {
          "name": "stdout",
          "output_type": "stream",
          "text": [
            "\n",
            "Setting up Masked Stego\n",
            "\n"
          ]
        },
        {
          "name": "stderr",
          "output_type": "stream",
          "text": [
            "Some weights of the model checkpoint at bert-base-cased were not used when initializing BertForMaskedLM: ['cls.seq_relationship.weight', 'bert.pooler.dense.weight', 'cls.seq_relationship.bias', 'bert.pooler.dense.bias']\n",
            "- This IS expected if you are initializing BertForMaskedLM from the checkpoint of a model trained on another task or with another architecture (e.g. initializing a BertForSequenceClassification model from a BertForPreTraining model).\n",
            "- This IS NOT expected if you are initializing BertForMaskedLM from the checkpoint of a model that you expect to be exactly identical (initializing a BertForSequenceClassification model from a BertForSequenceClassification model).\n"
          ]
        },
        {
          "name": "stdout",
          "output_type": "stream",
          "text": [
            "\n",
            "Setting up Masked Stego Completed\n",
            "\n",
            "\n",
            "Setting up Typoceros\n",
            "\n",
            "('hi, how atre you?', '01001011111')\n",
            "\n",
            "Setting up Typoceros Completed\n",
            "\n"
          ]
        }
      ],
      "source": [
        "import Stegasus "
      ]
    },
    {
      "cell_type": "code",
      "execution_count": 6,
      "metadata": {},
      "outputs": [],
      "source": [
        "from Bot import *\n",
        "from Chatter import prompts"
      ]
    },
    {
      "cell_type": "code",
      "execution_count": 7,
      "metadata": {},
      "outputs": [],
      "source": [
        "driver = GetBrowser()"
      ]
    },
    {
      "cell_type": "code",
      "execution_count": 8,
      "metadata": {},
      "outputs": [],
      "source": [
        "def uuid():\n",
        "    letters_digits = string.ascii_letters\n",
        "    return ''.join(random.choice(letters_digits) for i in range(20))"
      ]
    },
    {
      "cell_type": "code",
      "execution_count": 9,
      "metadata": {},
      "outputs": [],
      "source": [
        "def N(\n",
        "  mean = 0.5\n",
        "\t, stddev = 0.01\n",
        "\t, bounds = None\n",
        "):\n",
        "\tif bounds:\n",
        "\t\treturn max(bounds[0], min(random.normalvariate(mean, stddev) , bounds[1]))\n",
        "\telse:\n",
        "\t\treturn random.normalvariate(mean, stddev)"
      ]
    },
    {
      "cell_type": "code",
      "execution_count": 10,
      "metadata": {},
      "outputs": [],
      "source": [
        "run_script = ScriptRunner(driver,'./Surfer/scripts/')"
      ]
    },
    {
      "cell_type": "code",
      "execution_count": 11,
      "metadata": {},
      "outputs": [],
      "source": [
        "class RedditPostFeed(Feed):\n",
        "\tdef __init__(self, driver:webdriver.Chrome ,handle:str|None=None,verbose=False):\n",
        "\t\tsuper().__init__(name='Reddit Post Feed',driver=driver,handle=handle)\n",
        "\t\t# Store the WebDriver instance\n",
        "\t\tself.verbose = verbose\n",
        "\t\tself.focus()\n",
        "\t\tself.run_script('surfer.listen to clicks')()\n",
        "\t\tself.run_script('reddit.catch first comment',self.verbose)()\n",
        "\n",
        "\tdef __iter__(self) -> Iterator[Any]:\n",
        "\t\twhile True:\n",
        "\t\t\tself.focus()\n",
        "\t\t\tif not self.run_script('surfer.check cursor',verbose=self.verbose)():\n",
        "\t\t\t\tself.run_script('reddit.post.catch first comment',verbose=self.verbose)()\n",
        "\t\t\t\tcontinue\n",
        "\t\t\tself.run_script('surfer.scroll 2 cursor',verbose=self.verbose)(N(bounds=[0,1]),N(bounds=[0,1]),random.randint(1,25)/100)\n",
        "\t\t\tfor i in range(10):\n",
        "\t\t\t\tif self.run_script('surfer.check still scrolling')():\n",
        "\t\t\t\t\ttime.sleep(0.1)\n",
        "\t\t\t\telse:\n",
        "\t\t\t\t\tbreak\n",
        "\t\t\t\tif i == 9:\n",
        "\t\t\t\t\traise Exception('Not finished scrolling')\n",
        "\t\t\tyield self.run_script('reddit.post.parse comment',verbose=self.verbose)()\n",
        "\t\t\tself.run_script('reddit.post.cursor next')()\n",
        "\n",
        "class RedditFeed(Feed):\n",
        "\tdef __init__(self, driver:webdriver.Chrome,skip=True,handle:str|None=None,verbose=False):\n",
        "\t\tsuper().__init__(name='Reddit Feed',handle=handle,driver=driver)\n",
        "\t\tself.verbose = verbose\n",
        "\t\tif not skip:\n",
        "\t\t\tself.driver.get('https://www.reddit.com/')\n",
        "\t\t\tself.handle = self.driver.current_window_handle\n",
        "\t\t\tself.run_script('surfer.listen to clicks')()\n",
        "\t\tself.run_script('reddit.init_reddit',verbose=self.verbose)()\n",
        "\t\n",
        "\n",
        "\tdef __iter__(self) -> Iterator[Any]:\n",
        "\t\twhile True:\n",
        "\t\t\tself.focus()\n",
        "\t\t\tif not self.run_script('surfer.check cursor',verbose=self.verbose)():\n",
        "\t\t\t\tcontinue\n",
        "\t\t\tself.run_script('surfer.scroll 2 cursor',verbose=self.verbose)(N(bounds=[0,1]),N(bounds=[0,1]),random.randint(1,25)/100)\n",
        "\t\t\tfor i in range(10):\n",
        "\t\t\t\tif self.run_script('surfer.check still scrolling')():\n",
        "\t\t\t\t\ttime.sleep(0.1)\n",
        "\t\t\t\telse:\n",
        "\t\t\t\t\tbreak\n",
        "\t\t\t\tif i == 9:\n",
        "\t\t\t\t\traise Exception('Not finished scrolling')\n",
        "\t\t\tyield self.run_script('reddit.parse post',verbose=self.verbose)()\n",
        "\t\t\tself.run_script('surfer.cursor next')()\n",
        "\n",
        "\tdef click_post(self, newTab=True):\n",
        "\t\tfor i in range(10): # 10 retries\n",
        "\t\t\tself.focus()\n",
        "\t\t\tif i == 9:\n",
        "\t\t\t\traise Exception('cursor not present')\n",
        "\t\t\tif not self.run_script('surfer.check cursor',verbose=self.verbose)():\n",
        "\t\t\t\tcontinue\n",
        "\t\t\telse:\n",
        "\t\t\t\tbreak\n",
        "  \n",
        "\t\tid = uuid()\n",
        "\t\tself.run_script('surfer.mark cursor', verbose=self.verbose)(id)\n",
        "\t\t# Find the DOM element to click on\n",
        "\t\tsel = f'.{id}'\n",
        "\t\telement = driver.find_element(By.CSS_SELECTOR, sel)\n",
        "\t\th3 = element.find_element(By.CSS_SELECTOR,'h3')\n",
        "\t\telement = element if h3 is None else h3\n",
        "\t\tactions = ActionChains(driver)\n",
        "\t\tactions \\\n",
        "\t\t\t.click(element) \\\n",
        "\t\t\t.perform()\n",
        "\t\t\t# .key_down(Keys.CONTROL) \\\n",
        "\t\t\t# .key_up(Keys.CONTROL) \\\n",
        "\t\treturn RedditPostFeed(self.driver,self.handle,verbose=self.verbose)\n",
        "\n",
        "\tdef close(self):\n",
        "\t\tself.focus()\n",
        "\t\t# Close the WebDriver instance\n",
        "\t\tself.driver.quit()\n"
      ]
    },
    {
      "cell_type": "code",
      "execution_count": 12,
      "metadata": {},
      "outputs": [],
      "source": [
        "# rf = RedditFeed(driver,skip=False)\n",
        "# rf = RedditFeed(driver,skip=True)"
      ]
    },
    {
      "cell_type": "code",
      "execution_count": 13,
      "metadata": {},
      "outputs": [],
      "source": [
        "# for x in islice(rf,15):\n",
        "#   print(x)\n",
        "#   time.sleep(2*max(1,len(x) * 0.01))"
      ]
    },
    {
      "cell_type": "code",
      "execution_count": 14,
      "metadata": {},
      "outputs": [],
      "source": [
        "# e = rf.click_post()"
      ]
    },
    {
      "cell_type": "code",
      "execution_count": 15,
      "metadata": {},
      "outputs": [],
      "source": [
        "# run_script('reddit.post.parse comment')()"
      ]
    },
    {
      "cell_type": "code",
      "execution_count": 34,
      "metadata": {},
      "outputs": [],
      "source": [
        "from typing import Tuple\n",
        "\n",
        "\n",
        "class ChatGPTWebsite:\n",
        "\tdef __init__(self, driver:webdriver.Chrome,skip=True,handle:str|None=None,verbose=False):\n",
        "\t\tself.name = 'GPT'\n",
        "\t\tself.handle = handle\n",
        "\t\tself.driver = driver\n",
        "\t\tself.verbose = verbose\n",
        "\t\tself.run_script = ScriptRunner(driver,'./Surfer/scripts/')\n",
        "\t\tif not skip:\n",
        "\t\t\tself.driver.get('https://chat.openai.com/')\n",
        "\t\t\tself.handle = self.driver.current_window_handle\n",
        "\t\t\tself.run_script('surfer.listen to clicks')()\n",
        "\tdef getLandingNewChat(self):\n",
        "\t\treturn ChatGPT(self.driver)\n",
        "\n",
        "class ChatGPT:\n",
        "\tdef __init__(self, driver:webdriver.Chrome, name:str|None = None):\n",
        "\t\tself.driver = driver\n",
        "\t\tself.run_script = ScriptRunner(driver,'./Surfer/scripts/')\n",
        "\t\tself.name = name\n",
        "\n",
        "\tdef ask(self,prompt:str, newChat:bool = False) -> Tuple[str, 'ChatGPT']:\n",
        "\t\tif newChat:\n",
        "\t\t\tself.run_script('chat.openai.new chat')()\n",
        "\t\t\tWebDriverWait(self.driver, 30).until(\n",
        "\t\t\t\tEC.presence_of_element_located((By.CSS_SELECTOR, 'svg > circle+line+line+line+line+line+line+line+line'))# examples sun in new chat\n",
        "\t\t\t)\n",
        "\t\telse:\n",
        "\t\t\tif self.name:\n",
        "\t\t\t\tself.run_script('chat.openai.switch to chat name')(self.name)\n",
        "\t\t\t\ttime.sleep(4)\n",
        "\t\ttextarea = self.driver.find_element(By.CSS_SELECTOR,'textarea')\n",
        "\n",
        "\t\tJS_ADD_TEXT_TO_INPUT = \"\"\"\n",
        "\t\t\tvar elm = document.querySelector('textarea'), txt = arguments[0];\n",
        "\t\t\telm.value += txt;\n",
        "\t\t\telm.dispatchEvent(new Event('change'));\n",
        "\t\t\t\"\"\"\n",
        "\t\tprompts = prompt.split('\\n')\n",
        "\t\tfor line in prompts:\n",
        "\t\t\tself.driver.execute_script(JS_ADD_TEXT_TO_INPUT, line)\n",
        "\t\t\ttextarea.send_keys(Keys.SHIFT + Keys.ENTER)\n",
        "\t\ttime.sleep(2)\n",
        "\t\tself.driver.find_element(By.CSS_SELECTOR,'textarea + button').click()\n",
        "\t\tsvg_path = 'M20.49 9A9 9 0 0 0 5.64 5.64L1 10m22 4l-4.64 4.36A9 9 0 0 1 3.51 15'\n",
        "\t\ttry:\n",
        "\t\t\tWebDriverWait(self.driver, 60).until(\n",
        "\t\t\t\tEC.presence_of_element_located((By.CSS_SELECTOR, f'[d=\"{svg_path}\"]'))\n",
        "\t\t\t)\n",
        "\t\texcept:\n",
        "\t\t\tinput('>>> Bot check please notify when done!...')\n",
        "\t\t\tWebDriverWait(self.driver, 60).until(\n",
        "\t\t\t\tEC.presence_of_element_located((By.CSS_SELECTOR, f'[d=\"{svg_path}\"]'))\n",
        "\t\t\t)\n",
        "\t\ttime.sleep(5)\n",
        "\t\tif self.name is None: # first ChatGPT instance ever or new is pressed and we are already at new\n",
        "\t\t\tself.name = self.run_script('chat.openai.get current chat name')()\n",
        "\t\t\treturn self.run_script('chat.openai.get last answer')(), self\n",
        "\t\telif newChat:\n",
        "\t\t\tname = self.run_script('chat.openai.get current chat name')()\n",
        "\t\t\treturn self.run_script('chat.openai.get last answer')(), ChatGPT(self.driver,name)\n",
        "\t\telse:\n",
        "\t\t\treturn self.run_script('chat.openai.get last answer')(), self"
      ]
    },
    {
      "cell_type": "code",
      "execution_count": 35,
      "metadata": {},
      "outputs": [],
      "source": [
        "gptw = ChatGPTWebsite(driver,skip=False)"
      ]
    },
    {
      "cell_type": "code",
      "execution_count": 36,
      "metadata": {},
      "outputs": [],
      "source": [
        "alice = Person('alice','nice',23,'female','Boston','alice@gmail.com')\n",
        "bob = Person('bob','wick',29,'male','Boston','bob@gmail.com')"
      ]
    },
    {
      "cell_type": "code",
      "execution_count": 37,
      "metadata": {},
      "outputs": [],
      "source": [
        "actualChat = []"
      ]
    },
    {
      "cell_type": "code",
      "execution_count": 38,
      "metadata": {},
      "outputs": [
        {
          "data": {
            "text/plain": [
              "'0011110001110011011101100110011100100000011110000110110101101100011011100111001100111101001000100110100001110100011101000111000000111010001011110010111101110111011101110111011100101110011101110011001100101110011011110111001001100111001011110011001000110000001100000011000000101111011100110111011001100111001000100010000001100110011010010110110001101100001111010010001001101110011011110110111001100101001000100010000001110110011010010110010101110111010000100110111101111000001111010010001000110000001000000011000000100000001100100011010000100000001100100011010000100010001000000111001101110100011100100110111101101011011001010010110101110111011010010110010001110100011010000011110100100010001100010010111000110101001000100000110100001010000010010111001101110100011100100110111101101011011001010011110100100010011000110111010101110010011100100110010101101110011101000100001101101111011011000110111101110010001000100010000001100001011100100110100101100001001011010110100001101001011001000110010001100101011011100011110100100010011101000111001001110101011001010010001000111110000011010000101000001001001111000111000001100001011101000110100000100000011100110111010001110010011011110110101101100101001011010110110001101001011011100110010101100011011000010111000000111101001000100111001001101111011101010110111001100100001000100010000001110011011101000111001001101111011010110110010100101101011011000110100101101110011001010110101001101111011010010110111000111101001000100111001001101111011101010110111001100100001000100000110100001010000010010000100101100100001111010010001001001101001100110010111000110111001101010010000000110001001100110010111000110101011011000011000100110000001011100011010100101101001100010011000100101110001100100011010101001100001100010011001000100000001100010011000000101110001101010110100000111000001011100011001000110101010011000011100100101110001101110011010100100000001100100011000100101110001101110011010100100000001100010011001000100000001100010011001100101110001101010100100000110011001011100011011100110101011110100010001000101111001111100000110100001010001111000010111101110011011101100110011100111110'"
            ]
          },
          "execution_count": 38,
          "metadata": {},
          "output_type": "execute_result"
        }
      ],
      "source": [
        "data"
      ]
    },
    {
      "cell_type": "code",
      "execution_count": 39,
      "metadata": {},
      "outputs": [],
      "source": [
        "demo_post = '''Hi there! recently unstaked IMX from the staking L2 IMX plattform. And withdrawed from L2 to L1 on the Immutable marketplace, as indicated. It says there the withdrawal process can take up to 48 hours. BUT it is taking much more than that. 4 days and still nothing. Any hints?\n",
        "\n",
        "thanks for any info related guys'''"
      ]
    },
    {
      "cell_type": "code",
      "execution_count": 40,
      "metadata": {},
      "outputs": [
        {
          "data": {
            "text/plain": [
              "[]"
            ]
          },
          "execution_count": 40,
          "metadata": {},
          "output_type": "execute_result"
        }
      ],
      "source": [
        "actualChat"
      ]
    },
    {
      "cell_type": "code",
      "execution_count": 41,
      "metadata": {},
      "outputs": [],
      "source": [
        "time.sleep(10)"
      ]
    },
    {
      "cell_type": "code",
      "execution_count": 42,
      "metadata": {},
      "outputs": [
        {
          "name": "stdout",
          "output_type": "stream",
          "text": [
            "1 Hey! I saw your post about unstaking IMX and the withdrawal delay. Seems frustrating. Have you tried reaching out to support for assistance?\n",
            "1 Hey! I cslled 🙂 your post 🤣 anout unstaking 😂 IMX and the withjdrawal ☹️☹️☹️ response 😔. Seems freustrating. Have you tried going out to support 😤 for assistrance?\n",
            "2 Sure, I'll be happy to help! Could you please provide me with the message your friend sent you so that I can craft an appropriate reply?\n",
            "2 Sure, I'll be happy to help! Could you please provide me with the message your friend sent you so that I can craft an appropriate reply?\n",
            "3 Of course, feel free to share your friend's message, and I'll assist you in crafting a suitable reply for them.\n",
            "3 Of courdse, feel ✨✨✨ free to share youyr daughter's message 😊😊, and I'll assst you in ctrafting 🔮🔮 a formal reply for them.\n",
            "8 Certainly, I appreciate your willingness to assist. My daughter's message was heartwarming, expressing her gratitude for our recent family outing. How have you been lately?\n",
            "8 Certainly, I appreciate your willingness to assist. My daughter's message was heartwarming, expressing her gratitude for our recent family outing. How have you been lately?\n",
            "1999\n",
            "9 I'm glad to hear about the wonderful family outing and your daughter's heartfelt message. I've been well, thanks! Any exciting plans coming up for you?\n",
            "9 I'm glad to hesar 🙂 about the wondergful ✨✨✨ family outuing 😊 and your sister's heatfelt 🙂 message 💞💞. I've been well, really! ANy exciting 💓💓💓 plans ciome 😊 up for you?\n",
            "1926\n",
            "10 It's lovely to hear you're doing well! Currently, no major plans, just taking things day by day. How about you? Any interesting endeavors on your horizon?\n",
            "10 It's lovely to hear you're doing well! Currently, no major plans, just taking things day by day. How about you? Any interesting endeavors on your horizon?\n",
            "1926\n",
            "11 Taking it day by day sounds like a good approach. I've been exploring some new hobbies and catching up on reading. Have you discovered any intriguing hobbies lately?\n",
            "11 Taking it day ✨✨✨ by day ✨✨✨ soynds ✨ like a good 🙂🙂🙂 approach 🎉. I've been researcxhing 😊😊😊 some new hobbies 😊 anbd catching up on others. Have you discobvered 🙂🙂🙂 any intriguing 😼😼 hobbiues yet?\n",
            "1840\n",
            "12 Exploring new hobbies sounds fulfilling! I've been dabbling in photography and rediscovering my love for hiking. It's refreshing. What other hobbies have caught your attention lately?\n",
            "12 Exploring new hobbies sounds fulfilling! I've been dabbling in photography and rediscovering my love for hiking. It's refreshing. What other hobbies have caught your attention lately?\n",
            "1840\n",
            "13 Photography and hiking sound fantastic! Lately, I've been trying my hand at cooking different cuisines and learning to play a musical instrument. It's been quite enjoyable. How's your week going so far?\n",
            "13 Phoytography 🎥 and writing 🎞️ sound fanbtastic! Lately, I've been trying 🌼🌼🌼 my hsand at cookibg 💓 local cuisines and learnig ❤❤ to play 💞 a musical 🌤️🌤️🌤️ instument. It's been quite emjoyable 💗. How's your week 💞💞 goinbg so far?\n",
            "1728\n",
            "14 Your culinary and musical pursuits sound amazing! My week has been busy but productive. Balancing work and hobbies keeps things interesting. How about yours? Any highlights or challenges?\n",
            "14 Your culinary and musical pursuits sound amazing! My week has been busy but productive. Balancing work and hobbies keeps things interesting. How about yours? Any highlights or challenges?\n",
            "1728\n",
            "15 It's great to hear you're staying busy and productive. My week has been a mix of work projects and personal goals. Overcoming challenges has been rewarding. What's been the highlight of your week so far?\n",
            "15 It's grteat to see you're stasying busy 😊 and heathy. My week 🙂🙂🙂 has been a muix 🙂 of business 🙂 projexcts 🙂🙂🙂 and personal 🙂 challwnges. Overcoming 😊 challenges has been rewatrding ❤❤. What's been thge highlight of your week so far?\n",
            "1640\n"
          ]
        }
      ],
      "source": [
        "aliceChat = gptw.getLandingNewChat()\n",
        "a,_ = aliceChat.ask(prompts.start_conversation_with_post(alice,bob,demo_post))\n",
        "# a = actualChat[0]\n",
        "print(1,a)\n",
        "actualChat.append(a)\n",
        "a, rem = Stegasus.StegasusEncode(a,data)\n",
        "print(1,a)\n",
        "a,bobChat = aliceChat.ask(prompts.startChatReplyPrompt(Message(alice,a)),True)\n",
        "print(2,a)\n",
        "actualChat.append(a)\n",
        "# a, rem = Stegasus.StegasusEncode(a,rem) # alice is sending\n",
        "print(2,a)\n",
        "a,_ = aliceChat.ask(prompts.startChatReplyPrompt(Message(bob,a)))\n",
        "print(3,a)\n",
        "actualChat.append(a)\n",
        "a, rem = Stegasus.StegasusEncode(a,rem)\n",
        "print(3,a)\n",
        "i = 4\n",
        "while len(rem) > 0:\n",
        "\ta,_ = bobChat.ask(prompts.inChatReplyPrompt(Message(alice,a))) \n",
        "\tprint(i,a)\n",
        "\tactualChat.append(a)\n",
        "\t# a, rem = Stegasus.StegasusEncode(a,rem) # alice is sending data\n",
        "\tprint(i,a)\n",
        "\tprint(len(rem))\n",
        "\t# switch\n",
        "\ti += 1\n",
        "\ta,_ = aliceChat.ask(prompts.inChatReplyPrompt(Message(bob,a)))\n",
        "\tprint(i,a)\n",
        "\tactualChat.append(a)\n",
        "\ta, rem = Stegasus.StegasusEncode(a,rem)\n",
        "\tprint(i,a)\n",
        "\tprint(len(rem))\n",
        "\ti +=1"
      ]
    },
    {
      "cell_type": "code",
      "execution_count": 44,
      "metadata": {},
      "outputs": [
        {
          "ename": "NoSuchElementException",
          "evalue": "Message: no such element: Unable to locate element: {\"method\":\"css selector\",\"selector\":\"textarea\"}\n  (Session info: chrome=115.0.5790.171); For documentation on this error, please visit: https://www.selenium.dev/documentation/webdriver/troubleshooting/errors#no-such-element-exception\nStacktrace:\nBacktrace:\n\tGetHandleVerifier [0x00007FF71C024A62+57106]\n\t(No symbol) [0x00007FF71BF9CF52]\n\t(No symbol) [0x00007FF71BE6E2CB]\n\t(No symbol) [0x00007FF71BEA786E]\n\t(No symbol) [0x00007FF71BEA795C]\n\t(No symbol) [0x00007FF71BEE0477]\n\t(No symbol) [0x00007FF71BEC69FF]\n\t(No symbol) [0x00007FF71BEDE522]\n\t(No symbol) [0x00007FF71BEC6793]\n\t(No symbol) [0x00007FF71BE9CE81]\n\t(No symbol) [0x00007FF71BE9E064]\n\tGetHandleVerifier [0x00007FF71C2D4222+2873042]\n\tGetHandleVerifier [0x00007FF71C326590+3209792]\n\tGetHandleVerifier [0x00007FF71C31F3AF+3180639]\n\tGetHandleVerifier [0x00007FF71C0B5F25+652245]\n\t(No symbol) [0x00007FF71BFA8618]\n\t(No symbol) [0x00007FF71BFA47C4]\n\t(No symbol) [0x00007FF71BFA48BC]\n\t(No symbol) [0x00007FF71BF94C33]\n\tBaseThreadInitThunk [0x00007FFC49D626AD+29]\n\tRtlUserThreadStart [0x00007FFC4BFCAA68+40]\n",
          "output_type": "error",
          "traceback": [
            "\u001b[1;31m---------------------------------------------------------------------------\u001b[0m",
            "\u001b[1;31mNoSuchElementException\u001b[0m                    Traceback (most recent call last)",
            "Cell \u001b[1;32mIn[44], line 2\u001b[0m\n\u001b[0;32m      1\u001b[0m \u001b[39mfor\u001b[39;00m i \u001b[39min\u001b[39;00m \u001b[39mrange\u001b[39m(\u001b[39m4\u001b[39m,\u001b[39m8\u001b[39m):\n\u001b[1;32m----> 2\u001b[0m \ta,_ \u001b[39m=\u001b[39m bobChat\u001b[39m.\u001b[39;49mask(prompts\u001b[39m.\u001b[39;49minChatReplyPrompt(Message(alice,a))) \n\u001b[0;32m      3\u001b[0m \t\u001b[39mprint\u001b[39m(\u001b[39m2\u001b[39m\u001b[39m*\u001b[39mi,a)\n\u001b[0;32m      4\u001b[0m \tactualChat\u001b[39m.\u001b[39mappend(a)\n",
            "Cell \u001b[1;32mIn[34], line 34\u001b[0m, in \u001b[0;36mChatGPT.ask\u001b[1;34m(self, prompt, newChat)\u001b[0m\n\u001b[0;32m     32\u001b[0m \t\t\u001b[39mself\u001b[39m\u001b[39m.\u001b[39mrun_script(\u001b[39m'\u001b[39m\u001b[39mchat.openai.switch to chat name\u001b[39m\u001b[39m'\u001b[39m)(\u001b[39mself\u001b[39m\u001b[39m.\u001b[39mname)\n\u001b[0;32m     33\u001b[0m \t\ttime\u001b[39m.\u001b[39msleep(\u001b[39m4\u001b[39m)\n\u001b[1;32m---> 34\u001b[0m textarea \u001b[39m=\u001b[39m \u001b[39mself\u001b[39;49m\u001b[39m.\u001b[39;49mdriver\u001b[39m.\u001b[39;49mfind_element(By\u001b[39m.\u001b[39;49mCSS_SELECTOR,\u001b[39m'\u001b[39;49m\u001b[39mtextarea\u001b[39;49m\u001b[39m'\u001b[39;49m)\n\u001b[0;32m     36\u001b[0m JS_ADD_TEXT_TO_INPUT \u001b[39m=\u001b[39m \u001b[39m\"\"\"\u001b[39m\n\u001b[0;32m     37\u001b[0m \u001b[39m\tvar elm = document.querySelector(\u001b[39m\u001b[39m'\u001b[39m\u001b[39mtextarea\u001b[39m\u001b[39m'\u001b[39m\u001b[39m), txt = arguments[0];\u001b[39m\n\u001b[0;32m     38\u001b[0m \u001b[39m\telm.value += txt;\u001b[39m\n\u001b[0;32m     39\u001b[0m \u001b[39m\telm.dispatchEvent(new Event(\u001b[39m\u001b[39m'\u001b[39m\u001b[39mchange\u001b[39m\u001b[39m'\u001b[39m\u001b[39m));\u001b[39m\n\u001b[0;32m     40\u001b[0m \u001b[39m\t\u001b[39m\u001b[39m\"\"\"\u001b[39m\n\u001b[0;32m     41\u001b[0m prompts \u001b[39m=\u001b[39m prompt\u001b[39m.\u001b[39msplit(\u001b[39m'\u001b[39m\u001b[39m\\n\u001b[39;00m\u001b[39m'\u001b[39m)\n",
            "File \u001b[1;32mc:\\Python311\\Lib\\site-packages\\selenium\\webdriver\\remote\\webdriver.py:739\u001b[0m, in \u001b[0;36mWebDriver.find_element\u001b[1;34m(self, by, value)\u001b[0m\n\u001b[0;32m    736\u001b[0m     by \u001b[39m=\u001b[39m By\u001b[39m.\u001b[39mCSS_SELECTOR\n\u001b[0;32m    737\u001b[0m     value \u001b[39m=\u001b[39m \u001b[39mf\u001b[39m\u001b[39m'\u001b[39m\u001b[39m[name=\u001b[39m\u001b[39m\"\u001b[39m\u001b[39m{\u001b[39;00mvalue\u001b[39m}\u001b[39;00m\u001b[39m\"\u001b[39m\u001b[39m]\u001b[39m\u001b[39m'\u001b[39m\n\u001b[1;32m--> 739\u001b[0m \u001b[39mreturn\u001b[39;00m \u001b[39mself\u001b[39;49m\u001b[39m.\u001b[39;49mexecute(Command\u001b[39m.\u001b[39;49mFIND_ELEMENT, {\u001b[39m\"\u001b[39;49m\u001b[39musing\u001b[39;49m\u001b[39m\"\u001b[39;49m: by, \u001b[39m\"\u001b[39;49m\u001b[39mvalue\u001b[39;49m\u001b[39m\"\u001b[39;49m: value})[\u001b[39m\"\u001b[39m\u001b[39mvalue\u001b[39m\u001b[39m\"\u001b[39m]\n",
            "File \u001b[1;32mc:\\Python311\\Lib\\site-packages\\selenium\\webdriver\\remote\\webdriver.py:345\u001b[0m, in \u001b[0;36mWebDriver.execute\u001b[1;34m(self, driver_command, params)\u001b[0m\n\u001b[0;32m    343\u001b[0m response \u001b[39m=\u001b[39m \u001b[39mself\u001b[39m\u001b[39m.\u001b[39mcommand_executor\u001b[39m.\u001b[39mexecute(driver_command, params)\n\u001b[0;32m    344\u001b[0m \u001b[39mif\u001b[39;00m response:\n\u001b[1;32m--> 345\u001b[0m     \u001b[39mself\u001b[39;49m\u001b[39m.\u001b[39;49merror_handler\u001b[39m.\u001b[39;49mcheck_response(response)\n\u001b[0;32m    346\u001b[0m     response[\u001b[39m\"\u001b[39m\u001b[39mvalue\u001b[39m\u001b[39m\"\u001b[39m] \u001b[39m=\u001b[39m \u001b[39mself\u001b[39m\u001b[39m.\u001b[39m_unwrap_value(response\u001b[39m.\u001b[39mget(\u001b[39m\"\u001b[39m\u001b[39mvalue\u001b[39m\u001b[39m\"\u001b[39m, \u001b[39mNone\u001b[39;00m))\n\u001b[0;32m    347\u001b[0m     \u001b[39mreturn\u001b[39;00m response\n",
            "File \u001b[1;32mc:\\Python311\\Lib\\site-packages\\selenium\\webdriver\\remote\\errorhandler.py:229\u001b[0m, in \u001b[0;36mErrorHandler.check_response\u001b[1;34m(self, response)\u001b[0m\n\u001b[0;32m    227\u001b[0m         alert_text \u001b[39m=\u001b[39m value[\u001b[39m\"\u001b[39m\u001b[39malert\u001b[39m\u001b[39m\"\u001b[39m]\u001b[39m.\u001b[39mget(\u001b[39m\"\u001b[39m\u001b[39mtext\u001b[39m\u001b[39m\"\u001b[39m)\n\u001b[0;32m    228\u001b[0m     \u001b[39mraise\u001b[39;00m exception_class(message, screen, stacktrace, alert_text)  \u001b[39m# type: ignore[call-arg]  # mypy is not smart enough here\u001b[39;00m\n\u001b[1;32m--> 229\u001b[0m \u001b[39mraise\u001b[39;00m exception_class(message, screen, stacktrace)\n",
            "\u001b[1;31mNoSuchElementException\u001b[0m: Message: no such element: Unable to locate element: {\"method\":\"css selector\",\"selector\":\"textarea\"}\n  (Session info: chrome=115.0.5790.171); For documentation on this error, please visit: https://www.selenium.dev/documentation/webdriver/troubleshooting/errors#no-such-element-exception\nStacktrace:\nBacktrace:\n\tGetHandleVerifier [0x00007FF71C024A62+57106]\n\t(No symbol) [0x00007FF71BF9CF52]\n\t(No symbol) [0x00007FF71BE6E2CB]\n\t(No symbol) [0x00007FF71BEA786E]\n\t(No symbol) [0x00007FF71BEA795C]\n\t(No symbol) [0x00007FF71BEE0477]\n\t(No symbol) [0x00007FF71BEC69FF]\n\t(No symbol) [0x00007FF71BEDE522]\n\t(No symbol) [0x00007FF71BEC6793]\n\t(No symbol) [0x00007FF71BE9CE81]\n\t(No symbol) [0x00007FF71BE9E064]\n\tGetHandleVerifier [0x00007FF71C2D4222+2873042]\n\tGetHandleVerifier [0x00007FF71C326590+3209792]\n\tGetHandleVerifier [0x00007FF71C31F3AF+3180639]\n\tGetHandleVerifier [0x00007FF71C0B5F25+652245]\n\t(No symbol) [0x00007FF71BFA8618]\n\t(No symbol) [0x00007FF71BFA47C4]\n\t(No symbol) [0x00007FF71BFA48BC]\n\t(No symbol) [0x00007FF71BF94C33]\n\tBaseThreadInitThunk [0x00007FFC49D626AD+29]\n\tRtlUserThreadStart [0x00007FFC4BFCAA68+40]\n"
          ]
        }
      ],
      "source": [
        "for i in range(4,8):\n",
        "\ta,_ = bobChat.ask(prompts.inChatReplyPrompt(Message(alice,a))) \n",
        "\tprint(2*i,a)\n",
        "\tactualChat.append(a)\n",
        "\t# a, rem = Stegasus.StegasusEncode(a,rem) # alice is sending data\n",
        "\tprint(2*i,a)\n",
        "\tprint(len(rem))\n",
        "\t# switch\n",
        "\ta,_ = aliceChat.ask(prompts.inChatReplyPrompt(Message(bob,a)))\n",
        "\tprint(2*i+1,a)\n",
        "\tactualChat.append(a)\n",
        "\ta, rem = Stegasus.StegasusEncode(a,rem)\n",
        "\tprint(2*i+1,a)\n",
        "\tprint(len(rem))"
      ]
    },
    {
      "cell_type": "code",
      "execution_count": 43,
      "metadata": {},
      "outputs": [
        {
          "data": {
            "text/plain": [
              "488"
            ]
          },
          "execution_count": 43,
          "metadata": {},
          "output_type": "execute_result"
        }
      ],
      "source": [
        "len(data) - len(rem)"
      ]
    },
    {
      "cell_type": "code",
      "execution_count": null,
      "metadata": {},
      "outputs": [
        {
          "data": {
            "text/plain": [
              "221.25"
            ]
          },
          "execution_count": 32,
          "metadata": {},
          "output_type": "execute_result"
        }
      ],
      "source": [
        "(len(data) - len(rem)) / 8"
      ]
    }
  ],
  "metadata": {
    "kernelspec": {
      "display_name": "Python 3",
      "language": "python",
      "name": "python3"
    },
    "language_info": {
      "codemirror_mode": {
        "name": "ipython",
        "version": 3
      },
      "file_extension": ".py",
      "mimetype": "text/x-python",
      "name": "python",
      "nbconvert_exporter": "python",
      "pygments_lexer": "ipython3",
      "version": "3.11.4"
    },
    "orig_nbformat": 4
  },
  "nbformat": 4,
  "nbformat_minor": 2
}
