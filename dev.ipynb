{
  "cells": [
    {
      "cell_type": "code",
      "execution_count": 11,
      "metadata": {},
      "outputs": [],
      "source": [
        "import os, sys\n",
        "parent_dir = os.path.abspath(os.path.join(os.getcwd(), '../'))\n",
        "if parent_dir not in sys.path:\n",
        "    sys.path.insert(0, parent_dir)"
      ]
    },
    {
      "cell_type": "code",
      "execution_count": 12,
      "metadata": {},
      "outputs": [],
      "source": [
        "from itertools import islice\n",
        "import time\n",
        "from random import randint\n",
        "import random\n",
        "from typing import List"
      ]
    },
    {
      "cell_type": "code",
      "execution_count": 13,
      "metadata": {},
      "outputs": [],
      "source": [
        "from Surfer import GetBrowser,RedditFeed,Feed,ChatGPT,ChatGPTWebsite\n",
        "from Surfer.ScriptRunner import ScriptRunner\n",
        "from files import *\n",
        "from Stegasus import stegasus\n",
        "from Bot import *\n",
        "from Chatter import prompts\n",
        "from Surfer.util import uuid"
      ]
    },
    {
      "cell_type": "code",
      "execution_count": 14,
      "metadata": {},
      "outputs": [
        {
          "data": {
            "text/plain": [
              "'10001001010100000100111001000111000011010000101000011010000010100000000000000000000000000000110101001001010010000100010001010010000000000000000000000000000001110000000000000000000000000000011100001000000001100000000000000000000000001100010001010010010101111101001100000000000000000000000000001001011100000100100001011001011100110000000000000000000000111101100000000000000000000000001111011000000000010110111001000111011000110011010100000000000000000000000011010110010010010100010001000001010101000000100001011011000000011100101100000000001101001111111100000001101010111010100110101101111111111111110011111000111011010000000011110110110011011101001100000000111010011101010111100000000000000000011100101101001010010000000000010100001100010010101100000000111111111111111111111111000000000000000110110011101101101011011011111111111111101110110011101100000000001110011010111000110001010000000000001000000000010000101000000000111110010010010100011000000000000000100100100001000110000000000011111111111111111111111100000000000000011001111110100011101000011111111100010001111111010000001100000000111001111011110111001110000000000000001100000101000010000000000000001111001101110010100100000000111101110000011111111101000000000000000100000001000000010000000000000001101000001001111110011111111111111111010111110011111101000000000011110110110110011110010100000000000001010000010100000110000000001101110011110101111010110000000000011111001001100010001000000000000100110001001100010011000000000000000101110101011100100111001111111111110011111101010011010010000000000010111000100101001010000000000000000011000000010000001000000000101110011100001010111110000000000001010000000110000011000000000000110101010001100100000000000000000000010110011001100110011001101111111111011011110110111101101100000000000111010001110100011101000000001110110111101101111011010000000011011101110110111101110000000000010010100010110000110110000000000001000100110011001001110000000000000001011010100110101001101010111111111100010111000101110001010000000000010111000101110001011100000000000001000000010000000100000000001101110011010110110110000000000001010001001011100011101000000000111010110001000000000011000000000000100110000101010011011001001110000100100101111010011111011010000000000000000000000000000000000100100101000101010011100100010010101110010000100110000010000010'"
            ]
          },
          "execution_count": 14,
          "metadata": {},
          "output_type": "execute_result"
        }
      ],
      "source": [
        "# Example usage\n",
        "ex = \"png\"\n",
        "file_path = f'micro_rick_roll.{ex}'\n",
        "data = ''\n",
        "for chunk in read_file_in_chunks(file_path):\n",
        "    data += chunk\n",
        "data"
      ]
    },
    {
      "cell_type": "code",
      "execution_count": 15,
      "metadata": {},
      "outputs": [
        {
          "name": "stdout",
          "output_type": "stream",
          "text": [
            "2336\n",
            "1024\n"
          ]
        }
      ],
      "source": [
        "# KB\n",
        "print(len(data))\n",
        "data = data[:2**10]\n",
        "print(len(data))"
      ]
    },
    {
      "cell_type": "code",
      "execution_count": 16,
      "metadata": {},
      "outputs": [],
      "source": [
        "cache = {}"
      ]
    },
    {
      "cell_type": "code",
      "execution_count": 17,
      "metadata": {},
      "outputs": [],
      "source": [
        "class Encoder:\n",
        "\tdef __init__(self,data,dataLog,encodedChatLog):\n",
        "\t\tself.data = data\n",
        "\t\tself.rem = data\n",
        "\t\tself.dataLog = dataLog\n",
        "\t\tself.encodedChatLog = encodedChatLog\n",
        "\t\tself.dataLog.append('')\n",
        "\t\tself.sending_pure_padding = False\n",
        "\n",
        "\tdef done(self):\n",
        "\t\treturn self.sending_pure_padding\n",
        "\n",
        "\tdef __call__(self,text) -> str:\n",
        "\t\t# sending pure padding\n",
        "\t\tself.sending_pure_padding = len(self.rem) < 499\n",
        "\t\ta, self.rem = stegasus.StegasusEncode(text,self.rem)\n",
        "\t\tself.encodedChatLog.append(a)\n",
        "\t\tself.dataLog.append(data[len(self.dataLog[-1]):-len(self.rem)])\n",
        "\t\treturn a\n"
      ]
    },
    {
      "cell_type": "code",
      "execution_count": 18,
      "metadata": {},
      "outputs": [],
      "source": [
        "# import importlib\n",
        "# importlib.reload(prompts)\n",
        "\n",
        "# backup_post = [p for p in cache['posts'] if not (p['title'] is not None and p['title'] != \"\" and p['excerpt'] is not None and p['excerpt'] != \"\")][0]\n",
        "# a = prompts.inChatReplyPrompt(Message(Person('alice','nice',23,'female','Boston','alice@gmail.com'),'sup dog'),backup_post)\n",
        "# print(a)"
      ]
    },
    {
      "cell_type": "code",
      "execution_count": 19,
      "metadata": {},
      "outputs": [
        {
          "name": "stdout",
          "output_type": "stream",
          "text": [
            "[]\n",
            "[]\n"
          ]
        }
      ],
      "source": [
        "print(list(cache.keys()))\n",
        "# del cache['data']\n",
        "# del cache['driver']\n",
        "# del cache['RedditFeed']\n",
        "# del cache['posts']\n",
        "# del cache['ChatGPTWebsite']\n",
        "# del cache['encodedChatLog']\n",
        "# del cache['chatLog']\n",
        "# del cache['promptLog']\n",
        "# del cache['dataLog']\n",
        "# del cache['aliceChat']\n",
        "# del cache['bobChat']'\n",
        "print(list(cache.keys()))"
      ]
    },
    {
      "cell_type": "code",
      "execution_count": 20,
      "metadata": {},
      "outputs": [
        {
          "data": {
            "text/plain": [
              "False"
            ]
          },
          "execution_count": 20,
          "metadata": {},
          "output_type": "execute_result"
        }
      ],
      "source": [
        "bool('')"
      ]
    },
    {
      "cell_type": "code",
      "execution_count": 21,
      "metadata": {},
      "outputs": [],
      "source": [
        "def openChannelAndSend(data:str\n",
        ", alice = Person('alice','nice',23,'female','Boston','alice@gmail.com')\n",
        ", bob = Person('bob','wick',29,'male','Boston','bob@gmail.com')):\n",
        "\tdata += '1' + ('0' * 500)\n",
        "\tcache['data'] = data\n",
        "\tif 'driver' in cache:\n",
        "\t\tdriver = cache['driver']\n",
        "\telse:\n",
        "\t\tcache['driver'] = GetBrowser()\n",
        "\t\tdriver = cache['driver']\n",
        "\tdriver.implicitly_wait(2)\n",
        "\tcache['RedditFeed']= cache.get('RedditFeed',RedditFeed(driver,skip=False,subreddit='unpopularopinion',newWindow=False))\n",
        "\trf = cache['RedditFeed'] \n",
        "\t# rf = RedditFeed(driver,skip=True)\n",
        "\tposts = []\n",
        "\tif 'posts' in cache:\n",
        "\t\tposts = cache['posts']\n",
        "\telse:\n",
        "\t\tfor x in islice(rf,15):\n",
        "\t\t\tposts.append(x)\n",
        "\t\t\ttime.sleep(2*max(1,len(x) * 0.01))\n",
        "\t\tposts = [p for p in posts if bool(p['excerpt']) and bool(p['title'])]\n",
        "\t\trandom.shuffle(posts)\n",
        "\t\tcache['posts'] = posts\n",
        "\t\t\n",
        "\tcache['ChatGPTWebsite'] = cache.get('ChatGPTWebsite',ChatGPTWebsite(driver,skip=False))\n",
        "\tgptWebsite = cache['ChatGPTWebsite'] \n",
        "\t\n",
        "\ttime.sleep(7)\n",
        "\t\n",
        "\tencodedChatLog: List[str] = []\n",
        "\tcache['encodedChatLog'] = encodedChatLog\n",
        "\tchatLog: List[Message] = []\n",
        "\tcache['chatLog'] = chatLog\n",
        "\tpromptLog: List[str] = []\n",
        "\tcache['promptLog'] = promptLog\n",
        "\tdataLog: List[str] = []\n",
        "\tcache['dataLog'] = dataLog\n",
        "\t\n",
        "\tencoder = Encoder(data,dataLog,encodedChatLog)\n",
        "\n",
        "\tcache['aliceChat'] = cache.get('aliceChat', gptWebsite.getLandingNewChat())\n",
        "\taliceChat = cache['aliceChat'] \n",
        "\tif len(promptLog) == 0:\n",
        "\t\t# promptLog 0\n",
        "\t\tpromptLog.append(prompts.start_conversation_with_post(alice,bob,posts[randint(0,len(posts)-1)]))\n",
        "\t\n",
        "\tif len(chatLog) == 0:\n",
        "\t\t# chatLog 0\n",
        "\t\tchatLog.append(Message(alice,aliceChat.ask(promptLog[0])))\n",
        "\t\n",
        "\tencoder(chatLog[0].text)\n",
        "\n",
        "\tif 'bobChat' not in cache or len(chatLog) == 1 or len(promptLog) == 1:\n",
        "\t\t# promptLog 1\n",
        "\t\tpromptLog.append(prompts.startChatReplyPrompt(chatLog[0]))\n",
        "\t\ta,bobChat = aliceChat.askNew(promptLog[1])\n",
        "\t\t# chatLog 1\n",
        "\t\tchatLog.append(Message(bob,a))\n",
        "\t\tcache['bobChat'] = bobChat\n",
        "\telse:\n",
        "\t\tbobChat =cache['bobChat']\n",
        "\n",
        "\t# chatLog 2\n",
        "\tchatLog.append(Message(alice, aliceChat.ask(prompts.startChatReplyPrompt(chatLog[1]))))\n",
        "\ta = encoder(chatLog[2].text)\n",
        "\t\n",
        "\tcIdx = 2\n",
        "\twhile True:\n",
        "\t\tif encoder.done():\n",
        "\t\t\t# chatLog cIdx+1\n",
        "\t\t\tchatLog.append(Message(alice, aliceChat.ask(prompts.endChatReplyPrompt(chatLog[cIdx]))))\n",
        "\t\t\tcIdx += 1\n",
        "\t\t\ta = encoder(chatLog[cIdx].text)\n",
        "\t\t\treturn None\n",
        "\n",
        "\t\t# chatLog cIdx+1\n",
        "\t\tchatLog.append(Message(bob, bobChat.ask(prompts.inChatReplyPrompt(chatLog[cIdx],posts[randint(0,len(posts)-1)]))))\n",
        "\t\tcIdx += 1\n",
        "\t\t\n",
        "\t\t# switch\n",
        "\t\t\n",
        "\t\t# chatLog cIdx+1\n",
        "\t\tchatLog.append(Message(alice, aliceChat.ask(prompts.inChatReplyPrompt(chatLog[cIdx],posts[randint(0,len(posts)-1)]))))\n",
        "\t\tcIdx += 1\n",
        "\t\ta = encoder(chatLog[cIdx].text)\n"
      ]
    },
    {
      "cell_type": "code",
      "execution_count": 22,
      "metadata": {},
      "outputs": [],
      "source": [
        "openChannelAndSend(data)"
      ]
    },
    {
      "cell_type": "code",
      "execution_count": 23,
      "metadata": {},
      "outputs": [],
      "source": [
        "from json import dumps\n",
        "from json import JSONEncoder\n",
        "\n",
        "class MessageEncoder(JSONEncoder):\n",
        "    def default(self, obj):\n",
        "        if isinstance(obj, Message):\n",
        "            return {\n",
        "                'person': f\"{obj.person.first_name} {obj.person.last_name}\",\n",
        "                'text': obj.text,\n",
        "                'time': obj.time.strftime('%Y-%m-%d %H:%M:%S')\n",
        "            }\n",
        "        return super().default(obj)\n",
        "\n",
        "\n",
        "with open(f'./{uuid()}.json','w') as f:\n",
        "\n",
        "\tf.write(dumps({\n",
        "\t\t'chatLog':cache['chatLog']\n",
        "\t\t, 'encodedChatLog': cache['encodedChatLog']\n",
        "\t\t, 'promptLog': cache['promptLog']\n",
        "\t\t, 'dataLog': cache['dataLog']\n",
        "\t\t, 'data': cache['data']\n",
        "\t\t},cls=MessageEncoder))"
      ]
    },
    {
      "cell_type": "code",
      "execution_count": 24,
      "metadata": {},
      "outputs": [],
      "source": [
        "import pandas as pd\n",
        "import math"
      ]
    },
    {
      "cell_type": "code",
      "execution_count": 26,
      "metadata": {},
      "outputs": [],
      "source": [
        "df = pd.read_csv('./stats.tsv',delimiter='\\t')\n",
        "df['capacity'] = df['capacity'].apply(lambda x : round(100*x) if isinstance(x,float) else x)"
      ]
    },
    {
      "cell_type": "code",
      "execution_count": 27,
      "metadata": {},
      "outputs": [],
      "source": [
        "df.to_csv('./stats.tsv',sep='\\t',index=False)"
      ]
    },
    {
      "cell_type": "code",
      "execution_count": 28,
      "metadata": {},
      "outputs": [
        {
          "data": {
            "text/html": [
              "<div>\n",
              "<style scoped>\n",
              "    .dataframe tbody tr th:only-of-type {\n",
              "        vertical-align: middle;\n",
              "    }\n",
              "\n",
              "    .dataframe tbody tr th {\n",
              "        vertical-align: top;\n",
              "    }\n",
              "\n",
              "    .dataframe thead th {\n",
              "        text-align: right;\n",
              "    }\n",
              "</style>\n",
              "<table border=\"1\" class=\"dataframe\">\n",
              "  <thead>\n",
              "    <tr style=\"text-align: right;\">\n",
              "      <th></th>\n",
              "      <th>bits</th>\n",
              "      <th>cover size</th>\n",
              "      <th>capacity</th>\n",
              "    </tr>\n",
              "  </thead>\n",
              "  <tbody>\n",
              "    <tr>\n",
              "      <th>count</th>\n",
              "      <td>15.000000</td>\n",
              "      <td>15.000000</td>\n",
              "      <td>15.000000</td>\n",
              "    </tr>\n",
              "    <tr>\n",
              "      <th>mean</th>\n",
              "      <td>77.266667</td>\n",
              "      <td>225.666667</td>\n",
              "      <td>33.733333</td>\n",
              "    </tr>\n",
              "    <tr>\n",
              "      <th>std</th>\n",
              "      <td>28.880212</td>\n",
              "      <td>24.505587</td>\n",
              "      <td>9.910072</td>\n",
              "    </tr>\n",
              "    <tr>\n",
              "      <th>min</th>\n",
              "      <td>45.000000</td>\n",
              "      <td>187.000000</td>\n",
              "      <td>23.000000</td>\n",
              "    </tr>\n",
              "    <tr>\n",
              "      <th>25%</th>\n",
              "      <td>55.000000</td>\n",
              "      <td>205.000000</td>\n",
              "      <td>27.000000</td>\n",
              "    </tr>\n",
              "    <tr>\n",
              "      <th>50%</th>\n",
              "      <td>73.000000</td>\n",
              "      <td>230.000000</td>\n",
              "      <td>32.000000</td>\n",
              "    </tr>\n",
              "    <tr>\n",
              "      <th>75%</th>\n",
              "      <td>78.500000</td>\n",
              "      <td>243.500000</td>\n",
              "      <td>36.000000</td>\n",
              "    </tr>\n",
              "    <tr>\n",
              "      <th>max</th>\n",
              "      <td>140.000000</td>\n",
              "      <td>264.000000</td>\n",
              "      <td>54.000000</td>\n",
              "    </tr>\n",
              "  </tbody>\n",
              "</table>\n",
              "</div>"
            ],
            "text/plain": [
              "             bits  cover size   capacity\n",
              "count   15.000000   15.000000  15.000000\n",
              "mean    77.266667  225.666667  33.733333\n",
              "std     28.880212   24.505587   9.910072\n",
              "min     45.000000  187.000000  23.000000\n",
              "25%     55.000000  205.000000  27.000000\n",
              "50%     73.000000  230.000000  32.000000\n",
              "75%     78.500000  243.500000  36.000000\n",
              "max    140.000000  264.000000  54.000000"
            ]
          },
          "execution_count": 28,
          "metadata": {},
          "output_type": "execute_result"
        }
      ],
      "source": [
        "df.describe()"
      ]
    },
    {
      "cell_type": "code",
      "execution_count": 29,
      "metadata": {},
      "outputs": [],
      "source": [
        "# df.drop('in',axis=1,inplace=True)\n",
        "# df.drop('encoded',axis=1,inplace=True)\n",
        "\n",
        "# df"
      ]
    },
    {
      "cell_type": "code",
      "execution_count": 30,
      "metadata": {},
      "outputs": [
        {
          "data": {
            "text/html": [
              "<div>\n",
              "<style scoped>\n",
              "    .dataframe tbody tr th:only-of-type {\n",
              "        vertical-align: middle;\n",
              "    }\n",
              "\n",
              "    .dataframe tbody tr th {\n",
              "        vertical-align: top;\n",
              "    }\n",
              "\n",
              "    .dataframe thead th {\n",
              "        text-align: right;\n",
              "    }\n",
              "</style>\n",
              "<table border=\"1\" class=\"dataframe\">\n",
              "  <thead>\n",
              "    <tr style=\"text-align: right;\">\n",
              "      <th></th>\n",
              "      <th>bits</th>\n",
              "      <th>cover size</th>\n",
              "      <th>capacity</th>\n",
              "    </tr>\n",
              "  </thead>\n",
              "  <tbody>\n",
              "    <tr>\n",
              "      <th>count</th>\n",
              "      <td>15</td>\n",
              "      <td>15</td>\n",
              "      <td>15</td>\n",
              "    </tr>\n",
              "    <tr>\n",
              "      <th>mean</th>\n",
              "      <td>77</td>\n",
              "      <td>226</td>\n",
              "      <td>34</td>\n",
              "    </tr>\n",
              "    <tr>\n",
              "      <th>std</th>\n",
              "      <td>29</td>\n",
              "      <td>25</td>\n",
              "      <td>10</td>\n",
              "    </tr>\n",
              "    <tr>\n",
              "      <th>min</th>\n",
              "      <td>45</td>\n",
              "      <td>187</td>\n",
              "      <td>23</td>\n",
              "    </tr>\n",
              "    <tr>\n",
              "      <th>25%</th>\n",
              "      <td>55</td>\n",
              "      <td>205</td>\n",
              "      <td>27</td>\n",
              "    </tr>\n",
              "    <tr>\n",
              "      <th>50%</th>\n",
              "      <td>73</td>\n",
              "      <td>230</td>\n",
              "      <td>32</td>\n",
              "    </tr>\n",
              "    <tr>\n",
              "      <th>75%</th>\n",
              "      <td>78</td>\n",
              "      <td>244</td>\n",
              "      <td>36</td>\n",
              "    </tr>\n",
              "    <tr>\n",
              "      <th>max</th>\n",
              "      <td>140</td>\n",
              "      <td>264</td>\n",
              "      <td>54</td>\n",
              "    </tr>\n",
              "  </tbody>\n",
              "</table>\n",
              "</div>"
            ],
            "text/plain": [
              "       bits  cover size  capacity\n",
              "count    15          15        15\n",
              "mean     77         226        34\n",
              "std      29          25        10\n",
              "min      45         187        23\n",
              "25%      55         205        27\n",
              "50%      73         230        32\n",
              "75%      78         244        36\n",
              "max     140         264        54"
            ]
          },
          "execution_count": 30,
          "metadata": {},
          "output_type": "execute_result"
        }
      ],
      "source": [
        "dfd = df.describe()\n",
        "dfd['bits'] = dfd['bits'].apply(lambda a: int(round(a)))\n",
        "dfd['cover size'] = dfd['cover size'].apply(lambda a: int(round(a)))\n",
        "dfd['capacity'] = dfd['capacity'].apply(lambda a: int(round(a)))\n",
        "dfd"
      ]
    },
    {
      "cell_type": "code",
      "execution_count": 31,
      "metadata": {},
      "outputs": [],
      "source": [
        "dfd.to_csv('./stats.stats.tsv',sep='\\t')"
      ]
    },
    {
      "cell_type": "code",
      "execution_count": null,
      "metadata": {},
      "outputs": [],
      "source": []
    },
    {
      "cell_type": "code",
      "execution_count": null,
      "metadata": {},
      "outputs": [],
      "source": []
    }
  ],
  "metadata": {
    "kernelspec": {
      "display_name": "Python 3",
      "language": "python",
      "name": "python3"
    },
    "language_info": {
      "codemirror_mode": {
        "name": "ipython",
        "version": 3
      },
      "file_extension": ".py",
      "mimetype": "text/x-python",
      "name": "python",
      "nbconvert_exporter": "python",
      "pygments_lexer": "ipython3",
      "version": "3.11.4"
    },
    "orig_nbformat": 4
  },
  "nbformat": 4,
  "nbformat_minor": 2
}
