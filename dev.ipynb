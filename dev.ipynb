{
  "cells": [
    {
      "cell_type": "code",
      "execution_count": 1,
      "metadata": {},
      "outputs": [],
      "source": [
        "import time\n",
        "import random\n",
        "from selenium.webdriver.common.by import By\n",
        "from selenium.webdriver.support.wait import WebDriverWait\n",
        "from selenium.webdriver.support import expected_conditions as EC\n",
        "import random\n",
        "import json\n",
        "from selenium import webdriver\n",
        "from selenium.webdriver.common.action_chains import ActionChains\n",
        "import string\n",
        "from itertools import islice\n",
        "from selenium.webdriver.common.keys import Keys\n",
        "# from Feed import Feed\n",
        "from icecream import ic\n",
        "from typing import Iterator, Any, List"
      ]
    },
    {
      "cell_type": "code",
      "execution_count": 2,
      "metadata": {},
      "outputs": [],
      "source": [
        "def get_script(fname:str):\n",
        "  script = ''\n",
        "  with open(f'./scripts/{fname}.js','r') as f:\n",
        "    script = f.read()\n",
        "  script = script.replace('\\n','')\n",
        "  def replacer(*args):\n",
        "    acc = script\n",
        "    for i,x in enumerate(args):\n",
        "      acc = acc.replace('#'+str(i),str(x))\n",
        "    return 'try{' + f'console.log(`{fname}`,JSON.parse(`{json.dumps(args)}`));'+acc+'}catch(err){console.log(`{fname}`,err);}'\n",
        "  return replacer\n",
        "def script_runner(driver):\n",
        "  def run_script(name:str,verbose=False):\n",
        "    def script(*args:Any):\n",
        "      script_string = get_script(name)(*args)\n",
        "      answer = driver.execute_script(script_string)\n",
        "      if verbose:\n",
        "        print('script_string: ',script_string,' Answer: ', answer)\n",
        "      return answer\n",
        "    return script\n",
        "  return run_script"
      ]
    },
    {
      "cell_type": "code",
      "execution_count": 3,
      "metadata": {},
      "outputs": [],
      "source": [
        "from Surfer import GetBrowser,RedditFeed,Feed"
      ]
    },
    {
      "cell_type": "code",
      "execution_count": 4,
      "metadata": {},
      "outputs": [],
      "source": [
        "driver = GetBrowser()"
      ]
    },
    {
      "cell_type": "code",
      "execution_count": 5,
      "metadata": {},
      "outputs": [],
      "source": [
        "run_script = script_runner(driver)"
      ]
    },
    {
      "cell_type": "code",
      "execution_count": 6,
      "metadata": {},
      "outputs": [],
      "source": [
        "def uuid():\n",
        "    letters_digits = string.ascii_letters\n",
        "    return ''.join(random.choice(letters_digits) for i in range(20))"
      ]
    },
    {
      "cell_type": "code",
      "execution_count": 7,
      "metadata": {},
      "outputs": [],
      "source": [
        "def N(\n",
        "  mean = 0.5\n",
        "\t, stddev = 0.01\n",
        "\t, bounds = None\n",
        "):\n",
        "\tif bounds:\n",
        "\t\treturn max(bounds[0], min(random.normalvariate(mean, stddev) , bounds[1]))\n",
        "\telse:\n",
        "\t\treturn random.normalvariate(mean, stddev)"
      ]
    },
    {
      "cell_type": "code",
      "execution_count": 8,
      "metadata": {},
      "outputs": [],
      "source": [
        "class RedditPostFeed(Feed):\n",
        "\tdef __init__(self, driver:webdriver.Chrome ,handle:str|None=None,verbose=False):\n",
        "\t\tsuper().__init__(name='Reddit Post Feed',driver=driver,handle=handle)\n",
        "\t\t# Store the WebDriver instance\n",
        "\t\tself.verbose = verbose\n",
        "\t\tself.focus()\n",
        "\t\trun_script('listen to clicks')()\n",
        "\t\trun_script('post/catch first comment',verbose=self.verbose)()\n",
        "\n",
        "\tdef __iter__(self) -> Iterator[Any]:\n",
        "\t\twhile True:\n",
        "\t\t\tself.focus()\n",
        "\t\t\tif not run_script('check cursor',verbose=self.verbose)():\n",
        "\t\t\t\tcontinue\n",
        "\t\t\trun_script('scroll 2 cursor',verbose=self.verbose)(N(bounds=[0,1]),N(bounds=[0,1]),random.randint(1,25)/100)\n",
        "\t\t\tfor i in range(10):\n",
        "\t\t\t\tif run_script('check still scrolling')():\n",
        "\t\t\t\t\ttime.sleep(0.1)\n",
        "\t\t\t\telse:\n",
        "\t\t\t\t\tbreak\n",
        "\t\t\t\tif i == 9:\n",
        "\t\t\t\t\traise Exception('Not finished scrolling')\n",
        "\t\t\tyield run_script('post/parse comment',verbose=self.verbose)()\n",
        "\t\t\trun_script('cursor next')()\n",
        "\n",
        "class RedditFeed(Feed):\n",
        "\tdef __init__(self, driver:webdriver.Chrome,skip=True,handle:str|None=None,verbose=False):\n",
        "\t\tsuper().__init__(name='Reddit Feed',handle=handle,driver=driver)\n",
        "\t\tself.verbose = verbose\n",
        "\t\tif not skip:\n",
        "\t\t\tself.driver.get('https://www.reddit.com/')\n",
        "\t\t\trun_script('listen to clicks')()\n",
        "\t\trun_script('init_reddit',verbose=self.verbose)()\n",
        "\t\n",
        "\n",
        "\tdef __iter__(self) -> Iterator[Any]:\n",
        "\t\twhile True:\n",
        "\t\t\tself.focus()\n",
        "\t\t\tif not run_script('check cursor',verbose=self.verbose)():\n",
        "\t\t\t\tcontinue\n",
        "\t\t\trun_script('scroll 2 cursor',verbose=self.verbose)(N(bounds=[0,1]),N(bounds=[0,1]),random.randint(1,25)/100)\n",
        "\t\t\tfor i in range(10):\n",
        "\t\t\t\tif run_script('check still scrolling')():\n",
        "\t\t\t\t\ttime.sleep(0.1)\n",
        "\t\t\t\telse:\n",
        "\t\t\t\t\tbreak\n",
        "\t\t\t\tif i == 9:\n",
        "\t\t\t\t\traise Exception('Not finished scrolling')\n",
        "\t\t\tyield run_script('parse post',verbose=self.verbose)()\n",
        "\t\t\trun_script('cursor next')()\n",
        "\n",
        "\tdef click_post(self, newTab=True):\n",
        "\t\tfor i in range(10):\n",
        "\t\t\tself.focus()\n",
        "\t\t\tif i == 9:\n",
        "\t\t\t\traise Exception('cursor not present')\n",
        "\t\t\tif not run_script('check cursor',verbose=self.verbose)():\n",
        "\t\t\t\tcontinue\n",
        "\t\t\telse:\n",
        "\t\t\t\tbreak\n",
        "  \n",
        "\t\tid = uuid()\n",
        "\t\trun_script('mark cursor', verbose=self.verbose)(id)\n",
        "\t\t# Find the DOM element to click on\n",
        "\t\tsel = f'.{id}'\n",
        "\t\telement = driver.find_element(By.CSS_SELECTOR, sel)\n",
        "\t\th3 = element.find_element(By.CSS_SELECTOR,'h3')\n",
        "\t\telement = element if h3 is None else h3\n",
        "\t\tactions = ActionChains(driver)\n",
        "\t\tactions.key_down(Keys.CONTROL).click(element).key_up(Keys.CONTROL).perform()\n",
        "\t\t# run_script('catch first comment')()\n",
        "\t\treturn RedditPostFeed(self.driver,self.driver.window_handles[-1],verbose=self.verbose)\n",
        "\n",
        "\tdef close(self):\n",
        "\t\tself.focus()\n",
        "\t\t# Close the WebDriver instance\n",
        "\t\tself.driver.quit()"
      ]
    },
    {
      "cell_type": "code",
      "execution_count": 9,
      "metadata": {},
      "outputs": [],
      "source": [
        "rf = RedditFeed(driver,skip=False)\n",
        "# rf = RedditFeed(driver,skip=True)"
      ]
    },
    {
      "cell_type": "code",
      "execution_count": 10,
      "metadata": {},
      "outputs": [],
      "source": [
        "# for x in islice(rf,15):\n",
        "#   print(x)\n",
        "#   time.sleep(2*max(1,len(x) * 0.01))"
      ]
    },
    {
      "cell_type": "code",
      "execution_count": 11,
      "metadata": {},
      "outputs": [],
      "source": [
        "e = rf.click_post()"
      ]
    },
    {
      "cell_type": "code",
      "execution_count": 12,
      "metadata": {},
      "outputs": [
        {
          "data": {
            "text/plain": [
              "'010C60ECB260617618817A53B61A7EAB'"
            ]
          },
          "execution_count": 12,
          "metadata": {},
          "output_type": "execute_result"
        }
      ],
      "source": [
        "driver.current_window_handle"
      ]
    },
    {
      "cell_type": "code",
      "execution_count": 13,
      "metadata": {},
      "outputs": [
        {
          "ename": "IndexError",
          "evalue": "list index out of range",
          "output_type": "error",
          "traceback": [
            "\u001b[1;31m---------------------------------------------------------------------------\u001b[0m",
            "\u001b[1;31mIndexError\u001b[0m                                Traceback (most recent call last)",
            "\u001b[1;32mc:\\Users\\nasooh\\Desktop\\School_is_cool\\Y5Project\\Surfer\\dev.ipynb Cell 13\u001b[0m in \u001b[0;36m1\n\u001b[1;32m----> <a href='vscode-notebook-cell:/c%3A/Users/nasooh/Desktop/School_is_cool/Y5Project/Surfer/dev.ipynb#X15sZmlsZQ%3D%3D?line=0'>1</a>\u001b[0m driver\u001b[39m.\u001b[39mswitch_to\u001b[39m.\u001b[39mwindow(driver\u001b[39m.\u001b[39;49mwindow_handles[\u001b[39m2\u001b[39;49m])\n",
            "\u001b[1;31mIndexError\u001b[0m: list index out of range"
          ]
        }
      ],
      "source": [
        "driver.switch_to.window(driver.window_handles[2])"
      ]
    },
    {
      "cell_type": "code",
      "execution_count": null,
      "metadata": {},
      "outputs": [],
      "source": [
        "run_script('cluster')()"
      ]
    },
    {
      "cell_type": "code",
      "execution_count": 18,
      "metadata": {},
      "outputs": [],
      "source": [
        "d = run_script('post/parse comment')()"
      ]
    },
    {
      "cell_type": "code",
      "execution_count": 20,
      "metadata": {},
      "outputs": [
        {
          "data": {
            "text/plain": [
              "{'commentText': \"Si tu contestes -> Tu travailles pas, donc tu dois te taire\\n\\nSi tu contestes pas -> T'es d'accord avec le gouvernement\\n\\nMerveilleux.\",\n",
              " 'depth': 0,\n",
              " 'replyClass': 'rfecKUUgOnjiqmWcPKRO',\n",
              " 'up_votes': '483',\n",
              " 'userName': 'Ghaenor',\n",
              " 'userUrl': 'https://www.reddit.com/user/Ghaenor/'}"
            ]
          },
          "execution_count": 20,
          "metadata": {},
          "output_type": "execute_result"
        }
      ],
      "source": [
        "d"
      ]
    },
    {
      "cell_type": "code",
      "execution_count": null,
      "metadata": {},
      "outputs": [],
      "source": [
        "# de-clutter html\n",
        "# Array.from(x.querySelectorAll('*')).map((x,i)=>{\n",
        "#     const cl = Array.from(x.classList)\n",
        "#     const to_remove = cl.filter(x=> !/^[a-z-]+$/.exec(x))\n",
        "#     for (let cls of to_remove) {\n",
        "#         x.classList.remove(cls)\n",
        "#     }\n",
        "#     if (x.className === ''){\n",
        "#         x.removeAttribute('class')\n",
        "#     }\n",
        "# })"
      ]
    }
  ],
  "metadata": {
    "kernelspec": {
      "display_name": "Python 3",
      "language": "python",
      "name": "python3"
    },
    "language_info": {
      "codemirror_mode": {
        "name": "ipython",
        "version": 3
      },
      "file_extension": ".py",
      "mimetype": "text/x-python",
      "name": "python",
      "nbconvert_exporter": "python",
      "pygments_lexer": "ipython3",
      "version": "3.10.7"
    },
    "orig_nbformat": 4
  },
  "nbformat": 4,
  "nbformat_minor": 2
}
