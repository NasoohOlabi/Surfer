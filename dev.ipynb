{
  "cells": [
    {
      "cell_type": "code",
      "execution_count": 1,
      "metadata": {},
      "outputs": [],
      "source": [
        "import os, sys\n",
        "parent_dir = os.path.abspath(os.path.join(os.getcwd(), '../'))\n",
        "if parent_dir not in sys.path:\n",
        "    sys.path.insert(0, parent_dir)"
      ]
    },
    {
      "cell_type": "code",
      "execution_count": 2,
      "metadata": {},
      "outputs": [],
      "source": [
        "import time\n",
        "import random\n",
        "from selenium.webdriver.common.by import By\n",
        "from selenium.webdriver.support.wait import WebDriverWait\n",
        "from selenium.webdriver.support import expected_conditions as EC\n",
        "import random\n",
        "import json\n",
        "from selenium import webdriver\n",
        "from selenium.webdriver.common.action_chains import ActionChains\n",
        "import string\n",
        "from itertools import islice\n",
        "from selenium.webdriver.common.keys import Keys\n",
        "# from Feed import Feed\n",
        "from icecream import ic\n",
        "from typing import Iterator, Any, List"
      ]
    },
    {
      "cell_type": "code",
      "execution_count": 3,
      "metadata": {},
      "outputs": [],
      "source": [
        "from Surfer import GetBrowser,RedditFeed,Feed\n",
        "from Surfer.ScriptRunner import ScriptRunner"
      ]
    },
    {
      "cell_type": "code",
      "execution_count": 5,
      "metadata": {},
      "outputs": [],
      "source": [
        "\n",
        "def read_file_in_chunks(file_path, chunk_size=10):\n",
        "    with open(file_path, 'rb') as file:\n",
        "        while True:\n",
        "            chunk = file.read(chunk_size)\n",
        "            if not chunk:\n",
        "                break\n",
        "            \n",
        "            binary_string = ''.join(format(byte, '08b') for byte in chunk)\n",
        "            yield binary_string\n",
        "\n",
        "# Example usage\n",
        "file_path = 'rick___roll.jpg'\n",
        "data = ''\n",
        "for chunk in read_file_in_chunks(file_path):\n",
        "    data += chunk\n",
        "\n",
        "# len(acc) - 796*8\n",
        "\n",
        "def write_binary_string_to_file(binary_string, output_file_path):\n",
        "    with open(output_file_path, 'wb') as file:\n",
        "        for i in range(0, len(binary_string), 8):\n",
        "            byte = binary_string[i:i + 8]\n",
        "            if len(byte) < 8:\n",
        "                byte = byte + '0' * (8 - len(byte))\n",
        "            file.write(bytes([int(byte, 2)]))\n",
        "\n",
        "# Example usage\n",
        "binary_string = data\n",
        "output_file_path = 'out/output_file.jpg'\n",
        "write_binary_string_to_file(binary_string, output_file_path)\n"
      ]
    },
    {
      "cell_type": "code",
      "execution_count": 6,
      "metadata": {},
      "outputs": [
        {
          "name": "stderr",
          "output_type": "stream",
          "text": [
            "c:\\Python311\\Lib\\site-packages\\tqdm\\auto.py:21: TqdmWarning: IProgress not found. Please update jupyter and ipywidgets. See https://ipywidgets.readthedocs.io/en/stable/user_install.html\n",
            "  from .autonotebook import tqdm as notebook_tqdm\n",
            "[nltk_data] Downloading package stopwords to\n",
            "[nltk_data]     C:\\Users\\nasoo\\AppData\\Roaming\\nltk_data...\n",
            "[nltk_data]   Package stopwords is already up-to-date!\n"
          ]
        },
        {
          "name": "stdout",
          "output_type": "stream",
          "text": [
            "\n",
            "Setting up Masked Stego\n",
            "\n"
          ]
        },
        {
          "name": "stderr",
          "output_type": "stream",
          "text": [
            "Some weights of the model checkpoint at bert-base-cased were not used when initializing BertForMaskedLM: ['cls.seq_relationship.weight', 'bert.pooler.dense.bias', 'cls.seq_relationship.bias', 'bert.pooler.dense.weight']\n",
            "- This IS expected if you are initializing BertForMaskedLM from the checkpoint of a model trained on another task or with another architecture (e.g. initializing a BertForSequenceClassification model from a BertForPreTraining model).\n",
            "- This IS NOT expected if you are initializing BertForMaskedLM from the checkpoint of a model that you expect to be exactly identical (initializing a BertForSequenceClassification model from a BertForSequenceClassification model).\n"
          ]
        },
        {
          "name": "stdout",
          "output_type": "stream",
          "text": [
            "\n",
            "Setting up Masked Stego Completed\n",
            "\n",
            "\n",
            "Setting up Typoceros\n",
            "\n",
            "('hi, how atre you?', '01001011111')\n",
            "\n",
            "Setting up Typoceros Completed\n",
            "\n"
          ]
        }
      ],
      "source": [
        "import Stegasus "
      ]
    },
    {
      "cell_type": "code",
      "execution_count": 7,
      "metadata": {},
      "outputs": [
        {
          "data": {
            "text/plain": [
              "<module 'Stegasus' from 'c:\\\\Users\\\\nasoo\\\\Desktop\\\\Y5Project\\\\Stegasus\\\\__init__.py'>"
            ]
          },
          "execution_count": 7,
          "metadata": {},
          "output_type": "execute_result"
        }
      ],
      "source": [
        "import importlib\n",
        "importlib.reload(Stegasus)"
      ]
    },
    {
      "cell_type": "code",
      "execution_count": 8,
      "metadata": {},
      "outputs": [],
      "source": [
        "from Bot import *\n",
        "from Chatter import prompts"
      ]
    },
    {
      "cell_type": "code",
      "execution_count": 9,
      "metadata": {},
      "outputs": [],
      "source": [
        "driver = GetBrowser()"
      ]
    },
    {
      "cell_type": "code",
      "execution_count": 10,
      "metadata": {},
      "outputs": [],
      "source": [
        "def uuid():\n",
        "    letters_digits = string.ascii_letters\n",
        "    return ''.join(random.choice(letters_digits) for i in range(20))"
      ]
    },
    {
      "cell_type": "code",
      "execution_count": 11,
      "metadata": {},
      "outputs": [],
      "source": [
        "def N(\n",
        "  mean = 0.5\n",
        "\t, stddev = 0.01\n",
        "\t, bounds = None\n",
        "):\n",
        "\tif bounds:\n",
        "\t\treturn max(bounds[0], min(random.normalvariate(mean, stddev) , bounds[1]))\n",
        "\telse:\n",
        "\t\treturn random.normalvariate(mean, stddev)"
      ]
    },
    {
      "cell_type": "code",
      "execution_count": 12,
      "metadata": {},
      "outputs": [],
      "source": [
        "run_script = ScriptRunner(driver,'./Surfer/scripts/')"
      ]
    },
    {
      "cell_type": "code",
      "execution_count": 13,
      "metadata": {},
      "outputs": [],
      "source": [
        "class RedditPostFeed(Feed):\n",
        "\tdef __init__(self, driver:webdriver.Chrome ,handle:str|None=None,verbose=False):\n",
        "\t\tsuper().__init__(name='Reddit Post Feed',driver=driver,handle=handle)\n",
        "\t\t# Store the WebDriver instance\n",
        "\t\tself.verbose = verbose\n",
        "\t\tself.focus()\n",
        "\t\tself.run_script('surfer.listen to clicks')()\n",
        "\t\tself.run_script('reddit.catch first comment',self.verbose)()\n",
        "\n",
        "\tdef __iter__(self) -> Iterator[Any]:\n",
        "\t\twhile True:\n",
        "\t\t\tself.focus()\n",
        "\t\t\tif not self.run_script('surfer.check cursor',verbose=self.verbose)():\n",
        "\t\t\t\tself.run_script('reddit.post.catch first comment',verbose=self.verbose)()\n",
        "\t\t\t\tcontinue\n",
        "\t\t\tself.run_script('surfer.scroll 2 cursor',verbose=self.verbose)(N(bounds=[0,1]),N(bounds=[0,1]),random.randint(1,25)/100)\n",
        "\t\t\tfor i in range(10):\n",
        "\t\t\t\tif self.run_script('surfer.check still scrolling')():\n",
        "\t\t\t\t\ttime.sleep(0.1)\n",
        "\t\t\t\telse:\n",
        "\t\t\t\t\tbreak\n",
        "\t\t\t\tif i == 9:\n",
        "\t\t\t\t\traise Exception('Not finished scrolling')\n",
        "\t\t\tyield self.run_script('reddit.post.parse comment',verbose=self.verbose)()\n",
        "\t\t\tself.run_script('reddit.post.cursor next')()\n",
        "\n",
        "class RedditFeed(Feed):\n",
        "\tdef __init__(self, driver:webdriver.Chrome,skip=True,handle:str|None=None,verbose=False):\n",
        "\t\tsuper().__init__(name='Reddit Feed',handle=handle,driver=driver)\n",
        "\t\tself.verbose = verbose\n",
        "\t\tif not skip:\n",
        "\t\t\tself.driver.get('https://www.reddit.com/')\n",
        "\t\t\tself.handle = self.driver.current_window_handle\n",
        "\t\t\tself.run_script('surfer.listen to clicks')()\n",
        "\t\tself.run_script('reddit.init_reddit',verbose=self.verbose)()\n",
        "\t\n",
        "\n",
        "\tdef __iter__(self) -> Iterator[Any]:\n",
        "\t\twhile True:\n",
        "\t\t\tself.focus()\n",
        "\t\t\tif not self.run_script('surfer.check cursor',verbose=self.verbose)():\n",
        "\t\t\t\tcontinue\n",
        "\t\t\tself.run_script('surfer.scroll 2 cursor',verbose=self.verbose)(N(bounds=[0,1]),N(bounds=[0,1]),random.randint(1,25)/100)\n",
        "\t\t\tfor i in range(10):\n",
        "\t\t\t\tif self.run_script('surfer.check still scrolling')():\n",
        "\t\t\t\t\ttime.sleep(0.1)\n",
        "\t\t\t\telse:\n",
        "\t\t\t\t\tbreak\n",
        "\t\t\t\tif i == 9:\n",
        "\t\t\t\t\traise Exception('Not finished scrolling')\n",
        "\t\t\tyield self.run_script('reddit.parse post',verbose=self.verbose)()\n",
        "\t\t\tself.run_script('surfer.cursor next')()\n",
        "\n",
        "\tdef click_post(self, newTab=True):\n",
        "\t\tfor i in range(10): # 10 retries\n",
        "\t\t\tself.focus()\n",
        "\t\t\tif i == 9:\n",
        "\t\t\t\traise Exception('cursor not present')\n",
        "\t\t\tif not self.run_script('surfer.check cursor',verbose=self.verbose)():\n",
        "\t\t\t\tcontinue\n",
        "\t\t\telse:\n",
        "\t\t\t\tbreak\n",
        "  \n",
        "\t\tid = uuid()\n",
        "\t\tself.run_script('surfer.mark cursor', verbose=self.verbose)(id)\n",
        "\t\t# Find the DOM element to click on\n",
        "\t\tsel = f'.{id}'\n",
        "\t\telement = driver.find_element(By.CSS_SELECTOR, sel)\n",
        "\t\th3 = element.find_element(By.CSS_SELECTOR,'h3')\n",
        "\t\telement = element if h3 is None else h3\n",
        "\t\tactions = ActionChains(driver)\n",
        "\t\tactions \\\n",
        "\t\t\t.click(element) \\\n",
        "\t\t\t.perform()\n",
        "\t\t\t# .key_down(Keys.CONTROL) \\\n",
        "\t\t\t# .key_up(Keys.CONTROL) \\\n",
        "\t\treturn RedditPostFeed(self.driver,self.handle,verbose=self.verbose)\n",
        "\n",
        "\tdef close(self):\n",
        "\t\tself.focus()\n",
        "\t\t# Close the WebDriver instance\n",
        "\t\tself.driver.quit()\n"
      ]
    },
    {
      "cell_type": "code",
      "execution_count": 14,
      "metadata": {},
      "outputs": [],
      "source": [
        "# rf = RedditFeed(driver,skip=False)\n",
        "# rf = RedditFeed(driver,skip=True)"
      ]
    },
    {
      "cell_type": "code",
      "execution_count": 15,
      "metadata": {},
      "outputs": [],
      "source": [
        "# for x in islice(rf,15):\n",
        "#   print(x)\n",
        "#   time.sleep(2*max(1,len(x) * 0.01))"
      ]
    },
    {
      "cell_type": "code",
      "execution_count": 16,
      "metadata": {},
      "outputs": [],
      "source": [
        "# e = rf.click_post()"
      ]
    },
    {
      "cell_type": "code",
      "execution_count": 17,
      "metadata": {},
      "outputs": [],
      "source": [
        "# run_script('reddit.post.parse comment')()"
      ]
    },
    {
      "cell_type": "code",
      "execution_count": 18,
      "metadata": {},
      "outputs": [],
      "source": [
        "from typing import Tuple\n",
        "\n",
        "\n",
        "class ChatGPTWebsite:\n",
        "\tdef __init__(self, driver:webdriver.Chrome,skip=True,handle:str|None=None,verbose=False):\n",
        "\t\tself.name = 'GPT'\n",
        "\t\tself.handle = handle\n",
        "\t\tself.driver = driver\n",
        "\t\tself.verbose = verbose\n",
        "\t\tself.run_script = ScriptRunner(driver,'./Surfer/scripts/')\n",
        "\t\tif not skip:\n",
        "\t\t\tself.driver.get('https://chat.openai.com/')\n",
        "\t\t\tself.handle = self.driver.current_window_handle\n",
        "\t\t\tself.run_script('surfer.listen to clicks')()\n",
        "\tdef getLandingNewChat(self):\n",
        "\t\treturn ChatGPT(self.driver)\n",
        "\n",
        "class ChatGPT:\n",
        "\tdef __init__(self, driver:webdriver.Chrome, name:str|None = None):\n",
        "\t\tself.driver = driver\n",
        "\t\tself.run_script = ScriptRunner(driver,'./Surfer/scripts/')\n",
        "\t\tself.name = name\n",
        "\n",
        "\tdef ask(self,prompt:str, newChat:bool = False) -> Tuple[str, 'ChatGPT']:\n",
        "\t\tif newChat:\n",
        "\t\t\tself.run_script('chat.openai.new chat')()\n",
        "\t\t\tWebDriverWait(self.driver, 30).until(\n",
        "\t\t\t\tEC.presence_of_element_located((By.CSS_SELECTOR, 'svg > circle+line+line+line+line+line+line+line+line'))# examples sun in new chat\n",
        "\t\t\t)\n",
        "\t\telse:\n",
        "\t\t\tif self.name:\n",
        "\t\t\t\tself.run_script('chat.openai.switch to chat name')(self.name)\n",
        "\t\t\t\ttime.sleep(4)\n",
        "\t\ttextarea = self.driver.find_element(By.CSS_SELECTOR,'textarea')\n",
        "\n",
        "\t\tJS_ADD_TEXT_TO_INPUT = \"\"\"\n",
        "\t\t\tvar elm = document.querySelector('textarea'), txt = arguments[0];\n",
        "\t\t\telm.value += txt;\n",
        "\t\t\telm.dispatchEvent(new Event('change'));\n",
        "\t\t\t\"\"\"\n",
        "\t\tprompts = prompt.split('\\n')\n",
        "\t\tfor line in prompts:\n",
        "\t\t\tself.driver.execute_script(JS_ADD_TEXT_TO_INPUT, line)\n",
        "\t\t\ttextarea.send_keys(Keys.SHIFT + Keys.ENTER)\n",
        "\t\ttime.sleep(2)\n",
        "\t\tself.driver.find_element(By.CSS_SELECTOR,'textarea + button').click()\n",
        "\t\tsvg_path = 'M20.49 9A9 9 0 0 0 5.64 5.64L1 10m22 4l-4.64 4.36A9 9 0 0 1 3.51 15'\n",
        "\t\tWebDriverWait(self.driver, 60).until(\n",
        "\t\t\tEC.presence_of_element_located((By.CSS_SELECTOR, f'[d=\"{svg_path}\"]'))\n",
        "\t\t)\n",
        "\t\ttime.sleep(5)\n",
        "\t\tif self.name is None: # first ChatGPT instance ever or new is pressed and we are already at new\n",
        "\t\t\tself.name = self.run_script('chat.openai.get current chat name')()\n",
        "\t\t\treturn self.run_script('chat.openai.get last answer')(), self\n",
        "\t\telif newChat:\n",
        "\t\t\tname = self.run_script('chat.openai.get current chat name')()\n",
        "\t\t\treturn self.run_script('chat.openai.get last answer')(), ChatGPT(self.driver,name)\n",
        "\t\telse:\n",
        "\t\t\treturn self.run_script('chat.openai.get last answer')(), self"
      ]
    },
    {
      "cell_type": "code",
      "execution_count": 19,
      "metadata": {},
      "outputs": [],
      "source": [
        "gptw = ChatGPTWebsite(driver,skip=False)"
      ]
    },
    {
      "cell_type": "code",
      "execution_count": 20,
      "metadata": {},
      "outputs": [],
      "source": [
        "alice = Person('alice','nice',23,'female','Boston','alice@gmail.com')\n",
        "bob = Person('bob','wick',29,'male','Boston','bob@gmail.com')"
      ]
    },
    {
      "cell_type": "code",
      "execution_count": 21,
      "metadata": {},
      "outputs": [],
      "source": [
        "actualChat = []"
      ]
    },
    {
      "cell_type": "code",
      "execution_count": 22,
      "metadata": {},
      "outputs": [
        {
          "data": {
            "text/plain": [
              "'11111111110110001111111111100000000000000001000001001010010001100100100101000110000000000000000100000001000000010000000001100000000000000110000000000000000000001111111111011011000000000100001100000000000001100000010000000101000001100000010100000100000001100000011000000101000001100000011100000111000001100000100000001010000100000000101000001010000010010000100100001010000101000000111000001111000011000001000000010111000101000001100000011000000101110001010000010110000101100001101000011101001001010001111100011010000110110010001100011100000101100001011000100000001011000010000000100011001001100010011100101001001010100010100100011001000111110010110100110000001011010010100000110000001001010010100000101001001010001111111111011011000000000100001100000001000001110000011100000111000010100000100000001010000100110000101000001010000100110010100000011010000101100001101000101000001010000010100000101000001010000010100000101000001010000010100000101000001010000010100000101000001010000010100000101000001010000010100000101000001010000010100000101000001010000010100000101000001010000010100000101000001010000010100000101000001010000010100000101000001010000010100000101000001010000010100000101000001010000010100000101000001010000010100000101000001010000010100000101000001010001111111111000010000000000001000100001000000000000001100100000000000110010000001100000001001000100000000000000010000100010000000100000011000100010000000111111111110001000000000000011010000000000000000000000010000000100000001100000000000000000000000000000000000000000000000000000000000000000000000000000000000000000000000000000101000001100000000000000001000000110000010000000111111111111100010000000000000101110000000100000000000000110000000100000000000000000000000000000000000000000000000000000000000000000000000000000000000000000000000000000000000000000000000100000011000000101111111111011010000000000000110000000011000000010000000000000010000100000000001100010000000000000000000000000001001101001010101001110000010010101011100111111000001100001001101110000010010011010110000010110000110110010111011111100110101011100000011011111111000000001111111111000100000000000001111100010000000000000000001000000010000000100000001000000011000000010000000000000000000000000000000000000000000000000000000000000000000000000000001000000011000000010000010000000000000100100001001100110011000001010001000000010001001101001111111111011010000000000000100000000001000000010000000000000001000001010000001001100110101100010001101001110010000101111010001101111010110000001100010010111000100000010001011101010100110110011100101111010011101011011010101110000111101100101110101011000000000011000111110010011100111100100111111110100101111111010100100111101001110011111111111111000100000000000001100000010001000000010000000100000000000000110000000000000000000000000000000000000000000000000000000000000000000000000000000000000000000000000000000100000010000000000000001100010000111111111101101000000000000010000000000100000011000000010000000100111111000000011101010101000100100011110110110011001111111111111100010000000000000101010001000100000001000000010000000000000000000000000000000000000000000000000000000000000000000000000000000000000000000000000000000000000000000100010010000011111111110110100000000000001000000000010000001000000001000000010011111100000001001000111111111111000100000000000010010000010000000000000000000100000011000000100000010100000101000000010000000000000000000000000000000000000000000000000000000000000000000000000000000100000000000000100001000100000011000100000001001000100001001100010101000110000001000100110010001001000001010000100111000111000001111111111101101000000000000010000000000100000001000000000000011000111111000000101001010011100010011001111010100110111000001101110000110000101110111011100011100101000010011111010110110000111010011011111110010100000000001001000001001110100100110110101011010010011111011001010010000101010000101010001111110010000110001000010110101011011111011111110001011100001011100100110110111111111111110001000000000000100000000100000000000000000010000000010000010000000010000000110000000100000000000000000000000000000000000000000000000000000000000000000000000000000001000100010010000100000000000100000011000101000001010100010110000100100000101000011011000111110001111111111101101000000000000010000000000100000001000000000000000100111111001000010110010000100110001100101000011100010100101000001100010110101110111001111110110100001100010011100110110000010000000011110000100010011010110011110100000001000001011000001100011101001111100111011101000101110100110000111000001011000000100010000100101010001110110100010000001010100001111101001010101100010110110000000111100010000111001111110010011110101011010111101001111111000001000010111111111111011010000000000000110000000011000000010000000000000010000000000000001100000000000000000000000000010000001011011100000100000100111111111100010000000000000110010001000100000001000000000000001000000011000000000000000000000000000000000000000000000000000000000000000000000000000000000000000000000000000000010000000000010000000100010011000101110001111111111101101000000000000010000000000100000011000000010000000100111111000100001100111001011011101100000001001110000100111111111100010000000000000101100001000100000001000000010000000100000000000000000000000000000000000000000000000000000000000000000000000000000000000000000000000000000000000000010001000100100000111111111101101000000000000010000000000100000010000000010000000100111111000100001000010110101110001111111111111111000100000000000010000000010000000000010000000000000001000000110000010000000011000000010000000000000000000000000000000000000000000000000000000000000000000000000000000100010001000000000010000100110001000100000100000101010001011100010110000110000001111100001001000111111111110110100000000000001000000000010000000100000000000000010011111100010000110110111101000110011010110001000110011010100100000001000011001010010111010011001101000000100001000101001000000010010111100101110100010101101101000010000111001100100111100111100010100011100001000010110010000010111100011000111110110011110100101001001011101111100001011000110101011100000100100101010010111110011010011110011001001010100000111011110101011110000000000101101111110000110010111110111001101010111010101000001010100110110011001001001110111010100111010111111110111010010011111000101111100110000011010101011111111111011001'"
            ]
          },
          "execution_count": 22,
          "metadata": {},
          "output_type": "execute_result"
        }
      ],
      "source": [
        "data"
      ]
    },
    {
      "cell_type": "code",
      "execution_count": 23,
      "metadata": {},
      "outputs": [],
      "source": [
        "demo_post = '''Hi there! recently unstaked IMX from the staking L2 IMX plattform. And withdrawed from L2 to L1 on the Immutable marketplace, as indicated. It says there the withdrawal process can take up to 48 hours. BUT it is taking much more than that. 4 days and still nothing. Any hints?\n",
        "\n",
        "thanks for any info related guys'''"
      ]
    },
    {
      "cell_type": "code",
      "execution_count": 24,
      "metadata": {},
      "outputs": [
        {
          "data": {
            "text/plain": [
              "[]"
            ]
          },
          "execution_count": 24,
          "metadata": {},
          "output_type": "execute_result"
        }
      ],
      "source": [
        "actualChat"
      ]
    },
    {
      "cell_type": "code",
      "execution_count": 25,
      "metadata": {},
      "outputs": [],
      "source": [
        "time.sleep(6)"
      ]
    },
    {
      "cell_type": "code",
      "execution_count": 27,
      "metadata": {},
      "outputs": [
        {
          "name": "stdout",
          "output_type": "stream",
          "text": [
            "4 None\n"
          ]
        },
        {
          "ename": "ValueError",
          "evalue": "text input must of type `str` (single example), `List[str]` (batch or single pretokenized example) or `List[List[str]]` (batch of pretokenized examples).",
          "output_type": "error",
          "traceback": [
            "\u001b[1;31m---------------------------------------------------------------------------\u001b[0m",
            "\u001b[1;31mValueError\u001b[0m                                Traceback (most recent call last)",
            "Cell \u001b[1;32mIn[27], line 23\u001b[0m\n\u001b[0;32m     21\u001b[0m \u001b[39mprint\u001b[39m(i,a)\n\u001b[0;32m     22\u001b[0m actualChat\u001b[39m.\u001b[39mappend(a)\n\u001b[1;32m---> 23\u001b[0m a, rem \u001b[39m=\u001b[39m Stegasus\u001b[39m.\u001b[39;49mStegasusEncode(a,rem)\n\u001b[0;32m     24\u001b[0m \u001b[39mprint\u001b[39m(i,a)\n\u001b[0;32m     25\u001b[0m \u001b[39m# switch\u001b[39;00m\n",
            "File \u001b[1;32mc:\\Users\\nasoo\\Desktop\\Y5Project\\Stegasus\\stegasus.py:182\u001b[0m, in \u001b[0;36mStegasusEncode\u001b[1;34m(text, bytes_str)\u001b[0m\n\u001b[0;32m    180\u001b[0m callbacks \u001b[39m=\u001b[39m [bert_callback, emojer_callback,typo_callback]\n\u001b[0;32m    181\u001b[0m p \u001b[39m=\u001b[39m pipe(callbacks, {\u001b[39m\"\u001b[39m\u001b[39mverbose\u001b[39m\u001b[39m\"\u001b[39m: \u001b[39mFalse\u001b[39;00m,\u001b[39m\"\u001b[39m\u001b[39mpipe_verbose\u001b[39m\u001b[39m\"\u001b[39m: \u001b[39mFalse\u001b[39;00m,\u001b[39m\"\u001b[39m\u001b[39mencode\u001b[39m\u001b[39m\"\u001b[39m:\u001b[39mTrue\u001b[39;00m,\u001b[39m\"\u001b[39m\u001b[39mdecode\u001b[39m\u001b[39m\"\u001b[39m:\u001b[39mFalse\u001b[39;00m,\u001b[39m\"\u001b[39m\u001b[39mtest\u001b[39m\u001b[39m\"\u001b[39m:\u001b[39mFalse\u001b[39;00m})\n\u001b[1;32m--> 182\u001b[0m mq, bq \u001b[39m=\u001b[39m p(initial_state)\n\u001b[0;32m    183\u001b[0m bits \u001b[39m=\u001b[39m bytes_str[:\u001b[39m-\u001b[39m\u001b[39mlen\u001b[39m(bq)]\n\u001b[0;32m    184\u001b[0m \u001b[39mwith\u001b[39;00m \u001b[39mopen\u001b[39m(\u001b[39m'\u001b[39m\u001b[39mstats.tsv\u001b[39m\u001b[39m'\u001b[39m,\u001b[39m'\u001b[39m\u001b[39ma\u001b[39m\u001b[39m'\u001b[39m) \u001b[39mas\u001b[39;00m f:\n",
            "File \u001b[1;32mc:\\Users\\nasoo\\Desktop\\Y5Project\\Stegasus\\stegasus.py:56\u001b[0m, in \u001b[0;36mpipe.<locals>._pipe\u001b[1;34m(state)\u001b[0m\n\u001b[0;32m     55\u001b[0m \u001b[39mdef\u001b[39;00m \u001b[39m_pipe\u001b[39m(state):\n\u001b[1;32m---> 56\u001b[0m     \u001b[39mreturn\u001b[39;00m process_callbacks(state, callbacks, config, index)\n",
            "File \u001b[1;32mc:\\Users\\nasoo\\Desktop\\Y5Project\\Stegasus\\stegasus.py:50\u001b[0m, in \u001b[0;36mpipe.<locals>.process_callbacks\u001b[1;34m(state, callbacks, config, index)\u001b[0m\n\u001b[0;32m     47\u001b[0m     next_callback \u001b[39m=\u001b[39m \u001b[39mlambda\u001b[39;00m s, c, cf\u001b[39m=\u001b[39mconfig: process_callbacks(s, callbacks, cf, index \u001b[39m+\u001b[39m \u001b[39m1\u001b[39m)\n\u001b[0;32m     49\u001b[0m \u001b[39m# Call the callback with the current state, next callback, and config\u001b[39;00m\n\u001b[1;32m---> 50\u001b[0m state \u001b[39m=\u001b[39m callback(state, next_callback, config)\n\u001b[0;32m     52\u001b[0m \u001b[39m# Return the final state\u001b[39;00m\n\u001b[0;32m     53\u001b[0m \u001b[39mreturn\u001b[39;00m state\n",
            "File \u001b[1;32mc:\\Users\\nasoo\\Desktop\\Y5Project\\Stegasus\\stegasus.py:70\u001b[0m, in \u001b[0;36mbert_callback\u001b[1;34m(state, next_callback, config)\u001b[0m\n\u001b[0;32m     67\u001b[0m message_pipe, bytes_pipe \u001b[39m=\u001b[39m state\n\u001b[0;32m     69\u001b[0m \u001b[39mif\u001b[39;00m encode:\n\u001b[1;32m---> 70\u001b[0m   stega_bert \u001b[39m=\u001b[39m masked_stego(message_pipe[\u001b[39m-\u001b[39;49m\u001b[39m1\u001b[39;49m],bytes_pipe[\u001b[39m-\u001b[39;49m\u001b[39m1\u001b[39;49m], \u001b[39m3\u001b[39;49m, \u001b[39m0.01\u001b[39;49m)\n\u001b[0;32m     71\u001b[0m   message_pipe\u001b[39m.\u001b[39mappend(stega_bert\u001b[39m.\u001b[39mencoded_text)\n\u001b[0;32m     72\u001b[0m   bytes_pipe\u001b[39m.\u001b[39mappend(stega_bert\u001b[39m.\u001b[39mremaining_bytes)\n",
            "File \u001b[1;32mc:\\Users\\nasoo\\Desktop\\Y5Project\\Stegasus\\FrustratinglySimpleBert\\MaskedStego.py:52\u001b[0m, in \u001b[0;36mMaskedStego.__call__\u001b[1;34m(self, cover_text, message, mask_interval, score_threshold)\u001b[0m\n\u001b[0;32m     50\u001b[0m \u001b[39massert\u001b[39;00m \u001b[39mset\u001b[39m(message) \u001b[39m<\u001b[39m\u001b[39m=\u001b[39m \u001b[39mset\u001b[39m(\u001b[39m'\u001b[39m\u001b[39m01\u001b[39m\u001b[39m'\u001b[39m)\n\u001b[0;32m     51\u001b[0m message_io \u001b[39m=\u001b[39m StringIO(message)\n\u001b[1;32m---> 52\u001b[0m input_ids, masked_ids, sorted_score, indices \u001b[39m=\u001b[39m \u001b[39mself\u001b[39;49m\u001b[39m.\u001b[39;49m_preprocess_text(cover_text, mask_interval)\n\u001b[0;32m     53\u001b[0m \u001b[39mfor\u001b[39;00m i_token, token \u001b[39min\u001b[39;00m \u001b[39menumerate\u001b[39m(masked_ids):\n\u001b[0;32m     54\u001b[0m   \u001b[39mif\u001b[39;00m token \u001b[39m!=\u001b[39m \u001b[39mself\u001b[39m\u001b[39m.\u001b[39m_tokenizer\u001b[39m.\u001b[39mmask_token_id:\n",
            "File \u001b[1;32mc:\\Users\\nasoo\\Desktop\\Y5Project\\Stegasus\\FrustratinglySimpleBert\\MaskedStego.py:87\u001b[0m, in \u001b[0;36mMaskedStego._preprocess_text\u001b[1;34m(self, sentence, mask_interval)\u001b[0m\n\u001b[0;32m     86\u001b[0m \u001b[39mdef\u001b[39;00m \u001b[39m_preprocess_text\u001b[39m(\u001b[39mself\u001b[39m, sentence: \u001b[39mstr\u001b[39m, mask_interval: \u001b[39mint\u001b[39m) \u001b[39m-\u001b[39m\u001b[39m>\u001b[39m \u001b[39m\"\u001b[39m\u001b[39mPreprocessedText\u001b[39m\u001b[39m\"\u001b[39m:\n\u001b[1;32m---> 87\u001b[0m   encoded_ids \u001b[39m=\u001b[39m \u001b[39mself\u001b[39;49m\u001b[39m.\u001b[39;49m_tokenizer([sentence], return_tensors\u001b[39m=\u001b[39;49m\u001b[39m'\u001b[39;49m\u001b[39mpt\u001b[39;49m\u001b[39m'\u001b[39;49m)\u001b[39m.\u001b[39minput_ids[\u001b[39m0\u001b[39m]\n\u001b[0;32m     88\u001b[0m   masked_ids \u001b[39m=\u001b[39m \u001b[39mself\u001b[39m\u001b[39m.\u001b[39m_mask(encoded_ids\u001b[39m.\u001b[39mclone(), mask_interval)\n\u001b[0;32m     89\u001b[0m   sorted_score, indices \u001b[39m=\u001b[39m \u001b[39mself\u001b[39m\u001b[39m.\u001b[39m_predict(masked_ids)\n",
            "File \u001b[1;32mc:\\Python311\\Lib\\site-packages\\transformers\\tokenization_utils_base.py:2577\u001b[0m, in \u001b[0;36mPreTrainedTokenizerBase.__call__\u001b[1;34m(self, text, text_pair, text_target, text_pair_target, add_special_tokens, padding, truncation, max_length, stride, is_split_into_words, pad_to_multiple_of, return_tensors, return_token_type_ids, return_attention_mask, return_overflowing_tokens, return_special_tokens_mask, return_offsets_mapping, return_length, verbose, **kwargs)\u001b[0m\n\u001b[0;32m   2575\u001b[0m     \u001b[39mif\u001b[39;00m \u001b[39mnot\u001b[39;00m \u001b[39mself\u001b[39m\u001b[39m.\u001b[39m_in_target_context_manager:\n\u001b[0;32m   2576\u001b[0m         \u001b[39mself\u001b[39m\u001b[39m.\u001b[39m_switch_to_input_mode()\n\u001b[1;32m-> 2577\u001b[0m     encodings \u001b[39m=\u001b[39m \u001b[39mself\u001b[39;49m\u001b[39m.\u001b[39;49m_call_one(text\u001b[39m=\u001b[39;49mtext, text_pair\u001b[39m=\u001b[39;49mtext_pair, \u001b[39m*\u001b[39;49m\u001b[39m*\u001b[39;49mall_kwargs)\n\u001b[0;32m   2578\u001b[0m \u001b[39mif\u001b[39;00m text_target \u001b[39mis\u001b[39;00m \u001b[39mnot\u001b[39;00m \u001b[39mNone\u001b[39;00m:\n\u001b[0;32m   2579\u001b[0m     \u001b[39mself\u001b[39m\u001b[39m.\u001b[39m_switch_to_target_mode()\n",
            "File \u001b[1;32mc:\\Python311\\Lib\\site-packages\\transformers\\tokenization_utils_base.py:2635\u001b[0m, in \u001b[0;36mPreTrainedTokenizerBase._call_one\u001b[1;34m(self, text, text_pair, add_special_tokens, padding, truncation, max_length, stride, is_split_into_words, pad_to_multiple_of, return_tensors, return_token_type_ids, return_attention_mask, return_overflowing_tokens, return_special_tokens_mask, return_offsets_mapping, return_length, verbose, **kwargs)\u001b[0m\n\u001b[0;32m   2632\u001b[0m         \u001b[39mreturn\u001b[39;00m \u001b[39mFalse\u001b[39;00m\n\u001b[0;32m   2634\u001b[0m \u001b[39mif\u001b[39;00m \u001b[39mnot\u001b[39;00m _is_valid_text_input(text):\n\u001b[1;32m-> 2635\u001b[0m     \u001b[39mraise\u001b[39;00m \u001b[39mValueError\u001b[39;00m(\n\u001b[0;32m   2636\u001b[0m         \u001b[39m\"\u001b[39m\u001b[39mtext input must of type `str` (single example), `List[str]` (batch or single pretokenized example) \u001b[39m\u001b[39m\"\u001b[39m\n\u001b[0;32m   2637\u001b[0m         \u001b[39m\"\u001b[39m\u001b[39mor `List[List[str]]` (batch of pretokenized examples).\u001b[39m\u001b[39m\"\u001b[39m\n\u001b[0;32m   2638\u001b[0m     )\n\u001b[0;32m   2640\u001b[0m \u001b[39mif\u001b[39;00m text_pair \u001b[39mis\u001b[39;00m \u001b[39mnot\u001b[39;00m \u001b[39mNone\u001b[39;00m \u001b[39mand\u001b[39;00m \u001b[39mnot\u001b[39;00m _is_valid_text_input(text_pair):\n\u001b[0;32m   2641\u001b[0m     \u001b[39mraise\u001b[39;00m \u001b[39mValueError\u001b[39;00m(\n\u001b[0;32m   2642\u001b[0m         \u001b[39m\"\u001b[39m\u001b[39mtext input must of type `str` (single example), `List[str]` (batch or single pretokenized example) \u001b[39m\u001b[39m\"\u001b[39m\n\u001b[0;32m   2643\u001b[0m         \u001b[39m\"\u001b[39m\u001b[39mor `List[List[str]]` (batch of pretokenized examples).\u001b[39m\u001b[39m\"\u001b[39m\n\u001b[0;32m   2644\u001b[0m     )\n",
            "\u001b[1;31mValueError\u001b[0m: text input must of type `str` (single example), `List[str]` (batch or single pretokenized example) or `List[List[str]]` (batch of pretokenized examples)."
          ]
        }
      ],
      "source": [
        "# aliceChat = gptw.getLandingNewChat()\n",
        "# a,_ = aliceChat.ask(prompts.start_conversation_with_post(alice,bob,demo_post))\n",
        "# # a = actualChat[0]\n",
        "# print(1,a)\n",
        "# actualChat.append(a)\n",
        "# a, rem = Stegasus.StegasusEncode(a,data)\n",
        "# print(1,a)\n",
        "# a,bobChat = aliceChat.ask(prompts.startChatReplyPrompt(Message(alice,a)),True)\n",
        "# print(2,a)\n",
        "# actualChat.append(a)\n",
        "# a, rem = Stegasus.StegasusEncode(a,rem)\n",
        "# print(2,a)\n",
        "# a,_ = aliceChat.ask(prompts.startChatReplyPrompt(Message(bob,a)))\n",
        "# print(3,a)\n",
        "# actualChat.append(a)\n",
        "# a, rem = Stegasus.StegasusEncode(a,rem)\n",
        "# print(3,a)\n",
        "a = \"\"\"Thanks for the advice! I'll definitely reach out to Immutable Support for help. How's your day been otherwise?\"\"\"\n",
        "for i in range(4,12):\n",
        "\ta,_ = bobChat.ask(prompts.inChatReplyPrompt(Message(alice,a)))\n",
        "\tprint(i,a)\n",
        "\tactualChat.append(a)\n",
        "\ta, rem = Stegasus.StegasusEncode(a,rem)\n",
        "\tprint(i,a)\n",
        "\t# switch\n",
        "\ta,_ = aliceChat.ask(prompts.inChatReplyPrompt(Message(bob,a)))\n",
        "\tprint(i,a)\n",
        "\tactualChat.append(a)\n",
        "\ta, rem = Stegasus.StegasusEncode(a,rem)\n",
        "\tprint(i,a)"
      ]
    },
    {
      "cell_type": "code",
      "execution_count": null,
      "metadata": {},
      "outputs": [
        {
          "data": {
            "text/plain": [
              "2233"
            ]
          },
          "execution_count": 24,
          "metadata": {},
          "output_type": "execute_result"
        }
      ],
      "source": [
        "len(rem)"
      ]
    },
    {
      "cell_type": "code",
      "execution_count": null,
      "metadata": {},
      "outputs": [
        {
          "data": {
            "text/plain": [
              "167"
            ]
          },
          "execution_count": 26,
          "metadata": {},
          "output_type": "execute_result"
        }
      ],
      "source": [
        "len('010111010101101000100110'*100) - len(rem)"
      ]
    },
    {
      "cell_type": "code",
      "execution_count": null,
      "metadata": {},
      "outputs": [
        {
          "data": {
            "text/plain": [
              "20.875"
            ]
          },
          "execution_count": 27,
          "metadata": {},
          "output_type": "execute_result"
        }
      ],
      "source": [
        "167 / 8"
      ]
    }
  ],
  "metadata": {
    "kernelspec": {
      "display_name": "Python 3",
      "language": "python",
      "name": "python3"
    },
    "language_info": {
      "codemirror_mode": {
        "name": "ipython",
        "version": 3
      },
      "file_extension": ".py",
      "mimetype": "text/x-python",
      "name": "python",
      "nbconvert_exporter": "python",
      "pygments_lexer": "ipython3",
      "version": "3.11.4"
    },
    "orig_nbformat": 4
  },
  "nbformat": 4,
  "nbformat_minor": 2
}
