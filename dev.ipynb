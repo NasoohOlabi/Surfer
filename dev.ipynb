{
 "cells": [
  {
   "cell_type": "code",
   "execution_count": null,
   "metadata": {},
   "outputs": [],
   "source": [
    "import time\n",
    "import random\n",
    "from selenium.webdriver.common.by import By\n",
    "from selenium.webdriver.support.wait import WebDriverWait\n",
    "from selenium.webdriver.support import expected_conditions as EC\n",
    "import random\n",
    "import json\n",
    "from selenium import webdriver\n",
    "from selenium.webdriver.common.action_chains import ActionChains\n",
    "import string\n",
    "from itertools import islice\n",
    "from selenium.webdriver.common.keys import Keys\n",
    "# from Feed import Feed\n",
    "from icecream import ic\n",
    "from typing import Iterator, Any, List"
   ]
  },
  {
   "cell_type": "code",
   "execution_count": null,
   "metadata": {},
   "outputs": [],
   "source": [
    "def get_script(fname:str):\n",
    "  script = ''\n",
    "  with open(f'./scripts/{fname}.js','r') as f:\n",
    "    script = f.read()\n",
    "  script = script.replace('\\n','')\n",
    "  def replacer(*args):\n",
    "    acc = script\n",
    "    for i,x in enumerate(args):\n",
    "      acc = acc.replace('#'+str(i),str(x))\n",
    "    return 'try{' + f'console.log(`{fname}`,JSON.parse(`{json.dumps(args)}`));'+acc+'}catch(err){console.log(`{fname}`,err);}'\n",
    "  return replacer\n",
    "def script_runner(driver):\n",
    "  def run_script(name:str,verbose=False):\n",
    "    def script(*args:Any):\n",
    "      script_string = get_script(name)(*args)\n",
    "      answer = driver.execute_script(script_string)\n",
    "      if verbose:\n",
    "        print('script_string: ',script_string,' Answer: ', answer)\n",
    "      return answer\n",
    "    return script\n",
    "  return run_script"
   ]
  },
  {
   "cell_type": "code",
   "execution_count": null,
   "metadata": {},
   "outputs": [],
   "source": [
    "from Surfer import GetBrowser,RedditFeed,Feed\n",
    "\n",
    "driver = GetBrowser()"
   ]
  },
  {
   "cell_type": "code",
   "execution_count": null,
   "metadata": {},
   "outputs": [],
   "source": [
    "run_script = script_runner(driver)"
   ]
  },
  {
   "cell_type": "code",
   "execution_count": null,
   "metadata": {},
   "outputs": [],
   "source": [
    "def uuid():\n",
    "    letters_digits = string.ascii_letters\n",
    "    return ''.join(random.choice(letters_digits) for i in range(20))"
   ]
  },
  {
   "cell_type": "code",
   "execution_count": null,
   "metadata": {},
   "outputs": [],
   "source": [
    "def N(\n",
    "  mean = 0.5\n",
    "\t, stddev = 0.01\n",
    "\t, bounds = None\n",
    "):\n",
    "\tif bounds:\n",
    "\t\treturn max(bounds[0], min(random.normalvariate(mean, stddev) , bounds[1]))\n",
    "\telse:\n",
    "\t\treturn random.normalvariate(mean, stddev)\n"
   ]
  },
  {
   "cell_type": "code",
   "execution_count": null,
   "metadata": {},
   "outputs": [],
   "source": [
    "class RedditFeed(Feed):\n",
    "\tdef __init__(self, driver,skip=True,verbose=False):\n",
    "\t\tsuper()\n",
    "\t\tself.name = 'Reddit Feed'\n",
    "\t\t# Store the WebDriver instance\n",
    "\t\tself.driver = driver\n",
    "\t\tself.verbose = verbose\n",
    "\t\tif not skip:\n",
    "\t\t\tself.driver.get('https://www.reddit.com/')\n",
    "\t\t\trun_script('listen to clicks')()\n",
    "\n",
    "\t\trun_script('init_reddit',verbose=self.verbose)()\n",
    "\n",
    "\tdef __iter__(self) -> Iterator[Any]:\n",
    "\t\twhile True:\n",
    "\t\t\tif not run_script('check curser',verbose=self.verbose)():\n",
    "\t\t\t\tcontinue\n",
    "\t\t\trun_script('scroll 2 curser',verbose=self.verbose)(N(bounds=[0,1]),N(bounds=[0,1]),random.randint(1,25)/100)\n",
    "\t\t\twhile run_script('check still scrolling')():\n",
    "\t\t\t\ttime.sleep(0.1)\n",
    "\t\t\tyield run_script('parse post',verbose=self.verbose)()\n",
    "\t\t\trun_script('curser next')()\n",
    "\n",
    "\tdef click_post(self, newTab=True):\n",
    "\t\tid = uuid()\n",
    "\t\trun_script('mark curser', verbose=self.verbose)(id)\n",
    "\t\t# Find the DOM element to click on\n",
    "\t\tsel = f'.{id}'\n",
    "\t\telement = driver.find_element(By.CSS_SELECTOR, sel)\n",
    "\t\t# Get the dimensions and position of the element\n",
    "\t\telement_rect = run_script('curser location')()\n",
    "\n",
    "\t\t# Calculate the x and y coordinates of the random point in the upper center of the element\n",
    "\t\tX = element_rect['x'] + N(element_rect[\"width\"] // 2,0.05) \n",
    "\t\tY = element_rect['y'] + random.randint(0, element_rect[\"height\"] // 2)\n",
    "\t\t\t# Move the mouse to the calculated coordinates and click\n",
    "\t\tactions = ActionChains(driver)\n",
    "\t\t\n",
    "\t\tic(X)\n",
    "\t\tic(Y)\n",
    "\t\tif newTab:\n",
    "\t\t\t\tactions.move_to_element_with_offset(element, X, Y) \\\n",
    "\t\t\t\t\t\t.key_down(Keys.CONTROL) \\\n",
    "\t\t\t\t\t\t.click() \\\n",
    "\t\t\t\t\t\t.key_up(Keys.CONTROL) \\\n",
    "\t\t\t\t\t\t.perform()\n",
    "\t\telse:\n",
    "\t\t\t\tactions.move_to_element_with_offset(element, X, Y) \\\n",
    "\t\t\t\t\t\t.click() \\\n",
    "\t\t\t\t\t\t.perform()\n",
    "\n",
    "\n",
    "\tdef close(self):\n",
    "\t\t# Close the WebDriver instance\n",
    "\t\tself.driver.quit()"
   ]
  },
  {
   "cell_type": "code",
   "execution_count": null,
   "metadata": {},
   "outputs": [],
   "source": [
    "rf = RedditFeed(driver,skip=False)\n",
    "# rf = RedditFeed(driver,skip=True)"
   ]
  },
  {
   "cell_type": "code",
   "execution_count": null,
   "metadata": {},
   "outputs": [],
   "source": [
    "time.sleep(4)\n",
    "for x in islice(rf,15):\n",
    "  print(x)\n",
    "  time.sleep(2*max(1,len(x) * 0.01))\n",
    "  rf.click_post()"
   ]
  },
  {
   "cell_type": "code",
   "execution_count": 13,
   "metadata": {},
   "outputs": [
    {
     "name": "stderr",
     "output_type": "stream",
     "text": [
      "ic| X: 332.95704261695\n",
      "ic| Y: 234.21875\n"
     ]
    }
   ],
   "source": [
    "rf.click_post()"
   ]
  },
  {
   "cell_type": "code",
   "execution_count": null,
   "metadata": {},
   "outputs": [],
   "source": [
    "# decultter html\n",
    "# Array.from(x.querySelectorAll('*')).map((x,i)=>{\n",
    "#     const cl = Array.from(x.classList)\n",
    "#     const to_remove = cl.filter(x=> !/^[a-z-]+$/.exec(x))\n",
    "#     for (let cls of to_remove) {\n",
    "#         x.classList.remove(cls)\n",
    "#     }\n",
    "#     if (x.className === ''){\n",
    "#         x.removeAttribute('class')\n",
    "#     }\n",
    "# })"
   ]
  }
 ],
 "metadata": {
  "kernelspec": {
   "display_name": "Python 3",
   "language": "python",
   "name": "python3"
  },
  "language_info": {
   "codemirror_mode": {
    "name": "ipython",
    "version": 3
   },
   "file_extension": ".py",
   "mimetype": "text/x-python",
   "name": "python",
   "nbconvert_exporter": "python",
   "pygments_lexer": "ipython3",
   "version": "3.10.7"
  },
  "orig_nbformat": 4
 },
 "nbformat": 4,
 "nbformat_minor": 2
}
