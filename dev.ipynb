{
 "cells": [
  {
   "cell_type": "code",
   "execution_count": 54,
   "metadata": {},
   "outputs": [],
   "source": [
    "import time\n",
    "import random\n",
    "from selenium.webdriver.common.by import By\n",
    "from selenium.webdriver.support.wait import WebDriverWait\n",
    "from selenium.webdriver.support import expected_conditions as EC\n",
    "import random\n",
    "import json\n",
    "from selenium import webdriver\n",
    "from selenium.webdriver.common.action_chains import ActionChains\n",
    "import string\n",
    "# from Feed import Feed\n",
    "from typing import Iterator, Any, List"
   ]
  },
  {
   "cell_type": "code",
   "execution_count": 3,
   "metadata": {},
   "outputs": [
    {
     "name": "stderr",
     "output_type": "stream",
     "text": [
      "[WDM] - Downloading: 100%|██████████| 6.80M/6.80M [00:07<00:00, 1.01MB/s]\n"
     ]
    }
   ],
   "source": [
    "from Surfer import GetBrowser,RedditFeed,Feed\n",
    "\n",
    "driver = GetBrowser()"
   ]
  },
  {
   "cell_type": "code",
   "execution_count": 55,
   "metadata": {},
   "outputs": [],
   "source": [
    "def uuid():\n",
    "    letters_digits = string.ascii_letters + string.digits\n",
    "    return ''.join(random.choice(letters_digits) for i in range(30))"
   ]
  },
  {
   "cell_type": "code",
   "execution_count": 46,
   "metadata": {},
   "outputs": [],
   "source": [
    "def get_script(fname:str):\n",
    "  script = ''\n",
    "  with open(f'./scripts/{fname}.js','r') as f:\n",
    "    script = f.read()\n",
    "  script = script.replace('\\n','')\n",
    "  def replacer(*args):\n",
    "    acc = script\n",
    "    for i,x in enumerate(args):\n",
    "      acc = acc.replace('#'+str(i),x)\n",
    "    return f'console.log(`{fname}`,JSON.parse(`{json.dumps(args)}`));'+acc\n",
    "  return replacer\n",
    "def run_script(name:str,verbose=True):\n",
    "\tdef script(*args:str):\n",
    "\t\tscript_string = get_script(name)(*args)\n",
    "\t\tif verbose:\n",
    "\t\t\tprint('script_string: ',script_string)\n",
    "\t\treturn driver.execute_script(script_string)\n",
    "\treturn script"
   ]
  },
  {
   "cell_type": "code",
   "execution_count": 47,
   "metadata": {},
   "outputs": [],
   "source": [
    "def random_scroll(\n",
    "  mean = 0.5\n",
    "\t, stddev = 0.15\n",
    "):\n",
    "\treturn max(0, min(random.normalvariate(mean, stddev) , 1))"
   ]
  },
  {
   "cell_type": "code",
   "execution_count": 48,
   "metadata": {},
   "outputs": [],
   "source": [
    "class RedditFeed(Feed):\n",
    "\tdef __init__(self, driver,skip=True):\n",
    "\t\tsuper()\n",
    "\t\tself.name = 'Reddit Feed'\n",
    "\t\t# Store the WebDriver instance\n",
    "\t\tself.driver = driver\n",
    "\t\tif not skip:\n",
    "\t\t\tself.driver.get('https://www.reddit.com/')\n",
    "\n",
    "\t\trun_script('init_reddit')()\n",
    "\n",
    "\tdef __iter__(self) -> Iterator[Any]:\n",
    "\t\twhile True:\n",
    "\t\t\tif not run_script('check curser')():\n",
    "\t\t\t\tcontinue\n",
    "\t\t\tyield run_script('read curser')()\n",
    "\t\t\trun_script('reddit scroll next')(str(random_scroll()),str(random_scroll()))\n",
    "\n",
    "\tdef click_post(self):\n",
    "\t\tid = uuid()\n",
    "\t\trun_script('mark curser')(id)\n",
    "\t\t# Find the DOM element to click on\n",
    "\t\telement = driver.find_element(By.CSS_SELECTOR,f'.{id}')\n",
    "\n",
    "\t\t# Get the dimensions of the element\n",
    "\t\telement_size = element.size\n",
    "\t\telement_location = element.location\n",
    "\n",
    "\t\t# Calculate the x and y coordinates of the random point in the upper center of the element\n",
    "\t\tx = element_location[\"x\"] + element_size[\"width\"] / 2\n",
    "\t\ty = element_location[\"y\"] + random.randint(0, element_size[\"height\"] / 2)\n",
    "\n",
    "\t\t# Move the mouse to the calculated coordinates and click\n",
    "\t\tactions = ActionChains(driver)\n",
    "\t\tactions.move_to_element_with_offset(element, x - element_location[\"x\"], y - element_location[\"y\"]).click().perform()\n",
    "\n",
    "\n",
    "  \n",
    "\n",
    "\tdef close(self):\n",
    "\t\t# Close the WebDriver instance\n",
    "\t\tself.driver.quit()"
   ]
  },
  {
   "cell_type": "code",
   "execution_count": null,
   "metadata": {},
   "outputs": [],
   "source": [
    "rf = RedditFeed(driver)"
   ]
  },
  {
   "cell_type": "code",
   "execution_count": null,
   "metadata": {},
   "outputs": [],
   "source": [
    "for x in rf:\n",
    "  print(x)\n",
    "  time.sleep(len(x) * 0.01)"
   ]
  },
  {
   "cell_type": "code",
   "execution_count": null,
   "metadata": {},
   "outputs": [],
   "source": [
    "# decultter html\n",
    "# Array.from(x.querySelectorAll('*')).map((x,i)=>{\n",
    "#     const cl = Array.from(x.classList)\n",
    "#     const to_remove = cl.filter(x=> !/^[a-z-]+$/.exec(x))\n",
    "#     for (let cls of to_remove) {\n",
    "#         x.classList.remove(cls)\n",
    "#     }\n",
    "#     if (x.className === ''){\n",
    "#         x.removeAttribute('class')\n",
    "#     }\n",
    "# })"
   ]
  }
 ],
 "metadata": {
  "kernelspec": {
   "display_name": "Python 3",
   "language": "python",
   "name": "python3"
  },
  "language_info": {
   "codemirror_mode": {
    "name": "ipython",
    "version": 3
   },
   "file_extension": ".py",
   "mimetype": "text/x-python",
   "name": "python",
   "nbconvert_exporter": "python",
   "pygments_lexer": "ipython3",
   "version": "3.10.7"
  },
  "orig_nbformat": 4
 },
 "nbformat": 4,
 "nbformat_minor": 2
}
