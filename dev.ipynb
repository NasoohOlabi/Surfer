{
  "cells": [
    {
      "cell_type": "code",
      "execution_count": 1,
      "metadata": {},
      "outputs": [],
      "source": [
        "import time\n",
        "import random\n",
        "from selenium.webdriver.common.by import By\n",
        "from selenium.webdriver.support.wait import WebDriverWait\n",
        "from selenium.webdriver.support import expected_conditions as EC\n",
        "import random\n",
        "import json\n",
        "from selenium import webdriver\n",
        "from selenium.webdriver.common.action_chains import ActionChains\n",
        "import string\n",
        "from itertools import islice\n",
        "from selenium.webdriver.common.keys import Keys\n",
        "# from Feed import Feed\n",
        "from icecream import ic\n",
        "from typing import Iterator, Any, List"
      ]
    },
    {
      "cell_type": "code",
      "execution_count": 2,
      "metadata": {},
      "outputs": [],
      "source": [
        "def get_script(fname:str):\n",
        "  script = ''\n",
        "  with open(f'./scripts/{fname}.js','r') as f:\n",
        "    script = f.read()\n",
        "  script = script.replace('\\n','')\n",
        "  def replacer(*args):\n",
        "    acc = script\n",
        "    for i,x in enumerate(args):\n",
        "      acc = acc.replace('#'+str(i),str(x))\n",
        "    return 'try{' + f'console.log(`{fname}`,JSON.parse(`{json.dumps(args)}`));'+acc+'}catch(err){console.log(`{fname}`,err);}'\n",
        "  return replacer\n",
        "def script_runner(driver):\n",
        "  def run_script(name:str,verbose=False):\n",
        "    def script(*args:Any):\n",
        "      script_string = get_script(name)(*args)\n",
        "      answer = driver.execute_script(script_string)\n",
        "      if verbose:\n",
        "        print('script_string: ',script_string,' Answer: ', answer)\n",
        "      return answer\n",
        "    return script\n",
        "  return run_script"
      ]
    },
    {
      "cell_type": "code",
      "execution_count": 3,
      "metadata": {},
      "outputs": [
        {
          "name": "stderr",
          "output_type": "stream",
          "text": [
            "[WDM] - Downloading: 100%|██████████| 6.80M/6.80M [00:25<00:00, 282kB/s] \n"
          ]
        }
      ],
      "source": [
        "from Surfer import GetBrowser,RedditFeed,Feed\n",
        "\n",
        "driver = GetBrowser()"
      ]
    },
    {
      "cell_type": "code",
      "execution_count": 4,
      "metadata": {},
      "outputs": [],
      "source": [
        "run_script = script_runner(driver)"
      ]
    },
    {
      "cell_type": "code",
      "execution_count": 5,
      "metadata": {},
      "outputs": [],
      "source": [
        "def uuid():\n",
        "    letters_digits = string.ascii_letters\n",
        "    return ''.join(random.choice(letters_digits) for i in range(20))"
      ]
    },
    {
      "cell_type": "code",
      "execution_count": 6,
      "metadata": {},
      "outputs": [],
      "source": [
        "def N(\n",
        "  mean = 0.5\n",
        "\t, stddev = 0.01\n",
        "\t, bounds = None\n",
        "):\n",
        "\tif bounds:\n",
        "\t\treturn max(bounds[0], min(random.normalvariate(mean, stddev) , bounds[1]))\n",
        "\telse:\n",
        "\t\treturn random.normalvariate(mean, stddev)\n"
      ]
    },
    {
      "cell_type": "code",
      "execution_count": 19,
      "metadata": {},
      "outputs": [],
      "source": [
        "class RedditFeed(Feed):\n",
        "\tdef __init__(self, driver,skip=True,verbose=False):\n",
        "\t\tsuper()\n",
        "\t\tself.name = 'Reddit Feed'\n",
        "\t\t# Store the WebDriver instance\n",
        "\t\tself.driver = driver\n",
        "\t\tself.verbose = verbose\n",
        "\t\tself.in_feed = True\n",
        "\t\tif not skip:\n",
        "\t\t\tself.driver.get('https://www.reddit.com/')\n",
        "\t\t\trun_script('listen to clicks')()\n",
        "\n",
        "\t\trun_script('init_reddit',verbose=self.verbose)()\n",
        "\n",
        "\tdef __iter__(self) -> Iterator[Any]:\n",
        "\t\twhile True and self.in_feed:\n",
        "\t\t\tif not run_script('check cursor',verbose=self.verbose)():\n",
        "\t\t\t\tcontinue\n",
        "\t\t\trun_script('scroll 2 cursor',verbose=self.verbose)(N(bounds=[0,1]),N(bounds=[0,1]),random.randint(1,25)/100)\n",
        "\t\t\twhile run_script('check still scrolling')():\n",
        "\t\t\t\ttime.sleep(0.1)\n",
        "\t\t\tyield run_script('parse post',verbose=self.verbose)()\n",
        "\t\t\trun_script('cursor next')()\n",
        "\n",
        "\tdef click_post(self, newTab=True):\n",
        "\t\tid = uuid()\n",
        "\t\trun_script('mark cursor', verbose=self.verbose)(id)\n",
        "\t\t# Find the DOM element to click on\n",
        "\t\tsel = f'.{id}'\n",
        "\t\telement = driver.find_element(By.CSS_SELECTOR, sel)\n",
        "\t\t# Get the dimensions and position of the element\n",
        "\t\telement.click()\n",
        "\t\tself.in_feed = False\n",
        "\t\treturn element\n",
        "\n",
        "\n",
        "\tdef close(self):\n",
        "\t\t# Close the WebDriver instance\n",
        "\t\tself.driver.quit()"
      ]
    },
    {
      "cell_type": "code",
      "execution_count": 20,
      "metadata": {},
      "outputs": [],
      "source": [
        "rf = RedditFeed(driver,skip=False)\n",
        "# rf = RedditFeed(driver,skip=True)"
      ]
    },
    {
      "cell_type": "code",
      "execution_count": 21,
      "metadata": {},
      "outputs": [
        {
          "name": "stdout",
          "output_type": "stream",
          "text": [
            "{'comments': '143 Comments', 'excerpt': None, 'links': [{'link': 'https://www.reddit.com/r/france/', 'text': '143 Comments'}, {'link': 'https://www.reddit.com/r/france/', 'text': ''}, {'link': 'https://www.reddit.com/user/FrankMaleir/', 'text': 'bfmtv.com/politi...'}, {'link': 'https://www.reddit.com/r/france/comments/12ya3eb/pour_7_fran%C3%A7ais_sur_10_la_r%C3%A9%C3%A9lection_demmanuel/', 'text': 'Société'}, {'link': 'https://www.reddit.com/r/france/?f=flair_name%3A%22Soci%C3%A9t%C3%A9%22', 'text': 'Pour 7 Français sur 10, la réélection d’Emmanuel Macron a été une mauvaise chose pour le pays'}, {'link': 'https://www.bfmtv.com/politique/elysee/pour-7-francais-sur-10-la-reelection-d-emmanuel-macron-a-ete-une-mauvaise-chose-pour-le-pays_AN-202304240627.html', 'text': 'u/FrankMaleir'}, {'link': 'https://www.bfmtv.com/politique/elysee/pour-7-francais-sur-10-la-reelection-d-emmanuel-macron-a-ete-une-mauvaise-chose-pour-le-pays_AN-202304240627.html', 'text': 'r/france'}, {'link': 'https://www.reddit.com/r/france/comments/12ya3eb/pour_7_fran%C3%A7ais_sur_10_la_r%C3%A9%C3%A9lection_demmanuel/', 'text': ''}], 'rest': ['Société', 'bfmtv.com/politi...'], 'sub_reddit': 'r/france', 'title': 'Pour 7 Français sur 10, la réélection d’Emmanuel Macron a été une mauvaise chose pour le pays', 'up_votes': '340', 'user': 'u/FrankMaleir'}\n",
            "{'comments': '5 Comments', 'excerpt': None, 'links': [{'link': 'https://www.reddit.com/user/IdleOn_Boii/', 'text': '5 Comments'}, {'link': 'https://www.reddit.com/user/IdleOn_Boii/', 'text': 'Play Now'}, {'link': 'https://alb.reddit.com/cr?z=gAAAAABkR5DF-rnV6vS4GyI1a2nT4pEPhAcxTldrK2LcopsH0W_G2y7Ciqx3SH87sINb1H7Bok-ab4PceFmNQizsOt6h8Hx4Gq-lqyY98XfMpvfTePGuvIaMj-e15tbhpPRbjq4MHsgaHoWsfu4ie7MqBHvrHw4malFsZlhoMEyw9eCS0Iw55iZil26h10b1kfgHghT-Uxvc0-EYXfQFSB17wFZFBXvnyrq4PED2wGrCETCDoDUQRwn7u4e1NwtgNrHTgielWa9taJW3g8gC8lI0sAXVsy4lsP6bdOrxY1Dxqb0SdftmdFahwrBPptE8tZ5xIcoMoE13fJ_KZ-T2oHebQTJ0L1rG2SvnmC0AUSi7GOTfsGsSdwzXetcC5XxdoInyhFgQawVmB_fiCkInZFAvQFHH3RN_J80N7-fYqZNwspa9yU-rzYvTyL1s6xYcBSuvB-OeaWYQZllPuNJrj7AXIGeqgW7OUdUWvNbZrQro5lXvCRdniZC86YzrhxL4J-8kEVlOe8rmskyn7ZsQulmcGzvoRSzwed4vt-nu_RrFxSjXlEMsHxE=', 'text': 'store.steampowered.com'}, {'link': 'https://alb.reddit.com/cr?z=gAAAAABkR5DF-rnV6vS4GyI1a2nT4pEPhAcxTldrK2LcopsH0W_G2y7Ciqx3SH87sINb1H7Bok-ab4PceFmNQizsOt6h8Hx4Gq-lqyY98XfMpvfTePGuvIaMj-e15tbhpPRbjq4MHsgaHoWsfu4ie7MqBHvrHw4malFsZlhoMEyw9eCS0Iw55iZil26h10b1kfgHghT-Uxvc0-EYXfQFSB17wFZFBXvnyrq4PED2wGrCETCDoDUQRwn7u4e1NwtgNrHTgielWa9taJW3g8gC8lI0sAXVsy4lsP6bdOrxY1Dxqb0SdftmdFahwrBPptE8tZ5xIcoMoE13fJ_KZ-T2oHebQTJ0L1rG2SvnmC0AUSi7GOTfsGsSdwzXetcC5XxdoInyhFgQawVmB_fiCkInZFAvQFHH3RN_J80N7-fYqZNwspa9yU-rzYvTyL1s6xYcBSuvB-OeaWYQZllPuNJrj7AXIGeqgW7OUdUWvNbZrQro5lXvCRdniZC86YzrhxL4J-8kEVlOe8rmskyn7ZsQulmcGzvoRSzwed4vt-nu_RrFxSjXlEMsHxE=', 'text': ''}, {'link': 'https://alb.reddit.com/cr?z=gAAAAABkR5DF-rnV6vS4GyI1a2nT4pEPhAcxTldrK2LcopsH0W_G2y7Ciqx3SH87sINb1H7Bok-ab4PceFmNQizsOt6h8Hx4Gq-lqyY98XfMpvfTePGuvIaMj-e15tbhpPRbjq4MHsgaHoWsfu4ie7MqBHvrHw4malFsZlhoMEyw9eCS0Iw55iZil26h10b1kfgHghT-Uxvc0-EYXfQFSB17wFZFBXvnyrq4PED2wGrCETCDoDUQRwn7u4e1NwtgNrHTgielWa9taJW3g8gC8lI0sAXVsy4lsP6bdOrxY1Dxqb0SdftmdFahwrBPptE8tZ5xIcoMoE13fJ_KZ-T2oHebQTJ0L1rG2SvnmC0AUSi7GOTfsGsSdwzXetcC5XxdoInyhFgQawVmB_fiCkInZFAvQFHH3RN_J80N7-fYqZNwspa9yU-rzYvTyL1s6xYcBSuvB-OeaWYQZllPuNJrj7AXIGeqgW7OUdUWvNbZrQro5lXvCRdniZC86YzrhxL4J-8kEVlOe8rmskyn7ZsQulmcGzvoRSzwed4vt-nu_RrFxSjXlEMsHxE=', 'text': \"Looking for a long-term RPG to play on Steam? In IdleOn, your characters grind for you when you're gone, so you can play for 15 minutes a day and spend all their loot!\"}, {'link': 'https://alb.reddit.com/cr?z=gAAAAABkR5DF-rnV6vS4GyI1a2nT4pEPhAcxTldrK2LcopsH0W_G2y7Ciqx3SH87sINb1H7Bok-ab4PceFmNQizsOt6h8Hx4Gq-lqyY98XfMpvfTePGuvIaMj-e15tbhpPRbjq4MHsgaHoWsfu4ie7MqBHvrHw4malFsZlhoMEyw9eCS0Iw55iZil26h10b1kfgHghT-Uxvc0-EYXfQFSB17wFZFBXvnyrq4PED2wGrCETCDoDUQRwn7u4e1NwtgNrHTgielWa9taJW3g8gC8lI0sAXVsy4lsP6bdOrxY1Dxqb0SdftmdFahwrBPptE8tZ5xIcoMoE13fJ_KZ-T2oHebQTJ0L1rG2SvnmC0AUSi7GOTfsGsSdwzXetcC5XxdoInyhFgQawVmB_fiCkInZFAvQFHH3RN_J80N7-fYqZNwspa9yU-rzYvTyL1s6xYcBSuvB-OeaWYQZllPuNJrj7AXIGeqgW7OUdUWvNbZrQro5lXvCRdniZC86YzrhxL4J-8kEVlOe8rmskyn7ZsQulmcGzvoRSzwed4vt-nu_RrFxSjXlEMsHxE=', 'text': 'u/IdleOn_Boii'}, {'link': 'https://www.reddit.com/user/IdleOn_Boii/comments/12uuecc/looking_for_a_longterm_rpg_to_play_on_steam_in/?instanceId=t3_z%3DgAAAAABkR5DFSU0eMw3t1v6Lw0rY4pW2jxsW_Q4atk74M9yzAvV3gc-amQnFXVgsqr9Y6KU8CUs72RnZXjZdV65UvZeqgVFizayg7uhc0CUjOaPr61_RTryPnzeeICq6Us8xsWZV1Iz4v9WjAoNPjx2YY772mn2ABQQR9CcanYpvzLj5aYhOwcFLoJGZbA1_W0M2CMI6nJ4LNXdCdY7592sdLG3dy96kk0M16Ntxi8PtF3wGjdmEiHbvUIJvFCoO88unBPwonJzvNHuJgma6-1ciz4XjEzfdy3C4Oz9Udgl7tNuMOb7IXmc6n_IDXgWi0G_stU1HcLR6Mle9inE6FUVV7cjRoU_WkbzniaCE0hgdKCE67rZtIgmYRfYsySJu3PN-PD7J0oIza-Sb3K_cGQyjFgODK7hoHWcqZ_5odDt3hDA-lZ92wbI%3D', 'text': ''}], 'rest': ['store.steampowered.com', 'Play Now'], 'sub_reddit': None, 'title': \"Looking for a long-term RPG to play on Steam? In IdleOn, your characters grind for you when you're gone, so you can play for 15 minutes a day and spend all their loot!\", 'up_votes': 'Vote', 'user': 'u/IdleOn_Boii'}\n",
            "{'comments': '57 Comments', 'excerpt': None, 'links': [{'link': 'https://www.reddit.com/r/france/', 'text': '57 Comments'}, {'link': 'https://www.reddit.com/r/france/', 'text': ''}, {'link': 'https://www.reddit.com/user/NYCPizzaLicker/', 'text': 'bfmtv.com/politi...'}, {'link': 'https://www.reddit.com/r/france/comments/12y911m/pour_nous_la_campagne_daffichage_de_renaissance/', 'text': 'Politique'}, {'link': 'https://www.reddit.com/r/france/?f=flair_name%3A%22Politique%22', 'text': '\"Pour nous\": la campagne d\\'affichage de Renaissance qui vante les mesures de la présidence Macron'}, {'link': 'https://www.bfmtv.com/politique/la-republique-en-marche/pour-vous-la-campagne-d-affichage-de-renaissance-qui-vante-les-mesures-de-la-presidence-macron_AN-202304250105.html', 'text': 'u/NYCPizzaLicker'}, {'link': 'https://www.bfmtv.com/politique/la-republique-en-marche/pour-vous-la-campagne-d-affichage-de-renaissance-qui-vante-les-mesures-de-la-presidence-macron_AN-202304250105.html', 'text': 'r/france'}, {'link': 'https://www.reddit.com/r/france/comments/12y911m/pour_nous_la_campagne_daffichage_de_renaissance/', 'text': ''}], 'rest': ['Politique', 'bfmtv.com/politi...'], 'sub_reddit': 'r/france', 'title': '\"Pour nous\": la campagne d\\'affichage de Renaissance qui vante les mesures de la présidence Macron', 'up_votes': '95', 'user': 'u/NYCPizzaLicker'}\n",
            "{'comments': '31 Comments', 'excerpt': None, 'links': [{'link': 'https://www.reddit.com/r/france/', 'text': '31 Comments'}, {'link': 'https://www.reddit.com/r/france/', 'text': ''}, {'link': 'https://www.reddit.com/user/matthieuC/', 'text': 'francetvinfo.fr/econom...'}, {'link': 'https://www.reddit.com/r/france/comments/12yammd/casserolades_les_fran%C3%A7ais_vont_se_lasser_de_ces/', 'text': 'Actus'}, {'link': 'https://www.reddit.com/r/france/?f=flair_name%3A%22Actus%22', 'text': '\"Casserolades\" : \"Les Français vont se lasser de ces manifestations\", estime le président du groupe Renaissance au Sénat François Patriat'}, {'link': 'https://www.francetvinfo.fr/economie/retraite/reforme-des-retraites/casserolades-les-francais-vont-se-lasser-de-ces-manifestations-estime-le-president-du-groupe-renaissance-au-senat-francois-patriat_5789657.html', 'text': 'u/matthieuC'}, {'link': 'https://www.francetvinfo.fr/economie/retraite/reforme-des-retraites/casserolades-les-francais-vont-se-lasser-de-ces-manifestations-estime-le-president-du-groupe-renaissance-au-senat-francois-patriat_5789657.html', 'text': 'r/france'}, {'link': 'https://www.reddit.com/r/france/comments/12yammd/casserolades_les_fran%C3%A7ais_vont_se_lasser_de_ces/', 'text': ''}], 'rest': ['Actus', 'francetvinfo.fr/econom...'], 'sub_reddit': 'r/france', 'title': '\"Casserolades\" : \"Les Français vont se lasser de ces manifestations\", estime le président du groupe Renaissance au Sénat François Patriat', 'up_votes': '63', 'user': 'u/matthieuC'}\n",
            "{'comments': '65 Comments', 'excerpt': None, 'links': [{'link': 'https://www.reddit.com/r/france/', 'text': '65 Comments'}, {'link': 'https://www.reddit.com/r/france/', 'text': ''}, {'link': 'https://www.reddit.com/user/guilamu/', 'text': 'mediapart.fr/journa...'}, {'link': 'https://www.reddit.com/r/france/comments/12xqhq3/des_documents_officiels_transmis_au_s%C3%A9nat/', 'text': 'Paywall'}, {'link': 'https://www.reddit.com/r/france/?f=flair_name%3A%22Paywall%22', 'text': 'Des documents officiels transmis au Sénat confirment les révélations sur le fonds Marianne'}, {'link': 'https://www.mediapart.fr/journal/france/240423/des-documents-officiels-transmis-au-senat-confirment-les-revelations-sur-le-fonds-marianne', 'text': 'u/guilamu'}, {'link': 'https://www.mediapart.fr/journal/france/240423/des-documents-officiels-transmis-au-senat-confirment-les-revelations-sur-le-fonds-marianne', 'text': 'r/france'}, {'link': 'https://www.reddit.com/r/france/comments/12xqhq3/des_documents_officiels_transmis_au_s%C3%A9nat/', 'text': ''}], 'rest': ['Paywall', 'mediapart.fr/journa...'], 'sub_reddit': 'r/france', 'title': 'Des documents officiels transmis au Sénat confirment les révélations sur le fonds Marianne', 'up_votes': '535', 'user': 'u/guilamu'}\n",
            "{'comments': '77 Comments', 'excerpt': \"Avec les sécheresses à répétition, l'élevage est maintenant une chose du passé. Dans 5 ans on regardera les mangeurs de viande comme on regarde aujourd'hui les fumeurs. Alors, qu'attendez vous pour abandonner pour de bon une pratique non viable ?\", 'links': [{'link': 'https://www.reddit.com/r/france/', 'text': '77 Comments'}, {'link': 'https://www.reddit.com/r/france/', 'text': \"Avec les sécheresses à répétition, l'élevage est maintenant une chose du passé. Dans 5 ans on regardera les mangeurs de viande comme on regarde aujourd'hui les fumeurs. Alors, qu'attendez vous pour abandonner pour de bon une pratique non viable ?\"}, {'link': 'https://www.reddit.com/user/San-A/', 'text': 'Société'}, {'link': 'https://www.reddit.com/r/france/comments/12y71xt/fran%C3%A7ais_qui_mangez_toujours_de_la_viande_pourquoi/', 'text': 'Français qui mangez toujours de la viande, pourquoi ?'}, {'link': 'https://www.reddit.com/r/france/?f=flair_name%3A%22Soci%C3%A9t%C3%A9%22', 'text': 'u/San-A'}, {'link': 'https://www.reddit.com/r/france/comments/12y71xt/fran%C3%A7ais_qui_mangez_toujours_de_la_viande_pourquoi/', 'text': 'r/france'}, {'link': 'https://www.reddit.com/r/france/comments/12y71xt/fran%C3%A7ais_qui_mangez_toujours_de_la_viande_pourquoi/', 'text': ''}], 'rest': ['Société'], 'sub_reddit': 'r/france', 'title': 'Français qui mangez toujours de la viande, pourquoi ?', 'up_votes': '0', 'user': 'u/San-A'}\n",
            "{'comments': '45 Comments', 'excerpt': None, 'links': [{'link': 'https://www.reddit.com/r/france/', 'text': '45 Comments'}, {'link': 'https://www.reddit.com/r/france/', 'text': ''}, {'link': 'https://www.reddit.com/user/Pizza_Ananas_Oo/', 'text': 'bfmtv.com/bfm-di...'}, {'link': 'https://www.reddit.com/r/france/comments/12y0f72/hautesalpes_17_jeunes_hospitalis%C3%A9s_apr%C3%A8s_un/', 'text': 'Actus'}, {'link': 'https://www.reddit.com/r/france/?f=flair_name%3A%22Actus%22', 'text': 'Hautes-Alpes: 17 jeunes hospitalisés après un bivouac dans le cadre du SNU'}, {'link': 'https://www.bfmtv.com/bfm-dici/hautes-alpes-17-jeunes-hospitalises-apres-un-bivouac-dans-le-cadre-du-snu_AN-202304240610.html', 'text': 'u/Pizza_Ananas_Oo'}, {'link': 'https://www.bfmtv.com/bfm-dici/hautes-alpes-17-jeunes-hospitalises-apres-un-bivouac-dans-le-cadre-du-snu_AN-202304240610.html', 'text': 'r/france'}, {'link': 'https://www.reddit.com/r/france/comments/12y0f72/hautesalpes_17_jeunes_hospitalis%C3%A9s_apr%C3%A8s_un/', 'text': ''}], 'rest': ['Actus', 'bfmtv.com/bfm-di...'], 'sub_reddit': 'r/france', 'title': 'Hautes-Alpes: 17 jeunes hospitalisés après un bivouac dans le cadre du SNU', 'up_votes': '128', 'user': 'u/Pizza_Ananas_Oo'}\n",
            "{'comments': '560 Comments', 'excerpt': None, 'links': [{'link': 'https://www.reddit.com/r/worldnews/', 'text': '560 Comments'}, {'link': 'https://www.reddit.com/r/worldnews/', 'text': ''}, {'link': 'https://www.reddit.com/user/enduracolorfl/', 'text': 'straitstimes.com/asia/e...'}, {'link': 'https://www.reddit.com/r/worldnews/comments/12y6h08/forced_participation_in_religious_activities_to/', 'text': 'Forced participation in religious activities to be classified as child abuse in Japan'}, {'link': 'https://www.straitstimes.com/asia/east-asia/forced-participation-in-religious-activities-to-be-classified-as-child-abuse-in-japan', 'text': 'u/enduracolorfl'}, {'link': 'https://www.straitstimes.com/asia/east-asia/forced-participation-in-religious-activities-to-be-classified-as-child-abuse-in-japan', 'text': 'r/worldnews'}, {'link': 'https://www.reddit.com/r/worldnews/comments/12y6h08/forced_participation_in_religious_activities_to/', 'text': ''}], 'rest': ['straitstimes.com/asia/e...'], 'sub_reddit': 'r/worldnews', 'title': 'Forced participation in religious activities to be classified as child abuse in Japan', 'up_votes': '18.2k', 'user': 'u/enduracolorfl'}\n",
            "{'comments': '146 Comments', 'excerpt': None, 'links': [{'link': 'https://www.reddit.com/r/france/', 'text': '146 Comments'}, {'link': 'https://www.reddit.com/r/france/', 'text': ''}, {'link': 'https://www.reddit.com/user/ArtemisXD/', 'text': 'lamontagne.fr/ambert...'}, {'link': 'https://www.reddit.com/r/france/comments/12xcgdx/le_bonhomme_dun_carnaval_%C3%A0_leffigie_demmanuel/', 'text': 'Actus'}, {'link': 'https://www.reddit.com/r/france/?f=flair_name%3A%22Actus%22', 'text': 'Le \"bonhomme\" d\\'un carnaval à l’effigie d’Emmanuel Macron brûlé dans le Puy-de-Dôme : une enquête ouverte par le parquet de Clermont-Ferrand.'}, {'link': 'https://www.lamontagne.fr/ambert-63600/loisirs/le-bonhomme-d-un-carnaval-a-leffigie-demmanuel-macron-brule-dans-le-puy-de-dome-une-enquete-ouverte_14298810/', 'text': 'u/ArtemisXD'}, {'link': 'https://www.lamontagne.fr/ambert-63600/loisirs/le-bonhomme-d-un-carnaval-a-leffigie-demmanuel-macron-brule-dans-le-puy-de-dome-une-enquete-ouverte_14298810/', 'text': 'r/france'}, {'link': 'https://www.reddit.com/r/france/comments/12xcgdx/le_bonhomme_dun_carnaval_%C3%A0_leffigie_demmanuel/', 'text': ''}], 'rest': ['Actus', 'lamontagne.fr/ambert...'], 'sub_reddit': 'r/france', 'title': 'Le \"bonhomme\" d\\'un carnaval à l’effigie d’Emmanuel Macron brûlé dans le Puy-de-Dôme : une enquête ouverte par le parquet de Clermont-Ferrand.', 'up_votes': '570', 'user': 'u/ArtemisXD'}\n",
            "{'comments': '419 Comments', 'excerpt': None, 'links': [{'link': 'https://www.reddit.com/user/HoodedHorse/', 'text': '419 Comments'}, {'link': 'https://www.reddit.com/user/HoodedHorse/', 'text': 'View More'}, {'link': 'https://alb.reddit.com/cr?z=gAAAAABkR5DFGtl-Gl83JiZpiEwud9HwIv1xFiNdKSredv1hN-zEuVTj7mGGAlE3mv36fhRr0Qt3ePKnEmQrNITL2WKLZq3aSOi7EbdKZVw3KTupAyqFGvw69D7EHJM6f7ni9EUHbB546UMl3wamojw5mQ7vNFESl5aFkGoBLj4FqOnrHawxSGVxA-OozSuygDDlr_CZPD10IWSxRqq4y7YwNH25Cf42JAlNsnPDN72VIizRCZxhV5PQbCAHYRFjq0LYD1jADxrthY7WIr-ZZYcpKz_lqKXpM9Jq5VQhcD6L-7kOv1BaKwPtZN3cS_bYKSmBUwgFQlCG6gIbwQ7VIY1QZCzYe8kcmzSxs1zHsPiF7HBttrnYZrLikhawreey_qrqTAx4cKNCsKcGZsWlC_7zIHXpODgovaUapsZs9oBrRYIxbCxsMpGC2P_f3mGcEXIxrYufO427yDD9CXZjBYnO2FttAp-Gr8RaLEw0Za_TmjnEgqKAAVeoqvg2kON2MMV7h0Jb73OcMZE9Xus_GmJ9UxYi_YQ7-P39hJmPV40ZBKvU6k4rS3Y=', 'text': 'store.steampowered.com'}, {'link': 'https://alb.reddit.com/cr?z=gAAAAABkR5DFGtl-Gl83JiZpiEwud9HwIv1xFiNdKSredv1hN-zEuVTj7mGGAlE3mv36fhRr0Qt3ePKnEmQrNITL2WKLZq3aSOi7EbdKZVw3KTupAyqFGvw69D7EHJM6f7ni9EUHbB546UMl3wamojw5mQ7vNFESl5aFkGoBLj4FqOnrHawxSGVxA-OozSuygDDlr_CZPD10IWSxRqq4y7YwNH25Cf42JAlNsnPDN72VIizRCZxhV5PQbCAHYRFjq0LYD1jADxrthY7WIr-ZZYcpKz_lqKXpM9Jq5VQhcD6L-7kOv1BaKwPtZN3cS_bYKSmBUwgFQlCG6gIbwQ7VIY1QZCzYe8kcmzSxs1zHsPiF7HBttrnYZrLikhawreey_qrqTAx4cKNCsKcGZsWlC_7zIHXpODgovaUapsZs9oBrRYIxbCxsMpGC2P_f3mGcEXIxrYufO427yDD9CXZjBYnO2FttAp-Gr8RaLEw0Za_TmjnEgqKAAVeoqvg2kON2MMV7h0Jb73OcMZE9Xus_GmJ9UxYi_YQ7-P39hJmPV40ZBKvU6k4rS3Y=', 'text': ''}, {'link': 'https://alb.reddit.com/cr?z=gAAAAABkR5DFGtl-Gl83JiZpiEwud9HwIv1xFiNdKSredv1hN-zEuVTj7mGGAlE3mv36fhRr0Qt3ePKnEmQrNITL2WKLZq3aSOi7EbdKZVw3KTupAyqFGvw69D7EHJM6f7ni9EUHbB546UMl3wamojw5mQ7vNFESl5aFkGoBLj4FqOnrHawxSGVxA-OozSuygDDlr_CZPD10IWSxRqq4y7YwNH25Cf42JAlNsnPDN72VIizRCZxhV5PQbCAHYRFjq0LYD1jADxrthY7WIr-ZZYcpKz_lqKXpM9Jq5VQhcD6L-7kOv1BaKwPtZN3cS_bYKSmBUwgFQlCG6gIbwQ7VIY1QZCzYe8kcmzSxs1zHsPiF7HBttrnYZrLikhawreey_qrqTAx4cKNCsKcGZsWlC_7zIHXpODgovaUapsZs9oBrRYIxbCxsMpGC2P_f3mGcEXIxrYufO427yDD9CXZjBYnO2FttAp-Gr8RaLEw0Za_TmjnEgqKAAVeoqvg2kON2MMV7h0Jb73OcMZE9Xus_GmJ9UxYi_YQ7-P39hJmPV40ZBKvU6k4rS3Y=', 'text': 'Strategic Base Building'}, {'link': 'https://alb.reddit.com/cr?z=gAAAAABkR5DFGtl-Gl83JiZpiEwud9HwIv1xFiNdKSredv1hN-zEuVTj7mGGAlE3mv36fhRr0Qt3ePKnEmQrNITL2WKLZq3aSOi7EbdKZVw3KTupAyqFGvw69D7EHJM6f7ni9EUHbB546UMl3wamojw5mQ7vNFESl5aFkGoBLj4FqOnrHawxSGVxA-OozSuygDDlr_CZPD10IWSxRqq4y7YwNH25Cf42JAlNsnPDN72VIizRCZxhV5PQbCAHYRFjq0LYD1jADxrthY7WIr-ZZYcpKz_lqKXpM9Jq5VQhcD6L-7kOv1BaKwPtZN3cS_bYKSmBUwgFQlCG6gIbwQ7VIY1QZCzYe8kcmzSxs1zHsPiF7HBttrnYZrLikhawreey_qrqTAx4cKNCsKcGZsWlC_7zIHXpODgovaUapsZs9oBrRYIxbCxsMpGC2P_f3mGcEXIxrYufO427yDD9CXZjBYnO2FttAp-Gr8RaLEw0Za_TmjnEgqKAAVeoqvg2kON2MMV7h0Jb73OcMZE9Xus_GmJ9UxYi_YQ7-P39hJmPV40ZBKvU6k4rS3Y=', 'text': 'u/HoodedHorse'}, {'link': 'https://www.reddit.com/user/HoodedHorse/comments/10t0q5e/strategic_base_building/?instanceId=t3_z%3DgAAAAABkR5DF39PqWCy79_vBKR89z8nLyLt0LTIBbC8M2_2jHUEGR4N4jwZFhn7HHgzVOeKrmlcCZ-B_JGeyLGIpCFDx8Sl5DSKW8_wRBsxJ0bPfxuIq_dtY9Bw18MxadOoWau7meomPzDDr6ngctWM11EBbVzvy_1ONKV8h23KziKmyy1hfHpdMbM0H38ylCigEZOeRMJF1rbttek_bfgaGV-2s-dQgdQH9Ln0GqoHANXcmPRrwNxI5AjBjhnt8mwhsVh9rS3vi40OK0L2-LCgi-5kjs36alExS68m1e8cbuG2Liy4VLesU2lle2vMhNGKYcZ5IEgiXPFgvzgMxRIXWAY3yl0UC8MgUT5H8YZRKEisdvsEF5FNXkSpVjeChkJpV5Vl2VF2Iuo6u32EXdgFau-nq0_cldrkxT0IDh8zADTQd4e1-qiQ%3D', 'text': ''}], 'rest': ['store.steampowered.com', 'View More'], 'sub_reddit': None, 'title': 'Strategic Base Building', 'up_votes': '2.4k', 'user': 'u/HoodedHorse'}\n",
            "{'comments': '290 Comments', 'excerpt': None, 'links': [{'link': 'https://www.reddit.com/r/oddlyterrifying/', 'text': '290 Comments'}, {'link': 'https://www.reddit.com/r/oddlyterrifying/', 'text': 'Ai Generated Pizza Commercial'}, {'link': 'https://www.reddit.com/user/AlarmedMedium9969/', 'text': 'u/AlarmedMedium9969'}, {'link': 'https://www.reddit.com/r/oddlyterrifying/comments/12y93l4/ai_generated_pizza_commercial/', 'text': 'r/oddlyterrifying'}, {'link': 'https://www.reddit.com/r/oddlyterrifying/comments/12y93l4/ai_generated_pizza_commercial/', 'text': ''}], 'rest': [], 'sub_reddit': 'r/oddlyterrifying', 'title': 'Ai Generated Pizza Commercial', 'up_votes': '4.6k', 'user': 'u/AlarmedMedium9969'}\n",
            "{'comments': '970 Comments', 'excerpt': None, 'links': [{'link': 'https://www.reddit.com/r/WhitePeopleTwitter/', 'text': '970 Comments'}, {'link': 'https://www.reddit.com/r/WhitePeopleTwitter/', 'text': ''}, {'link': 'https://www.reddit.com/user/overpregnant/', 'text': 'What could possibly go wrong?'}, {'link': 'https://www.reddit.com/r/WhitePeopleTwitter/comments/12y4huv/what_could_possibly_go_wrong/', 'text': 'u/overpregnant'}, {'link': 'https://www.reddit.com/r/WhitePeopleTwitter/comments/12y4huv/what_could_possibly_go_wrong/', 'text': 'r/WhitePeopleTwitter'}, {'link': 'https://www.reddit.com/r/WhitePeopleTwitter/comments/12y4huv/what_could_possibly_go_wrong/', 'text': ''}], 'rest': [], 'sub_reddit': 'r/WhitePeopleTwitter', 'title': 'What could possibly go wrong?', 'up_votes': '23.3k', 'user': 'u/overpregnant'}\n",
            "{'comments': '345 Comments', 'excerpt': None, 'links': [{'link': 'https://www.reddit.com/r/HolUp/', 'text': '345 Comments'}, {'link': 'https://www.reddit.com/r/HolUp/', 'text': 'big dong energy '}, {'link': 'https://www.reddit.com/user/ZealousidealJump4493/', 'text': 'Trump being best president.'}, {'link': 'https://www.reddit.com/r/HolUp/comments/12y66f3/trump_being_best_president/', 'text': 'u/ZealousidealJump4493'}, {'link': 'https://www.reddit.com/r/HolUp/?f=flair_name%3A%22big%20dong%20energy%20%3Apepehappy%3A%22', 'text': 'r/HolUp'}, {'link': 'https://www.reddit.com/r/HolUp/comments/12y66f3/trump_being_best_president/', 'text': ''}], 'rest': ['big dong energy '], 'sub_reddit': 'r/HolUp', 'title': 'Trump being best president.', 'up_votes': '11.3k', 'user': 'u/ZealousidealJump4493'}\n",
            "{'comments': '1.5k Comments', 'excerpt': None, 'links': [{'link': 'https://www.reddit.com/r/Grimdank/', 'text': '1.5k Comments'}, {'link': 'https://www.reddit.com/r/Grimdank/', 'text': 'Final day of voting for a Primarch until only one remains. (Top Comment goes)'}, {'link': 'https://www.reddit.com/user/Gibblibits/', 'text': 'u/Gibblibits'}, {'link': 'https://www.reddit.com/r/Grimdank/comments/12xq8fi/final_day_of_voting_for_a_primarch_until_only_one/', 'text': 'r/Grimdank'}, {'link': 'https://www.reddit.com/r/Grimdank/comments/12xq8fi/final_day_of_voting_for_a_primarch_until_only_one/', 'text': ''}], 'rest': [], 'sub_reddit': 'r/Grimdank', 'title': 'Final day of voting for a Primarch until only one remains. (Top Comment goes)', 'up_votes': '5.6k', 'user': 'u/Gibblibits'}\n",
            "{'comments': '614 Comments', 'excerpt': None, 'links': [{'link': 'https://www.reddit.com/r/SquaredCircle/', 'text': '614 Comments'}, {'link': 'https://www.reddit.com/r/SquaredCircle/', 'text': 'Post WWE Raw 4/24/2023 Show Discussion Thread'}, {'link': 'https://www.reddit.com/user/Darren716/', 'text': 'u/Darren716'}, {'link': 'https://www.reddit.com/r/SquaredCircle/comments/12y63c5/post_wwe_raw_4242023_show_discussion_thread/', 'text': 'r/SquaredCircle'}, {'link': 'https://www.reddit.com/r/SquaredCircle/comments/12y63c5/post_wwe_raw_4242023_show_discussion_thread/', 'text': ''}], 'rest': [], 'sub_reddit': 'r/SquaredCircle', 'title': 'Post WWE Raw 4/24/2023 Show Discussion Thread', 'up_votes': '155', 'user': 'u/Darren716'}\n"
          ]
        }
      ],
      "source": [
        "time.sleep(4)\n",
        "for x in islice(rf,15):\n",
        "  print(x)\n",
        "  time.sleep(2*max(1,len(x) * 0.01))"
      ]
    },
    {
      "cell_type": "code",
      "execution_count": 22,
      "metadata": {},
      "outputs": [],
      "source": [
        "e = rf.click_post()"
      ]
    },
    {
      "cell_type": "code",
      "execution_count": 23,
      "metadata": {},
      "outputs": [
        {
          "data": {
            "text/plain": [
              "<selenium.webdriver.remote.webelement.WebElement (session=\"3369447a1ca0fbee88d35049d616e4e9\", element=\"b1687de4-c5bf-4c0b-9b5a-25111d0857ea\")>"
            ]
          },
          "execution_count": 23,
          "metadata": {},
          "output_type": "execute_result"
        }
      ],
      "source": [
        "e"
      ]
    },
    {
      "cell_type": "code",
      "execution_count": 24,
      "metadata": {},
      "outputs": [
        {
          "ename": "WebDriverException",
          "evalue": "Message: disconnected: not connected to DevTools\n  (failed to check if window was closed: disconnected: not connected to DevTools)\n  (Session info: chrome=112.0.5615.138)\nStacktrace:\nBacktrace:\n\tGetHandleVerifier [0x009BDCE3+50899]\n\t(No symbol) [0x0094E111]\n\t(No symbol) [0x00855588]\n\t(No symbol) [0x00847CB6]\n\t(No symbol) [0x008479D9]\n\t(No symbol) [0x00856990]\n\t(No symbol) [0x008ADB9C]\n\t(No symbol) [0x0089B6F6]\n\t(No symbol) [0x00877708]\n\t(No symbol) [0x0087886D]\n\tGetHandleVerifier [0x00C23EAE+2566302]\n\tGetHandleVerifier [0x00C592B1+2784417]\n\tGetHandleVerifier [0x00C5327C+2759788]\n\tGetHandleVerifier [0x00A55740+672048]\n\t(No symbol) [0x00958872]\n\t(No symbol) [0x009541C8]\n\t(No symbol) [0x009542AB]\n\t(No symbol) [0x009471B7]\n\tBaseThreadInitThunk [0x77D0FA29+25]\n\tRtlGetAppContainerNamedObjectPath [0x77EB7A9E+286]\n\tRtlGetAppContainerNamedObjectPath [0x77EB7A6E+238]\n",
          "output_type": "error",
          "traceback": [
            "\u001b[1;31m---------------------------------------------------------------------------\u001b[0m",
            "\u001b[1;31mWebDriverException\u001b[0m                        Traceback (most recent call last)",
            "\u001b[1;32mc:\\Users\\nasooh\\Desktop\\School_is_cool\\Y5Project\\Surfer\\dev.ipynb Cell 12\u001b[0m in \u001b[0;36m1\n\u001b[1;32m----> <a href='vscode-notebook-cell:/c%3A/Users/nasooh/Desktop/School_is_cool/Y5Project/Surfer/dev.ipynb#X15sZmlsZQ%3D%3D?line=0'>1</a>\u001b[0m run_script(\u001b[39m'\u001b[39;49m\u001b[39mcluster\u001b[39;49m\u001b[39m'\u001b[39;49m)()\n",
            "\u001b[1;32mc:\\Users\\nasooh\\Desktop\\School_is_cool\\Y5Project\\Surfer\\dev.ipynb Cell 12\u001b[0m in \u001b[0;36m1\n\u001b[0;32m     <a href='vscode-notebook-cell:/c%3A/Users/nasooh/Desktop/School_is_cool/Y5Project/Surfer/dev.ipynb#X15sZmlsZQ%3D%3D?line=13'>14</a>\u001b[0m \u001b[39mdef\u001b[39;00m \u001b[39mscript\u001b[39m(\u001b[39m*\u001b[39margs:Any):\n\u001b[0;32m     <a href='vscode-notebook-cell:/c%3A/Users/nasooh/Desktop/School_is_cool/Y5Project/Surfer/dev.ipynb#X15sZmlsZQ%3D%3D?line=14'>15</a>\u001b[0m   script_string \u001b[39m=\u001b[39m get_script(name)(\u001b[39m*\u001b[39margs)\n\u001b[1;32m---> <a href='vscode-notebook-cell:/c%3A/Users/nasooh/Desktop/School_is_cool/Y5Project/Surfer/dev.ipynb#X15sZmlsZQ%3D%3D?line=15'>16</a>\u001b[0m   answer \u001b[39m=\u001b[39m driver\u001b[39m.\u001b[39;49mexecute_script(script_string)\n\u001b[0;32m     <a href='vscode-notebook-cell:/c%3A/Users/nasooh/Desktop/School_is_cool/Y5Project/Surfer/dev.ipynb#X15sZmlsZQ%3D%3D?line=16'>17</a>\u001b[0m   \u001b[39mif\u001b[39;00m verbose:\n\u001b[0;32m     <a href='vscode-notebook-cell:/c%3A/Users/nasooh/Desktop/School_is_cool/Y5Project/Surfer/dev.ipynb#X15sZmlsZQ%3D%3D?line=17'>18</a>\u001b[0m     \u001b[39mprint\u001b[39m(\u001b[39m'\u001b[39m\u001b[39mscript_string: \u001b[39m\u001b[39m'\u001b[39m,script_string,\u001b[39m'\u001b[39m\u001b[39m Answer: \u001b[39m\u001b[39m'\u001b[39m, answer)\n",
            "File \u001b[1;32m~\\AppData\\Roaming\\Python\\Python310\\site-packages\\selenium\\webdriver\\remote\\webdriver.py:500\u001b[0m, in \u001b[0;36mWebDriver.execute_script\u001b[1;34m(self, script, *args)\u001b[0m\n\u001b[0;32m    497\u001b[0m converted_args \u001b[39m=\u001b[39m \u001b[39mlist\u001b[39m(args)\n\u001b[0;32m    498\u001b[0m command \u001b[39m=\u001b[39m Command\u001b[39m.\u001b[39mW3C_EXECUTE_SCRIPT\n\u001b[1;32m--> 500\u001b[0m \u001b[39mreturn\u001b[39;00m \u001b[39mself\u001b[39;49m\u001b[39m.\u001b[39;49mexecute(command, {\u001b[39m\"\u001b[39;49m\u001b[39mscript\u001b[39;49m\u001b[39m\"\u001b[39;49m: script, \u001b[39m\"\u001b[39;49m\u001b[39margs\u001b[39;49m\u001b[39m\"\u001b[39;49m: converted_args})[\u001b[39m\"\u001b[39m\u001b[39mvalue\u001b[39m\u001b[39m\"\u001b[39m]\n",
            "File \u001b[1;32m~\\AppData\\Roaming\\Python\\Python310\\site-packages\\selenium\\webdriver\\remote\\webdriver.py:440\u001b[0m, in \u001b[0;36mWebDriver.execute\u001b[1;34m(self, driver_command, params)\u001b[0m\n\u001b[0;32m    438\u001b[0m response \u001b[39m=\u001b[39m \u001b[39mself\u001b[39m\u001b[39m.\u001b[39mcommand_executor\u001b[39m.\u001b[39mexecute(driver_command, params)\n\u001b[0;32m    439\u001b[0m \u001b[39mif\u001b[39;00m response:\n\u001b[1;32m--> 440\u001b[0m     \u001b[39mself\u001b[39;49m\u001b[39m.\u001b[39;49merror_handler\u001b[39m.\u001b[39;49mcheck_response(response)\n\u001b[0;32m    441\u001b[0m     response[\u001b[39m\"\u001b[39m\u001b[39mvalue\u001b[39m\u001b[39m\"\u001b[39m] \u001b[39m=\u001b[39m \u001b[39mself\u001b[39m\u001b[39m.\u001b[39m_unwrap_value(response\u001b[39m.\u001b[39mget(\u001b[39m\"\u001b[39m\u001b[39mvalue\u001b[39m\u001b[39m\"\u001b[39m, \u001b[39mNone\u001b[39;00m))\n\u001b[0;32m    442\u001b[0m     \u001b[39mreturn\u001b[39;00m response\n",
            "File \u001b[1;32m~\\AppData\\Roaming\\Python\\Python310\\site-packages\\selenium\\webdriver\\remote\\errorhandler.py:245\u001b[0m, in \u001b[0;36mErrorHandler.check_response\u001b[1;34m(self, response)\u001b[0m\n\u001b[0;32m    243\u001b[0m         alert_text \u001b[39m=\u001b[39m value[\u001b[39m\"\u001b[39m\u001b[39malert\u001b[39m\u001b[39m\"\u001b[39m]\u001b[39m.\u001b[39mget(\u001b[39m\"\u001b[39m\u001b[39mtext\u001b[39m\u001b[39m\"\u001b[39m)\n\u001b[0;32m    244\u001b[0m     \u001b[39mraise\u001b[39;00m exception_class(message, screen, stacktrace, alert_text)  \u001b[39m# type: ignore[call-arg]  # mypy is not smart enough here\u001b[39;00m\n\u001b[1;32m--> 245\u001b[0m \u001b[39mraise\u001b[39;00m exception_class(message, screen, stacktrace)\n",
            "\u001b[1;31mWebDriverException\u001b[0m: Message: disconnected: not connected to DevTools\n  (failed to check if window was closed: disconnected: not connected to DevTools)\n  (Session info: chrome=112.0.5615.138)\nStacktrace:\nBacktrace:\n\tGetHandleVerifier [0x009BDCE3+50899]\n\t(No symbol) [0x0094E111]\n\t(No symbol) [0x00855588]\n\t(No symbol) [0x00847CB6]\n\t(No symbol) [0x008479D9]\n\t(No symbol) [0x00856990]\n\t(No symbol) [0x008ADB9C]\n\t(No symbol) [0x0089B6F6]\n\t(No symbol) [0x00877708]\n\t(No symbol) [0x0087886D]\n\tGetHandleVerifier [0x00C23EAE+2566302]\n\tGetHandleVerifier [0x00C592B1+2784417]\n\tGetHandleVerifier [0x00C5327C+2759788]\n\tGetHandleVerifier [0x00A55740+672048]\n\t(No symbol) [0x00958872]\n\t(No symbol) [0x009541C8]\n\t(No symbol) [0x009542AB]\n\t(No symbol) [0x009471B7]\n\tBaseThreadInitThunk [0x77D0FA29+25]\n\tRtlGetAppContainerNamedObjectPath [0x77EB7A9E+286]\n\tRtlGetAppContainerNamedObjectPath [0x77EB7A6E+238]\n"
          ]
        }
      ],
      "source": [
        "run_script('cluster')()"
      ]
    },
    {
      "cell_type": "code",
      "execution_count": 11,
      "metadata": {},
      "outputs": [],
      "source": [
        "# decultter html\n",
        "# Array.from(x.querySelectorAll('*')).map((x,i)=>{\n",
        "#     const cl = Array.from(x.classList)\n",
        "#     const to_remove = cl.filter(x=> !/^[a-z-]+$/.exec(x))\n",
        "#     for (let cls of to_remove) {\n",
        "#         x.classList.remove(cls)\n",
        "#     }\n",
        "#     if (x.className === ''){\n",
        "#         x.removeAttribute('class')\n",
        "#     }\n",
        "# })"
      ]
    }
  ],
  "metadata": {
    "kernelspec": {
      "display_name": "Python 3",
      "language": "python",
      "name": "python3"
    },
    "language_info": {
      "codemirror_mode": {
        "name": "ipython",
        "version": 3
      },
      "file_extension": ".py",
      "mimetype": "text/x-python",
      "name": "python",
      "nbconvert_exporter": "python",
      "pygments_lexer": "ipython3",
      "version": "3.10.7"
    },
    "orig_nbformat": 4
  },
  "nbformat": 4,
  "nbformat_minor": 2
}