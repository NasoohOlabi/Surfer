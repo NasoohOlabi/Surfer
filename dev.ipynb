{
  "cells": [
    {
      "cell_type": "code",
      "execution_count": 1,
      "metadata": {},
      "outputs": [],
      "source": [
        "import os, sys\n",
        "parent_dir = os.path.abspath(os.path.join(os.getcwd(), '../'))\n",
        "if parent_dir not in sys.path:\n",
        "    sys.path.insert(0, parent_dir)"
      ]
    },
    {
      "cell_type": "code",
      "execution_count": 2,
      "metadata": {},
      "outputs": [],
      "source": [
        "from itertools import islice\n",
        "import time"
      ]
    },
    {
      "cell_type": "code",
      "execution_count": 7,
      "metadata": {},
      "outputs": [
        {
          "name": "stderr",
          "output_type": "stream",
          "text": [
            "c:\\Python311\\Lib\\site-packages\\tqdm\\auto.py:21: TqdmWarning: IProgress not found. Please update jupyter and ipywidgets. See https://ipywidgets.readthedocs.io/en/stable/user_install.html\n",
            "  from .autonotebook import tqdm as notebook_tqdm\n",
            "[nltk_data] Downloading package stopwords to\n",
            "[nltk_data]     C:\\Users\\nasoo\\AppData\\Roaming\\nltk_data...\n",
            "[nltk_data]   Package stopwords is already up-to-date!\n"
          ]
        },
        {
          "name": "stdout",
          "output_type": "stream",
          "text": [
            "\n",
            "Setting up Masked Stego\n",
            "\n"
          ]
        },
        {
          "name": "stderr",
          "output_type": "stream",
          "text": [
            "Some weights of the model checkpoint at bert-base-cased were not used when initializing BertForMaskedLM: ['cls.seq_relationship.weight', 'bert.pooler.dense.bias', 'cls.seq_relationship.bias', 'bert.pooler.dense.weight']\n",
            "- This IS expected if you are initializing BertForMaskedLM from the checkpoint of a model trained on another task or with another architecture (e.g. initializing a BertForSequenceClassification model from a BertForPreTraining model).\n",
            "- This IS NOT expected if you are initializing BertForMaskedLM from the checkpoint of a model that you expect to be exactly identical (initializing a BertForSequenceClassification model from a BertForSequenceClassification model).\n"
          ]
        },
        {
          "name": "stdout",
          "output_type": "stream",
          "text": [
            "\n",
            "Setting up Masked Stego Completed\n",
            "\n",
            "\n",
            "Setting up Typoceros\n",
            "\n",
            "('hi, how atre you?', '01001011111')\n",
            "\n",
            "Setting up Typoceros Completed\n",
            "\n"
          ]
        }
      ],
      "source": [
        "from Surfer import GetBrowser,RedditFeed,Feed,ChatGPT,ChatGPTWebsite\n",
        "from Surfer.ScriptRunner import ScriptRunner\n",
        "from files import *\n",
        "from Stegasus import stegasus\n",
        "from Bot import *\n",
        "from Chatter import prompts"
      ]
    },
    {
      "cell_type": "code",
      "execution_count": 8,
      "metadata": {},
      "outputs": [
        {
          "data": {
            "text/plain": [
              "'0011110001110011011101100110011100100000011110000110110101101100011011100111001100111101001000100110100001110100011101000111000000111010001011110010111101110111011101110111011100101110011101110011001100101110011011110111001001100111001011110011001000110000001100000011000000101111011100110111011001100111001000100010000001100110011010010110110001101100001111010010001001101110011011110110111001100101001000100010000001110110011010010110010101110111010000100110111101111000001111010010001000110000001000000011000000100000001100100011010000100000001100100011010000100010001000000111001101110100011100100110111101101011011001010010110101110111011010010110010001110100011010000011110100100010001100010010111000110101001000100000110100001010000010010111001101110100011100100110111101101011011001010011110100100010011000110111010101110010011100100110010101101110011101000100001101101111011011000110111101110010001000100010000001100001011100100110100101100001001011010110100001101001011001000110010001100101011011100011110100100010011101000111001001110101011001010010001000111110000011010000101000001001001111000111000001100001011101000110100000100000011100110111010001110010011011110110101101100101001011010110110001101001011011100110010101100011011000010111000000111101001000100111001001101111011101010110111001100100001000100010000001110011011101000111001001101111011010110110010100101101011011000110100101101110011001010110101001101111011010010110111000111101001000100111001001101111011101010110111001100100001000100000110100001010000010010000100101100100001111010010001001001101001100110010111000110111001101010010000000110001001100110010111000110101011011000011000100110000001011100011010100101101001100010011000100101110001100100011010101001100001100010011001000100000001100010011000000101110001101010110100000111000001011100011001000110101010011000011100100101110001101110011010100100000001100100011000100101110001101110011010100100000001100010011001000100000001100010011001100101110001101010100100000110011001011100011011100110101011110100010001000101111001111100000110100001010001111000010111101110011011101100110011100111110'"
            ]
          },
          "execution_count": 8,
          "metadata": {},
          "output_type": "execute_result"
        }
      ],
      "source": [
        "\n",
        "# Example usage\n",
        "ex = \"svg\"\n",
        "file_path = f'tiny.{ex}'\n",
        "data = ''\n",
        "for chunk in read_file_in_chunks(file_path):\n",
        "    data += chunk\n",
        "data"
      ]
    },
    {
      "cell_type": "code",
      "execution_count": 9,
      "metadata": {},
      "outputs": [],
      "source": [
        "driver = GetBrowser()"
      ]
    },
    {
      "cell_type": "code",
      "execution_count": 10,
      "metadata": {},
      "outputs": [],
      "source": [
        "rf = RedditFeed(driver,skip=False,subreddit='unpopularopinion',newWindow=False)\n",
        "# rf = RedditFeed(driver,skip=True)"
      ]
    },
    {
      "cell_type": "code",
      "execution_count": 11,
      "metadata": {},
      "outputs": [
        {
          "data": {
            "text/plain": [
              "[{'comments': '831 Comments',\n",
              "  'excerpt': 'And have dumped all partners that way. I see nothing wrong with it. I don’t want to have “the talk”, nor hear any sobbing or pleading. The fact that we reached a point where I want out is enough and no special meetings should be held to discuss things. There are no things to be discussed. Respectively if a person wanted to spare my own feelings and show concern by having “the talk” in person, they shouldn’t be breaking up with me in the first place. It seems a bit hypocritical. I don’t mind a simple message of your decision.',\n",
              "  'links': [{'link': 'https://www.reddit.com/user/Mean_Shoulder8320/',\n",
              "    'text': '831 Comments'},\n",
              "   {'link': 'https://www.reddit.com/r/unpopularopinion/comments/15lgwgu/dumping_a_person_via_text_should_not_be_frowned/',\n",
              "    'text': 'And have dumped all partners that way. I see nothing wrong with it. I don’t want to have “the talk”, nor hear any sobbing or pleading. The fact that we reached a point where I want out is enough and no special meetings should be held to discuss things. There are no things to be discussed. Respectively if a person wanted to spare my own feelings and show concern by having “the talk” in person, they shouldn’t be breaking up with me in the first place. It seems a bit hypocritical. I don’t mind a simple message of your decision.'},\n",
              "   {'link': 'https://www.reddit.com/r/unpopularopinion/comments/15lgwgu/dumping_a_person_via_text_should_not_be_frowned/',\n",
              "    'text': 'Dumping a person via text should not be frowned upon. It’s discreet, saves both parties any possible humiliation if done in person and does the job quick. I prefer to be dumped that way.'},\n",
              "   {'link': 'https://www.reddit.com/r/unpopularopinion/comments/15lgwgu/dumping_a_person_via_text_should_not_be_frowned/',\n",
              "    'text': 'u/Mean_Shoulder8320'}],\n",
              "  'rest': [],\n",
              "  'sub_reddit': None,\n",
              "  'title': 'Dumping a person via text should not be frowned upon. It’s discreet, saves both parties any possible humiliation if done in person and does the job quick. I prefer to be dumped that way.',\n",
              "  'up_votes': '1.0k',\n",
              "  'user': 'u/Mean_Shoulder8320'},\n",
              " {'comments': '0 Comments',\n",
              "  'excerpt': None,\n",
              "  'links': [{'link': 'https://www.reddit.com/user/apple/',\n",
              "    'text': '0 Comments'},\n",
              "   {'link': 'https://alb.reddit.com/cr?za=sH7hew-BeKKBQST0j1azgbATY49kQJejd8FAUWUNqKYSSiYteZaeJq0qXgwCDlghzjZbi1Ra93lMX8PSwiZOd-bXDzY0i-KVIaOya4WCb-q_xpkhb47xVPqBfYCEcGHukC74WBxe_7VbmMA7DGht8jQ9oX_dBf3c_nmFY75tD6rAhShTQCisjOrbc7cBZkCSszlkUYDZ7DX86yPJqwXckMjK6OdIAZ4S4fmkK11oFTXB_TIVKq1NN71ZuvFUlS9t29Zq_l_aFUd62GdvZgD4fHRy7fPGJU_rSGn0vVizo4vapSJrwE_XCt6tLkFrYKQm8UnMmLRXvPSuMrJ9Ylr2VqnYsHjJkUebLdu_vmQCPY0rSGeFdWNmB8Uw4YxQJh_OKuBnYWtSvDX2iUm4P7yoKQ&zp=UOaztXHQYN76xCcUOuyVRxB_UHsdJY1Vd1DRWIDVX66rt_AkMNr9ZUIIJM2hH-jrj0bDQ1KOy7lyDKEuigVm1VCXVln398qypWTQXYC7txvKdxSdrqvVUT4tDeF2DUUFO_4LJHTtQtY18O5aQqqRroes1n_hb7tI9AZl5gG-uWb2TyAAAj8Z1TUohQP3L1-fWIHRGzvn0ncFxNY9lM0BluIXC9BAlMnG3-xa_Y8GV7LUJ4cVc1v1JAfr0PgRwwvUQZBgS3pZDqSicYqGAmNc8wR3sXFE7hUgD-oz9VAjizuLg6fe1-3VvRBZyJJS_Loj864rsO8HglD95NHNz9uVqcK4Wk3DF-OxWMp6',\n",
              "    'text': 'Learn More'},\n",
              "   {'link': 'https://www.apple.com/business/enterprise/security?cid=wwa-us-soc-ent-udsw-socl-rddt-cusf-spsplks-cpv-aos-dsk-adskt-bhv-evrw-prlp-ufnnl-usen-swpd-video-169ar-7m55s-multi-mltftr-na-na-na-na-embeded-link-03628781',\n",
              "    'text': 'apple.com'},\n",
              "   {'link': 'https://alb.reddit.com/cr?za=sH7hew-BeKKBQST0j1azgbATY49kQJejd8FAUWUNqKYSSiYteZaeJq0qXgwCDlghzjZbi1Ra93lMX8PSwiZOd-bXDzY0i-KVIaOya4WCb-q_xpkhb47xVPqBfYCEcGHukC74WBxe_7VbmMA7DGht8jQ9oX_dBf3c_nmFY75tD6rAhShTQCisjOrbc7cBZkCSszlkUYDZ7DX86yPJqwXckMjK6OdIAZ4S4fmkK11oFTXB_TIVKq1NN71ZuvFUlS9t29Zq_l_aFUd62GdvZgD4fHRy7fPGJU_rSGn0vVizo4vapSJrwE_XCt6tLkFrYKQm8UnMmLRXvPSuMrJ9Ylr2VqnYsHjJkUebLdu_vmQCPY0rSGeFdWNmB8Uw4YxQJh_OKuBnYWtSvDX2iUm4P7yoKQ&zp=UOaztXHQYN76xCcUOuyVRxB_UHsdJY1Vd1DRWIDVX66rt_AkMNr9ZUIIJM2hH-jrj0bDQ1KOy7lyDKEuigVm1VCXVln398qypWTQXYC7txvKdxSdrqvVUT4tDeF2DUUFO_4LJHTtQtY18O5aQqqRroes1n_hb7tI9AZl5gG-uWb2TyAAAj8Z1TUohQP3L1-fWIHRGzvn0ncFxNY9lM0BluIXC9BAlMnG3-xa_Y8GV7LUJ4cVc1v1JAfr0PgRwwvUQZBgS3pZDqSicYqGAmNc8wR3sXFE7hUgD-oz9VAjizuLg6fe1-3VvRBZyJJS_Loj864rsO8HglD95NHNz9uVqcK4Wk3DF-OxWMp6',\n",
              "    'text': 'Touch ID, Notify When Left Behind, Find My, MDM remote lock'},\n",
              "   {'link': 'https://alb.reddit.com/cr?za=sH7hew-BeKKBQST0j1azgbATY49kQJejd8FAUWUNqKYSSiYteZaeJq0qXgwCDlghzjZbi1Ra93lMX8PSwiZOd-bXDzY0i-KVIaOya4WCb-q_xpkhb47xVPqBfYCEcGHukC74WBxe_7VbmMA7DGht8jQ9oX_dBf3c_nmFY75tD6rAhShTQCisjOrbc7cBZkCSszlkUYDZ7DX86yPJqwXckMjK6OdIAZ4S4fmkK11oFTXB_TIVKq1NN71ZuvFUlS9t29Zq_l_aFUd62GdvZgD4fHRy7fPGJU_rSGn0vVizo4vapSJrwE_XCt6tLkFrYKQm8UnMmLRXvPSuMrJ9Ylr2VqnYsHjJkUebLdu_vmQCPY0rSGeFdWNmB8Uw4YxQJh_OKuBnYWtSvDX2iUm4P7yoKQ&zp=UOaztXHQYN76xCcUOuyVRxB_UHsdJY1Vd1DRWIDVX66rt_AkMNr9ZUIIJM2hH-jrj0bDQ1KOy7lyDKEuigVm1VCXVln398qypWTQXYC7txvKdxSdrqvVUT4tDeF2DUUFO_4LJHTtQtY18O5aQqqRroes1n_hb7tI9AZl5gG-uWb2TyAAAj8Z1TUohQP3L1-fWIHRGzvn0ncFxNY9lM0BluIXC9BAlMnG3-xa_Y8GV7LUJ4cVc1v1JAfr0PgRwwvUQZBgS3pZDqSicYqGAmNc8wR3sXFE7hUgD-oz9VAjizuLg6fe1-3VvRBZyJJS_Loj864rsO8HglD95NHNz9uVqcK4Wk3DF-OxWMp6',\n",
              "    'text': 'The Underdogs are back in action. This time in search of a missing Mac. See how the team and IT, together with Apple’s suite of security features, step in to save the day.'},\n",
              "   {'link': 'https://www.reddit.com/user/apple/comments/153fvg8/the_underdogs_are_back_in_action_this_time_in/?instanceId=t3_za%3DsH7hew-BeKKBQST0j1azgbATY49kQJejd8FAUWUNqKYSSiYteZaeJq0qXgwCDlghzjZbi1Ra93lMX8PSwiZOd-bXDzY0i-KVIaOya4WCb-q_xpkhb47xVPqBfYCEcGHukC74WBxe_7VbmMA7DGht8jQ9oX_dBf3c_nmFY75tD6rAhShTQCisjOrbc7cBZkCSszlkUYDZ7DX86yPJqwXckMjK6OdIAZ4S4fmkK11oFTXB_TIVKq1NN71ZuvFUlS9t29Zq_l_aFUd62GdvZgD4fHRy7fPGJU_rSGn0vVizo4vapSJrwE_XCt6tLkFrYKQm8UnMmLRXvPSuMrJ9Ylr2VqnYsHjJkUebLdu_vmQCPY0rSGeFdWNmB8Uw4YxQJh_OKuBnYWtSvDX2iUm4P7yoKQ%26zp%3D-9lrVrrCgsQ14AhNESKs64B_l32UVJkg7PBUDaIrsQzKPBH2Ed5kKQ0UnLJdfPYWro-WD3o',\n",
              "    'text': 'u/apple'}],\n",
              "  'rest': ['Touch ID, Notify When Left Behind, Find My, MDM remote lock',\n",
              "   'apple.com',\n",
              "   'Learn More'],\n",
              "  'sub_reddit': None,\n",
              "  'title': 'The Underdogs are back in action. This time in search of a missing Mac. See how the team and IT, together with Apple’s suite of security features, step in to save the day.',\n",
              "  'up_votes': '203',\n",
              "  'user': 'u/apple'},\n",
              " {'comments': '220 Comments',\n",
              "  'excerpt': 'People said cashiers weren\\'t worth a raise and that they could easily be replaced by machines. People also said that if they didn\\'t like the job, they can go somewhere else. Well, 2020 happened, and that\\'s exactly what a lot of cashiers did: they left their jobs for something better. Now stores are switching to all self-checkout registers and people are complaining that \"it\\'s not their job\" to ring their own groceries. Well, people said cashiers were replaceable. They got what they wanted, and they\\'re still mad.\\n\\nEdit: for those wondering who is making these complaints, I used to work self-checkout in a grocery store almost ten years ago, and that was the main complaint that I got about it. Even to this day, I\\'ve seen too many Nextdoor posts about people complaining that they \"have to do their jobs for them\". Having said that, some good points are being made here.',\n",
              "  'links': [{'link': 'https://www.reddit.com/user/theycallmemomo/',\n",
              "    'text': '220 Comments'},\n",
              "   {'link': 'https://www.reddit.com/r/unpopularopinion/comments/15lhj81/dont_get_mad_that_most_stores_are_replacing/',\n",
              "    'text': 'People said cashiers weren\\'t worth a raise and that they could easily be replaced by machines. People also said that if they didn\\'t like the job, they can go somewhere else. Well, 2020 happened, and that\\'s exactly what a lot of cashiers did: they left their jobs for something better. Now stores are switching to all self-checkout registers and people are complaining that \"it\\'s not their job\" to ring their own groceries. Well, people said cashiers were replaceable. They got what they wanted, and they\\'re still mad.\\n\\nEdit: for those wondering who is making these complaints, I used to work self-checkout in a grocery store almost ten years ago, and that was the main complaint that I got about it. Even to this day, I\\'ve seen too many Nextdoor posts about people complaining that they \"have to do their jobs for them\". Having said that, some good points are being made here.'},\n",
              "   {'link': 'https://www.reddit.com/r/unpopularopinion/comments/15lhj81/dont_get_mad_that_most_stores_are_replacing/',\n",
              "    'text': \"Don't get mad that most stores are replacing cashiers with self-checkouts.\"},\n",
              "   {'link': 'https://www.reddit.com/r/unpopularopinion/comments/15lhj81/dont_get_mad_that_most_stores_are_replacing/',\n",
              "    'text': 'u/theycallmemomo'}],\n",
              "  'rest': [],\n",
              "  'sub_reddit': None,\n",
              "  'title': \"Don't get mad that most stores are replacing cashiers with self-checkouts.\",\n",
              "  'up_votes': '173',\n",
              "  'user': 'u/theycallmemomo'},\n",
              " {'comments': '2.6k Comments',\n",
              "  'excerpt': 'If you ask someone to be in your wedding as a bridesmaid or MOH, it is tacky to make them pay for their own bridesmaid dress. While it is true that they could just decline to be in your wedding, you as the bride are asking because you really want these particular people in your party. Your bridesmaids are doing you a favor, even if they are happily participating, and asking someone to be a part of your big day so it can be what you want it to be and then having the audacity to expect them to pay for the necessary attire YOU want is ridiculous and rude.',\n",
              "  'links': [{'link': 'https://www.reddit.com/user/Square-Raspberry560/',\n",
              "    'text': '2.6k Comments'},\n",
              "   {'link': 'https://www.reddit.com/r/unpopularopinion/comments/15kogdc/bridesmaids_shouldnt_pay_for_their_dresses/',\n",
              "    'text': 'If you ask someone to be in your wedding as a bridesmaid or MOH, it is tacky to make them pay for their own bridesmaid dress. While it is true that they could just decline to be in your wedding, you as the bride are asking because you really want these particular people in your party. Your bridesmaids are doing you a favor, even if they are happily participating, and asking someone to be a part of your big day so it can be what you want it to be and then having the audacity to expect them to pay for the necessary attire YOU want is ridiculous and rude.'},\n",
              "   {'link': 'https://www.reddit.com/r/unpopularopinion/comments/15kogdc/bridesmaids_shouldnt_pay_for_their_dresses/',\n",
              "    'text': 'Bridesmaids shouldn’t pay for their dresses'},\n",
              "   {'link': 'https://www.reddit.com/r/unpopularopinion/comments/15kogdc/bridesmaids_shouldnt_pay_for_their_dresses/',\n",
              "    'text': 'u/Square-Raspberry560'}],\n",
              "  'rest': [],\n",
              "  'sub_reddit': None,\n",
              "  'title': 'Bridesmaids shouldn’t pay for their dresses',\n",
              "  'up_votes': '15.2k',\n",
              "  'user': 'u/Square-Raspberry560'},\n",
              " {'comments': '968 Comments',\n",
              "  'excerpt': 'Now look, I get it, students want to get good grades so they can get into a good college and eventually a good career.\\n\\nBut you\\'ll quickly find out in the real world that learning how to think critically is the most important way you can add value to yourself and the world. In an age where we already have instant answers for everybody, that\\'s no longer a differentiator, but how can you provide context and thought leadership on top of those tools? THAT\\'s what employers are looking for, big time.\\n\\nUnfortunately, most young people don\\'t read books much anymore (other than what\\'s required \"for the test\" at school, which is one of the best ways to expand your mind and provide context to a lot of content. Gaming has it\\'s place, but probably the least useful in the working world.\\n\\nI can\\'t tell you how many times I\\'ll work with someone who went to a good college and still can\\'t think critically. They think they can just look it up and that will save them, but it doesn\\'t. They can\\'t think for themselves, so they can\\'t take action and get stuck constantly. They can\\'t be put in front of clients because they don\\'t know how to add value.\\n\\nAnd this isn\\'t just young people, I see it a lot in the older populations as well, this inability to think critically.\\n\\nChange your mindset from \"just tell me if this is going to be on the test\" to really trying to learn the material and apply it, and you\\'ll have a much more successful career.',\n",
              "  'links': [{'link': 'https://www.reddit.com/user/Mdizzle29/',\n",
              "    'text': '968 Comments'},\n",
              "   {'link': 'https://www.reddit.com/r/unpopularopinion/comments/15kvvyj/is_this_going_to_be_on_the_test_is_the_worst/',\n",
              "    'text': 'Now look, I get it, students want to get good grades so they can get into a good college and eventually a good career.\\n\\nBut you\\'ll quickly find out in the real world that learning how to think critically is the most important way you can add value to yourself and the world. In an age where we already have instant answers for everybody, that\\'s no longer a differentiator, but how can you provide context and thought leadership on top of those tools? THAT\\'s what employers are looking for, big time.\\n\\nUnfortunately, most young people don\\'t read books much anymore (other than what\\'s required \"for the test\" at school, which is one of the best ways to expand your mind and provide context to a lot of content. Gaming has it\\'s place, but probably the least useful in the working world.\\n\\nI can\\'t tell you how many times I\\'ll work with someone who went to a good college and still can\\'t think critically. They think they can just look it up and that will save them, but it doesn\\'t. They can\\'t think for themselves, so they can\\'t take action and get stuck constantly. They can\\'t be put in front of clients because they don\\'t know how to add value.\\n\\nAnd this isn\\'t just young people, I see it a lot in the older populations as well, this inability to think critically.\\n\\nChange your mindset from \"just tell me if this is going to be on the test\" to really trying to learn the material and apply it, and you\\'ll have a much more successful career.'},\n",
              "   {'link': 'https://www.reddit.com/r/unpopularopinion/comments/15kvvyj/is_this_going_to_be_on_the_test_is_the_worst/',\n",
              "    'text': '\"Is this going to be on the test?\" is the worst mentality to have as a student'},\n",
              "   {'link': 'https://www.reddit.com/r/unpopularopinion/comments/15kvvyj/is_this_going_to_be_on_the_test_is_the_worst/',\n",
              "    'text': 'u/Mdizzle29'}],\n",
              "  'rest': [],\n",
              "  'sub_reddit': None,\n",
              "  'title': '\"Is this going to be on the test?\" is the worst mentality to have as a student',\n",
              "  'up_votes': '3.6k',\n",
              "  'user': 'u/Mdizzle29'}]"
            ]
          },
          "execution_count": 11,
          "metadata": {},
          "output_type": "execute_result"
        }
      ],
      "source": [
        "posts = []\n",
        "for x in islice(rf,5):\n",
        "  posts.append(x)\n",
        "  time.sleep(2*max(1,len(x) * 0.01))\n",
        "posts"
      ]
    },
    {
      "cell_type": "code",
      "execution_count": 12,
      "metadata": {},
      "outputs": [],
      "source": [
        "gptWebsite = ChatGPTWebsite(driver,skip=False)"
      ]
    },
    {
      "cell_type": "code",
      "execution_count": null,
      "metadata": {},
      "outputs": [],
      "source": [
        "alice = Person('alice','nice',23,'female','Boston','alice@gmail.com')\n",
        "bob = Person('bob','wick',29,'male','Boston','bob@gmail.com')"
      ]
    },
    {
      "cell_type": "code",
      "execution_count": null,
      "metadata": {},
      "outputs": [],
      "source": [
        "actualChat = []"
      ]
    },
    {
      "cell_type": "code",
      "execution_count": null,
      "metadata": {},
      "outputs": [
        {
          "data": {
            "text/plain": [
              "'001111000111001101110110011001110010000001111000011011010110110001101110011100110011110100100010011010000111010001110100011100000011101000101111001011110111011101110111011101110010111001110111001100110000000000000000000000000000000000000000000000000000000000000000000000000000000000000000000000000000'"
            ]
          },
          "execution_count": 93,
          "metadata": {},
          "output_type": "execute_result"
        }
      ],
      "source": [
        "padding = 100 * '0'\n",
        "data = data[:200] + padding\n",
        "data"
      ]
    },
    {
      "cell_type": "code",
      "execution_count": null,
      "metadata": {},
      "outputs": [
        {
          "data": {
            "text/plain": [
              "'Now look, I get it, students want to get good grades so they can get into a good college and eventually a good career.\\n\\nBut you\\'ll quickly find out in the real world that learning how to think critically is the most important way you can add value to yourself and the world. In an age where we already have instant answers for everybody, that\\'s no longer a differentiator, but how can you provide context and thought leadership on top of those tools? THAT\\'s what employers are looking for, big time.\\n\\nUnfortunately, most young people don\\'t read books much anymore (other than what\\'s required \"for the test\" at school, which is one of the best ways to expand your mind and provide context to a lot of content. Gaming has it\\'s place, but probably the least useful in the working world.\\n\\nI can\\'t tell you how many times I\\'ll work with someone who went to a good college and still can\\'t think critically. They think they can just look it up and that will save them, but it doesn\\'t. They can\\'t think for themselves, so they can\\'t take action and get stuck constantly. They can\\'t be put in front of clients because they don\\'t know how to add value.\\n\\nAnd this isn\\'t just young people, I see it a lot in the older populations as well, this inability to think critically.\\n\\nChange your mindset from \"just tell me if this is going to be on the test\" to really trying to learn the material and apply it, and you\\'ll have a much more successful career.'"
            ]
          },
          "execution_count": 92,
          "metadata": {},
          "output_type": "execute_result"
        }
      ],
      "source": [
        "demo_post = posts[2]['excerpt']\n",
        "demo_post"
      ]
    },
    {
      "cell_type": "code",
      "execution_count": null,
      "metadata": {},
      "outputs": [
        {
          "data": {
            "text/plain": [
              "[]"
            ]
          },
          "execution_count": 84,
          "metadata": {},
          "output_type": "execute_result"
        }
      ],
      "source": [
        "actualChat"
      ]
    },
    {
      "cell_type": "code",
      "execution_count": null,
      "metadata": {},
      "outputs": [],
      "source": [
        "time.sleep(10)"
      ]
    },
    {
      "cell_type": "code",
      "execution_count": null,
      "metadata": {},
      "outputs": [],
      "source": [
        "driver.implicitly_wait(2)"
      ]
    },
    {
      "cell_type": "code",
      "execution_count": null,
      "metadata": {},
      "outputs": [],
      "source": [
        "def data_sent(data:str,padding=100):\n",
        "\treturn len(data)< 100 and len(set(data)) == 1"
      ]
    },
    {
      "cell_type": "code",
      "execution_count": null,
      "metadata": {},
      "outputs": [
        {
          "name": "stdout",
          "output_type": "stream",
          "text": [
            "1 The post emphasizes the importance of critical thinking over grades, highlighting its value in the real world and the job market. It encourages learning beyond tests and books to truly add value and excel in one's career.\n",
            "1 The post 😂😂 stresss the importance 💯 of critical 🙁 anslysis over grades, highlightimg its inmportance in the real 👍🏼👍🏼👍🏼 world and the informtion market 👌. It envcourages 🔮🔮🔮 everyone bwyond tests 👍🏽👍🏽 and grades to truly add 👍🏻 vaslue 🎉 and ezcel in one's career.\n",
            "2 Absolutely agree! The post humorously emphasizes critical analysis over grades, underlining its real-world relevance. Encouraging everyone to prioritize value and excel in their careers.\n",
            "2 Absolutely agree! The post humorously emphasizes critical analysis over grades, underlining its real-world relevance. Encouraging everyone to prioritize value and excel in their careers.\n",
            "3 Definitely! The post humorously champions critical thinking over grades, highlighting its real-world significance. Let's all focus on adding value and excelling in our careers.\n",
            "3 Definitely! The poist humorously suggests critical 😋😋 thinking over something, highlighting 😊😊 its real 😊😊😊 - life 👌 significance. Let's all focus 💯💯 on adding 👍🏾 value ✨ and excelling 💯 in our world.\n",
            "4 Absolutely, critical thinking is key! We should aim to apply it in various aspects of life, fostering growth and success. How do you think this mindset can influence decision-making?\n",
            "4 Absolutely, critical thinking is key! We should aim to apply it in various aspects of life, fostering growth and success. How do you think this mindset can influence decision-making?\n",
            "73\n",
            "5 Indeed, decision-making benefits greatly from critical thinking. It helps analyze options, foresee consequences, and make informed choices. How have you seen this mindset shape your own decisions?\n"
          ]
        },
        {
          "ename": "KeyboardInterrupt",
          "evalue": "",
          "output_type": "error",
          "traceback": [
            "\u001b[1;31m---------------------------------------------------------------------------\u001b[0m",
            "\u001b[1;31mKeyboardInterrupt\u001b[0m                         Traceback (most recent call last)",
            "Cell \u001b[1;32mIn[94], line 33\u001b[0m\n\u001b[0;32m     31\u001b[0m \u001b[39mprint\u001b[39m(i,a)\n\u001b[0;32m     32\u001b[0m actualChat\u001b[39m.\u001b[39mappend(a)\n\u001b[1;32m---> 33\u001b[0m a, rem \u001b[39m=\u001b[39m Stegasus\u001b[39m.\u001b[39;49mStegasusEncode(a,rem)\n\u001b[0;32m     34\u001b[0m \u001b[39mprint\u001b[39m(i,a)\n\u001b[0;32m     35\u001b[0m \u001b[39mprint\u001b[39m(\u001b[39mlen\u001b[39m(rem))\n",
            "File \u001b[1;32mc:\\Users\\nasoo\\Desktop\\Y5Project\\Stegasus\\stegasus.py:183\u001b[0m, in \u001b[0;36mStegasusEncode\u001b[1;34m(text, bytes_str)\u001b[0m\n\u001b[0;32m    181\u001b[0m callbacks \u001b[39m=\u001b[39m [bert_callback, emojer_callback,typo_callback]\n\u001b[0;32m    182\u001b[0m p \u001b[39m=\u001b[39m pipe(callbacks, {\u001b[39m\"\u001b[39m\u001b[39mverbose\u001b[39m\u001b[39m\"\u001b[39m: \u001b[39mFalse\u001b[39;00m,\u001b[39m\"\u001b[39m\u001b[39mpipe_verbose\u001b[39m\u001b[39m\"\u001b[39m: \u001b[39mFalse\u001b[39;00m,\u001b[39m\"\u001b[39m\u001b[39mencode\u001b[39m\u001b[39m\"\u001b[39m:\u001b[39mTrue\u001b[39;00m,\u001b[39m\"\u001b[39m\u001b[39mdecode\u001b[39m\u001b[39m\"\u001b[39m:\u001b[39mFalse\u001b[39;00m,\u001b[39m\"\u001b[39m\u001b[39mtest\u001b[39m\u001b[39m\"\u001b[39m:\u001b[39mFalse\u001b[39;00m})\n\u001b[1;32m--> 183\u001b[0m mq, bq \u001b[39m=\u001b[39m p(initial_state)\n\u001b[0;32m    184\u001b[0m bits \u001b[39m=\u001b[39m \u001b[39mlen\u001b[39m(bytes_str) \u001b[39m-\u001b[39m \u001b[39mlen\u001b[39m(bq[\u001b[39m-\u001b[39m\u001b[39m1\u001b[39m])\n\u001b[0;32m    185\u001b[0m \u001b[39mwith\u001b[39;00m \u001b[39mopen\u001b[39m(\u001b[39m'\u001b[39m\u001b[39mstats.tsv\u001b[39m\u001b[39m'\u001b[39m,\u001b[39m'\u001b[39m\u001b[39ma\u001b[39m\u001b[39m'\u001b[39m) \u001b[39mas\u001b[39;00m f:\n",
            "File \u001b[1;32mc:\\Users\\nasoo\\Desktop\\Y5Project\\Stegasus\\stegasus.py:57\u001b[0m, in \u001b[0;36mpipe.<locals>._pipe\u001b[1;34m(state)\u001b[0m\n\u001b[0;32m     56\u001b[0m \u001b[39mdef\u001b[39;00m \u001b[39m_pipe\u001b[39m(state):\n\u001b[1;32m---> 57\u001b[0m     \u001b[39mreturn\u001b[39;00m process_callbacks(state, callbacks, config, index)\n",
            "File \u001b[1;32mc:\\Users\\nasoo\\Desktop\\Y5Project\\Stegasus\\stegasus.py:51\u001b[0m, in \u001b[0;36mpipe.<locals>.process_callbacks\u001b[1;34m(state, callbacks, config, index)\u001b[0m\n\u001b[0;32m     48\u001b[0m     next_callback \u001b[39m=\u001b[39m \u001b[39mlambda\u001b[39;00m s, c, cf\u001b[39m=\u001b[39mconfig: process_callbacks(s, callbacks, cf, index \u001b[39m+\u001b[39m \u001b[39m1\u001b[39m)\n\u001b[0;32m     50\u001b[0m \u001b[39m# Call the callback with the current state, next callback, and config\u001b[39;00m\n\u001b[1;32m---> 51\u001b[0m state \u001b[39m=\u001b[39m callback(state, next_callback, config)\n\u001b[0;32m     53\u001b[0m \u001b[39m# Return the final state\u001b[39;00m\n\u001b[0;32m     54\u001b[0m \u001b[39mreturn\u001b[39;00m state\n",
            "File \u001b[1;32mc:\\Users\\nasoo\\Desktop\\Y5Project\\Stegasus\\stegasus.py:76\u001b[0m, in \u001b[0;36mbert_callback\u001b[1;34m(state, next_callback, config)\u001b[0m\n\u001b[0;32m     73\u001b[0m   bytes_pipe\u001b[39m.\u001b[39mappend(stega_bert\u001b[39m.\u001b[39mremaining_bytes)\n\u001b[0;32m     75\u001b[0m \u001b[39mif\u001b[39;00m next_callback \u001b[39mis\u001b[39;00m \u001b[39mnot\u001b[39;00m \u001b[39mNone\u001b[39;00m:\n\u001b[1;32m---> 76\u001b[0m     state \u001b[39m=\u001b[39m next_callback(state, next_callback, config)\n\u001b[0;32m     78\u001b[0m \u001b[39mif\u001b[39;00m decode:\n\u001b[0;32m     79\u001b[0m   encoded_text \u001b[39m=\u001b[39m message_pipe\u001b[39m.\u001b[39mpop()\n",
            "File \u001b[1;32mc:\\Users\\nasoo\\Desktop\\Y5Project\\Stegasus\\stegasus.py:48\u001b[0m, in \u001b[0;36mpipe.<locals>.process_callbacks.<locals>.<lambda>\u001b[1;34m(s, c, cf)\u001b[0m\n\u001b[0;32m     46\u001b[0m next_callback \u001b[39m=\u001b[39m \u001b[39mNone\u001b[39;00m\n\u001b[0;32m     47\u001b[0m \u001b[39mif\u001b[39;00m index \u001b[39m<\u001b[39m \u001b[39mlen\u001b[39m(callbacks) \u001b[39m-\u001b[39m \u001b[39m1\u001b[39m:\n\u001b[1;32m---> 48\u001b[0m     next_callback \u001b[39m=\u001b[39m \u001b[39mlambda\u001b[39;00m s, c, cf\u001b[39m=\u001b[39mconfig: process_callbacks(s, callbacks, cf, index \u001b[39m+\u001b[39;49m \u001b[39m1\u001b[39;49m)\n\u001b[0;32m     50\u001b[0m \u001b[39m# Call the callback with the current state, next callback, and config\u001b[39;00m\n\u001b[0;32m     51\u001b[0m state \u001b[39m=\u001b[39m callback(state, next_callback, config)\n",
            "File \u001b[1;32mc:\\Users\\nasoo\\Desktop\\Y5Project\\Stegasus\\stegasus.py:51\u001b[0m, in \u001b[0;36mpipe.<locals>.process_callbacks\u001b[1;34m(state, callbacks, config, index)\u001b[0m\n\u001b[0;32m     48\u001b[0m     next_callback \u001b[39m=\u001b[39m \u001b[39mlambda\u001b[39;00m s, c, cf\u001b[39m=\u001b[39mconfig: process_callbacks(s, callbacks, cf, index \u001b[39m+\u001b[39m \u001b[39m1\u001b[39m)\n\u001b[0;32m     50\u001b[0m \u001b[39m# Call the callback with the current state, next callback, and config\u001b[39;00m\n\u001b[1;32m---> 51\u001b[0m state \u001b[39m=\u001b[39m callback(state, next_callback, config)\n\u001b[0;32m     53\u001b[0m \u001b[39m# Return the final state\u001b[39;00m\n\u001b[0;32m     54\u001b[0m \u001b[39mreturn\u001b[39;00m state\n",
            "File \u001b[1;32mc:\\Users\\nasoo\\Desktop\\Y5Project\\Stegasus\\stegasus.py:109\u001b[0m, in \u001b[0;36memojer_callback\u001b[1;34m(state, next_callback, config)\u001b[0m\n\u001b[0;32m    106\u001b[0m   bytes_pipe\u001b[39m.\u001b[39mappend(rem)\n\u001b[0;32m    108\u001b[0m \u001b[39mif\u001b[39;00m next_callback \u001b[39mis\u001b[39;00m \u001b[39mnot\u001b[39;00m \u001b[39mNone\u001b[39;00m:\n\u001b[1;32m--> 109\u001b[0m     state \u001b[39m=\u001b[39m next_callback(state, next_callback, config)\n\u001b[0;32m    110\u001b[0m \u001b[39melse\u001b[39;00m:\n\u001b[0;32m    111\u001b[0m   \u001b[39mprint\u001b[39m(state)\n",
            "File \u001b[1;32mc:\\Users\\nasoo\\Desktop\\Y5Project\\Stegasus\\stegasus.py:48\u001b[0m, in \u001b[0;36mpipe.<locals>.process_callbacks.<locals>.<lambda>\u001b[1;34m(s, c, cf)\u001b[0m\n\u001b[0;32m     46\u001b[0m next_callback \u001b[39m=\u001b[39m \u001b[39mNone\u001b[39;00m\n\u001b[0;32m     47\u001b[0m \u001b[39mif\u001b[39;00m index \u001b[39m<\u001b[39m \u001b[39mlen\u001b[39m(callbacks) \u001b[39m-\u001b[39m \u001b[39m1\u001b[39m:\n\u001b[1;32m---> 48\u001b[0m     next_callback \u001b[39m=\u001b[39m \u001b[39mlambda\u001b[39;00m s, c, cf\u001b[39m=\u001b[39mconfig: process_callbacks(s, callbacks, cf, index \u001b[39m+\u001b[39;49m \u001b[39m1\u001b[39;49m)\n\u001b[0;32m     50\u001b[0m \u001b[39m# Call the callback with the current state, next callback, and config\u001b[39;00m\n\u001b[0;32m     51\u001b[0m state \u001b[39m=\u001b[39m callback(state, next_callback, config)\n",
            "File \u001b[1;32mc:\\Users\\nasoo\\Desktop\\Y5Project\\Stegasus\\stegasus.py:51\u001b[0m, in \u001b[0;36mpipe.<locals>.process_callbacks\u001b[1;34m(state, callbacks, config, index)\u001b[0m\n\u001b[0;32m     48\u001b[0m     next_callback \u001b[39m=\u001b[39m \u001b[39mlambda\u001b[39;00m s, c, cf\u001b[39m=\u001b[39mconfig: process_callbacks(s, callbacks, cf, index \u001b[39m+\u001b[39m \u001b[39m1\u001b[39m)\n\u001b[0;32m     50\u001b[0m \u001b[39m# Call the callback with the current state, next callback, and config\u001b[39;00m\n\u001b[1;32m---> 51\u001b[0m state \u001b[39m=\u001b[39m callback(state, next_callback, config)\n\u001b[0;32m     53\u001b[0m \u001b[39m# Return the final state\u001b[39;00m\n\u001b[0;32m     54\u001b[0m \u001b[39mreturn\u001b[39;00m state\n",
            "File \u001b[1;32mc:\\Users\\nasoo\\Desktop\\Y5Project\\Stegasus\\stegasus.py:145\u001b[0m, in \u001b[0;36mtypo_callback\u001b[1;34m(state, next_callback, config)\u001b[0m\n\u001b[0;32m    143\u001b[0m x \u001b[39m=\u001b[39m Typo\u001b[39m.\u001b[39mecho(text)\n\u001b[0;32m    144\u001b[0m \u001b[39massert\u001b[39;00m x \u001b[39m==\u001b[39m text\n\u001b[1;32m--> 145\u001b[0m encoded_text, rem \u001b[39m=\u001b[39m Typo\u001b[39m.\u001b[39;49mencode(text,data)\n\u001b[0;32m    147\u001b[0m message_pipe\u001b[39m.\u001b[39mappend(encoded_text)\n\u001b[0;32m    148\u001b[0m bytes_pipe\u001b[39m.\u001b[39mappend(rem)\n",
            "File \u001b[1;32mc:\\Users\\nasoo\\Desktop\\Y5Project\\Stegasus\\TypocerosJar.py:53\u001b[0m, in \u001b[0;36mJavaJarWrapper.encode\u001b[1;34m(self, string, bytes_str)\u001b[0m\n\u001b[0;32m     50\u001b[0m process\u001b[39m.\u001b[39mstdin\u001b[39m.\u001b[39mwrite(bytes_str\u001b[39m.\u001b[39mencode(\u001b[39m\"\u001b[39m\u001b[39mutf-8\u001b[39m\u001b[39m\"\u001b[39m) \u001b[39m+\u001b[39m \u001b[39mb\u001b[39m\u001b[39m\"\u001b[39m\u001b[39m\\n\u001b[39;00m\u001b[39m\"\u001b[39m)\n\u001b[0;32m     51\u001b[0m process\u001b[39m.\u001b[39mstdin\u001b[39m.\u001b[39mflush()\n\u001b[1;32m---> 53\u001b[0m output \u001b[39m=\u001b[39m process\u001b[39m.\u001b[39mstdout\u001b[39m.\u001b[39mreadline()\u001b[39m.\u001b[39mdecode(\u001b[39m\"\u001b[39m\u001b[39mutf-8\u001b[39m\u001b[39m\"\u001b[39m)\u001b[39m.\u001b[39mstrip()\n\u001b[0;32m     54\u001b[0m remaining_bytes \u001b[39m=\u001b[39m process\u001b[39m.\u001b[39mstdout\u001b[39m.\u001b[39mreadline()\u001b[39m.\u001b[39mdecode(\u001b[39m\"\u001b[39m\u001b[39mutf-8\u001b[39m\u001b[39m\"\u001b[39m)\u001b[39m.\u001b[39mstrip()\n\u001b[0;32m     56\u001b[0m \u001b[39mreturn\u001b[39;00m JavaJarWrapper\u001b[39m.\u001b[39mfrom64(output), remaining_bytes\n",
            "\u001b[1;31mKeyboardInterrupt\u001b[0m: "
          ]
        }
      ],
      "source": [
        "aliceChat = gptWebsite.getLandingNewChat()\n",
        "a,_ = aliceChat.ask(prompts.start_conversation_with_post(alice,bob,demo_post))\n",
        "# a = actualChat[0]\n",
        "print(1,a)\n",
        "actualChat.append(a)\n",
        "a, rem = Stegasus.StegasusEncode(a,data)\n",
        "print(1,a)\n",
        "a,bobChat = aliceChat.ask(prompts.startChatReplyPrompt(Message(alice,a)),True)\n",
        "print(2,a)\n",
        "actualChat.append(a)\n",
        "# a, rem = Stegasus.StegasusEncode(a,rem) # alice is sending\n",
        "print(2,a)\n",
        "a,_ = aliceChat.ask(prompts.startChatReplyPrompt(Message(bob,a)))\n",
        "print(3,a)\n",
        "actualChat.append(a)\n",
        "a, rem = Stegasus.StegasusEncode(a,rem)\n",
        "print(3,a)\n",
        "i = 4\n",
        "while not data_sent(rem):\n",
        "\ta,_ = bobChat.ask(prompts.inChatReplyPrompt(Message(alice,a))) \n",
        "\tprint(i,a)\n",
        "\tactualChat.append(a)\n",
        "\t# a, rem = Stegasus.StegasusEncode(a,rem) # alice is sending data\n",
        "\tprint(i,a)\n",
        "\tprint(len(rem))\n",
        "\tif data_sent(rem):\n",
        "\t\tbreak\n",
        "\t# switch\n",
        "\ti += 1\n",
        "\ta,_ = aliceChat.ask(prompts.inChatReplyPrompt(Message(bob,a)))\n",
        "\tprint(i,a)\n",
        "\tactualChat.append(a)\n",
        "\ta, rem = Stegasus.StegasusEncode(a,rem)\n",
        "\tprint(i,a)\n",
        "\tprint(len(rem))\n",
        "\ti +=1"
      ]
    }
  ],
  "metadata": {
    "kernelspec": {
      "display_name": "Python 3",
      "language": "python",
      "name": "python3"
    },
    "language_info": {
      "codemirror_mode": {
        "name": "ipython",
        "version": 3
      },
      "file_extension": ".py",
      "mimetype": "text/x-python",
      "name": "python",
      "nbconvert_exporter": "python",
      "pygments_lexer": "ipython3",
      "version": "3.11.4"
    },
    "orig_nbformat": 4
  },
  "nbformat": 4,
  "nbformat_minor": 2
}
