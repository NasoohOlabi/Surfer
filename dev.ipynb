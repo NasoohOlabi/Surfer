{
  "cells": [
    {
      "cell_type": "code",
      "execution_count": 19,
      "metadata": {},
      "outputs": [],
      "source": [
        "import os, sys\n",
        "parent_dir = os.path.abspath(os.path.join(os.getcwd(), '../'))\n",
        "if parent_dir not in sys.path:\n",
        "    sys.path.insert(0, parent_dir)"
      ]
    },
    {
      "cell_type": "code",
      "execution_count": 20,
      "metadata": {},
      "outputs": [],
      "source": [
        "from itertools import islice\n",
        "import time"
      ]
    },
    {
      "cell_type": "code",
      "execution_count": 21,
      "metadata": {},
      "outputs": [],
      "source": [
        "from Surfer import GetBrowser,RedditFeed,Feed,ChatGPT,ChatGPTWebsite\n",
        "from Surfer.ScriptRunner import ScriptRunner\n",
        "from files import *\n",
        "from Stegasus import stegasus\n",
        "from Bot import *\n",
        "from Chatter import prompts\n",
        "from Surfer.util import uuid"
      ]
    },
    {
      "cell_type": "code",
      "execution_count": 22,
      "metadata": {},
      "outputs": [
        {
          "data": {
            "text/plain": [
              "'0011110001110011011101100110011100100000011110000110110101101100011011100111001100111101001000100110100001110100011101000111000000111010001011110010111101110111011101110111011100101110011101110011001100101110011011110111001001100111001011110011001000110000001100000011000000101111011100110111011001100111001000100010000001100110011010010110110001101100001111010010001001101110011011110110111001100101001000100010000001110110011010010110010101110111010000100110111101111000001111010010001000110000001000000011000000100000001100100011010000100000001100100011010000100010001000000111001101110100011100100110111101101011011001010010110101110111011010010110010001110100011010000011110100100010001100010010111000110101001000100000110100001010000010010111001101110100011100100110111101101011011001010011110100100010011000110111010101110010011100100110010101101110011101000100001101101111011011000110111101110010001000100010000001100001011100100110100101100001001011010110100001101001011001000110010001100101011011100011110100100010011101000111001001110101011001010010001000111110000011010000101000001001001111000111000001100001011101000110100000100000011100110111010001110010011011110110101101100101001011010110110001101001011011100110010101100011011000010111000000111101001000100111001001101111011101010110111001100100001000100010000001110011011101000111001001101111011010110110010100101101011011000110100101101110011001010110101001101111011010010110111000111101001000100111001001101111011101010110111001100100001000100000110100001010000010010000100101100100001111010010001001001101001100110010111000110111001101010010000000110001001100110010111000110101011011000011000100110000001011100011010100101101001100010011000100101110001100100011010101001100001100010011001000100000001100010011000000101110001101010110100000111000001011100011001000110101010011000011100100101110001101110011010100100000001100100011000100101110001101110011010100100000001100010011001000100000001100010011001100101110001101010100100000110011001011100011011100110101011110100010001000101111001111100000110100001010001111000010111101110011011101100110011100111110'"
            ]
          },
          "execution_count": 22,
          "metadata": {},
          "output_type": "execute_result"
        }
      ],
      "source": [
        "# Example usage\n",
        "ex = \"svg\"\n",
        "file_path = f'tiny.{ex}'\n",
        "data = ''\n",
        "for chunk in read_file_in_chunks(file_path):\n",
        "    data += chunk\n",
        "data"
      ]
    },
    {
      "cell_type": "code",
      "execution_count": 23,
      "metadata": {},
      "outputs": [],
      "source": [
        "import random"
      ]
    },
    {
      "cell_type": "code",
      "execution_count": 24,
      "metadata": {},
      "outputs": [],
      "source": [
        "cache = {}"
      ]
    },
    {
      "cell_type": "code",
      "execution_count": 25,
      "metadata": {},
      "outputs": [
        {
          "data": {
            "text/plain": [
              "'MYWpbjDFExmUnwUTCeSY'"
            ]
          },
          "execution_count": 25,
          "metadata": {},
          "output_type": "execute_result"
        }
      ],
      "source": [
        "uuid()"
      ]
    },
    {
      "cell_type": "code",
      "execution_count": 26,
      "metadata": {},
      "outputs": [],
      "source": [
        "class Encoder:\n",
        "\tdef __init__(self,data,dataLog,encodedChatLog):\n",
        "\t\tself.data = data\n",
        "\t\tself.rem = data\n",
        "\t\tself.dataLog = dataLog\n",
        "\t\tself.encodedChatLog = encodedChatLog\n",
        "\t\tself.dataLog.append('')\n",
        "\t\tself.sending_pure_padding = False\n",
        "\n",
        "\tdef done(self):\n",
        "\t\treturn self.sending_pure_padding\n",
        "\n",
        "\tdef __call__(self,text) -> str | None:\n",
        "\t\t# sending pure padding\n",
        "\t\tself.sending_pure_padding = len(self.rem) < 499\n",
        "\t\ta, rem = stegasus.StegasusEncode(a,rem)\n",
        "\t\tself.encodedChatLog.append(a)\n",
        "\t\tself.append(data[len(self[-1]):-len(rem)])\n",
        "\t\treturn a, self.sending_pure_padding\n"
      ]
    },
    {
      "cell_type": "code",
      "execution_count": 27,
      "metadata": {},
      "outputs": [],
      "source": [
        "def openChannelAndSend(data:str\n",
        ", alice = Person('alice','nice',23,'female','Boston','alice@gmail.com')\n",
        ", bob = Person('bob','wick',29,'male','Boston','bob@gmail.com')):\n",
        "\trunLog = []\n",
        "\tcache[uuid()] = runLog\n",
        "\tdata += '1' + ('0' * 500)\n",
        "\trunLog.append(data)\n",
        "\tdef data_sent(data:str,padding=501):\n",
        "\t\treturn len(data)< 100 and len(set(data)) == 1\n",
        "\tdriver = GetBrowser()\n",
        "\trunLog.append(driver)\n",
        "\tdriver.implicitly_wait(2)\n",
        "\trf = RedditFeed(driver,skip=False,subreddit='unpopularopinion',newWindow=False)\n",
        "\trunLog.append(rf)\n",
        "\t# rf = RedditFeed(driver,skip=True)\n",
        "\tposts = []\n",
        "\tfor x in islice(rf,5):\n",
        "\t\tposts.append(x)\n",
        "\t\ttime.sleep(2*max(1,len(x) * 0.01))\n",
        "\trandom.shuffle(posts)\n",
        "\trunLog.append(posts)\n",
        "\ti = 0\n",
        "\twhile i < len(posts) \\\n",
        "\t\tand posts[i]['excerpt'] is not None \\\n",
        "\t\tand posts[i]['excerpt'] != \"\" \\\n",
        "\t\tand posts[i]['title'] is not None \\\n",
        "\t\tand posts[i]['title'] != \"\":\n",
        "\t\ti+=1\n",
        "\trunLog.append(posts)\n",
        "\tgptWebsite = ChatGPTWebsite(driver,skip=False)\n",
        "\trunLog.append(gptWebsite)\n",
        "\ttime.sleep(7)\n",
        "\taliceChatLog = []\n",
        "\trunLog.append(aliceChatLog)\n",
        "\tencodedChatLog = []\n",
        "\trunLog.append(encodedChatLog)\n",
        "\tbobChatLog = []\n",
        "\trunLog.append(bobChatLog)\n",
        "\tpromptLog = []\n",
        "\trunLog.append(promptLog)\n",
        "\tdataLog = []\n",
        "\trunLog.append(dataLog)\n",
        "\tdataLog.append(data)\n",
        "\t\n",
        "\tencoder = Encoder(data,dataLog,encodedChatLog)\n",
        "\n",
        "\t\n",
        "\n",
        "\taliceChat = gptWebsite.getLandingNewChat()\n",
        "\tp = prompts.start_conversation_with_post(alice,bob,posts[i])\n",
        "\tpromptLog.append(p)\n",
        "\ta,_ = aliceChat.ask(p)\n",
        "\taliceChatLog.append(a)\n",
        "\t\n",
        "\ta = encode(a)\n",
        "\n",
        "\ta,bobChat = aliceChat.ask(prompts.startChatReplyPrompt(Message(alice,a)),True)\n",
        "\tbobChatLog.append(a)\n",
        "\t\n",
        "\ta,_ = aliceChat.ask(prompts.startChatReplyPrompt(Message(bob,a)))\n",
        "\taliceChatLog.append(a)\n",
        "\ta = encode(a)\n",
        "\t\n",
        "\twhile True:\n",
        "\t\tif encode.done():\n",
        "\t\t\ta,_ = aliceChat.ask(prompts.endChatReplyPrompt(Message(bob,a)))\n",
        "\t\t\taliceChatLog.append(a)\n",
        "\t\t\ta = encode(a)\n",
        "\t\t\treturn None\n",
        "\n",
        "\t\ta,_ = bobChat.ask(prompts.inChatReplyPrompt(Message(alice,a))) \n",
        "\t\tbobChatLog.append(a)\n",
        "\t\t\n",
        "\t\t# switch\n",
        "\t\t\n",
        "\t\ta,_ = aliceChat.ask(prompts.inChatReplyPrompt(Message(bob,a)))\n",
        "\t\taliceChatLog.append(a)\n",
        "\t\ta = encode(a)"
      ]
    },
    {
      "cell_type": "code",
      "execution_count": 28,
      "metadata": {},
      "outputs": [
        {
          "ename": "KeyboardInterrupt",
          "evalue": "",
          "output_type": "error",
          "traceback": [
            "\u001b[1;31m---------------------------------------------------------------------------\u001b[0m",
            "\u001b[1;31mKeyboardInterrupt\u001b[0m                         Traceback (most recent call last)",
            "Cell \u001b[1;32mIn[28], line 1\u001b[0m\n\u001b[1;32m----> 1\u001b[0m openChannelAndSend(data)\n",
            "Cell \u001b[1;32mIn[27], line 52\u001b[0m, in \u001b[0;36mopenChannelAndSend\u001b[1;34m(data, alice, bob)\u001b[0m\n\u001b[0;32m     50\u001b[0m p \u001b[39m=\u001b[39m prompts\u001b[39m.\u001b[39mstart_conversation_with_post(alice,bob,posts[i])\n\u001b[0;32m     51\u001b[0m promptLog\u001b[39m.\u001b[39mappend(p)\n\u001b[1;32m---> 52\u001b[0m a,_ \u001b[39m=\u001b[39m aliceChat\u001b[39m.\u001b[39;49mask(p)\n\u001b[0;32m     53\u001b[0m aliceChatLog\u001b[39m.\u001b[39mappend(a)\n\u001b[0;32m     55\u001b[0m a \u001b[39m=\u001b[39m encode(a)\n",
            "File \u001b[1;32mc:\\Users\\nasoo\\Desktop\\Y5Project\\Port\\Surfer\\ChatGPTBot\\ChatGPT.py:54\u001b[0m, in \u001b[0;36mChatGPT.ask\u001b[1;34m(self, prompt, newChat)\u001b[0m\n\u001b[0;32m     52\u001b[0m \t\t\u001b[39mself\u001b[39m\u001b[39m.\u001b[39mrun_script(\u001b[39m'\u001b[39m\u001b[39mchat.openai.switch to chat name\u001b[39m\u001b[39m'\u001b[39m)(\u001b[39mself\u001b[39m\u001b[39m.\u001b[39mname)\n\u001b[0;32m     53\u001b[0m \t\ttime\u001b[39m.\u001b[39msleep(\u001b[39m4\u001b[39m)\n\u001b[1;32m---> 54\u001b[0m textarea \u001b[39m=\u001b[39m \u001b[39mself\u001b[39;49m\u001b[39m.\u001b[39;49mdriver\u001b[39m.\u001b[39;49mfind_element(By\u001b[39m.\u001b[39;49mCSS_SELECTOR,\u001b[39m'\u001b[39;49m\u001b[39mtextarea\u001b[39;49m\u001b[39m'\u001b[39;49m)\n\u001b[0;32m     56\u001b[0m JS_ADD_TEXT_TO_INPUT \u001b[39m=\u001b[39m \u001b[39m\"\"\"\u001b[39m\n\u001b[0;32m     57\u001b[0m \u001b[39m\tvar elm = document.querySelector(\u001b[39m\u001b[39m'\u001b[39m\u001b[39mtextarea\u001b[39m\u001b[39m'\u001b[39m\u001b[39m), txt = arguments[0];\u001b[39m\n\u001b[0;32m     58\u001b[0m \u001b[39m\telm.value += txt;\u001b[39m\n\u001b[0;32m     59\u001b[0m \u001b[39m\telm.dispatchEvent(new Event(\u001b[39m\u001b[39m'\u001b[39m\u001b[39mchange\u001b[39m\u001b[39m'\u001b[39m\u001b[39m));\u001b[39m\n\u001b[0;32m     60\u001b[0m \u001b[39m\t\u001b[39m\u001b[39m\"\"\"\u001b[39m\n\u001b[0;32m     61\u001b[0m prompts \u001b[39m=\u001b[39m prompt\u001b[39m.\u001b[39msplit(\u001b[39m'\u001b[39m\u001b[39m\\n\u001b[39;00m\u001b[39m'\u001b[39m)\n",
            "File \u001b[1;32mc:\\Python311\\Lib\\site-packages\\selenium\\webdriver\\remote\\webdriver.py:739\u001b[0m, in \u001b[0;36mWebDriver.find_element\u001b[1;34m(self, by, value)\u001b[0m\n\u001b[0;32m    736\u001b[0m     by \u001b[39m=\u001b[39m By\u001b[39m.\u001b[39mCSS_SELECTOR\n\u001b[0;32m    737\u001b[0m     value \u001b[39m=\u001b[39m \u001b[39mf\u001b[39m\u001b[39m'\u001b[39m\u001b[39m[name=\u001b[39m\u001b[39m\"\u001b[39m\u001b[39m{\u001b[39;00mvalue\u001b[39m}\u001b[39;00m\u001b[39m\"\u001b[39m\u001b[39m]\u001b[39m\u001b[39m'\u001b[39m\n\u001b[1;32m--> 739\u001b[0m \u001b[39mreturn\u001b[39;00m \u001b[39mself\u001b[39;49m\u001b[39m.\u001b[39;49mexecute(Command\u001b[39m.\u001b[39;49mFIND_ELEMENT, {\u001b[39m\"\u001b[39;49m\u001b[39musing\u001b[39;49m\u001b[39m\"\u001b[39;49m: by, \u001b[39m\"\u001b[39;49m\u001b[39mvalue\u001b[39;49m\u001b[39m\"\u001b[39;49m: value})[\u001b[39m\"\u001b[39m\u001b[39mvalue\u001b[39m\u001b[39m\"\u001b[39m]\n",
            "File \u001b[1;32mc:\\Python311\\Lib\\site-packages\\selenium\\webdriver\\remote\\webdriver.py:343\u001b[0m, in \u001b[0;36mWebDriver.execute\u001b[1;34m(self, driver_command, params)\u001b[0m\n\u001b[0;32m    340\u001b[0m     \u001b[39melif\u001b[39;00m \u001b[39m\"\u001b[39m\u001b[39msessionId\u001b[39m\u001b[39m\"\u001b[39m \u001b[39mnot\u001b[39;00m \u001b[39min\u001b[39;00m params:\n\u001b[0;32m    341\u001b[0m         params[\u001b[39m\"\u001b[39m\u001b[39msessionId\u001b[39m\u001b[39m\"\u001b[39m] \u001b[39m=\u001b[39m \u001b[39mself\u001b[39m\u001b[39m.\u001b[39msession_id\n\u001b[1;32m--> 343\u001b[0m response \u001b[39m=\u001b[39m \u001b[39mself\u001b[39;49m\u001b[39m.\u001b[39;49mcommand_executor\u001b[39m.\u001b[39;49mexecute(driver_command, params)\n\u001b[0;32m    344\u001b[0m \u001b[39mif\u001b[39;00m response:\n\u001b[0;32m    345\u001b[0m     \u001b[39mself\u001b[39m\u001b[39m.\u001b[39merror_handler\u001b[39m.\u001b[39mcheck_response(response)\n",
            "File \u001b[1;32mc:\\Python311\\Lib\\site-packages\\selenium\\webdriver\\remote\\remote_connection.py:291\u001b[0m, in \u001b[0;36mRemoteConnection.execute\u001b[1;34m(self, command, params)\u001b[0m\n\u001b[0;32m    289\u001b[0m data \u001b[39m=\u001b[39m utils\u001b[39m.\u001b[39mdump_json(params)\n\u001b[0;32m    290\u001b[0m url \u001b[39m=\u001b[39m \u001b[39mf\u001b[39m\u001b[39m\"\u001b[39m\u001b[39m{\u001b[39;00m\u001b[39mself\u001b[39m\u001b[39m.\u001b[39m_url\u001b[39m}\u001b[39;00m\u001b[39m{\u001b[39;00mpath\u001b[39m}\u001b[39;00m\u001b[39m\"\u001b[39m\n\u001b[1;32m--> 291\u001b[0m \u001b[39mreturn\u001b[39;00m \u001b[39mself\u001b[39;49m\u001b[39m.\u001b[39;49m_request(command_info[\u001b[39m0\u001b[39;49m], url, body\u001b[39m=\u001b[39;49mdata)\n",
            "File \u001b[1;32mc:\\Python311\\Lib\\site-packages\\selenium\\webdriver\\remote\\remote_connection.py:312\u001b[0m, in \u001b[0;36mRemoteConnection._request\u001b[1;34m(self, method, url, body)\u001b[0m\n\u001b[0;32m    309\u001b[0m     body \u001b[39m=\u001b[39m \u001b[39mNone\u001b[39;00m\n\u001b[0;32m    311\u001b[0m \u001b[39mif\u001b[39;00m \u001b[39mself\u001b[39m\u001b[39m.\u001b[39mkeep_alive:\n\u001b[1;32m--> 312\u001b[0m     response \u001b[39m=\u001b[39m \u001b[39mself\u001b[39;49m\u001b[39m.\u001b[39;49m_conn\u001b[39m.\u001b[39;49mrequest(method, url, body\u001b[39m=\u001b[39;49mbody, headers\u001b[39m=\u001b[39;49mheaders)\n\u001b[0;32m    313\u001b[0m     statuscode \u001b[39m=\u001b[39m response\u001b[39m.\u001b[39mstatus\n\u001b[0;32m    314\u001b[0m \u001b[39melse\u001b[39;00m:\n",
            "File \u001b[1;32mc:\\Python311\\Lib\\site-packages\\urllib3\\_request_methods.py:118\u001b[0m, in \u001b[0;36mRequestMethods.request\u001b[1;34m(self, method, url, body, fields, headers, json, **urlopen_kw)\u001b[0m\n\u001b[0;32m    110\u001b[0m     \u001b[39mreturn\u001b[39;00m \u001b[39mself\u001b[39m\u001b[39m.\u001b[39mrequest_encode_url(\n\u001b[0;32m    111\u001b[0m         method,\n\u001b[0;32m    112\u001b[0m         url,\n\u001b[1;32m   (...)\u001b[0m\n\u001b[0;32m    115\u001b[0m         \u001b[39m*\u001b[39m\u001b[39m*\u001b[39murlopen_kw,\n\u001b[0;32m    116\u001b[0m     )\n\u001b[0;32m    117\u001b[0m \u001b[39melse\u001b[39;00m:\n\u001b[1;32m--> 118\u001b[0m     \u001b[39mreturn\u001b[39;00m \u001b[39mself\u001b[39;49m\u001b[39m.\u001b[39;49mrequest_encode_body(\n\u001b[0;32m    119\u001b[0m         method, url, fields\u001b[39m=\u001b[39;49mfields, headers\u001b[39m=\u001b[39;49mheaders, \u001b[39m*\u001b[39;49m\u001b[39m*\u001b[39;49murlopen_kw\n\u001b[0;32m    120\u001b[0m     )\n",
            "File \u001b[1;32mc:\\Python311\\Lib\\site-packages\\urllib3\\_request_methods.py:217\u001b[0m, in \u001b[0;36mRequestMethods.request_encode_body\u001b[1;34m(self, method, url, fields, headers, encode_multipart, multipart_boundary, **urlopen_kw)\u001b[0m\n\u001b[0;32m    213\u001b[0m     extra_kw[\u001b[39m\"\u001b[39m\u001b[39mheaders\u001b[39m\u001b[39m\"\u001b[39m]\u001b[39m.\u001b[39msetdefault(\u001b[39m\"\u001b[39m\u001b[39mContent-Type\u001b[39m\u001b[39m\"\u001b[39m, content_type)\n\u001b[0;32m    215\u001b[0m extra_kw\u001b[39m.\u001b[39mupdate(urlopen_kw)\n\u001b[1;32m--> 217\u001b[0m \u001b[39mreturn\u001b[39;00m \u001b[39mself\u001b[39;49m\u001b[39m.\u001b[39;49murlopen(method, url, \u001b[39m*\u001b[39;49m\u001b[39m*\u001b[39;49mextra_kw)\n",
            "File \u001b[1;32mc:\\Python311\\Lib\\site-packages\\urllib3\\poolmanager.py:443\u001b[0m, in \u001b[0;36mPoolManager.urlopen\u001b[1;34m(self, method, url, redirect, **kw)\u001b[0m\n\u001b[0;32m    441\u001b[0m     response \u001b[39m=\u001b[39m conn\u001b[39m.\u001b[39murlopen(method, url, \u001b[39m*\u001b[39m\u001b[39m*\u001b[39mkw)\n\u001b[0;32m    442\u001b[0m \u001b[39melse\u001b[39;00m:\n\u001b[1;32m--> 443\u001b[0m     response \u001b[39m=\u001b[39m conn\u001b[39m.\u001b[39;49murlopen(method, u\u001b[39m.\u001b[39;49mrequest_uri, \u001b[39m*\u001b[39;49m\u001b[39m*\u001b[39;49mkw)\n\u001b[0;32m    445\u001b[0m redirect_location \u001b[39m=\u001b[39m redirect \u001b[39mand\u001b[39;00m response\u001b[39m.\u001b[39mget_redirect_location()\n\u001b[0;32m    446\u001b[0m \u001b[39mif\u001b[39;00m \u001b[39mnot\u001b[39;00m redirect_location:\n",
            "File \u001b[1;32mc:\\Python311\\Lib\\site-packages\\urllib3\\connectionpool.py:790\u001b[0m, in \u001b[0;36mHTTPConnectionPool.urlopen\u001b[1;34m(self, method, url, body, headers, retries, redirect, assert_same_host, timeout, pool_timeout, release_conn, chunked, body_pos, preload_content, decode_content, **response_kw)\u001b[0m\n\u001b[0;32m    787\u001b[0m response_conn \u001b[39m=\u001b[39m conn \u001b[39mif\u001b[39;00m \u001b[39mnot\u001b[39;00m release_conn \u001b[39melse\u001b[39;00m \u001b[39mNone\u001b[39;00m\n\u001b[0;32m    789\u001b[0m \u001b[39m# Make the request on the HTTPConnection object\u001b[39;00m\n\u001b[1;32m--> 790\u001b[0m response \u001b[39m=\u001b[39m \u001b[39mself\u001b[39;49m\u001b[39m.\u001b[39;49m_make_request(\n\u001b[0;32m    791\u001b[0m     conn,\n\u001b[0;32m    792\u001b[0m     method,\n\u001b[0;32m    793\u001b[0m     url,\n\u001b[0;32m    794\u001b[0m     timeout\u001b[39m=\u001b[39;49mtimeout_obj,\n\u001b[0;32m    795\u001b[0m     body\u001b[39m=\u001b[39;49mbody,\n\u001b[0;32m    796\u001b[0m     headers\u001b[39m=\u001b[39;49mheaders,\n\u001b[0;32m    797\u001b[0m     chunked\u001b[39m=\u001b[39;49mchunked,\n\u001b[0;32m    798\u001b[0m     retries\u001b[39m=\u001b[39;49mretries,\n\u001b[0;32m    799\u001b[0m     response_conn\u001b[39m=\u001b[39;49mresponse_conn,\n\u001b[0;32m    800\u001b[0m     preload_content\u001b[39m=\u001b[39;49mpreload_content,\n\u001b[0;32m    801\u001b[0m     decode_content\u001b[39m=\u001b[39;49mdecode_content,\n\u001b[0;32m    802\u001b[0m     \u001b[39m*\u001b[39;49m\u001b[39m*\u001b[39;49mresponse_kw,\n\u001b[0;32m    803\u001b[0m )\n\u001b[0;32m    805\u001b[0m \u001b[39m# Everything went great!\u001b[39;00m\n\u001b[0;32m    806\u001b[0m clean_exit \u001b[39m=\u001b[39m \u001b[39mTrue\u001b[39;00m\n",
            "File \u001b[1;32mc:\\Python311\\Lib\\site-packages\\urllib3\\connectionpool.py:536\u001b[0m, in \u001b[0;36mHTTPConnectionPool._make_request\u001b[1;34m(self, conn, method, url, body, headers, retries, timeout, chunked, response_conn, preload_content, decode_content, enforce_content_length)\u001b[0m\n\u001b[0;32m    534\u001b[0m \u001b[39m# Receive the response from the server\u001b[39;00m\n\u001b[0;32m    535\u001b[0m \u001b[39mtry\u001b[39;00m:\n\u001b[1;32m--> 536\u001b[0m     response \u001b[39m=\u001b[39m conn\u001b[39m.\u001b[39;49mgetresponse()\n\u001b[0;32m    537\u001b[0m \u001b[39mexcept\u001b[39;00m (BaseSSLError, \u001b[39mOSError\u001b[39;00m) \u001b[39mas\u001b[39;00m e:\n\u001b[0;32m    538\u001b[0m     \u001b[39mself\u001b[39m\u001b[39m.\u001b[39m_raise_timeout(err\u001b[39m=\u001b[39me, url\u001b[39m=\u001b[39murl, timeout_value\u001b[39m=\u001b[39mread_timeout)\n",
            "File \u001b[1;32mc:\\Python311\\Lib\\site-packages\\urllib3\\connection.py:461\u001b[0m, in \u001b[0;36mHTTPConnection.getresponse\u001b[1;34m(self)\u001b[0m\n\u001b[0;32m    458\u001b[0m \u001b[39mfrom\u001b[39;00m \u001b[39m.\u001b[39;00m\u001b[39mresponse\u001b[39;00m \u001b[39mimport\u001b[39;00m HTTPResponse\n\u001b[0;32m    460\u001b[0m \u001b[39m# Get the response from http.client.HTTPConnection\u001b[39;00m\n\u001b[1;32m--> 461\u001b[0m httplib_response \u001b[39m=\u001b[39m \u001b[39msuper\u001b[39;49m()\u001b[39m.\u001b[39;49mgetresponse()\n\u001b[0;32m    463\u001b[0m \u001b[39mtry\u001b[39;00m:\n\u001b[0;32m    464\u001b[0m     assert_header_parsing(httplib_response\u001b[39m.\u001b[39mmsg)\n",
            "File \u001b[1;32mc:\\Python311\\Lib\\http\\client.py:1378\u001b[0m, in \u001b[0;36mHTTPConnection.getresponse\u001b[1;34m(self)\u001b[0m\n\u001b[0;32m   1376\u001b[0m \u001b[39mtry\u001b[39;00m:\n\u001b[0;32m   1377\u001b[0m     \u001b[39mtry\u001b[39;00m:\n\u001b[1;32m-> 1378\u001b[0m         response\u001b[39m.\u001b[39;49mbegin()\n\u001b[0;32m   1379\u001b[0m     \u001b[39mexcept\u001b[39;00m \u001b[39mConnectionError\u001b[39;00m:\n\u001b[0;32m   1380\u001b[0m         \u001b[39mself\u001b[39m\u001b[39m.\u001b[39mclose()\n",
            "File \u001b[1;32mc:\\Python311\\Lib\\http\\client.py:318\u001b[0m, in \u001b[0;36mHTTPResponse.begin\u001b[1;34m(self)\u001b[0m\n\u001b[0;32m    316\u001b[0m \u001b[39m# read until we get a non-100 response\u001b[39;00m\n\u001b[0;32m    317\u001b[0m \u001b[39mwhile\u001b[39;00m \u001b[39mTrue\u001b[39;00m:\n\u001b[1;32m--> 318\u001b[0m     version, status, reason \u001b[39m=\u001b[39m \u001b[39mself\u001b[39;49m\u001b[39m.\u001b[39;49m_read_status()\n\u001b[0;32m    319\u001b[0m     \u001b[39mif\u001b[39;00m status \u001b[39m!=\u001b[39m CONTINUE:\n\u001b[0;32m    320\u001b[0m         \u001b[39mbreak\u001b[39;00m\n",
            "File \u001b[1;32mc:\\Python311\\Lib\\http\\client.py:279\u001b[0m, in \u001b[0;36mHTTPResponse._read_status\u001b[1;34m(self)\u001b[0m\n\u001b[0;32m    278\u001b[0m \u001b[39mdef\u001b[39;00m \u001b[39m_read_status\u001b[39m(\u001b[39mself\u001b[39m):\n\u001b[1;32m--> 279\u001b[0m     line \u001b[39m=\u001b[39m \u001b[39mstr\u001b[39m(\u001b[39mself\u001b[39m\u001b[39m.\u001b[39mfp\u001b[39m.\u001b[39mreadline(_MAXLINE \u001b[39m+\u001b[39m \u001b[39m1\u001b[39m), \u001b[39m\"\u001b[39m\u001b[39miso-8859-1\u001b[39m\u001b[39m\"\u001b[39m)\n\u001b[0;32m    280\u001b[0m     \u001b[39mif\u001b[39;00m \u001b[39mlen\u001b[39m(line) \u001b[39m>\u001b[39m _MAXLINE:\n\u001b[0;32m    281\u001b[0m         \u001b[39mraise\u001b[39;00m LineTooLong(\u001b[39m\"\u001b[39m\u001b[39mstatus line\u001b[39m\u001b[39m\"\u001b[39m)\n",
            "File \u001b[1;32mc:\\Python311\\Lib\\socket.py:706\u001b[0m, in \u001b[0;36mSocketIO.readinto\u001b[1;34m(self, b)\u001b[0m\n\u001b[0;32m    704\u001b[0m \u001b[39mwhile\u001b[39;00m \u001b[39mTrue\u001b[39;00m:\n\u001b[0;32m    705\u001b[0m     \u001b[39mtry\u001b[39;00m:\n\u001b[1;32m--> 706\u001b[0m         \u001b[39mreturn\u001b[39;00m \u001b[39mself\u001b[39;49m\u001b[39m.\u001b[39;49m_sock\u001b[39m.\u001b[39;49mrecv_into(b)\n\u001b[0;32m    707\u001b[0m     \u001b[39mexcept\u001b[39;00m timeout:\n\u001b[0;32m    708\u001b[0m         \u001b[39mself\u001b[39m\u001b[39m.\u001b[39m_timeout_occurred \u001b[39m=\u001b[39m \u001b[39mTrue\u001b[39;00m\n",
            "\u001b[1;31mKeyboardInterrupt\u001b[0m: "
          ]
        }
      ],
      "source": [
        "openChannelAndSend(data)"
      ]
    }
  ],
  "metadata": {
    "kernelspec": {
      "display_name": "Python 3",
      "language": "python",
      "name": "python3"
    },
    "language_info": {
      "codemirror_mode": {
        "name": "ipython",
        "version": 3
      },
      "file_extension": ".py",
      "mimetype": "text/x-python",
      "name": "python",
      "nbconvert_exporter": "python",
      "pygments_lexer": "ipython3",
      "version": "3.11.4"
    },
    "orig_nbformat": 4
  },
  "nbformat": 4,
  "nbformat_minor": 2
}
