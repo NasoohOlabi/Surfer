{
  "cells": [
    {
      "cell_type": "code",
      "execution_count": 1,
      "metadata": {},
      "outputs": [],
      "source": [
        "import time\n",
        "import random\n",
        "from selenium.webdriver.common.by import By\n",
        "from selenium.webdriver.support.wait import WebDriverWait\n",
        "from selenium.webdriver.support import expected_conditions as EC\n",
        "import random\n",
        "import json\n",
        "from selenium import webdriver\n",
        "from selenium.webdriver.common.action_chains import ActionChains\n",
        "import string\n",
        "from itertools import islice\n",
        "from selenium.webdriver.common.keys import Keys\n",
        "# from Feed import Feed\n",
        "from icecream import ic\n",
        "from typing import Iterator, Any, List"
      ]
    },
    {
      "cell_type": "code",
      "execution_count": 2,
      "metadata": {},
      "outputs": [],
      "source": [
        "from Surfer import GetBrowser,RedditFeed,Feed\n",
        "from Surfer.ScriptRunner import ScriptRunner"
      ]
    },
    {
      "cell_type": "code",
      "execution_count": 3,
      "metadata": {},
      "outputs": [],
      "source": [
        "driver = GetBrowser()"
      ]
    },
    {
      "cell_type": "code",
      "execution_count": 4,
      "metadata": {},
      "outputs": [],
      "source": [
        "def uuid():\n",
        "    letters_digits = string.ascii_letters\n",
        "    return ''.join(random.choice(letters_digits) for i in range(20))"
      ]
    },
    {
      "cell_type": "code",
      "execution_count": 5,
      "metadata": {},
      "outputs": [],
      "source": [
        "def N(\n",
        "  mean = 0.5\n",
        "\t, stddev = 0.01\n",
        "\t, bounds = None\n",
        "):\n",
        "\tif bounds:\n",
        "\t\treturn max(bounds[0], min(random.normalvariate(mean, stddev) , bounds[1]))\n",
        "\telse:\n",
        "\t\treturn random.normalvariate(mean, stddev)"
      ]
    },
    {
      "cell_type": "code",
      "execution_count": 6,
      "metadata": {},
      "outputs": [],
      "source": [
        "run_script = ScriptRunner(driver,'./Surfer/scripts/')"
      ]
    },
    {
      "cell_type": "code",
      "execution_count": null,
      "metadata": {},
      "outputs": [],
      "source": [
        "class RedditPostFeed(Feed):\n",
        "\tdef __init__(self, driver:webdriver.Chrome ,handle:str|None=None,verbose=False):\n",
        "\t\tsuper().__init__(name='Reddit Post Feed',driver=driver,handle=handle)\n",
        "\t\t# Store the WebDriver instance\n",
        "\t\tself.verbose = verbose\n",
        "\t\tself.focus()\n",
        "\t\tself.run_script('surfer.listen to clicks')()\n",
        "\t\tself.run_script('reddit.catch first comment',self.verbose)()\n",
        "\n",
        "\tdef __iter__(self) -> Iterator[Any]:\n",
        "\t\twhile True:\n",
        "\t\t\tself.focus()\n",
        "\t\t\tif not self.run_script('surfer.check cursor',verbose=self.verbose)():\n",
        "\t\t\t\tself.run_script('reddit.post.catch first comment',verbose=self.verbose)()\n",
        "\t\t\t\tcontinue\n",
        "\t\t\tself.run_script('surfer.scroll 2 cursor',verbose=self.verbose)(N(bounds=[0,1]),N(bounds=[0,1]),random.randint(1,25)/100)\n",
        "\t\t\tfor i in range(10):\n",
        "\t\t\t\tif self.run_script('surfer.check still scrolling')():\n",
        "\t\t\t\t\ttime.sleep(0.1)\n",
        "\t\t\t\telse:\n",
        "\t\t\t\t\tbreak\n",
        "\t\t\t\tif i == 9:\n",
        "\t\t\t\t\traise Exception('Not finished scrolling')\n",
        "\t\t\tyield self.run_script('reddit.post.parse comment',verbose=self.verbose)()\n",
        "\t\t\tself.run_script('reddit.post.cursor next')()\n",
        "\n",
        "class RedditFeed(Feed):\n",
        "\tdef __init__(self, driver:webdriver.Chrome,skip=True,handle:str|None=None,verbose=False):\n",
        "\t\tsuper().__init__(name='Reddit Feed',handle=handle,driver=driver)\n",
        "\t\tself.verbose = verbose\n",
        "\t\tif not skip:\n",
        "\t\t\tself.driver.get('https://www.reddit.com/')\n",
        "\t\t\tself.handle = self.driver.current_window_handle\n",
        "\t\t\tself.run_script('surfer.listen to clicks')()\n",
        "\t\tself.run_script('reddit.init_reddit',verbose=self.verbose)()\n",
        "\t\n",
        "\n",
        "\tdef __iter__(self) -> Iterator[Any]:\n",
        "\t\twhile True:\n",
        "\t\t\tself.focus()\n",
        "\t\t\tif not self.run_script('surfer.check cursor',verbose=self.verbose)():\n",
        "\t\t\t\tcontinue\n",
        "\t\t\tself.run_script('surfer.scroll 2 cursor',verbose=self.verbose)(N(bounds=[0,1]),N(bounds=[0,1]),random.randint(1,25)/100)\n",
        "\t\t\tfor i in range(10):\n",
        "\t\t\t\tif self.run_script('surfer.check still scrolling')():\n",
        "\t\t\t\t\ttime.sleep(0.1)\n",
        "\t\t\t\telse:\n",
        "\t\t\t\t\tbreak\n",
        "\t\t\t\tif i == 9:\n",
        "\t\t\t\t\traise Exception('Not finished scrolling')\n",
        "\t\t\tyield self.run_script('reddit.parse post',verbose=self.verbose)()\n",
        "\t\t\tself.run_script('surfer.cursor next')()\n",
        "\n",
        "\tdef click_post(self, newTab=True):\n",
        "\t\tfor i in range(10): # 10 retries\n",
        "\t\t\tself.focus()\n",
        "\t\t\tif i == 9:\n",
        "\t\t\t\traise Exception('cursor not present')\n",
        "\t\t\tif not self.run_script('surfer.check cursor',verbose=self.verbose)():\n",
        "\t\t\t\tcontinue\n",
        "\t\t\telse:\n",
        "\t\t\t\tbreak\n",
        "  \n",
        "\t\tid = uuid()\n",
        "\t\tself.run_script('surfer.mark cursor', verbose=self.verbose)(id)\n",
        "\t\t# Find the DOM element to click on\n",
        "\t\tsel = f'.{id}'\n",
        "\t\telement = driver.find_element(By.CSS_SELECTOR, sel)\n",
        "\t\th3 = element.find_element(By.CSS_SELECTOR,'h3')\n",
        "\t\telement = element if h3 is None else h3\n",
        "\t\tactions = ActionChains(driver)\n",
        "\t\tactions \\\n",
        "\t\t\t.click(element) \\\n",
        "\t\t\t.perform()\n",
        "\t\t\t# .key_down(Keys.CONTROL) \\\n",
        "\t\t\t# .key_up(Keys.CONTROL) \\\n",
        "\t\treturn RedditPostFeed(self.driver,self.handle,verbose=self.verbose)\n",
        "\n",
        "\tdef close(self):\n",
        "\t\tself.focus()\n",
        "\t\t# Close the WebDriver instance\n",
        "\t\tself.driver.quit()\n"
      ]
    },
    {
      "cell_type": "code",
      "execution_count": null,
      "metadata": {},
      "outputs": [],
      "source": [
        "rf = RedditFeed(driver,skip=False)\n",
        "# rf = RedditFeed(driver,skip=True)"
      ]
    },
    {
      "cell_type": "code",
      "execution_count": null,
      "metadata": {},
      "outputs": [],
      "source": [
        "# for x in islice(rf,15):\n",
        "#   print(x)\n",
        "#   time.sleep(2*max(1,len(x) * 0.01))"
      ]
    },
    {
      "cell_type": "code",
      "execution_count": null,
      "metadata": {},
      "outputs": [],
      "source": [
        "e = rf.click_post()"
      ]
    },
    {
      "cell_type": "code",
      "execution_count": null,
      "metadata": {},
      "outputs": [],
      "source": [
        "run_script('reddit.post.parse comment')()"
      ]
    },
    {
      "cell_type": "code",
      "execution_count": 9,
      "metadata": {},
      "outputs": [],
      "source": [
        "class ChatGPT():\n",
        "\tdef __init__(self, driver:webdriver.Chrome,skip=True,handle:str|None=None,verbose=False):\n",
        "\t\tself.name = 'GPT'\n",
        "\t\tself.handle = handle\n",
        "\t\tself.driver = driver\n",
        "\t\tself.verbose = verbose\n",
        "\t\tself.run_script = ScriptRunner(driver,'./Surfer/scripts/')\n",
        "\t\tif not skip:\n",
        "\t\t\tself.driver.get('https://chat.openai.com/')\n",
        "\t\t\tself.handle = self.driver.current_window_handle\n",
        "\t\t\tself.run_script('surfer.listen to clicks')()\n",
        "\t\n",
        "\tdef ask(self,prompt:str):\n",
        "\t\ttextarea = self.driver.find_element(By.CSS_SELECTOR,'textarea')\n",
        "\n",
        "\t\tJS_ADD_TEXT_TO_INPUT = \"\"\"\n",
        "\t\t\tvar elm = document.querySelector('textarea'), txt = arguments[0];\n",
        "\t\t\telm.value += txt;\n",
        "\t\t\telm.dispatchEvent(new Event('change'));\n",
        "\t\t\t\"\"\"\n",
        "\t\tprompts = prompt.split('\\n')\n",
        "\t\tfor line in prompts:\n",
        "\t\t\tself.driver.execute_script(JS_ADD_TEXT_TO_INPUT, line)\n",
        "\t\t\ttextarea.send_keys(Keys.SHIFT + Keys.ENTER)\n",
        "\t\t\t\n",
        "\t\tself.driver.find_element(By.CSS_SELECTOR,'textarea + button').click()\n",
        "\t\tsvg_path = 'M20.49 9A9 9 0 0 0 5.64 5.64L1 10m22 4l-4.64 4.36A9 9 0 0 1 3.51 15'\n",
        "\t\tWebDriverWait(self.driver, 30).until(\n",
        "\t\t\tEC.presence_of_element_located((By.CSS_SELECTOR, f'[d=\"{svg_path}\"]'))\n",
        "\t\t)\n",
        "\t\ttime.sleep(5)\n",
        "\t\treturn run_script('chat.openai.get last answer')()\n",
        "\n"
      ]
    },
    {
      "cell_type": "code",
      "execution_count": 10,
      "metadata": {},
      "outputs": [],
      "source": [
        "gpt = ChatGPT(driver,skip=True)"
      ]
    },
    {
      "cell_type": "code",
      "execution_count": 19,
      "metadata": {},
      "outputs": [
        {
          "data": {
            "text/plain": [
              "'No problem at all! Boredom can be persistent sometimes, but let\\'s try to find something engaging for you. Here\\'s another list of activities you can try:\\n\\nMeditate or Practice Mindfulness: Take a few moments to meditate or practice mindfulness. It can help reduce stress and increase focus.\\n\\nOnline Courses or Tutorials: Look for online courses or tutorials on topics you\\'re interested in. There are countless resources available for learning new skills.\\n\\nVirtual Museum or Art Gallery Tours: Explore the world\\'s museums and art galleries from the comfort of your home through virtual tours.\\n\\nStart a Journal or Blog: Write about your thoughts, experiences, or anything that comes to mind. It can be a great way to reflect and express yourself.\\n\\nVolunteer or Help Others: Look for virtual volunteering opportunities or simply help someone you know who may need assistance.\\n\\nPlan a Future Trip: Research and plan your dream vacation or a weekend getaway. It can be fun to envision future adventures.\\n\\nLearn a New Language: There are apps and websites that can help you start learning a new language.\\n\\nDIY Crafts or Projects: Get creative and start a DIY craft or project you\\'ve always wanted to try.\\n\\nPlay with Virtual Pets: Some websites and apps offer virtual pet simulators where you can care for a digital companion.\\n\\nExplore Random Wikipedia Articles: Click on the \"Random article\" button on Wikipedia and explore new topics and information.\\n\\nRemember, sometimes it\\'s okay to simply take a break and relax as well. Boredom can also be an opportunity to clear your mind and recharge. Hopefully, one of these suggestions will catch your interest and help you pass the time in an enjoyable way! 😊'"
            ]
          },
          "execution_count": 19,
          "metadata": {},
          "output_type": "execute_result"
        }
      ],
      "source": [
        "gpt.ask(\"Hi, sorry but I'm so bored right now!\")"
      ]
    }
  ],
  "metadata": {
    "kernelspec": {
      "display_name": "Python 3",
      "language": "python",
      "name": "python3"
    },
    "language_info": {
      "codemirror_mode": {
        "name": "ipython",
        "version": 3
      },
      "file_extension": ".py",
      "mimetype": "text/x-python",
      "name": "python",
      "nbconvert_exporter": "python",
      "pygments_lexer": "ipython3",
      "version": "3.11.4"
    },
    "orig_nbformat": 4
  },
  "nbformat": 4,
  "nbformat_minor": 2
}
