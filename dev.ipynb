{
  "cells": [
    {
      "cell_type": "code",
      "execution_count": 1,
      "metadata": {},
      "outputs": [],
      "source": [
        "import os, sys\n",
        "parent_dir = os.path.abspath(os.path.join(os.getcwd(), '../'))\n",
        "if parent_dir not in sys.path:\n",
        "    sys.path.insert(0, parent_dir)"
      ]
    },
    {
      "cell_type": "code",
      "execution_count": 2,
      "metadata": {},
      "outputs": [],
      "source": [
        "from itertools import islice\n",
        "import time\n",
        "from random import randint\n",
        "import random\n",
        "from typing import List"
      ]
    },
    {
      "cell_type": "code",
      "execution_count": 3,
      "metadata": {},
      "outputs": [
        {
          "name": "stderr",
          "output_type": "stream",
          "text": [
            "c:\\Python311\\Lib\\site-packages\\tqdm\\auto.py:21: TqdmWarning: IProgress not found. Please update jupyter and ipywidgets. See https://ipywidgets.readthedocs.io/en/stable/user_install.html\n",
            "  from .autonotebook import tqdm as notebook_tqdm\n",
            "[nltk_data] Downloading package stopwords to\n",
            "[nltk_data]     C:\\Users\\nasoo\\AppData\\Roaming\\nltk_data...\n",
            "[nltk_data]   Package stopwords is already up-to-date!\n"
          ]
        },
        {
          "name": "stdout",
          "output_type": "stream",
          "text": [
            "\n",
            "Setting up Masked Stego\n",
            "\n"
          ]
        },
        {
          "name": "stderr",
          "output_type": "stream",
          "text": [
            "Some weights of the model checkpoint at bert-base-cased were not used when initializing BertForMaskedLM: ['cls.seq_relationship.weight', 'bert.pooler.dense.bias', 'bert.pooler.dense.weight', 'cls.seq_relationship.bias']\n",
            "- This IS expected if you are initializing BertForMaskedLM from the checkpoint of a model trained on another task or with another architecture (e.g. initializing a BertForSequenceClassification model from a BertForPreTraining model).\n",
            "- This IS NOT expected if you are initializing BertForMaskedLM from the checkpoint of a model that you expect to be exactly identical (initializing a BertForSequenceClassification model from a BertForSequenceClassification model).\n"
          ]
        },
        {
          "name": "stdout",
          "output_type": "stream",
          "text": [
            "\n",
            "Setting up Masked Stego Completed\n",
            "\n",
            "\n",
            "Setting up Typoceros\n",
            "\n",
            "('hi, how atre you?', '01001011111')\n",
            "\n",
            "Setting up Typoceros Completed\n",
            "\n"
          ]
        }
      ],
      "source": [
        "from Surfer import GetBrowser,RedditFeed,Feed,ChatGPT,ChatGPTWebsite\n",
        "from Surfer.ScriptRunner import ScriptRunner\n",
        "from files import *\n",
        "from Stegasus import stegasus\n",
        "from Bot import *\n",
        "from Chatter import prompts\n",
        "from Surfer.util import uuid"
      ]
    },
    {
      "cell_type": "code",
      "execution_count": 4,
      "metadata": {},
      "outputs": [
        {
          "data": {
            "text/plain": [
              "'10001001010100000100111001000111000011010000101000011010000010100000000000000000000000000000110101001001010010000100010001010010000000000000000000000000000001110000000000000000000000000000011100001000000001100000000000000000000000001100010001010010010101111101001100000000000000000000000000001001011100000100100001011001011100110000000000000000000000111101100000000000000000000000001111011000000000010110111001000111011000110011010100000000000000000000000011010110010010010100010001000001010101000000100001011011000000011100101100000000001101001111111100000001101010111010100110101101111111111111110011111000111011010000000011110110110011011101001100000000111010011101010111100000000000000000011100101101001010010000000000010100001100010010101100000000111111111111111111111111000000000000000110110011101101101011011011111111111111101110110011101100000000001110011010111000110001010000000000001000000000010000101000000000111110010010010100011000000000000000100100100001000110000000000011111111111111111111111100000000000000011001111110100011101000011111111100010001111111010000001100000000111001111011110111001110000000000000001100000101000010000000000000001111001101110010100100000000111101110000011111111101000000000000000100000001000000010000000000000001101000001001111110011111111111111111010111110011111101000000000011110110110110011110010100000000000001010000010100000110000000001101110011110101111010110000000000011111001001100010001000000000000100110001001100010011000000000000000101110101011100100111001111111111110011111101010011010010000000000010111000100101001010000000000000000011000000010000001000000000101110011100001010111110000000000001010000000110000011000000000000110101010001100100000000000000000000010110011001100110011001101111111111011011110110111101101100000000000111010001110100011101000000001110110111101101111011010000000011011101110110111101110000000000010010100010110000110110000000000001000100110011001001110000000000000001011010100110101001101010111111111100010111000101110001010000000000010111000101110001011100000000000001000000010000000100000000001101110011010110110110000000000001010001001011100011101000000000111010110001000000000011000000000000100110000101010011011001001110000100100101111010011111011010000000000000000000000000000000000100100101000101010011100100010010101110010000100110000010000010'"
            ]
          },
          "execution_count": 4,
          "metadata": {},
          "output_type": "execute_result"
        }
      ],
      "source": [
        "# Example usage\n",
        "ex = \"png\"\n",
        "file_path = f'micro_rick_roll.{ex}'\n",
        "data = ''\n",
        "for chunk in read_file_in_chunks(file_path):\n",
        "    data += chunk\n",
        "data"
      ]
    },
    {
      "cell_type": "code",
      "execution_count": 5,
      "metadata": {},
      "outputs": [],
      "source": [
        "cache = {}"
      ]
    },
    {
      "cell_type": "code",
      "execution_count": 6,
      "metadata": {},
      "outputs": [],
      "source": [
        "class Encoder:\n",
        "\tdef __init__(self,data,dataLog,encodedChatLog):\n",
        "\t\tself.data = data\n",
        "\t\tself.rem = data\n",
        "\t\tself.dataLog = dataLog\n",
        "\t\tself.encodedChatLog = encodedChatLog\n",
        "\t\tself.dataLog.append('')\n",
        "\t\tself.sending_pure_padding = False\n",
        "\n",
        "\tdef done(self):\n",
        "\t\treturn self.sending_pure_padding \n",
        "\n",
        "\tdef __call__(self,text) -> str:\n",
        "\t\t# sending pure padding\n",
        "\t\tself.sending_pure_padding = len(self.rem) < 499\n",
        "\t\ta, self.rem = stegasus.StegasusEncode(text,self.rem)\n",
        "\t\tself.encodedChatLog.append(a)\n",
        "\t\tself.dataLog.append(data[len(self.dataLog[-1]):-len(self.rem)])\n",
        "\t\treturn a\n"
      ]
    },
    {
      "cell_type": "code",
      "execution_count": 7,
      "metadata": {},
      "outputs": [],
      "source": [
        "# import importlib\n",
        "# importlib.reload(prompts)\n",
        "\n",
        "# backup_post = [p for p in cache['posts'] if not (p['title'] is not None and p['title'] != \"\" and p['excerpt'] is not None and p['excerpt'] != \"\")][0]\n",
        "# a = prompts.inChatReplyPrompt(Message(Person('alice','nice',23,'female','Boston','alice@gmail.com'),'sup dog'),backup_post)\n",
        "# print(a)"
      ]
    },
    {
      "cell_type": "code",
      "execution_count": 8,
      "metadata": {},
      "outputs": [
        {
          "name": "stdout",
          "output_type": "stream",
          "text": [
            "[]\n",
            "[]\n"
          ]
        }
      ],
      "source": [
        "print(list(cache.keys()))\n",
        "# del cache['data']\n",
        "# del cache['driver']\n",
        "# del cache['RedditFeed']\n",
        "# del cache['posts']\n",
        "# del cache['ChatGPTWebsite']\n",
        "# del cache['encodedChatLog']\n",
        "# del cache['chatLog']\n",
        "# del cache['promptLog']\n",
        "# del cache['dataLog']\n",
        "# del cache['aliceChat']\n",
        "# del cache['bobChat']\n",
        "print(list(cache.keys()))"
      ]
    },
    {
      "cell_type": "code",
      "execution_count": 9,
      "metadata": {},
      "outputs": [],
      "source": [
        "def openChannelAndSend(data:str\n",
        ", alice = Person('alice','nice',23,'female','Boston','alice@gmail.com')\n",
        ", bob = Person('bob','wick',29,'male','Boston','bob@gmail.com')):\n",
        "\tdata += '1' + ('0' * 500)\n",
        "\tcache['data'] = data\n",
        "\tif 'driver' in cache:\n",
        "\t\tdriver = cache['driver']\n",
        "\telse:\n",
        "\t\tcache['driver'] = GetBrowser()\n",
        "\t\tdriver = cache['driver']\n",
        "\tdriver.implicitly_wait(2)\n",
        "\tcache['RedditFeed']= cache.get('RedditFeed',RedditFeed(driver,skip=False,subreddit='unpopularopinion',newWindow=False))\n",
        "\trf = cache['RedditFeed'] \n",
        "\t# rf = RedditFeed(driver,skip=True)\n",
        "\tposts = []\n",
        "\tif 'posts' in cache:\n",
        "\t\tposts = cache['posts']\n",
        "\telse:\n",
        "\t\tfor x in islice(rf,15):\n",
        "\t\t\tposts.append(x)\n",
        "\t\t\ttime.sleep(2*max(1,len(x) * 0.01))\n",
        "\t\tposts = [p for p in posts if bool(p['excerpt']) and bool(p['title'])]\n",
        "\t\trandom.shuffle(posts)\n",
        "\t\tcache['posts'] = posts\n",
        "\t\t\n",
        "\tcache['ChatGPTWebsite'] = cache.get('ChatGPTWebsite',ChatGPTWebsite(driver,skip=False))\n",
        "\tgptWebsite = cache['ChatGPTWebsite'] \n",
        "\t\n",
        "\ttime.sleep(7)\n",
        "\t\n",
        "\tencodedChatLog: List[str] = []\n",
        "\tcache['encodedChatLog'] = encodedChatLog\n",
        "\tchatLog: List[Message] = []\n",
        "\tcache['chatLog'] = chatLog\n",
        "\tpromptLog: List[str] = []\n",
        "\tcache['promptLog'] = promptLog\n",
        "\tdataLog: List[str] = []\n",
        "\tcache['dataLog'] = dataLog\n",
        "\t\n",
        "\tencoder = Encoder(data,dataLog,encodedChatLog)\n",
        "\n",
        "\tcache['aliceChat'] = cache.get('aliceChat', gptWebsite.getLandingNewChat())\n",
        "\taliceChat = cache['aliceChat'] \n",
        "\tif len(promptLog) == 0:\n",
        "\t\t# promptLog 0\n",
        "\t\tpromptLog.append(prompts.start_conversation_with_post(alice,bob,posts[randint(0,len(posts)-1)]))\n",
        "\t\n",
        "\tif len(chatLog) == 0:\n",
        "\t\t# chatLog 0\n",
        "\t\tchatLog.append(Message(alice,aliceChat.ask(promptLog[0])))\n",
        "\t\n",
        "\tencoder(chatLog[0].text)\n",
        "\n",
        "\tif 'bobChat' not in cache or len(chatLog) == 1 or len(promptLog) == 1:\n",
        "\t\t# promptLog 1\n",
        "\t\tpromptLog.append(prompts.startChatReplyPrompt(chatLog[0]))\n",
        "\t\ta,bobChat = aliceChat.askNew(promptLog[1])\n",
        "\t\t# chatLog 1\n",
        "\t\tchatLog.append(Message(bob,a))\n",
        "\t\tcache['bobChat'] = bobChat\n",
        "\telse:\n",
        "\t\tbobChat =cache['bobChat']\n",
        "\n",
        "\t# promptLog 2\n",
        "\tpromptLog.append(prompts.startChatReplyPrompt(chatLog[1]))\n",
        "\t# chatLog 2\n",
        "\tchatLog.append(Message(alice, aliceChat.ask(promptLog[2])))\n",
        "\ta = encoder(chatLog[2].text)\n",
        "\t\n",
        "\tcIdx = 2\n",
        "\twhile True:\n",
        "\t\tif encoder.done():\n",
        "\t\t\t# promptLog cIdx+1\n",
        "\t\t\tpromptLog.append(prompts.endChatReplyPrompt(chatLog[cIdx]))\n",
        "\t\t\tcIdx += 1\n",
        "\t\t\t# chatLog cIdx\n",
        "\t\t\tchatLog.append(Message(alice, aliceChat.ask(promptLog[cIdx])))\n",
        "\t\t\ta = encoder(chatLog[cIdx].text)\n",
        "\t\t\treturn None\n",
        "\n",
        "\t\t# promptLog cIdx+1\n",
        "\t\tpromptLog.append(prompts.inChatReplyPrompt(chatLog[cIdx],posts[randint(0,len(posts)-1)]))\n",
        "\t\tcIdx += 1\n",
        "\t\t# chatLog cIdx\n",
        "\t\tchatLog.append(Message(bob, bobChat.ask(promptLog[cIdx])))\n",
        "\t\t\n",
        "\t\t# switch\n",
        "\t\t\n",
        "\t\t# promptLog cIdx+1\n",
        "\t\tpromptLog.append(prompts.inChatReplyPrompt(chatLog[cIdx],posts[randint(0,len(posts)-1)]))\n",
        "\t\tcIdx += 1\n",
        "\t\t# chatLog cIdx\n",
        "\t\tchatLog.append(Message(alice, aliceChat.ask(promptLog[cIdx])))\n",
        "\t\ta = encoder(chatLog[cIdx].text)\n"
      ]
    },
    {
      "cell_type": "code",
      "execution_count": 10,
      "metadata": {},
      "outputs": [
        {
          "name": "stderr",
          "output_type": "stream",
          "text": [
            "WNDPROC return value cannot be converted to LRESULT\n"
          ]
        },
        {
          "ename": "TypeError",
          "evalue": "WPARAM is simple, so must be an int object (got NoneType)",
          "output_type": "error",
          "traceback": [
            "\u001b[1;31m---------------------------------------------------------------------------\u001b[0m",
            "\u001b[1;31mTypeError\u001b[0m                                 Traceback (most recent call last)",
            "\u001b[1;31mTypeError\u001b[0m: WPARAM is simple, so must be an int object (got NoneType)"
          ]
        },
        {
          "name": "stderr",
          "output_type": "stream",
          "text": [
            "WNDPROC return value cannot be converted to LRESULT\n"
          ]
        },
        {
          "ename": "TypeError",
          "evalue": "WPARAM is simple, so must be an int object (got NoneType)",
          "output_type": "error",
          "traceback": [
            "\u001b[1;31m---------------------------------------------------------------------------\u001b[0m",
            "\u001b[1;31mTypeError\u001b[0m                                 Traceback (most recent call last)",
            "\u001b[1;31mTypeError\u001b[0m: WPARAM is simple, so must be an int object (got NoneType)"
          ]
        },
        {
          "name": "stderr",
          "output_type": "stream",
          "text": [
            "WNDPROC return value cannot be converted to LRESULT\n"
          ]
        },
        {
          "ename": "TypeError",
          "evalue": "WPARAM is simple, so must be an int object (got NoneType)",
          "output_type": "error",
          "traceback": [
            "\u001b[1;31m---------------------------------------------------------------------------\u001b[0m",
            "\u001b[1;31mTypeError\u001b[0m                                 Traceback (most recent call last)",
            "\u001b[1;31mTypeError\u001b[0m: WPARAM is simple, so must be an int object (got NoneType)"
          ]
        }
      ],
      "source": [
        "openChannelAndSend(data)"
      ]
    },
    {
      "cell_type": "code",
      "execution_count": null,
      "metadata": {},
      "outputs": [],
      "source": []
    },
    {
      "cell_type": "code",
      "execution_count": null,
      "metadata": {},
      "outputs": [],
      "source": [
        "from json import dumps\n",
        "from json import JSONEncoder\n",
        "import pandas as pd\n",
        "import shutil\n",
        "import json\n",
        "import subprocess\n",
        "import os\n",
        "\n",
        "\n",
        "\n",
        "def augment_stats():\n",
        "  df = pd.read_csv('./stats.tsv',delimiter='\\t')\n",
        "  df['capacity'] = df['capacity'].apply(lambda x : round(100*x) if isinstance(x,float) else x)\n",
        "  df.to_csv('./stats.tsv',sep='\\t',index=False)\n",
        "  dfd = df.describe()\n",
        "  dfd['bits'] = dfd['bits'].apply(lambda a: int(round(a)))\n",
        "  dfd['cover size'] = dfd['cover size'].apply(lambda a: int(round(a)))\n",
        "  dfd['capacity'] = dfd['capacity'].apply(lambda a: int(round(a)))\n",
        "  dfd.to_csv('./stats.stats.tsv',sep='\\t')\n",
        "\n",
        "class MessageEncoder(JSONEncoder):\n",
        "  def default(self, obj):\n",
        "    if isinstance(obj, Message):\n",
        "      return {\n",
        "        'person': f\"{obj.person.first_name} {obj.person.last_name}\",\n",
        "        'text': obj.text,\n",
        "        'time': obj.time.strftime('%Y-%m-%d %H:%M:%S')\n",
        "      }\n",
        "    return super().default(obj)\n",
        "\n",
        "def saveCache(cache=cache):\n",
        "  id = uuid()\n",
        "  dir_path = f'examples/{id}'\n",
        "  os.mkdir(dir_path)\n",
        "\n",
        "  with open(f'{dir_path}/cache.json','w') as f:\n",
        "    f.write(dumps({\n",
        "      'chatLog':cache['chatLog']\n",
        "      , 'encodedChatLog': cache['encodedChatLog']\n",
        "      , 'promptLog': cache['promptLog']\n",
        "      , 'dataLog': cache['dataLog']\n",
        "      , 'data': cache['data']\n",
        "      },cls=MessageEncoder))\n",
        "  augment_stats()\n",
        "  shutil.move('stats.tsv', dir_path+'/stats.tsv')\n",
        "  shutil.move('stats.stats.tsv', dir_path+'/stats.stats.tsv')\n",
        "  shutil.move('steps.log', dir_path+'/steps.log')\n",
        "  shutil.move('pie.log', dir_path+'/pie.log')\n",
        "  render(f'{dir_path}/cache.json')\n",
        "\n",
        "saveCache()\n"
      ]
    },
    {
      "cell_type": "code",
      "execution_count": 72,
      "metadata": {},
      "outputs": [
        {
          "name": "stdout",
          "output_type": "stream",
          "text": [
            "<table>\n",
            "\t<tr>\n",
            "\t\t<td>Dimensions</td>\n",
            "\t\t<td>7 âœ• 7</td>\n",
            "\t</tr>\n",
            "\t<tr>\n",
            "\t\t<td>Size</td>\n",
            "\t\t<td>292B</td>\n",
            "\t</tr>\n",
            "\t<tr>\n",
            "\t\t<td>Pixel Density</td>\n",
            "\t\t<td>25dpi</td>\n",
            "\t</tr>\n",
            "\t<tr>\n",
            "\t\t<td>Bit Depth</td>\n",
            "\t\t<td>32 bit</td>\n",
            "\t</tr>\n",
            "</table>\n",
            "\n",
            "c:\\Users\\nasoo\\Desktop\\Y5Project\\Port\\examples\\ZcEybAIIxHKeeuiqUapd\\cache.json.html\n",
            "Opened c:\\Users\\nasoo\\Desktop\\Y5Project\\Port\\examples\\ZcEybAIIxHKeeuiqUapd\\cache.json.html in the default application.\n"
          ]
        }
      ],
      "source": [
        "def render(path,image=None):\n",
        "  with open(path,'r') as f:\n",
        "    cache = json.loads(f.read())\n",
        "  stats_path = path[:-len('cache.json')]+'stats.tsv'\n",
        "  stats = pd.read_csv(stats_path,delimiter='\\t')\n",
        "  stats_stats = pd.read_csv(path[:-len('cache.json')]+'stats.stats.tsv',delimiter='\\t')\n",
        "  stats_stats.rename(columns={'Unnamed: 0':''},inplace=True)\n",
        "  normal_chat = json.dumps(cache['chatLog'])\n",
        "  encoded_chat = []\n",
        "  aliceChatLog: List[str] = cache['encodedChatLog']\n",
        "  def f(i,m):\n",
        "    m['text'] = aliceChatLog[0]\n",
        "    aliceChatLog.remove(m['text'])\n",
        "    return m\n",
        "  aliceChatLog = list(f(i,m) for i, m in enumerate(cache['chatLog']) if m['person'] == 'alice nice')\n",
        "  bobChatLog = list(m for m in cache['chatLog'] if m['person'] == 'bob wick')\n",
        "  for i in range(max(len(aliceChatLog),len(bobChatLog))):\n",
        "    if i < len(aliceChatLog):\n",
        "      encoded_chat.append(aliceChatLog[i])\n",
        "    if i < len(bobChatLog):\n",
        "      encoded_chat.append(bobChatLog[i])\n",
        "  encoded_chat = json.dumps(encoded_chat)\n",
        "  encoded_chat_data = json.dumps([{'bits':x[0],'cover size':x[1],'capacity':f'{x[2]}%'} for x in stats.to_numpy().tolist()])\n",
        "  summary = stats_stats.to_html(index=False)\n",
        "  image_details = '' \n",
        "  if not image is None:\n",
        "    with open(image+'.html','r') as f:\n",
        "      image_details = f.read()\n",
        "    print(image_details)\n",
        "  image = '' if image is None else f'<img src=\"file://{os.path.abspath(image)}\" style=\"width: fit-content;height: fit-content;scale: 25;margin: 7rem;\"/>'\n",
        "  with open('./chat.template.html','r') as f, open(f'{path}.html','w') as o:\n",
        "    o.write(f.read().replace('$normal_chat',normal_chat)\n",
        "    .replace('$encoded_chat_data',encoded_chat_data)\n",
        "    .replace('$encoded_chat',encoded_chat)\n",
        "    .replace('$summary',summary)\n",
        "    .replace('$image_details',image_details)\n",
        "    .replace('$image',image)\n",
        "    )\n",
        "  file_path = os.path.abspath(f'{path}.html'.replace('/','\\\\'))\n",
        "  print(file_path)\n",
        "  try:\n",
        "      subprocess.Popen(['start', '', file_path], shell=True)\n",
        "      print(f\"Opened {file_path} in the default application.\")\n",
        "  except Exception as e:\n",
        "      print(f\"Error: {e}\")\n",
        "path = 'examples\\ZcEybAIIxHKeeuiqUapd\\cache.json'\n",
        "render(path,'examples\\\\ZcEybAIIxHKeeuiqUapd\\\\micro_rick_roll.png')"
      ]
    },
    {
      "cell_type": "code",
      "execution_count": 69,
      "metadata": {},
      "outputs": [
        {
          "data": {
            "text/html": [
              "<div>\n",
              "<style scoped>\n",
              "    .dataframe tbody tr th:only-of-type {\n",
              "        vertical-align: middle;\n",
              "    }\n",
              "\n",
              "    .dataframe tbody tr th {\n",
              "        vertical-align: top;\n",
              "    }\n",
              "\n",
              "    .dataframe thead th {\n",
              "        text-align: right;\n",
              "    }\n",
              "</style>\n",
              "<table border=\"1\" class=\"dataframe\">\n",
              "  <thead>\n",
              "    <tr style=\"text-align: right;\">\n",
              "      <th></th>\n",
              "      <th></th>\n",
              "      <th>bits</th>\n",
              "      <th>cover size</th>\n",
              "      <th>capacity</th>\n",
              "    </tr>\n",
              "  </thead>\n",
              "  <tbody>\n",
              "    <tr>\n",
              "      <th>0</th>\n",
              "      <td>count</td>\n",
              "      <td>32</td>\n",
              "      <td>32</td>\n",
              "      <td>32</td>\n",
              "    </tr>\n",
              "    <tr>\n",
              "      <th>1</th>\n",
              "      <td>mean</td>\n",
              "      <td>78</td>\n",
              "      <td>201</td>\n",
              "      <td>39</td>\n",
              "    </tr>\n",
              "    <tr>\n",
              "      <th>2</th>\n",
              "      <td>std</td>\n",
              "      <td>16</td>\n",
              "      <td>17</td>\n",
              "      <td>7</td>\n",
              "    </tr>\n",
              "    <tr>\n",
              "      <th>3</th>\n",
              "      <td>min</td>\n",
              "      <td>47</td>\n",
              "      <td>165</td>\n",
              "      <td>25</td>\n",
              "    </tr>\n",
              "    <tr>\n",
              "      <th>4</th>\n",
              "      <td>25%</td>\n",
              "      <td>65</td>\n",
              "      <td>194</td>\n",
              "      <td>33</td>\n",
              "    </tr>\n",
              "    <tr>\n",
              "      <th>5</th>\n",
              "      <td>50%</td>\n",
              "      <td>78</td>\n",
              "      <td>202</td>\n",
              "      <td>38</td>\n",
              "    </tr>\n",
              "    <tr>\n",
              "      <th>6</th>\n",
              "      <td>75%</td>\n",
              "      <td>91</td>\n",
              "      <td>211</td>\n",
              "      <td>43</td>\n",
              "    </tr>\n",
              "    <tr>\n",
              "      <th>7</th>\n",
              "      <td>max</td>\n",
              "      <td>108</td>\n",
              "      <td>260</td>\n",
              "      <td>53</td>\n",
              "    </tr>\n",
              "  </tbody>\n",
              "</table>\n",
              "</div>"
            ],
            "text/plain": [
              "          bits  cover size  capacity\n",
              "0  count    32          32        32\n",
              "1   mean    78         201        39\n",
              "2    std    16          17         7\n",
              "3    min    47         165        25\n",
              "4    25%    65         194        33\n",
              "5    50%    78         202        38\n",
              "6    75%    91         211        43\n",
              "7    max   108         260        53"
            ]
          },
          "execution_count": 69,
          "metadata": {},
          "output_type": "execute_result"
        }
      ],
      "source": [
        "stats_stats = pd.read_csv(path[:-len('cache.json')]+'stats.stats.tsv',delimiter='\\t')\n"
      ]
    },
    {
      "cell_type": "code",
      "execution_count": null,
      "metadata": {},
      "outputs": [],
      "source": []
    }
  ],
  "metadata": {
    "kernelspec": {
      "display_name": "Python 3",
      "language": "python",
      "name": "python3"
    },
    "language_info": {
      "codemirror_mode": {
        "name": "ipython",
        "version": 3
      },
      "file_extension": ".py",
      "mimetype": "text/x-python",
      "name": "python",
      "nbconvert_exporter": "python",
      "pygments_lexer": "ipython3",
      "version": "3.11.4"
    },
    "orig_nbformat": 4
  },
  "nbformat": 4,
  "nbformat_minor": 2
}
