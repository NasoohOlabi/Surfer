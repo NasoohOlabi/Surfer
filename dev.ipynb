{
 "cells": [
  {
   "cell_type": "code",
   "execution_count": null,
   "metadata": {},
   "outputs": [],
   "source": [
    "import time\n",
    "import random\n",
    "from selenium.webdriver.common.by import By\n",
    "from selenium.webdriver.support.wait import WebDriverWait\n",
    "from selenium.webdriver.support import expected_conditions as EC\n",
    "import random\n",
    "import json\n",
    "from selenium import webdriver\n",
    "from selenium.webdriver.common.action_chains import ActionChains\n",
    "import string\n",
    "from itertools import islice\n",
    "from selenium.webdriver.common.keys import Keys\n",
    "# from Feed import Feed\n",
    "from icecream import ic\n",
    "from typing import Iterator, Any, List"
   ]
  },
  {
   "cell_type": "code",
   "execution_count": 21,
   "metadata": {},
   "outputs": [],
   "source": [
    "from Surfer import GetBrowser,RedditFeed,Feed\n",
    "\n",
    "driver = GetBrowser()"
   ]
  },
  {
   "cell_type": "code",
   "execution_count": 22,
   "metadata": {},
   "outputs": [],
   "source": [
    "def uuid():\n",
    "    letters_digits = string.ascii_letters\n",
    "    return ''.join(random.choice(letters_digits) for i in range(20))"
   ]
  },
  {
   "cell_type": "code",
   "execution_count": 23,
   "metadata": {},
   "outputs": [],
   "source": [
    "def get_script(fname:str):\n",
    "  script = ''\n",
    "  with open(f'./scripts/{fname}.js','r') as f:\n",
    "    script = f.read()\n",
    "  script = script.replace('\\n','')\n",
    "  def replacer(*args):\n",
    "    acc = script\n",
    "    for i,x in enumerate(args):\n",
    "      acc = acc.replace('#'+str(i),str(x))\n",
    "    return 'try{' + f'console.log(`{fname}`,JSON.parse(`{json.dumps(args)}`));'+acc+'}catch(err){console.log(`{fname}`,err);}'\n",
    "  return replacer\n",
    "def run_script(name:str,verbose=False):\n",
    "\tdef script(*args:Any):\n",
    "\t\tscript_string = get_script(name)(*args)\n",
    "\t\tanswer = driver.execute_script(script_string)\n",
    "\t\tif verbose:\n",
    "\t\t\tprint('script_string: ',script_string,' Answer: ', answer)\n",
    "\t\treturn answer\n",
    "\treturn script"
   ]
  },
  {
   "cell_type": "code",
   "execution_count": 24,
   "metadata": {},
   "outputs": [],
   "source": [
    "def random_scroll(\n",
    "  mean = 0.5\n",
    "\t, stddev = 0.01\n",
    "):\n",
    "\treturn max(0, min(random.normalvariate(mean, stddev) , 1))"
   ]
  },
  {
   "cell_type": "code",
   "execution_count": 25,
   "metadata": {},
   "outputs": [],
   "source": [
    "class RedditFeed(Feed):\n",
    "\tdef __init__(self, driver,skip=True,verbose=False):\n",
    "\t\tsuper()\n",
    "\t\tself.name = 'Reddit Feed'\n",
    "\t\t# Store the WebDriver instance\n",
    "\t\tself.driver = driver\n",
    "\t\tself.verbose = verbose\n",
    "\t\tif not skip:\n",
    "\t\t\tself.driver.get('https://www.reddit.com/')\n",
    "\n",
    "\t\trun_script('init_reddit',verbose=self.verbose)()\n",
    "\n",
    "\tdef __iter__(self) -> Iterator[Any]:\n",
    "\t\twhile True:\n",
    "\t\t\tif not run_script('check curser',verbose=self.verbose)():\n",
    "\t\t\t\tcontinue\n",
    "\t\t\tyield run_script('parse post',verbose=self.verbose)()\n",
    "\t\t\trun_script('reddit scroll next',verbose=self.verbose)(random_scroll(),random_scroll(),random.randint(1,25)/100)\n",
    "\t\t\twhile run_script('check still scrolling')():\n",
    "\t\t\t\ttime.sleep(0.1)\n",
    "\n",
    "\tdef click_post(self,newTab=True):\n",
    "\t\tid = uuid()\n",
    "\t\trun_script('mark curser',verbose=self.verbose)(id)\n",
    "\t\t# Find the DOM element to click on\n",
    "\t\tsel = f'.{id}'\n",
    "\t\telement = driver.find_element(By.CSS_SELECTOR,sel)\n",
    "  \n",
    "\t\t# Get the dimensions of the element\n",
    "\t\telement_size = element.size\n",
    "\t\telement_location = element.location\n",
    "\n",
    "\t\t# Calculate the x and y coordinates of the random point in the upper center of the element\n",
    "\t\tx = element_location[\"x\"] + element_size[\"width\"] / 2\n",
    "\t\ty = element_location[\"y\"] + random.randint(0, element_size[\"height\"] // 2)\n",
    "\n",
    "\t\t# Move the mouse to the calculated coordinates and click\n",
    "\t\tactions = ActionChains(driver)\n",
    "\t\tX = x - element_location[\"x\"]\n",
    "\t\tY = y - element_location[\"y\"]\n",
    "\t\tic(X)\n",
    "\t\tic(Y)\n",
    "\t\tif newTab:\n",
    "\t\t\tactions.move_to_element_with_offset(element, X, Y) \\\n",
    "\t\t\t\t.key_down(Keys.CONTROL) \\\n",
    "\t\t\t\t.click() \\\n",
    "\t\t\t\t.key_up(Keys.CONTROL) \\\n",
    "\t\t\t\t.perform()\n",
    "\t\telse:\n",
    "\t\t\tactions.move_to_element_with_offset(element, X, Y) \\\n",
    "\t\t\t\t.click() \\\n",
    "\t\t\t\t.perform()\n",
    "\n",
    "\n",
    "\tdef close(self):\n",
    "\t\t# Close the WebDriver instance\n",
    "\t\tself.driver.quit()"
   ]
  },
  {
   "cell_type": "code",
   "execution_count": 26,
   "metadata": {},
   "outputs": [
    {
     "ename": "WebDriverException",
     "evalue": "Message: disconnected: Unable to receive message from renderer\n  (failed to check if window was closed: disconnected: not connected to DevTools)\n  (Session info: chrome=112.0.5615.138)\nStacktrace:\nBacktrace:\n\tGetHandleVerifier [0x0084DCE3+50899]\n\t(No symbol) [0x007DE111]\n\t(No symbol) [0x006E5588]\n\t(No symbol) [0x006D8305]\n\t(No symbol) [0x006D820C]\n\t(No symbol) [0x006D6F06]\n\t(No symbol) [0x006D7668]\n\t(No symbol) [0x006E6D22]\n\t(No symbol) [0x0073E631]\n\t(No symbol) [0x0072B8FC]\n\t(No symbol) [0x0073E01C]\n\t(No symbol) [0x0072B6F6]\n\t(No symbol) [0x00707708]\n\t(No symbol) [0x0070886D]\n\tGetHandleVerifier [0x00AB3EAE+2566302]\n\tGetHandleVerifier [0x00AE92B1+2784417]\n\tGetHandleVerifier [0x00AE327C+2759788]\n\tGetHandleVerifier [0x008E5740+672048]\n\t(No symbol) [0x007E8872]\n\t(No symbol) [0x007E41C8]\n\t(No symbol) [0x007E42AB]\n\t(No symbol) [0x007D71B7]\n\tBaseThreadInitThunk [0x77D0FA29+25]\n\tRtlGetAppContainerNamedObjectPath [0x77EB7A9E+286]\n\tRtlGetAppContainerNamedObjectPath [0x77EB7A6E+238]\n",
     "output_type": "error",
     "traceback": [
      "\u001b[1;31m---------------------------------------------------------------------------\u001b[0m",
      "\u001b[1;31mWebDriverException\u001b[0m                        Traceback (most recent call last)",
      "\u001b[1;32mc:\\Users\\nasooh\\Desktop\\School_is_cool\\Y5Project\\Surfer\\dev.ipynb Cell 7\u001b[0m in \u001b[0;36m1\n\u001b[1;32m----> <a href='vscode-notebook-cell:/c%3A/Users/nasooh/Desktop/School_is_cool/Y5Project/Surfer/dev.ipynb#W6sZmlsZQ%3D%3D?line=0'>1</a>\u001b[0m rf \u001b[39m=\u001b[39m RedditFeed(driver,skip\u001b[39m=\u001b[39;49m\u001b[39mFalse\u001b[39;49;00m)\n",
      "\u001b[1;32mc:\\Users\\nasooh\\Desktop\\School_is_cool\\Y5Project\\Surfer\\dev.ipynb Cell 7\u001b[0m in \u001b[0;36m9\n\u001b[0;32m      <a href='vscode-notebook-cell:/c%3A/Users/nasooh/Desktop/School_is_cool/Y5Project/Surfer/dev.ipynb#W6sZmlsZQ%3D%3D?line=6'>7</a>\u001b[0m \u001b[39mself\u001b[39m\u001b[39m.\u001b[39mverbose \u001b[39m=\u001b[39m verbose\n\u001b[0;32m      <a href='vscode-notebook-cell:/c%3A/Users/nasooh/Desktop/School_is_cool/Y5Project/Surfer/dev.ipynb#W6sZmlsZQ%3D%3D?line=7'>8</a>\u001b[0m \u001b[39mif\u001b[39;00m \u001b[39mnot\u001b[39;00m skip:\n\u001b[1;32m----> <a href='vscode-notebook-cell:/c%3A/Users/nasooh/Desktop/School_is_cool/Y5Project/Surfer/dev.ipynb#W6sZmlsZQ%3D%3D?line=8'>9</a>\u001b[0m \t\u001b[39mself\u001b[39;49m\u001b[39m.\u001b[39;49mdriver\u001b[39m.\u001b[39;49mget(\u001b[39m'\u001b[39;49m\u001b[39mhttps://www.reddit.com/\u001b[39;49m\u001b[39m'\u001b[39;49m)\n\u001b[0;32m     <a href='vscode-notebook-cell:/c%3A/Users/nasooh/Desktop/School_is_cool/Y5Project/Surfer/dev.ipynb#W6sZmlsZQ%3D%3D?line=10'>11</a>\u001b[0m run_script(\u001b[39m'\u001b[39m\u001b[39minit_reddit\u001b[39m\u001b[39m'\u001b[39m,verbose\u001b[39m=\u001b[39m\u001b[39mself\u001b[39m\u001b[39m.\u001b[39mverbose)()\n",
      "File \u001b[1;32m~\\AppData\\Roaming\\Python\\Python310\\site-packages\\selenium\\webdriver\\remote\\webdriver.py:449\u001b[0m, in \u001b[0;36mWebDriver.get\u001b[1;34m(self, url)\u001b[0m\n\u001b[0;32m    447\u001b[0m \u001b[39mdef\u001b[39;00m \u001b[39mget\u001b[39m(\u001b[39mself\u001b[39m, url: \u001b[39mstr\u001b[39m) \u001b[39m-\u001b[39m\u001b[39m>\u001b[39m \u001b[39mNone\u001b[39;00m:\n\u001b[0;32m    448\u001b[0m     \u001b[39m\"\"\"Loads a web page in the current browser session.\"\"\"\u001b[39;00m\n\u001b[1;32m--> 449\u001b[0m     \u001b[39mself\u001b[39;49m\u001b[39m.\u001b[39;49mexecute(Command\u001b[39m.\u001b[39;49mGET, {\u001b[39m\"\u001b[39;49m\u001b[39murl\u001b[39;49m\u001b[39m\"\u001b[39;49m: url})\n",
      "File \u001b[1;32m~\\AppData\\Roaming\\Python\\Python310\\site-packages\\selenium\\webdriver\\remote\\webdriver.py:440\u001b[0m, in \u001b[0;36mWebDriver.execute\u001b[1;34m(self, driver_command, params)\u001b[0m\n\u001b[0;32m    438\u001b[0m response \u001b[39m=\u001b[39m \u001b[39mself\u001b[39m\u001b[39m.\u001b[39mcommand_executor\u001b[39m.\u001b[39mexecute(driver_command, params)\n\u001b[0;32m    439\u001b[0m \u001b[39mif\u001b[39;00m response:\n\u001b[1;32m--> 440\u001b[0m     \u001b[39mself\u001b[39;49m\u001b[39m.\u001b[39;49merror_handler\u001b[39m.\u001b[39;49mcheck_response(response)\n\u001b[0;32m    441\u001b[0m     response[\u001b[39m\"\u001b[39m\u001b[39mvalue\u001b[39m\u001b[39m\"\u001b[39m] \u001b[39m=\u001b[39m \u001b[39mself\u001b[39m\u001b[39m.\u001b[39m_unwrap_value(response\u001b[39m.\u001b[39mget(\u001b[39m\"\u001b[39m\u001b[39mvalue\u001b[39m\u001b[39m\"\u001b[39m, \u001b[39mNone\u001b[39;00m))\n\u001b[0;32m    442\u001b[0m     \u001b[39mreturn\u001b[39;00m response\n",
      "File \u001b[1;32m~\\AppData\\Roaming\\Python\\Python310\\site-packages\\selenium\\webdriver\\remote\\errorhandler.py:245\u001b[0m, in \u001b[0;36mErrorHandler.check_response\u001b[1;34m(self, response)\u001b[0m\n\u001b[0;32m    243\u001b[0m         alert_text \u001b[39m=\u001b[39m value[\u001b[39m\"\u001b[39m\u001b[39malert\u001b[39m\u001b[39m\"\u001b[39m]\u001b[39m.\u001b[39mget(\u001b[39m\"\u001b[39m\u001b[39mtext\u001b[39m\u001b[39m\"\u001b[39m)\n\u001b[0;32m    244\u001b[0m     \u001b[39mraise\u001b[39;00m exception_class(message, screen, stacktrace, alert_text)  \u001b[39m# type: ignore[call-arg]  # mypy is not smart enough here\u001b[39;00m\n\u001b[1;32m--> 245\u001b[0m \u001b[39mraise\u001b[39;00m exception_class(message, screen, stacktrace)\n",
      "\u001b[1;31mWebDriverException\u001b[0m: Message: disconnected: Unable to receive message from renderer\n  (failed to check if window was closed: disconnected: not connected to DevTools)\n  (Session info: chrome=112.0.5615.138)\nStacktrace:\nBacktrace:\n\tGetHandleVerifier [0x0084DCE3+50899]\n\t(No symbol) [0x007DE111]\n\t(No symbol) [0x006E5588]\n\t(No symbol) [0x006D8305]\n\t(No symbol) [0x006D820C]\n\t(No symbol) [0x006D6F06]\n\t(No symbol) [0x006D7668]\n\t(No symbol) [0x006E6D22]\n\t(No symbol) [0x0073E631]\n\t(No symbol) [0x0072B8FC]\n\t(No symbol) [0x0073E01C]\n\t(No symbol) [0x0072B6F6]\n\t(No symbol) [0x00707708]\n\t(No symbol) [0x0070886D]\n\tGetHandleVerifier [0x00AB3EAE+2566302]\n\tGetHandleVerifier [0x00AE92B1+2784417]\n\tGetHandleVerifier [0x00AE327C+2759788]\n\tGetHandleVerifier [0x008E5740+672048]\n\t(No symbol) [0x007E8872]\n\t(No symbol) [0x007E41C8]\n\t(No symbol) [0x007E42AB]\n\t(No symbol) [0x007D71B7]\n\tBaseThreadInitThunk [0x77D0FA29+25]\n\tRtlGetAppContainerNamedObjectPath [0x77EB7A9E+286]\n\tRtlGetAppContainerNamedObjectPath [0x77EB7A6E+238]\n"
     ]
    }
   ],
   "source": [
    "rf = RedditFeed(driver,skip=False)\n",
    "# rf = RedditFeed(driver,skip=True)"
   ]
  },
  {
   "cell_type": "code",
   "execution_count": null,
   "metadata": {},
   "outputs": [],
   "source": [
    "time.sleep(4)\n",
    "for x in islice(rf,5):\n",
    "  print(x)\n",
    "  time.sleep(2*max(1,len(x) * 0.01))\n",
    "  rf.click_post()"
   ]
  },
  {
   "cell_type": "code",
   "execution_count": null,
   "metadata": {},
   "outputs": [],
   "source": [
    "# decultter html\n",
    "# Array.from(x.querySelectorAll('*')).map((x,i)=>{\n",
    "#     const cl = Array.from(x.classList)\n",
    "#     const to_remove = cl.filter(x=> !/^[a-z-]+$/.exec(x))\n",
    "#     for (let cls of to_remove) {\n",
    "#         x.classList.remove(cls)\n",
    "#     }\n",
    "#     if (x.className === ''){\n",
    "#         x.removeAttribute('class')\n",
    "#     }\n",
    "# })"
   ]
  }
 ],
 "metadata": {
  "kernelspec": {
   "display_name": "Python 3",
   "language": "python",
   "name": "python3"
  },
  "language_info": {
   "codemirror_mode": {
    "name": "ipython",
    "version": 3
   },
   "file_extension": ".py",
   "mimetype": "text/x-python",
   "name": "python",
   "nbconvert_exporter": "python",
   "pygments_lexer": "ipython3",
   "version": "3.10.7"
  },
  "orig_nbformat": 4
 },
 "nbformat": 4,
 "nbformat_minor": 2
}
