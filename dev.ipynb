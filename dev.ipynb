{
  "cells": [
    {
      "cell_type": "code",
      "execution_count": 1,
      "metadata": {},
      "outputs": [],
      "source": [
        "import time\n",
        "import random\n",
        "from selenium.webdriver.common.by import By\n",
        "from selenium.webdriver.support.wait import WebDriverWait\n",
        "from selenium.webdriver.support import expected_conditions as EC\n",
        "import random\n",
        "import json\n",
        "from selenium import webdriver\n",
        "from selenium.webdriver.common.action_chains import ActionChains\n",
        "import string\n",
        "from itertools import islice\n",
        "from selenium.webdriver.common.keys import Keys\n",
        "# from Feed import Feed\n",
        "from icecream import ic\n",
        "from typing import Iterator, Any, List"
      ]
    },
    {
      "cell_type": "code",
      "execution_count": 2,
      "metadata": {},
      "outputs": [],
      "source": [
        "from Surfer import GetBrowser,RedditFeed,Feed\n",
        "from Surfer.ScriptRunner import ScriptRunner"
      ]
    },
    {
      "cell_type": "code",
      "execution_count": 3,
      "metadata": {},
      "outputs": [],
      "source": [
        "driver = GetBrowser()"
      ]
    },
    {
      "cell_type": "code",
      "execution_count": 4,
      "metadata": {},
      "outputs": [],
      "source": [
        "def uuid():\n",
        "    letters_digits = string.ascii_letters\n",
        "    return ''.join(random.choice(letters_digits) for i in range(20))"
      ]
    },
    {
      "cell_type": "code",
      "execution_count": 5,
      "metadata": {},
      "outputs": [],
      "source": [
        "def N(\n",
        "  mean = 0.5\n",
        "\t, stddev = 0.01\n",
        "\t, bounds = None\n",
        "):\n",
        "\tif bounds:\n",
        "\t\treturn max(bounds[0], min(random.normalvariate(mean, stddev) , bounds[1]))\n",
        "\telse:\n",
        "\t\treturn random.normalvariate(mean, stddev)"
      ]
    },
    {
      "cell_type": "code",
      "execution_count": 6,
      "metadata": {},
      "outputs": [],
      "source": [
        "run_script = ScriptRunner(driver,'./Surfer/scripts/')"
      ]
    },
    {
      "cell_type": "code",
      "execution_count": null,
      "metadata": {},
      "outputs": [],
      "source": [
        "class RedditPostFeed(Feed):\n",
        "\tdef __init__(self, driver:webdriver.Chrome ,handle:str|None=None,verbose=False):\n",
        "\t\tsuper().__init__(name='Reddit Post Feed',driver=driver,handle=handle)\n",
        "\t\t# Store the WebDriver instance\n",
        "\t\tself.verbose = verbose\n",
        "\t\tself.focus()\n",
        "\t\tself.run_script('surfer.listen to clicks')()\n",
        "\t\tself.run_script('reddit.catch first comment',self.verbose)()\n",
        "\n",
        "\tdef __iter__(self) -> Iterator[Any]:\n",
        "\t\twhile True:\n",
        "\t\t\tself.focus()\n",
        "\t\t\tif not self.run_script('surfer.check cursor',verbose=self.verbose)():\n",
        "\t\t\t\tself.run_script('reddit.post.catch first comment',verbose=self.verbose)()\n",
        "\t\t\t\tcontinue\n",
        "\t\t\tself.run_script('surfer.scroll 2 cursor',verbose=self.verbose)(N(bounds=[0,1]),N(bounds=[0,1]),random.randint(1,25)/100)\n",
        "\t\t\tfor i in range(10):\n",
        "\t\t\t\tif self.run_script('surfer.check still scrolling')():\n",
        "\t\t\t\t\ttime.sleep(0.1)\n",
        "\t\t\t\telse:\n",
        "\t\t\t\t\tbreak\n",
        "\t\t\t\tif i == 9:\n",
        "\t\t\t\t\traise Exception('Not finished scrolling')\n",
        "\t\t\tyield self.run_script('reddit.post.parse comment',verbose=self.verbose)()\n",
        "\t\t\tself.run_script('reddit.post.cursor next')()\n",
        "\n",
        "class RedditFeed(Feed):\n",
        "\tdef __init__(self, driver:webdriver.Chrome,skip=True,handle:str|None=None,verbose=False):\n",
        "\t\tsuper().__init__(name='Reddit Feed',handle=handle,driver=driver)\n",
        "\t\tself.verbose = verbose\n",
        "\t\tif not skip:\n",
        "\t\t\tself.driver.get('https://www.reddit.com/')\n",
        "\t\t\tself.handle = self.driver.current_window_handle\n",
        "\t\t\tself.run_script('surfer.listen to clicks')()\n",
        "\t\tself.run_script('reddit.init_reddit',verbose=self.verbose)()\n",
        "\t\n",
        "\n",
        "\tdef __iter__(self) -> Iterator[Any]:\n",
        "\t\twhile True:\n",
        "\t\t\tself.focus()\n",
        "\t\t\tif not self.run_script('surfer.check cursor',verbose=self.verbose)():\n",
        "\t\t\t\tcontinue\n",
        "\t\t\tself.run_script('surfer.scroll 2 cursor',verbose=self.verbose)(N(bounds=[0,1]),N(bounds=[0,1]),random.randint(1,25)/100)\n",
        "\t\t\tfor i in range(10):\n",
        "\t\t\t\tif self.run_script('surfer.check still scrolling')():\n",
        "\t\t\t\t\ttime.sleep(0.1)\n",
        "\t\t\t\telse:\n",
        "\t\t\t\t\tbreak\n",
        "\t\t\t\tif i == 9:\n",
        "\t\t\t\t\traise Exception('Not finished scrolling')\n",
        "\t\t\tyield self.run_script('reddit.parse post',verbose=self.verbose)()\n",
        "\t\t\tself.run_script('surfer.cursor next')()\n",
        "\n",
        "\tdef click_post(self, newTab=True):\n",
        "\t\tfor i in range(10): # 10 retries\n",
        "\t\t\tself.focus()\n",
        "\t\t\tif i == 9:\n",
        "\t\t\t\traise Exception('cursor not present')\n",
        "\t\t\tif not self.run_script('surfer.check cursor',verbose=self.verbose)():\n",
        "\t\t\t\tcontinue\n",
        "\t\t\telse:\n",
        "\t\t\t\tbreak\n",
        "  \n",
        "\t\tid = uuid()\n",
        "\t\tself.run_script('surfer.mark cursor', verbose=self.verbose)(id)\n",
        "\t\t# Find the DOM element to click on\n",
        "\t\tsel = f'.{id}'\n",
        "\t\telement = driver.find_element(By.CSS_SELECTOR, sel)\n",
        "\t\th3 = element.find_element(By.CSS_SELECTOR,'h3')\n",
        "\t\telement = element if h3 is None else h3\n",
        "\t\tactions = ActionChains(driver)\n",
        "\t\tactions \\\n",
        "\t\t\t.click(element) \\\n",
        "\t\t\t.perform()\n",
        "\t\t\t# .key_down(Keys.CONTROL) \\\n",
        "\t\t\t# .key_up(Keys.CONTROL) \\\n",
        "\t\treturn RedditPostFeed(self.driver,self.handle,verbose=self.verbose)\n",
        "\n",
        "\tdef close(self):\n",
        "\t\tself.focus()\n",
        "\t\t# Close the WebDriver instance\n",
        "\t\tself.driver.quit()\n"
      ]
    },
    {
      "cell_type": "code",
      "execution_count": null,
      "metadata": {},
      "outputs": [],
      "source": [
        "rf = RedditFeed(driver,skip=False)\n",
        "# rf = RedditFeed(driver,skip=True)"
      ]
    },
    {
      "cell_type": "code",
      "execution_count": null,
      "metadata": {},
      "outputs": [],
      "source": [
        "# for x in islice(rf,15):\n",
        "#   print(x)\n",
        "#   time.sleep(2*max(1,len(x) * 0.01))"
      ]
    },
    {
      "cell_type": "code",
      "execution_count": null,
      "metadata": {},
      "outputs": [],
      "source": [
        "e = rf.click_post()"
      ]
    },
    {
      "cell_type": "code",
      "execution_count": null,
      "metadata": {},
      "outputs": [],
      "source": [
        "run_script('reddit.post.parse comment')()"
      ]
    },
    {
      "cell_type": "code",
      "execution_count": 9,
      "metadata": {},
      "outputs": [],
      "source": [
        "class ChatGPT():\n",
        "\tdef __init__(self, driver:webdriver.Chrome,skip=True,handle:str|None=None,verbose=False):\n",
        "\t\tself.name = 'GPT'\n",
        "\t\tself.handle = handle\n",
        "\t\tself.driver = driver\n",
        "\t\tself.verbose = verbose\n",
        "\t\tself.run_script = ScriptRunner(driver,'./Surfer/scripts/')\n",
        "\t\tif not skip:\n",
        "\t\t\tself.driver.get('https://chat.openai.com/')\n",
        "\t\t\tself.handle = self.driver.current_window_handle\n",
        "\t\t\tself.run_script('surfer.listen to clicks')()\n",
        "\t\n",
        "\tdef ask(self,prompt:str):\n",
        "\t\ttextarea = self.driver.find_element(By.CSS_SELECTOR,'textarea')\n",
        "\n",
        "\t\tJS_ADD_TEXT_TO_INPUT = \"\"\"\n",
        "\t\t\tvar elm = document.querySelector('textarea'), txt = arguments[0];\n",
        "\t\t\telm.value += txt;\n",
        "\t\t\telm.dispatchEvent(new Event('change'));\n",
        "\t\t\t\"\"\"\n",
        "\t\tprompts = prompt.split('\\n')\n",
        "\t\tfor line in prompts:\n",
        "\t\t\tself.driver.execute_script(JS_ADD_TEXT_TO_INPUT, line)\n",
        "\t\t\ttextarea.send_keys(Keys.SHIFT + Keys.ENTER)\n",
        "\t\t\t\n",
        "\t\tself.driver.find_element(By.CSS_SELECTOR,'textarea + button').click()\n",
        "\t\tsvg_path = 'M20.49 9A9 9 0 0 0 5.64 5.64L1 10m22 4l-4.64 4.36A9 9 0 0 1 3.51 15'\n",
        "\t\tWebDriverWait(self.driver, 30).until(\n",
        "\t\t\tEC.presence_of_element_located((By.CSS_SELECTOR, f'[d=\"{svg_path}\"]'))\n",
        "\t\t)\n",
        "\t\ttime.sleep(5)\n",
        "\t\treturn run_script('chat.openai.get last answer')()\n",
        "\n"
      ]
    },
    {
      "cell_type": "code",
      "execution_count": 10,
      "metadata": {},
      "outputs": [],
      "source": [
        "gpt = ChatGPT(driver,skip=True)"
      ]
    },
    {
      "cell_type": "code",
      "execution_count": 23,
      "metadata": {},
      "outputs": [],
      "source": [
        "t = '''alice nice is a 23 years old female who lives in Boston  and bob wick is a 29 years old male who lives in Boston . and they have been friends for a long time alice nice is a 23 years old female who lives in Boston  and bob wick is a 29 years old male who lives in Boston . and they have been friends for a long time. if you are alice and you want to tell bob about this post and your take on the topic `235r/ExperiencedDevs•Posted byu/EcstaticAssignment12 hours agoThe backend generalist software engineer I think both myself and a lot of my coworkers/friends fall under this category of \"backend non web-dev stack agnostic generalist software engineer\" that seem to hang out in product companies.While I've gotten experience in domains by virtue of the teams and projects I've worked with, I wouldn't really identify them as being my \"specialty\". I've also never really identified with my tech stack, both because it changes a lot and because frankly the complexity of my work never seems to boil down to low level implementation expertise. There are almost never any serious design meetings where the main point of contention is anything that is on the layer of programming patterns or language details (but obviously yes to system design). The problems that I mainly solve seem to be more \"engineering\" than programming, and while I'd say they are complex, they seem to be mostly a function of general analytical reasoning and more system design-level understanding.Is this sort of position actually that common outside of tech companies? I'm asking mostly out of curiosity, but also while I was lucky to land in another tech company after getting laid off in January, if I get laid off again and don't have the same luck, I'm not sure if I should take steps to brand myself as something less generalist when exploring other options.51 commentsAwardsharesave22 people hereu/getsentry·promotedPaste this line into your terminal to use Next.js with Sentry. sentry.ioIns` what would you send to him in chat (keep the chat going and ask many questions)?'''"
      ]
    },
    {
      "cell_type": "code",
      "execution_count": 24,
      "metadata": {},
      "outputs": [
        {
          "data": {
            "text/plain": [
              "'Sure, here\\'s a conversation you might have with Bob to share your take on the topic and ask for his thoughts:\\n\\nAlice: Hey Bob! I came across an interesting post on Reddit today about a type of software engineer that I think both of us might relate to. It\\'s called the \"backend non web-dev stack agnostic generalist software engineer.\" Have you heard of this term before?\\n\\nBob: Hey Alice! That sounds intriguing. No, I haven\\'t heard of it. What\\'s it all about?\\n\\nAlice: Well, this type of engineer seems to be someone who doesn\\'t really specialize in a specific tech stack or programming pattern. They focus more on solving engineering problems and system design rather than low-level implementation. The complexity of their work isn\\'t so much about programming details, but more about analytical reasoning and understanding system design. It got me thinking if this kind of position is common outside of tech companies.\\n\\nBob: That\\'s interesting. I can see how some engineers might fall into that category, especially in product companies. But I wonder, do you think this approach is effective in different industries, not just tech?\\n\\nAlice: Exactly, that\\'s one of the things I\\'m curious about too. Like, in our line of work, we\\'ve always been more about solving engineering challenges rather than just writing code. Do you think this mindset translates well into other industries where technology isn\\'t the main focus?\\n\\nBob: Hmm, I think it might. Many industries require problem-solving and system-level thinking. But I also wonder, if you were to explore other options, like you mentioned, would branding yourself as a generalist be beneficial or should you specialize more to stand out?\\n\\nAlice: That\\'s a great point. It\\'s a bit of a dilemma for me. On one hand, being a generalist has its advantages, especially in companies that value versatile problem-solvers. On the other hand, specialization could help me stand out more if I ever need to look for a new opportunity. What do you think about that balance?\\n\\nBob: I can see the pros and cons of both. Specializing might make you more attractive for certain roles, but being a generalist gives you a broader skill set. Have you thought about how your experience working on various projects might contribute to your specialization, even if it\\'s not a specific tech stack?\\n\\nAlice: That\\'s a good perspective. Maybe my specialization could be more about the types of problems I\\'m skilled at solving rather than the specific tools I use. It\\'s definitely something to consider. By the way, have you ever come across similar discussions in your field?\\n\\nBob: Yeah, I\\'ve seen some debates about generalists vs. specialists in tech, but this seems like a broader approach. It\\'s fascinating how different industries value expertise. I guess it all comes down to what kind of impact you want to make with your skills.\\n\\nAlice: Absolutely, impact is a key factor. Well, thanks for chatting about this, Bob. It\\'s given me some food for thought as I navigate my career path.\\n\\nBob: No problem, Alice! It\\'s always good to have these conversations and think about where we\\'re headed. Let me know if you come across any more interesting insights!\\n\\nAlice: Will do, Bob! Take care and catch you later!\\n\\nRemember, this is just a hypothetical conversation, and you can tailor it to your own style and relationship with Bob. Feel free to add more details or ask different questions based on your preferences.'"
            ]
          },
          "execution_count": 24,
          "metadata": {},
          "output_type": "execute_result"
        }
      ],
      "source": [
        "gpt.ask(t)"
      ]
    },
    {
      "cell_type": "code",
      "execution_count": null,
      "metadata": {},
      "outputs": [],
      "source": []
    }
  ],
  "metadata": {
    "kernelspec": {
      "display_name": "Python 3",
      "language": "python",
      "name": "python3"
    },
    "language_info": {
      "codemirror_mode": {
        "name": "ipython",
        "version": 3
      },
      "file_extension": ".py",
      "mimetype": "text/x-python",
      "name": "python",
      "nbconvert_exporter": "python",
      "pygments_lexer": "ipython3",
      "version": "3.11.4"
    },
    "orig_nbformat": 4
  },
  "nbformat": 4,
  "nbformat_minor": 2
}
