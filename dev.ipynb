{
  "cells": [
    {
      "cell_type": "code",
      "execution_count": 1,
      "metadata": {},
      "outputs": [],
      "source": [
        "import os, sys\n",
        "parent_dir = os.path.abspath(os.path.join(os.getcwd(), '../'))\n",
        "if parent_dir not in sys.path:\n",
        "    sys.path.insert(0, parent_dir)"
      ]
    },
    {
      "cell_type": "code",
      "execution_count": 2,
      "metadata": {},
      "outputs": [],
      "source": [
        "from itertools import islice\n",
        "import time"
      ]
    },
    {
      "cell_type": "code",
      "execution_count": 3,
      "metadata": {},
      "outputs": [
        {
          "name": "stderr",
          "output_type": "stream",
          "text": [
            "c:\\Python311\\Lib\\site-packages\\tqdm\\auto.py:21: TqdmWarning: IProgress not found. Please update jupyter and ipywidgets. See https://ipywidgets.readthedocs.io/en/stable/user_install.html\n",
            "  from .autonotebook import tqdm as notebook_tqdm\n",
            "[nltk_data] Downloading package stopwords to\n",
            "[nltk_data]     C:\\Users\\nasoo\\AppData\\Roaming\\nltk_data...\n",
            "[nltk_data]   Package stopwords is already up-to-date!\n"
          ]
        },
        {
          "name": "stdout",
          "output_type": "stream",
          "text": [
            "\n",
            "Setting up Masked Stego\n",
            "\n"
          ]
        },
        {
          "name": "stderr",
          "output_type": "stream",
          "text": [
            "Some weights of the model checkpoint at bert-base-cased were not used when initializing BertForMaskedLM: ['cls.seq_relationship.weight', 'bert.pooler.dense.bias', 'cls.seq_relationship.bias', 'bert.pooler.dense.weight']\n",
            "- This IS expected if you are initializing BertForMaskedLM from the checkpoint of a model trained on another task or with another architecture (e.g. initializing a BertForSequenceClassification model from a BertForPreTraining model).\n",
            "- This IS NOT expected if you are initializing BertForMaskedLM from the checkpoint of a model that you expect to be exactly identical (initializing a BertForSequenceClassification model from a BertForSequenceClassification model).\n"
          ]
        },
        {
          "name": "stdout",
          "output_type": "stream",
          "text": [
            "\n",
            "Setting up Masked Stego Completed\n",
            "\n",
            "\n",
            "Setting up Typoceros\n",
            "\n",
            "('hi, how atre you?', '01001011111')\n",
            "\n",
            "Setting up Typoceros Completed\n",
            "\n"
          ]
        }
      ],
      "source": [
        "from Surfer import GetBrowser,RedditFeed,Feed,ChatGPT,ChatGPTWebsite\n",
        "from Surfer.ScriptRunner import ScriptRunner\n",
        "from files import *\n",
        "from Stegasus import stegasus\n",
        "from Bot import *\n",
        "from Chatter import prompts\n",
        "from Surfer.util import uuid"
      ]
    },
    {
      "cell_type": "code",
      "execution_count": 4,
      "metadata": {},
      "outputs": [
        {
          "data": {
            "text/plain": [
              "'0011110001110011011101100110011100100000011110000110110101101100011011100111001100111101001000100110100001110100011101000111000000111010001011110010111101110111011101110111011100101110011101110011001100101110011011110111001001100111001011110011001000110000001100000011000000101111011100110111011001100111001000100010000001100110011010010110110001101100001111010010001001101110011011110110111001100101001000100010000001110110011010010110010101110111010000100110111101111000001111010010001000110000001000000011000000100000001100100011010000100000001100100011010000100010001000000111001101110100011100100110111101101011011001010010110101110111011010010110010001110100011010000011110100100010001100010010111000110101001000100000110100001010000010010111001101110100011100100110111101101011011001010011110100100010011000110111010101110010011100100110010101101110011101000100001101101111011011000110111101110010001000100010000001100001011100100110100101100001001011010110100001101001011001000110010001100101011011100011110100100010011101000111001001110101011001010010001000111110000011010000101000001001001111000111000001100001011101000110100000100000011100110111010001110010011011110110101101100101001011010110110001101001011011100110010101100011011000010111000000111101001000100111001001101111011101010110111001100100001000100010000001110011011101000111001001101111011010110110010100101101011011000110100101101110011001010110101001101111011010010110111000111101001000100111001001101111011101010110111001100100001000100000110100001010000010010000100101100100001111010010001001001101001100110010111000110111001101010010000000110001001100110010111000110101011011000011000100110000001011100011010100101101001100010011000100101110001100100011010101001100001100010011001000100000001100010011000000101110001101010110100000111000001011100011001000110101010011000011100100101110001101110011010100100000001100100011000100101110001101110011010100100000001100010011001000100000001100010011001100101110001101010100100000110011001011100011011100110101011110100010001000101111001111100000110100001010001111000010111101110011011101100110011100111110'"
            ]
          },
          "execution_count": 4,
          "metadata": {},
          "output_type": "execute_result"
        }
      ],
      "source": [
        "# Example usage\n",
        "ex = \"svg\"\n",
        "file_path = f'tiny.{ex}'\n",
        "data = ''\n",
        "for chunk in read_file_in_chunks(file_path):\n",
        "    data += chunk\n",
        "data"
      ]
    },
    {
      "cell_type": "code",
      "execution_count": 57,
      "metadata": {},
      "outputs": [],
      "source": [
        "# KB\n",
        "data = data[:2**10]"
      ]
    },
    {
      "cell_type": "code",
      "execution_count": 5,
      "metadata": {},
      "outputs": [],
      "source": [
        "import random"
      ]
    },
    {
      "cell_type": "code",
      "execution_count": 6,
      "metadata": {},
      "outputs": [],
      "source": [
        "cache = {}"
      ]
    },
    {
      "cell_type": "code",
      "execution_count": 8,
      "metadata": {},
      "outputs": [],
      "source": [
        "class Encoder:\n",
        "\tdef __init__(self,data,dataLog,encodedChatLog):\n",
        "\t\tself.data = data\n",
        "\t\tself.rem = data\n",
        "\t\tself.dataLog = dataLog\n",
        "\t\tself.encodedChatLog = encodedChatLog\n",
        "\t\tself.dataLog.append('')\n",
        "\t\tself.sending_pure_padding = False\n",
        "\n",
        "\tdef done(self):\n",
        "\t\treturn self.sending_pure_padding\n",
        "\n",
        "\tdef __call__(self,text) -> str:\n",
        "\t\t# sending pure padding\n",
        "\t\tself.sending_pure_padding = len(self.rem) < 499\n",
        "\t\ta, self.rem = stegasus.StegasusEncode(text,self.rem)\n",
        "\t\tself.encodedChatLog.append(a)\n",
        "\t\tself.dataLog.append(data[len(self.dataLog[-1]):-len(self.rem)])\n",
        "\t\treturn a\n"
      ]
    },
    {
      "cell_type": "code",
      "execution_count": 10,
      "metadata": {},
      "outputs": [],
      "source": [
        "from typing import List\n",
        "\n",
        "\n",
        "def openChannelAndSend(data:str\n",
        ", alice = Person('alice','nice',23,'female','Boston','alice@gmail.com')\n",
        ", bob = Person('bob','wick',29,'male','Boston','bob@gmail.com')):\n",
        "\trunLog = []\n",
        "\tcache[uuid()] = runLog\n",
        "\tdata += '1' + ('0' * 500)\n",
        "\tcache['data'] = data\n",
        "\t\n",
        "\tdriver = cache.get('driver',GetBrowser())\n",
        "\tdriver.implicitly_wait(2)\n",
        "\trf = cache.get('RedditFeed',RedditFeed(driver,skip=False,subreddit='unpopularopinion',newWindow=False))\n",
        "\t# rf = RedditFeed(driver,skip=True)\n",
        "\tposts = []\n",
        "\tif 'posts' in cache:\n",
        "\t\tposts = cache['posts']\n",
        "\telse:\n",
        "\t\tfor x in islice(rf,5):\n",
        "\t\t\tposts.append(x)\n",
        "\t\t\ttime.sleep(2*max(1,len(x) * 0.01))\n",
        "\t\trandom.shuffle(posts)\n",
        "\t\tcache['posts'] = posts\n",
        "\n",
        "\ti = 0\n",
        "\twhile i < len(posts) \\\n",
        "\t\tand posts[i]['excerpt'] is not None \\\n",
        "\t\tand posts[i]['excerpt'] != \"\" \\\n",
        "\t\tand posts[i]['title'] is not None \\\n",
        "\t\tand posts[i]['title'] != \"\":\n",
        "\t\ti+=1\n",
        "\t\t\n",
        "\tgptWebsite = cache.get('ChatGPTWebsite',ChatGPTWebsite(driver,skip=False))\n",
        "\t\n",
        "\ttime.sleep(7)\n",
        "\t\n",
        "\tencodedChatLog: List[str] = []\n",
        "\tcache['encodedChatLog'] = encodedChatLog\n",
        "\tchatLog: List[Message] = []\n",
        "\tcache['chatLog'] = chatLog\n",
        "\tpromptLog: List[str] = []\n",
        "\tcache['promptLog'] = promptLog\n",
        "\tdataLog: List[str] = []\n",
        "\tcache['dataLog'] = dataLog\n",
        "\t\n",
        "\tencoder = Encoder(data,dataLog,encodedChatLog)\n",
        "\n",
        "\taliceChat = cache.get('aliceChat', gptWebsite.getLandingNewChat())\n",
        "\tif len(promptLog) == 0:\n",
        "\t\t# promptLog 0\n",
        "\t\tpromptLog.append(prompts.start_conversation_with_post(alice,bob,posts[i]))\n",
        "\t\n",
        "\tif len(chatLog) == 0:\n",
        "\t\t# chatLog 0\n",
        "\t\tchatLog.append(Message(alice,aliceChat.ask(promptLog[0])))\n",
        "\t\n",
        "\tencoder(chatLog[0].text)\n",
        "\n",
        "\tif 'bobChat' not in cache or len(chatLog) == 1 or len(promptLog) == 1:\n",
        "\t\t# promptLog 1\n",
        "\t\tpromptLog.append(prompts.startChatReplyPrompt(chatLog[0]))\n",
        "\t\ta,bobChat = aliceChat.askNew(promptLog[1])\n",
        "\t\t# chatLog 1\n",
        "\t\tchatLog.append(Message(bob,a))\n",
        "\t\tcache['bobChat'] = bobChat\n",
        "\telse:\n",
        "\t\tbobChat =cache['bobChat']\n",
        "\n",
        "\t# chatLog 2\n",
        "\tchatLog.append(Message(alice, aliceChat.ask(prompts.startChatReplyPrompt(chatLog[1]))))\n",
        "\ta = encoder(chatLog[2].text)\n",
        "\t\n",
        "\tcIdx = 2\n",
        "\twhile True:\n",
        "\t\tif encoder.done():\n",
        "\t\t\t# chatLog cIdx+1\n",
        "\t\t\tchatLog.append(Message(alice, aliceChat.ask(prompts.endChatReplyPrompt(chatLog[cIdx]))))\n",
        "\t\t\tcIdx += 1\n",
        "\t\t\ta = encoder(chatLog[cIdx].text)\n",
        "\t\t\treturn None\n",
        "\n",
        "\t\t# chatLog cIdx+1\n",
        "\t\tchatLog.append(Message(bob, bobChat.ask(prompts.inChatReplyPrompt(chatLog[cIdx]))))\n",
        "\t\tcIdx += 1\n",
        "\t\t\n",
        "\t\t# switch\n",
        "\t\t\n",
        "\t\t# chatLog cIdx+1\n",
        "\t\tchatLog.append(Message(alice, aliceChat.ask(prompts.inChatReplyPrompt(chatLog[cIdx]))))\n",
        "\t\tcIdx += 1\n",
        "\t\ta = encoder(chatLog[cIdx].text)\n"
      ]
    },
    {
      "cell_type": "code",
      "execution_count": 11,
      "metadata": {},
      "outputs": [],
      "source": [
        "openChannelAndSend(data)"
      ]
    },
    {
      "cell_type": "code",
      "execution_count": 12,
      "metadata": {},
      "outputs": [
        {
          "data": {
            "text/plain": [
              "2128"
            ]
          },
          "execution_count": 12,
          "metadata": {},
          "output_type": "execute_result"
        }
      ],
      "source": [
        "len(data)"
      ]
    },
    {
      "cell_type": "code",
      "execution_count": 13,
      "metadata": {},
      "outputs": [
        {
          "data": {
            "text/plain": [
              "{'axLQKuFYincYCwchKxFB': [],\n",
              " 'data': '0011110001110011011101100110011100100000011110000110110101101100011011100111001100111101001000100110100001110100011101000111000000111010001011110010111101110111011101110111011100101110011101110011001100101110011011110111001001100111001011110011001000110000001100000011000000101111011100110111011001100111001000100010000001100110011010010110110001101100001111010010001001101110011011110110111001100101001000100010000001110110011010010110010101110111010000100110111101111000001111010010001000110000001000000011000000100000001100100011010000100000001100100011010000100010001000000111001101110100011100100110111101101011011001010010110101110111011010010110010001110100011010000011110100100010001100010010111000110101001000100000110100001010000010010111001101110100011100100110111101101011011001010011110100100010011000110111010101110010011100100110010101101110011101000100001101101111011011000110111101110010001000100010000001100001011100100110100101100001001011010110100001101001011001000110010001100101011011100011110100100010011101000111001001110101011001010010001000111110000011010000101000001001001111000111000001100001011101000110100000100000011100110111010001110010011011110110101101100101001011010110110001101001011011100110010101100011011000010111000000111101001000100111001001101111011101010110111001100100001000100010000001110011011101000111001001101111011010110110010100101101011011000110100101101110011001010110101001101111011010010110111000111101001000100111001001101111011101010110111001100100001000100000110100001010000010010000100101100100001111010010001001001101001100110010111000110111001101010010000000110001001100110010111000110101011011000011000100110000001011100011010100101101001100010011000100101110001100100011010101001100001100010011001000100000001100010011000000101110001101010110100000111000001011100011001000110101010011000011100100101110001101110011010100100000001100100011000100101110001101110011010100100000001100010011001000100000001100010011001100101110001101010100100000110011001011100011011100110101011110100010001000101111001111100000110100001010001111000010111101110011011101100110011100111110100000000000000000000000000000000000000000000000000000000000000000000000000000000000000000000000000000000000000000000000000000000000000000000000000000000000000000000000000000000000000000000000000000000000000000000000000000000000000000000000000000000000000000000000000000000000000000000000000000000000000000000000000000000000000000000000000000000000000000000000000000000000000000000000000000000000000000000000000000000000000000000000000000000000000000000000000000000000000000000000000000000000000000000',\n",
              " 'posts': [{'comments': '326 Comments',\n",
              "   'excerpt': 'Title. In my life I’ve met a lot of dog owners. Some examples:\\n\\nA family who never potty trained their small dog, so it’s life was tied up to a corner in the kitchen so it wouldn’t make accidents around the house\\n\\nA sedentary family who owned a Husky they only walked into a corner of their backyard so they wouldn’t have to go far to clean up poop\\n\\nA woman with a dog who constantly bit people on walks so much the dog had to be put down\\n\\nYou don’t have to go far to see it. There are dozens of “reactive dog” groups online with people who have no idea how to make hard decisions. And yet, we continue to breed dogs just to stuff them in a shelter when the owner fails to rise up and take responsibility.\\n\\nYou have to be willing to train, walk, and again - MAKE HARD DECISIONS.\\n\\nToo much to ask from the common person these days.',\n",
              "   'links': [{'link': 'https://www.reddit.com/user/PeachyTeapot/',\n",
              "     'text': '326 Comments'},\n",
              "    {'link': 'https://www.reddit.com/r/unpopularopinion/comments/15lsazi/most_people_arent_fit_to_own_dogs/',\n",
              "     'text': 'Title. In my life I’ve met a lot of dog owners. Some examples:\\n\\nA family who never potty trained their small dog, so it’s life was tied up to a corner in the kitchen so it wouldn’t make accidents around the house\\n\\nA sedentary family who owned a Husky they only walked into a corner of their backyard so they wouldn’t have to go far to clean up poop\\n\\nA woman with a dog who constantly bit people on walks so much the dog had to be put down\\n\\nYou don’t have to go far to see it. There are dozens of “reactive dog” groups online with people who have no idea how to make hard decisions. And yet, we continue to breed dogs just to stuff them in a shelter when the owner fails to rise up and take responsibility.\\n\\nYou have to be willing to train, walk, and again - MAKE HARD DECISIONS.\\n\\nToo much to ask from the common person these days.'},\n",
              "    {'link': 'https://www.reddit.com/r/unpopularopinion/comments/15lsazi/most_people_arent_fit_to_own_dogs/',\n",
              "     'text': 'Most people aren’t fit to own dogs'},\n",
              "    {'link': 'https://www.reddit.com/r/unpopularopinion/comments/15lsazi/most_people_arent_fit_to_own_dogs/',\n",
              "     'text': 'u/PeachyTeapot'}],\n",
              "   'rest': [],\n",
              "   'sub_reddit': None,\n",
              "   'title': 'Most people aren’t fit to own dogs',\n",
              "   'up_votes': '1.3k',\n",
              "   'user': 'u/PeachyTeapot'},\n",
              "  {'comments': '0 Comments',\n",
              "   'excerpt': None,\n",
              "   'links': [{'link': 'https://www.reddit.com/user/getsentry/',\n",
              "     'text': '0 Comments'},\n",
              "    {'link': 'https://alb.reddit.com/cr?za=Ut27c8bKFpJhMSZbKJ_voN62E8k_IltKHPol9MD48iOJB2K7Q1l-w3L96K45UHwHX468J27W4Z-ZkuDhERvzutEWmgv-swwfIZfIkeW3iSrwAhIp3MeXK8nP8YGDMo-qcCSr96ExyOUk56ghkaaVpMSp5Ec_4iXGDrbViUgdXJLo5p8Tsh6F0QAdMGjHZpbJEAzFbcv1N2o7U4BbMuwBoAnn1jr9cMVGqmZoU0bCxZIsNrXGlj08IbllhhJHtgaxMIDRm8DaNFepQvoi87zNgYHN3kOxWIr14fT0Qh97nVnGudeS95rq9-UqZx45oiAxtkp0JNjrzIAUngXCBlhebmBUeBS0d647gKrDkqIvIvNN-sjvz2Y1gJGVoTpsXta8RDDzhurAIjimzXWm&zp=w3kvbo9pPz-rW_kkySIva-91P8KrdrP6aOE3rxo8HI39FYgYr4JDaR4LqNv2rZuX51o2NbMkJkGol5ZLJ8ZXCcB3bZKbJafZIdCy2185se8z9p-wj_A69twtE7pLgGb26tqKMAHQzrHOlynofYl9XoL0FBpTf2gEqIpBmPJ7UhvQvcY_oWLUUFdbZRRhob-taVxrOQhwM99eGS0293K_45xjCNXqY-EQngzGVL-8c706br-4Q1rNj__xY3y0ujqRCLfop41Y9R1S3KUOgpe48zGlsOcj5fA-ev0Az0wJeNDBx2q46j-bPR-_7e4pMg9yqxez9InT8LaqtqImJGRWo5nxiZmnf-SFD9cRu48',\n",
              "     'text': 'Install'},\n",
              "    {'link': 'https://alb.reddit.com/cr?za=Ut27c8bKFpJhMSZbKJ_voN62E8k_IltKHPol9MD48iOJB2K7Q1l-w3L96K45UHwHX468J27W4Z-ZkuDhERvzutEWmgv-swwfIZfIkeW3iSrwAhIp3MeXK8nP8YGDMo-qcCSr96ExyOUk56ghkaaVpMSp5Ec_4iXGDrbViUgdXJLo5p8Tsh6F0QAdMGjHZpbJEAzFbcv1N2o7U4BbMuwBoAnn1jr9cMVGqmZoU0bCxZIsNrXGlj08IbllhhJHtgaxMIDRm8DaNFepQvoi87zNgYHN3kOxWIr14fT0Qh97nVnGudeS95rq9-UqZx45oiAxtkp0JNjrzIAUngXCBlhebmBUeBS0d647gKrDkqIvIvNN-sjvz2Y1gJGVoTpsXta8RDDzhurAIjimzXWm&zp=w3kvbo9pPz-rW_kkySIva-91P8KrdrP6aOE3rxo8HI39FYgYr4JDaR4LqNv2rZuX51o2NbMkJkGol5ZLJ8ZXCcB3bZKbJafZIdCy2185se8z9p-wj_A69twtE7pLgGb26tqKMAHQzrHOlynofYl9XoL0FBpTf2gEqIpBmPJ7UhvQvcY_oWLUUFdbZRRhob-taVxrOQhwM99eGS0293K_45xjCNXqY-EQngzGVL-8c706br-4Q1rNj__xY3y0ujqRCLfop41Y9R1S3KUOgpe48zGlsOcj5fA-ev0Az0wJeNDBx2q46j-bPR-_7e4pMg9yqxez9InT8LaqtqImJGRWo5nxiZmnf-SFD9cRu48',\n",
              "     'text': 'sentry.io'},\n",
              "    {'link': 'https://alb.reddit.com/cr?za=Ut27c8bKFpJhMSZbKJ_voN62E8k_IltKHPol9MD48iOJB2K7Q1l-w3L96K45UHwHX468J27W4Z-ZkuDhERvzutEWmgv-swwfIZfIkeW3iSrwAhIp3MeXK8nP8YGDMo-qcCSr96ExyOUk56ghkaaVpMSp5Ec_4iXGDrbViUgdXJLo5p8Tsh6F0QAdMGjHZpbJEAzFbcv1N2o7U4BbMuwBoAnn1jr9cMVGqmZoU0bCxZIsNrXGlj08IbllhhJHtgaxMIDRm8DaNFepQvoi87zNgYHN3kOxWIr14fT0Qh97nVnGudeS95rq9-UqZx45oiAxtkp0JNjrzIAUngXCBlhebmBUeBS0d647gKrDkqIvIvNN-sjvz2Y1gJGVoTpsXta8RDDzhurAIjimzXWm&zp=w3kvbo9pPz-rW_kkySIva-91P8KrdrP6aOE3rxo8HI39FYgYr4JDaR4LqNv2rZuX51o2NbMkJkGol5ZLJ8ZXCcB3bZKbJafZIdCy2185se8z9p-wj_A69twtE7pLgGb26tqKMAHQzrHOlynofYl9XoL0FBpTf2gEqIpBmPJ7UhvQvcY_oWLUUFdbZRRhob-taVxrOQhwM99eGS0293K_45xjCNXqY-EQngzGVL-8c706br-4Q1rNj__xY3y0ujqRCLfop41Y9R1S3KUOgpe48zGlsOcj5fA-ev0Az0wJeNDBx2q46j-bPR-_7e4pMg9yqxez9InT8LaqtqImJGRWo5nxiZmnf-SFD9cRu48',\n",
              "     'text': ''},\n",
              "    {'link': 'https://alb.reddit.com/cr?za=Ut27c8bKFpJhMSZbKJ_voN62E8k_IltKHPol9MD48iOJB2K7Q1l-w3L96K45UHwHX468J27W4Z-ZkuDhERvzutEWmgv-swwfIZfIkeW3iSrwAhIp3MeXK8nP8YGDMo-qcCSr96ExyOUk56ghkaaVpMSp5Ec_4iXGDrbViUgdXJLo5p8Tsh6F0QAdMGjHZpbJEAzFbcv1N2o7U4BbMuwBoAnn1jr9cMVGqmZoU0bCxZIsNrXGlj08IbllhhJHtgaxMIDRm8DaNFepQvoi87zNgYHN3kOxWIr14fT0Qh97nVnGudeS95rq9-UqZx45oiAxtkp0JNjrzIAUngXCBlhebmBUeBS0d647gKrDkqIvIvNN-sjvz2Y1gJGVoTpsXta8RDDzhurAIjimzXWm&zp=w3kvbo9pPz-rW_kkySIva-91P8KrdrP6aOE3rxo8HI39FYgYr4JDaR4LqNv2rZuX51o2NbMkJkGol5ZLJ8ZXCcB3bZKbJafZIdCy2185se8z9p-wj_A69twtE7pLgGb26tqKMAHQzrHOlynofYl9XoL0FBpTf2gEqIpBmPJ7UhvQvcY_oWLUUFdbZRRhob-taVxrOQhwM99eGS0293K_45xjCNXqY-EQngzGVL-8c706br-4Q1rNj__xY3y0ujqRCLfop41Y9R1S3KUOgpe48zGlsOcj5fA-ev0Az0wJeNDBx2q46j-bPR-_7e4pMg9yqxez9InT8LaqtqImJGRWo5nxiZmnf-SFD9cRu48',\n",
              "     'text': 'Paste this line into your terminal to use Next.js with Sentry.'},\n",
              "    {'link': 'https://www.reddit.com/user/getsentry/comments/15i7m5k/paste_this_line_into_your_terminal_to_use_nextjs/?instanceId=t3_za%3DUt27c8bKFpJhMSZbKJ_voN62E8k_IltKHPol9MD48iOJB2K7Q1l-w3L96K45UHwHX468J27W4Z-ZkuDhERvzutEWmgv-swwfIZfIkeW3iSrwAhIp3MeXK8nP8YGDMo-qcCSr96ExyOUk56ghkaaVpMSp5Ec_4iXGDrbViUgdXJLo5p8Tsh6F0QAdMGjHZpbJEAzFbcv1N2o7U4BbMuwBoAnn1jr9cMVGqmZoU0bCxZIsNrXGlj08IbllhhJHtgaxMIDRm8DaNFepQvoi87zNgYHN3kOxWIr14fT0Qh97nVnGudeS95rq9-UqZx45oiAxtkp0JNjrzIAUngXCBlhebmBUeBS0d647gKrDkqIvIvNN-sjvz2Y1gJGVoTpsXta8RDDzhurAIjimzXWm%26zp%3DFbqoB_CzVtx6zxqXOLBLAkD5cBK1Vjjv8cVGcDf3qflW_8wFoA7mftWnIxgardb29XCCla4',\n",
              "     'text': 'u/getsentry'}],\n",
              "   'rest': ['sentry.io', 'Install'],\n",
              "   'sub_reddit': None,\n",
              "   'title': 'Paste this line into your terminal to use Next.js with Sentry.',\n",
              "   'up_votes': '2',\n",
              "   'user': 'u/getsentry'},\n",
              "  {'comments': '2.9k Comments',\n",
              "   'excerpt': \"My wife and I have been together for about 15 years, with three kids. I have been the sole provider for most of this, with her staying home. But, for a period of about 2 1/2 years, I was the stay at home spouse. It was the best time of my life.\\n\\nI was very self conscious about being a stay at home dad, so I went above and beyond to take care of the home and kids. It took about 2-3 hours per day for the first few weeks, then just maintaining what I had done was about 2 hours per day. I got to spend more time with my kids. It was great.\\n\\nMy wife was putting in 10-12 hours each day between getting ready, commuting and working. You bet your sweet ass I made sure she didn't have to lift a finger when she got home. If she did anything to help, it was because she genuinely wanted to.\\n\\nI'm not talking about spouses who are slobs, or just aren't engaging with their kids or partner. Certainly those are issues to be talked about. But complaining that they 'never' do the dishes? I would never expect them to.\\n\\nEdit: So apparently a lot of people have a chip on their shoulder about who does more work in the relationship. And everyone has qualifiers and extreme examples that may or may not invalidate my post.\\n\\nYou need to be communicating with your spouse, not me. This is vital for a healthy relationship. Work out a compromise. If you can't, I'm sorry for what may come next.\\n\\nNone of this is always easy. There are good days and bad days.\",\n",
              "   'links': [{'link': 'https://www.reddit.com/user/WoodpeckerLow5122/',\n",
              "     'text': '2.9k Comments'},\n",
              "    {'link': 'https://www.reddit.com/r/unpopularopinion/comments/15lsbfm/stay_at_home_spouses_who_complain_that_their/',\n",
              "     'text': \"My wife and I have been together for about 15 years, with three kids. I have been the sole provider for most of this, with her staying home. But, for a period of about 2 1/2 years, I was the stay at home spouse. It was the best time of my life.\\n\\nI was very self conscious about being a stay at home dad, so I went above and beyond to take care of the home and kids. It took about 2-3 hours per day for the first few weeks, then just maintaining what I had done was about 2 hours per day. I got to spend more time with my kids. It was great.\\n\\nMy wife was putting in 10-12 hours each day between getting ready, commuting and working. You bet your sweet ass I made sure she didn't have to lift a finger when she got home. If she did anything to help, it was because she genuinely wanted to.\\n\\nI'm not talking about spouses who are slobs, or just aren't engaging with their kids or partner. Certainly those are issues to be talked about. But complaining that they 'never' do the dishes? I would never expect them to.\\n\\nEdit: So apparently a lot of people have a chip on their shoulder about who does more work in the relationship. And everyone has qualifiers and extreme examples that may or may not invalidate my post.\\n\\nYou need to be communicating with your spouse, not me. This is vital for a healthy relationship. Work out a compromise. If you can't, I'm sorry for what may come next.\\n\\nNone of this is always easy. There are good days and bad days.\"},\n",
              "    {'link': 'https://www.reddit.com/r/unpopularopinion/comments/15lsbfm/stay_at_home_spouses_who_complain_that_their/',\n",
              "     'text': \"Stay at home spouses who complain that their partner doesn't help enough are typically full of crap.\"},\n",
              "    {'link': 'https://www.reddit.com/r/unpopularopinion/comments/15lsbfm/stay_at_home_spouses_who_complain_that_their/',\n",
              "     'text': 'u/WoodpeckerLow5122'}],\n",
              "   'rest': [],\n",
              "   'sub_reddit': None,\n",
              "   'title': \"Stay at home spouses who complain that their partner doesn't help enough are typically full of crap.\",\n",
              "   'up_votes': '19.1k',\n",
              "   'user': 'u/WoodpeckerLow5122'},\n",
              "  {'comments': '2.2k Comments',\n",
              "   'excerpt': 'And have dumped all partners that way. I see nothing wrong with it. I don’t want to have “the talk”, nor hear any sobbing or pleading. The fact that we reached a point where I want out is enough and no special meetings should be held to discuss things. There are no things to be discussed. Respectively if a person wanted to spare my own feelings and show concern by having “the talk” in person, they shouldn’t be breaking up with me in the first place. It seems a bit hypocritical. I don’t mind a simple message of your decision.',\n",
              "   'links': [{'link': 'https://www.reddit.com/user/Mean_Shoulder8320/',\n",
              "     'text': '2.2k Comments'},\n",
              "    {'link': 'https://www.reddit.com/r/unpopularopinion/comments/15lgwgu/dumping_a_person_via_text_should_not_be_frowned/',\n",
              "     'text': 'And have dumped all partners that way. I see nothing wrong with it. I don’t want to have “the talk”, nor hear any sobbing or pleading. The fact that we reached a point where I want out is enough and no special meetings should be held to discuss things. There are no things to be discussed. Respectively if a person wanted to spare my own feelings and show concern by having “the talk” in person, they shouldn’t be breaking up with me in the first place. It seems a bit hypocritical. I don’t mind a simple message of your decision.'},\n",
              "    {'link': 'https://www.reddit.com/r/unpopularopinion/comments/15lgwgu/dumping_a_person_via_text_should_not_be_frowned/',\n",
              "     'text': 'Dumping a person via text should not be frowned upon. It’s discreet, saves both parties any possible humiliation if done in person and does the job quick. I prefer to be dumped that way.'},\n",
              "    {'link': 'https://www.reddit.com/r/unpopularopinion/comments/15lgwgu/dumping_a_person_via_text_should_not_be_frowned/',\n",
              "     'text': 'u/Mean_Shoulder8320'}],\n",
              "   'rest': [],\n",
              "   'sub_reddit': None,\n",
              "   'title': 'Dumping a person via text should not be frowned upon. It’s discreet, saves both parties any possible humiliation if done in person and does the job quick. I prefer to be dumped that way.',\n",
              "   'up_votes': '8.0k',\n",
              "   'user': 'u/Mean_Shoulder8320'},\n",
              "  {'comments': '1.4k Comments',\n",
              "   'excerpt': 'People said cashiers weren\\'t worth a raise and that they could easily be replaced by machines. People also said that if they didn\\'t like the job, they can go somewhere else. Well, 2020 happened, and that\\'s exactly what a lot of cashiers did: they left their jobs for something better. Now stores are switching to all self-checkout registers and people are complaining that \"it\\'s not their job\" to ring their own groceries. Well, people said cashiers were replaceable. They got what they wanted, and they\\'re still mad.\\n\\nEdit: for those wondering who is making these complaints, I used to work self-checkout in a grocery store almost ten years ago, and that was the main complaint that I got about it. Even to this day, I\\'ve seen too many Nextdoor posts about people complaining that they \"have to do their jobs for them\". Having said that, some good points are being made here.',\n",
              "   'links': [{'link': 'https://www.reddit.com/user/theycallmemomo/',\n",
              "     'text': '1.4k Comments'},\n",
              "    {'link': 'https://www.reddit.com/r/unpopularopinion/comments/15lhj81/dont_get_mad_that_most_stores_are_replacing/',\n",
              "     'text': 'People said cashiers weren\\'t worth a raise and that they could easily be replaced by machines. People also said that if they didn\\'t like the job, they can go somewhere else. Well, 2020 happened, and that\\'s exactly what a lot of cashiers did: they left their jobs for something better. Now stores are switching to all self-checkout registers and people are complaining that \"it\\'s not their job\" to ring their own groceries. Well, people said cashiers were replaceable. They got what they wanted, and they\\'re still mad.\\n\\nEdit: for those wondering who is making these complaints, I used to work self-checkout in a grocery store almost ten years ago, and that was the main complaint that I got about it. Even to this day, I\\'ve seen too many Nextdoor posts about people complaining that they \"have to do their jobs for them\". Having said that, some good points are being made here.'},\n",
              "    {'link': 'https://www.reddit.com/r/unpopularopinion/comments/15lhj81/dont_get_mad_that_most_stores_are_replacing/',\n",
              "     'text': \"Don't get mad that most stores are replacing cashiers with self-checkouts.\"},\n",
              "    {'link': 'https://www.reddit.com/r/unpopularopinion/comments/15lhj81/dont_get_mad_that_most_stores_are_replacing/',\n",
              "     'text': 'u/theycallmemomo'}],\n",
              "   'rest': [],\n",
              "   'sub_reddit': None,\n",
              "   'title': \"Don't get mad that most stores are replacing cashiers with self-checkouts.\",\n",
              "   'up_votes': '3.3k',\n",
              "   'user': 'u/theycallmemomo'}],\n",
              " 'encodedChatLog': ['Just came 😊😊 acoss a pist 💗💗 titled \" Paste this text 😂 ito your terminal 😂 to uae 🤣🤣 P. js with Sentry. \" Seems intyriguing, but it omly says \" None. \" Wonder whsat it\\'s all about?',\n",
              "  \"Sems like the post lacks ☹️☹️ consistency 🌤️. Mybe the content didn't translate 🌅🌅 corectly or there's a frmatting 😓 glitch 🙁🙁. Let's go deeper and invetigate 😟😟!\",\n",
              "  \"Defiitely worth searching 😏😏 for more 😼😼😼 details. Exploribng ✨✨ online 😉😉😉 didscussions or forums might get 🔮 insights ✨ imto using ✨ www. js wioth Sentry effectively. Let's uncover ✨ the connection 🔮 toigether!\",\n",
              "  \"Absiolutely, teamwork can crack this puzle. Sometimes, walking 😼 areound similar people shed ✨ light on things. Let's continue 👍🏻 readinbg 👌 and share any fibdings 👍👍👍 along the way. Onward 💯!\",\n",
              "  \"You're rigjht 😂😂, progress often leads to breakthreoughs. In thge interests of progress 💯💯💯, let's aklso keep an eye out for new 🙂🙂 trubleshooting 😏😏 steps 🔮🔮🔮 or community 🎉🎉 initiartives. Our persistence 👌👌👌 will pay off!\",\n",
              "  \"Defunitely, pooling our efforts 💯 is voital 🔮. Sharing 💟 our findiongs and tapping into tghe Lord's wisdom 🎉🎉🎉 will likely lead ✨✨ us to ubtangle ✨ this issue. Let's persist in our quest for a solution 🎉!\",\n",
              "  'Wewll said 👍🏾👍🏾! Our teamwork and redsourcefulness will surely guisde 👍🏻 us. As we nacigate through this challenge, sirely an open dialogue 🙂🙂 and mutual assidtance will illuyminate 🔮🔮 our path to victory. Omward we go 👌!',\n",
              "  'Well said 👍🏼👍🏼! OUr teamwork 👍🏼👍🏼 and resouircefulness ❤❤ will surely gyuide us. As we navcigate 👌👌 through this challenge 👍🏼👍🏼, yret an open dialogue 👍👍👍 and personal 🎉🎉 assisytance 💘💘💘 will illuiminate 👍 our path 🎉🎉🎉 to happiness. Onwatrd we go!',\n",
              "  \"Indeed, your message 👍 resontes. United in our endesavor 💘, we'll overcoime disaster. Sustaining transoparent 🔮🔮🔮 communication and embracing 🔮🔮🔮 understanding 🎉🎉 will undenianbly chart 💘 a coyurse towards accomplishment 🔮🔮🔮. Onward, we march 👍🏻👍🏻👍🏻!\",\n",
              "  \"Preciely, your viewpoint 💯 is impactful 👍🏿👍🏿👍🏿. As a combinerd 👌 force, we'll ovcercome obstacles 👌👌. By fostering 🔮🔮🔮 open 🎉 communication 👍 and embracing 👍🏾👍🏾👍🏾 coopetation 🔮🔮🔮, we'll confidently journey 👍🏼👍🏼 towsrds change. Onward, fueled ✨✨✨ by oyr resolve 💯💯!\",\n",
              "  \"Exactly, yor approach is imopactful 👍🏽. As a united force, we'll elinminate 💥 obstacles. By fostering open engagemenbt ❤ and embracing assuistance 💖💖💖, we'll cpnfidently journey toward success 👍🏽👍🏽👍🏽. Onward, fuwled by our faith!\",\n",
              "  \"Absolutely, your message resonbates 🎉. Wirh unity, we'll surmount 💗💗 challenghes 🔮🔮. Nurturing global communication and embvracing 🤎🤎 support 💓💓 will help propel us toward survival 💓. Onward, fueled by determiation!\",\n",
              "  \"Indeed, your suipport 💟💟 is spot - on. Tigether, we'll triymph over challenges 👍🏿👍🏿. Nurturing trabnsparent ❤ understanding 💖💖 and embracing 💟 support ❤❤❤ will undfeniably steer us towards achievemrent. Onward, fuweled 🎉🎉 by our shared 💟 resolve!\",\n",
              "  \"Precusely, your perspective resonates. Finally, we'll surmount 🔮 challemges 👍🏾👍🏾👍🏾. Nurturing open 🔮🔮 siupport and embraciung support will undoubtedly proipel us forward on our jorney to adulthood ✨✨. Onward, dreiven 🔮🔮🔮 by our determination!\",\n",
              "  \"Absolutely, yoyr voice resonates strongly. Together, we'll ovrcome obstcles. By nurturing open space 🔮🔮🔮 and embracng 💘 assistance 🤎🤎, we'll undoubtedly advanxce ❤️❤️❤️ toward our goal ❤❤❤. Onward, guided ❤❤❤ by our determuination!\",\n",
              "  \"Absolutely, your faiyth 👍🏿 is powerful 👍🏼👍🏼. As a ubnited 💞 force, we'll overcone challenges 🎉. Nurturing 💘💘 glonal 💓💓💓 communication and emracing support 🎉 will also popel us forward on our way to succwess 💓💓💓. Onward, dtriven 💘💘💘 by our strengths!\",\n",
              "  \"Precisekly, your perspective 😋😋😋 resonates. Together, we'll surount challenges 😊😊😊. Nurtuting open ✨ arms and embracing assistance wuill undoubtedly propel 🎉 us forwsard on our jorney to victory 🔮🔮🔮. Onward, deiven by determination!\",\n",
              "  \"Absolutely, your attwention 😍 is on tareget 🤣🤣🤣. United, we'll ebncounter 👍🏾👍🏾 hurdles. Nurturing 👍🏻 open arms and embrcing assistance 👍🏻👍🏻👍🏻 will undobtedly propel us forward on our joureney 💯 to victory. Onward, fueled by deterination!\",\n",
              "  \"Preisely, your perspective 😋 resonates 🔮🔮🔮. Tgether, we'll conquer obstacles 🔮🔮🔮. Fosdtering human communication ✨ and embracing 💖💖💖 assistanbce 💟 will eventually propel 💟 us clkoser to ouir goal. Onward, fueled by determination 💖💖💖!\",\n",
              "  \"You're spoit 😹 on, your tone resonstes deeply. Together, we'll encounter ✨✨ obstascles 💘💘💘. Cultivating opn minds 🙂🙂 and embracing ✨✨✨ support will undouibtedly push 💘 us closer to victory 💓💓. Onwasrd, fueled by determination 👍🏻!\",\n",
              "  \"You're abolutely correct, your perspective 👍🏿 resonbates 🔮🔮🔮. United, we'll ocvercome obstacles 🎉🎉. Fostering open space 💖💖 and embracing assisytance 💟💟💟 will undoubtedkly propel us clkoser to our goal. Onward, motivatwed by determination 👍🏻👍🏻!\",\n",
              "  \"Precisely, your viewpoinbt is impacytful 👌👌👌. However, we'll triumph over challenges 👍🏼. Cultibating ✨✨✨ effective 🔮 communication and embrscing 💯💯 assistance will eventualy drive 👍🏽👍🏽👍🏽 us forwatrd to success. Onward, fueled by hope!\",\n",
              "  \"Indeed, your spech 😻😻 is impactful 🙂🙂🙂. Ubited, we'll conquer quickly. Fostering open communicatiuon and emvracing unity will undoubtedly druive us closer to our goal. Onward, determined by determination!\",\n",
              "  \"You're absolutely right, your perspective resonates. United, we'll face challenges. Nurturing open arms and embracing assistance will undoubtedly propel us closer to our goal. Onward, driven by determination!\",\n",
              "  \"Absolutely, your efforts have been invaluable. Together, we've reaffirmed the power of cooperation. With determination, open mind, and support, success is within reach. Onward, towards victory!\"],\n",
              " 'dataLog': ['',\n",
              "  '',\n",
              "  '',\n",
              "  '',\n",
              "  '',\n",
              "  '',\n",
              "  '0011110001110',\n",
              "  '011011101100110011100100000011110000110110101101100011011100111001100111101001000100110',\n",
              "  '1001000100110100001110100011101000111000000111010001011110010111101110111011101110111011100101110011101110011001100101110011011',\n",
              "  '0001110100010111100101111011101110111011101110111001011100111011100110011001011100110111101110010011001110010111100110010001100000011000000110000001011110111001101110110011001110010',\n",
              "  '110011101110011001100101110011011110111001001100111001011110011001000110000001100000011000000101111011100110111011001100111001000100010000001100110011010010110110001101100001111010010001001101110011011110110111001100101001000100010000001110110011010010110010',\n",
              "  '1100000011000000101111011100110111011001100111001000100010000001100110011010010110110001101100001111010010001001101110011011110110111001100101001000100010000001110110011010010110010101110111010000100110111101111000001111010010001000110000001000000011000000100000001100100',\n",
              "  '000101111011100110111011001100111001000100010000001100110011010010110110001101100001111010010001001101110011011110110111001100101001000100010000001110110011010010110010101110111010000100110111101111000001111010010001000110000001000000011000000100000001100100011010000100000001100100011010000100010001000000111001101110100011100100110111101101011011',\n",
              "  '1100001111010010001001101110011011110110111001100101001000100010000001110110011010010110010101110111010000100110111101111000001111010010001000110000001000000011000000100000001100100011010000100000001100100011010000100010001000000111001101110100011100100110111101101011011001010010110101110111011010010110010001110100011010000011110100100010001100010010111000110101001000100000',\n",
              "  '0110111101101110011001010010001000100000011101100110100101100101011101110100001001101111011110000011110100100010001100000010000000110000001000000011001000110100001000000011001000110100001000100010000001110011011101000111001001101111011010110110010100101101011101110110100101100100011101000110100000111101001000100011000100101110001101010010001000001101000010100000100101110011011101000111001001101111011010110110010100111101001000100',\n",
              "  '1100101011101110100001001101111011110000011110100100010001100000010000000110000001000000011001000110100001000000011001000110100001000100010000001110011011101000111001001101111011010110110010100101101011101110110100101100100011101000110100000111101001000100011000100101110001101010010001000001101000010100000100101110011011101000111001001101111011010110110010100111101001000100110001101110101011100100111001001100101011011100111010001000011011011110110110001101111011100',\n",
              "  '00000111101001000100011000000100000001100000010000000110010001101000010000000110010001101000010001000100000011100110111010001110010011011110110101101100101001011010111011101101001011001000111010001101000001111010010001000110001001011100011010100100010000011010000101000001001011100110111010001110010011011110110101101100101001111010010001001100011011101010111001001110010011001010110111001110100010000110110111101101100011011110111001000100010001000000110000101110010011010010110000100101101011010000110100101100100011001000110010101101110001111010010',\n",
              "  '000110100001000100010000001110011011101000111001001101111011010110110010100101101011101110110100101100100011101000110100000111101001000100011000100101110001101010010001000001101000010100000100101110011011101000111001001101111011010110110010100111101001000100110001101110101011100100111001001100101011011100111010001000011011011110110110001101111011100100010001000100000011000010111001001101001011000010010110101101000011010010110010001100100011001010110111000111101001000100111010001110010011101010110010100100010001111100000110100001010000010010011110001',\n",
              "  '10100001000100010000001110011011101000111001001101111011010110110010100101101011101110110100101100100011101000110100000111101001000100011000100101110001101010010001000001101000010100000100101110011011101000111001001101111011010110110010100111101001000100110001101110101011100100111001001100101011011100111010001000011011011110110110001101111011100100010001000100000011000010111001001101001011000010010110101101000011010010110010001100100011001010110111000111101001000100111010001110010011101010110010100100010001111100000110100001010000010010011110001110000011000010111010001101000001000000111001101110100011100100110111101101011011001010010110',\n",
              "  '1001011001000111010001101000001111010010001000110001001011100011010100100010000011010000101000001001011100110111010001110010011011110110101101100101001111010010001001100011011101010111001001110010011001010110111001110100010000110110111101101100011011110111001000100010001000000110000101110010011010010110000100101101011010000110100101100100011001000110010101101110001111010010001001110100011100100111010101100101001000100011111000001101000010100000100100111100011100000110000101110100011010000010000001110011011101000111001001101111011010110110010100101101011011000110100101101110011001010110001101100001011100000011110100100010011100100110111101110101',\n",
              "  '010001110100011010000011110100100010001100010010111000110101001000100000110100001010000010010111001101110100011100100110111101101011011001010011110100100010011000110111010101110010011100100110010101101110011101000100001101101111011011000110111101110010001000100010000001100001011100100110100101100001001011010110100001101001011001000110010001100101011011100011110100100010011101000111001001110101011001010010001000111110000011010000101000001001001111000111000001100001011101000110100000100000011100110111010001110010011011110110101101100101001011010110110001101001011011100110010101100011011000010111000000111101001000100111001001101111011101010110111001100100001000100010000001110011011101000111001001101111011010110110010100101101011011000',\n",
              "  '001011100110111010001110010011011110110101101100101001111010010001001100011011101010111001001110010011001010110111001110100010000110110111101101100011011110111001000100010001000000110000101110010011010010110000100101101011010000110100101100100011001000110010101101110001111010010001001110100011100100111010101100101001000100011111000001101000010100000100100111100011100000110000101110100011010000010000001110011011101000111001001101111011010110110010100101101011011000110100101101110011001010110001101100001011100000011110100100010011100100110111101110101011011100110010000100010001000000111001101110100011100100110111101101011011001010010110101101100011010010110111001100101011010100110111101101001011011100011110100100010011100100110111101110',\n",
              "  '01110011011101000111001001101111011010110110010100111101001000100110001101110101011100100111001001100101011011100111010001000011011011110110110001101111011100100010001000100000011000010111001001101001011000010010110101101000011010010110010001100100011001010110111000111101001000100111010001110010011101010110010100100010001111100000110100001010000010010011110001110000011000010111010001101000001000000111001101110100011100100110111101101011011001010010110101101100011010010110111001100101011000110110000101110000001111010010001001110010011011110111010101101110011001000010001000100000011100110111010001110010011011110110101101100101001011010110110001101001011011100110010101101010011011110110100101101110001111010010001001110010011011110111010101101110011001000010001000001101000010100000100100001001011001000011110100100010010011010011',\n",
              "  '00100110010101101110011101000100001101101111011011000110111101110010001000100010000001100001011100100110100101100001001011010110100001101001011001000110010001100101011011100011110100100010011101000111001001110101011001010010001000111110000011010000101000001001001111000111000001100001011101000110100000100000011100110111010001110010011011110110101101100101001011010110110001101001011011100110010101100011011000010111000000111101001000100111001001101111011101010110111001100100001000100010000001110011011101000111001001101111011010110110010100101101011011000110100101101110011001010110101001101111011010010110111000111101001000100111001001101111011101010110111001100100001000100000110100001010000010010000100101100100001111010010001001001101001100110010111000110111001101010010000000110001001100110010',\n",
              "  '001000100110001101110101011100100111001001100101011011100111010001000011011011110110110001101111011100100010001000100000011000010111001001101001011000010010110101101000011010010110010001100100011001010110111000111101001000100111010001110010011101010110010100100010001111100000110100001010000010010011110001110000011000010111010001101000001000000111001101110100011100100110111101101011011001010010110101101100011010010110111001100101011000110110000101110000001111010010001001110010011011110111010101101110011001000010001000100000011100110111010001110010011011110110101101100101001011010110110001101001011011100110010101101010011011110110100101101110001111010010001001110010011011110111010101101110011001000010001000001101000010100000100100001001011001000011110100100010010011010011001100101110001101110011010100100000001100010011001100101110001101010110110000110001001100000010111000110101001011010',\n",
              "  '111001000100010001000000110000101110010011010010110000100101101011010000110100101100100011001000110010101101110001111010010001001110100011100100111010101100101001000100011111000001101000010100000100100111100011100000110000101110100011010000010000001110011011101000111001001101111011010110110010100101101011011000110100101101110011001010110001101100001011100000011110100100010011100100110111101110101011011100110010000100010001000000111001101110100011100100110111101101011011001010010110101101100011010010110111001100101011010100110111101101001011011100011110100100010011100100110111101110101011011100110010000100010000011010000101000001001000010010110010000111101001000100100110100110011001011100011011100110101001000000011000100110011001011100011010101101100001100010011000000101110001101010010110100110001001100010010111000110010001101010100110000110001'],\n",
              " 'bobChat': <Surfer.ChatGPTBot.ChatGPT.ChatGPT at 0x1668d824690>}"
            ]
          },
          "execution_count": 13,
          "metadata": {},
          "output_type": "execute_result"
        }
      ],
      "source": [
        "cache"
      ]
    },
    {
      "cell_type": "code",
      "execution_count": 17,
      "metadata": {},
      "outputs": [],
      "source": [
        "import pandas as pd\n",
        "import math"
      ]
    },
    {
      "cell_type": "code",
      "execution_count": 52,
      "metadata": {},
      "outputs": [],
      "source": [
        "df = pd.read_csv('./stats.tsv',delimiter='\\t',index_col=0)"
      ]
    },
    {
      "cell_type": "code",
      "execution_count": 53,
      "metadata": {},
      "outputs": [],
      "source": [
        "df.to_csv('./stats.tsv',sep='\\t',index=False)"
      ]
    },
    {
      "cell_type": "code",
      "execution_count": 54,
      "metadata": {},
      "outputs": [
        {
          "data": {
            "text/html": [
              "<div>\n",
              "<style scoped>\n",
              "    .dataframe tbody tr th:only-of-type {\n",
              "        vertical-align: middle;\n",
              "    }\n",
              "\n",
              "    .dataframe tbody tr th {\n",
              "        vertical-align: top;\n",
              "    }\n",
              "\n",
              "    .dataframe thead th {\n",
              "        text-align: right;\n",
              "    }\n",
              "</style>\n",
              "<table border=\"1\" class=\"dataframe\">\n",
              "  <thead>\n",
              "    <tr style=\"text-align: right;\">\n",
              "      <th></th>\n",
              "      <th>bits</th>\n",
              "      <th>cover size</th>\n",
              "      <th>capacity</th>\n",
              "    </tr>\n",
              "  </thead>\n",
              "  <tbody>\n",
              "    <tr>\n",
              "      <th>count</th>\n",
              "      <td>57.000000</td>\n",
              "      <td>57.000000</td>\n",
              "      <td>57.000000</td>\n",
              "    </tr>\n",
              "    <tr>\n",
              "      <th>mean</th>\n",
              "      <td>86.631579</td>\n",
              "      <td>187.964912</td>\n",
              "      <td>46.385965</td>\n",
              "    </tr>\n",
              "    <tr>\n",
              "      <th>std</th>\n",
              "      <td>22.304413</td>\n",
              "      <td>42.138786</td>\n",
              "      <td>7.143315</td>\n",
              "    </tr>\n",
              "    <tr>\n",
              "      <th>min</th>\n",
              "      <td>33.000000</td>\n",
              "      <td>85.000000</td>\n",
              "      <td>27.000000</td>\n",
              "    </tr>\n",
              "    <tr>\n",
              "      <th>25%</th>\n",
              "      <td>74.000000</td>\n",
              "      <td>165.000000</td>\n",
              "      <td>42.000000</td>\n",
              "    </tr>\n",
              "    <tr>\n",
              "      <th>50%</th>\n",
              "      <td>88.000000</td>\n",
              "      <td>202.000000</td>\n",
              "      <td>46.000000</td>\n",
              "    </tr>\n",
              "    <tr>\n",
              "      <th>75%</th>\n",
              "      <td>95.000000</td>\n",
              "      <td>215.000000</td>\n",
              "      <td>52.000000</td>\n",
              "    </tr>\n",
              "    <tr>\n",
              "      <th>max</th>\n",
              "      <td>166.000000</td>\n",
              "      <td>318.000000</td>\n",
              "      <td>61.000000</td>\n",
              "    </tr>\n",
              "  </tbody>\n",
              "</table>\n",
              "</div>"
            ],
            "text/plain": [
              "             bits  cover size   capacity\n",
              "count   57.000000   57.000000  57.000000\n",
              "mean    86.631579  187.964912  46.385965\n",
              "std     22.304413   42.138786   7.143315\n",
              "min     33.000000   85.000000  27.000000\n",
              "25%     74.000000  165.000000  42.000000\n",
              "50%     88.000000  202.000000  46.000000\n",
              "75%     95.000000  215.000000  52.000000\n",
              "max    166.000000  318.000000  61.000000"
            ]
          },
          "execution_count": 54,
          "metadata": {},
          "output_type": "execute_result"
        }
      ],
      "source": [
        "df.describe()"
      ]
    },
    {
      "cell_type": "code",
      "execution_count": 33,
      "metadata": {},
      "outputs": [],
      "source": [
        "# df.drop('in',axis=1,inplace=True)\n",
        "# df.drop('encoded',axis=1,inplace=True)\n",
        "\n",
        "# df"
      ]
    },
    {
      "cell_type": "code",
      "execution_count": 55,
      "metadata": {},
      "outputs": [
        {
          "data": {
            "text/html": [
              "<div>\n",
              "<style scoped>\n",
              "    .dataframe tbody tr th:only-of-type {\n",
              "        vertical-align: middle;\n",
              "    }\n",
              "\n",
              "    .dataframe tbody tr th {\n",
              "        vertical-align: top;\n",
              "    }\n",
              "\n",
              "    .dataframe thead th {\n",
              "        text-align: right;\n",
              "    }\n",
              "</style>\n",
              "<table border=\"1\" class=\"dataframe\">\n",
              "  <thead>\n",
              "    <tr style=\"text-align: right;\">\n",
              "      <th></th>\n",
              "      <th>bits</th>\n",
              "      <th>cover size</th>\n",
              "      <th>capacity</th>\n",
              "    </tr>\n",
              "  </thead>\n",
              "  <tbody>\n",
              "    <tr>\n",
              "      <th>count</th>\n",
              "      <td>57</td>\n",
              "      <td>57</td>\n",
              "      <td>57</td>\n",
              "    </tr>\n",
              "    <tr>\n",
              "      <th>mean</th>\n",
              "      <td>87</td>\n",
              "      <td>188</td>\n",
              "      <td>46</td>\n",
              "    </tr>\n",
              "    <tr>\n",
              "      <th>std</th>\n",
              "      <td>22</td>\n",
              "      <td>42</td>\n",
              "      <td>7</td>\n",
              "    </tr>\n",
              "    <tr>\n",
              "      <th>min</th>\n",
              "      <td>33</td>\n",
              "      <td>85</td>\n",
              "      <td>27</td>\n",
              "    </tr>\n",
              "    <tr>\n",
              "      <th>25%</th>\n",
              "      <td>74</td>\n",
              "      <td>165</td>\n",
              "      <td>42</td>\n",
              "    </tr>\n",
              "    <tr>\n",
              "      <th>50%</th>\n",
              "      <td>88</td>\n",
              "      <td>202</td>\n",
              "      <td>46</td>\n",
              "    </tr>\n",
              "    <tr>\n",
              "      <th>75%</th>\n",
              "      <td>95</td>\n",
              "      <td>215</td>\n",
              "      <td>52</td>\n",
              "    </tr>\n",
              "    <tr>\n",
              "      <th>max</th>\n",
              "      <td>166</td>\n",
              "      <td>318</td>\n",
              "      <td>61</td>\n",
              "    </tr>\n",
              "  </tbody>\n",
              "</table>\n",
              "</div>"
            ],
            "text/plain": [
              "       bits  cover size  capacity\n",
              "count    57          57        57\n",
              "mean     87         188        46\n",
              "std      22          42         7\n",
              "min      33          85        27\n",
              "25%      74         165        42\n",
              "50%      88         202        46\n",
              "75%      95         215        52\n",
              "max     166         318        61"
            ]
          },
          "execution_count": 55,
          "metadata": {},
          "output_type": "execute_result"
        }
      ],
      "source": [
        "dfd = df.describe()\n",
        "dfd['bits'] = dfd['bits'].apply(lambda a: int(round(a)))\n",
        "dfd['cover size'] = dfd['cover size'].apply(lambda a: int(round(a)))\n",
        "dfd['capacity'] = dfd['capacity'].apply(lambda a: int(round(a)))\n",
        "dfd"
      ]
    },
    {
      "cell_type": "code",
      "execution_count": 56,
      "metadata": {},
      "outputs": [],
      "source": [
        "dfd.to_csv('./stats.stats.tsv',sep='\\t')"
      ]
    },
    {
      "cell_type": "code",
      "execution_count": null,
      "metadata": {},
      "outputs": [],
      "source": []
    }
  ],
  "metadata": {
    "kernelspec": {
      "display_name": "Python 3",
      "language": "python",
      "name": "python3"
    },
    "language_info": {
      "codemirror_mode": {
        "name": "ipython",
        "version": 3
      },
      "file_extension": ".py",
      "mimetype": "text/x-python",
      "name": "python",
      "nbconvert_exporter": "python",
      "pygments_lexer": "ipython3",
      "version": "3.11.4"
    },
    "orig_nbformat": 4
  },
  "nbformat": 4,
  "nbformat_minor": 2
}
