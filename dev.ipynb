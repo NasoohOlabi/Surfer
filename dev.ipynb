{
 "cells": [
  {
   "cell_type": "code",
   "execution_count": null,
   "metadata": {},
   "outputs": [],
   "source": [
    "import time\n",
    "import random\n",
    "from selenium.webdriver.common.by import By\n",
    "from selenium.webdriver.support.wait import WebDriverWait\n",
    "from selenium.webdriver.support import expected_conditions as EC\n",
    "import random\n",
    "import json\n",
    "from selenium import webdriver\n",
    "from selenium.webdriver.common.action_chains import ActionChains\n",
    "import string\n",
    "from itertools import islice\n",
    "from selenium.webdriver.common.keys import Keys\n",
    "# from Feed import Feed\n",
    "from icecream import ic\n",
    "from typing import Iterator, Any, List"
   ]
  },
  {
   "cell_type": "code",
   "execution_count": null,
   "metadata": {},
   "outputs": [],
   "source": [
    "def get_script(fname:str):\n",
    "  script = ''\n",
    "  with open(f'./scripts/{fname}.js','r') as f:\n",
    "    script = f.read()\n",
    "  script = script.replace('\\n','')\n",
    "  def replacer(*args):\n",
    "    acc = script\n",
    "    for i,x in enumerate(args):\n",
    "      acc = acc.replace('#'+str(i),str(x))\n",
    "    return 'try{' + f'console.log(`{fname}`,JSON.parse(`{json.dumps(args)}`));'+acc+'}catch(err){console.log(`{fname}`,err);}'\n",
    "  return replacer\n",
    "def script_runner(driver):\n",
    "  def run_script(name:str,verbose=False):\n",
    "    def script(*args:Any):\n",
    "      script_string = get_script(name)(*args)\n",
    "      answer = driver.execute_script(script_string)\n",
    "      if verbose:\n",
    "        print('script_string: ',script_string,' Answer: ', answer)\n",
    "      return answer\n",
    "    return script\n",
    "  return run_script"
   ]
  },
  {
   "cell_type": "code",
   "execution_count": null,
   "metadata": {},
   "outputs": [],
   "source": [
    "from Surfer import GetBrowser,RedditFeed,Feed\n",
    "\n",
    "driver = GetBrowser()"
   ]
  },
  {
   "cell_type": "code",
   "execution_count": null,
   "metadata": {},
   "outputs": [],
   "source": [
    "run_script = script_runner(driver)"
   ]
  },
  {
   "cell_type": "code",
   "execution_count": null,
   "metadata": {},
   "outputs": [],
   "source": [
    "def uuid():\n",
    "    letters_digits = string.ascii_letters\n",
    "    return ''.join(random.choice(letters_digits) for i in range(20))"
   ]
  },
  {
   "cell_type": "code",
   "execution_count": null,
   "metadata": {},
   "outputs": [],
   "source": [
    "def N(\n",
    "  mean = 0.5\n",
    "\t, stddev = 0.01\n",
    "\t, bounds = None\n",
    "):\n",
    "\tif bounds:\n",
    "\t\treturn max(bounds[0], min(random.normalvariate(mean, stddev) , bounds[1]))\n",
    "\telse:\n",
    "\t\treturn random.normalvariate(mean, stddev)\n"
   ]
  },
  {
   "cell_type": "code",
   "execution_count": 17,
   "metadata": {},
   "outputs": [],
   "source": [
    "class RedditFeed(Feed):\n",
    "\tdef __init__(self, driver,skip=True,verbose=False):\n",
    "\t\tsuper()\n",
    "\t\tself.name = 'Reddit Feed'\n",
    "\t\t# Store the WebDriver instance\n",
    "\t\tself.driver = driver\n",
    "\t\tself.verbose = verbose\n",
    "\t\tself.in_feed = True\n",
    "\t\tif not skip:\n",
    "\t\t\tself.driver.get('https://www.reddit.com/')\n",
    "\t\t\trun_script('listen to clicks')()\n",
    "\n",
    "\t\trun_script('init_reddit',verbose=self.verbose)()\n",
    "\n",
    "\tdef __iter__(self) -> Iterator[Any]:\n",
    "\t\twhile True and self.in_feed:\n",
    "\t\t\tif not run_script('check curser',verbose=self.verbose)():\n",
    "\t\t\t\tcontinue\n",
    "\t\t\trun_script('scroll 2 curser',verbose=self.verbose)(N(bounds=[0,1]),N(bounds=[0,1]),random.randint(1,25)/100)\n",
    "\t\t\twhile run_script('check still scrolling')():\n",
    "\t\t\t\ttime.sleep(0.1)\n",
    "\t\t\tyield run_script('parse post',verbose=self.verbose)()\n",
    "\t\t\trun_script('curser next')()\n",
    "\n",
    "\tdef click_post(self, newTab=True):\n",
    "\t\tid = uuid()\n",
    "\t\trun_script('mark curser', verbose=self.verbose)(id)\n",
    "\t\t# Find the DOM element to click on\n",
    "\t\tsel = f'.{id}'\n",
    "\t\telement = driver.find_element(By.CSS_SELECTOR, sel)\n",
    "\t\t# Get the dimensions and position of the element\n",
    "\t\telement_rect = run_script('curser location')()\n",
    "\n",
    "\t\t# Calculate the x and y coordinates of the random point in the upper center of the element\n",
    "\t\tX = element_rect['x'] + N(element_rect[\"width\"] // 2,0.05) \n",
    "\t\tY = element_rect['y'] + random.randint(0, element_rect[\"height\"] // 2)\n",
    "\t\t\t# Move the mouse to the calculated coordinates and click\n",
    "\t\t# actions = ActionChains(driver)\n",
    "\t\telement.click()\n",
    "\t\tself.in_feed = False\n",
    "\t\t# ic(X)\n",
    "\t\t# ic(Y)\n",
    "\t\t# if newTab:\n",
    "\t\t# \t\tactions.move_to_element_with_offset(element, X, Y) \\\n",
    "\t\t# \t\t\t\t.key_down(Keys.CONTROL) \\\n",
    "\t\t# \t\t\t\t.click() \\\n",
    "\t\t# \t\t\t\t.key_up(Keys.CONTROL) \\\n",
    "\t\t# \t\t\t\t.perform()\n",
    "\t\t# else:\n",
    "\t\t# \t\tactions.move_to_element_with_offset(element, X, Y) \\\n",
    "\t\t# \t\t\t\t.click() \\\n",
    "\t\t# \t\t\t\t.perform()\n",
    "\n",
    "\n",
    "\tdef close(self):\n",
    "\t\t# Close the WebDriver instance\n",
    "\t\tself.driver.quit()"
   ]
  },
  {
   "cell_type": "code",
   "execution_count": 20,
   "metadata": {},
   "outputs": [],
   "source": [
    "rf = RedditFeed(driver,skip=False)\n",
    "# rf = RedditFeed(driver,skip=True)"
   ]
  },
  {
   "cell_type": "code",
   "execution_count": 21,
   "metadata": {},
   "outputs": [
    {
     "name": "stdout",
     "output_type": "stream",
     "text": [
      "{'comments': '7.3k Comments', 'excerpt': None, 'links': [{'link': 'https://www.reddit.com/r/facepalm/', 'text': '7.3k Comments'}, {'link': 'https://www.reddit.com/r/facepalm/', 'text': ''}, {'link': 'https://www.reddit.com/user/abbiebe89/', 'text': ' 🇲\\u200b🇮\\u200b🇸\\u200b🇨\\u200b'}, {'link': 'https://www.reddit.com/r/facepalm/comments/12wqhvi/nashville_tennessee_christian_school_refused_to/', 'text': 'Nashville, Tennessee Christian School refused to allow a female student to enter prom because she was wearing a suit.'}, {'link': 'https://www.reddit.com/r/facepalm/?f=flair_name%3A%22%3AMisc%3A%20%F0%9F%87%B2%E2%80%8B%F0%9F%87%AE%E2%80%8B%F0%9F%87%B8%E2%80%8B%F0%9F%87%A8%E2%80%8B%22', 'text': 'u/abbiebe89'}, {'link': 'https://www.reddit.com/r/facepalm/comments/12wqhvi/nashville_tennessee_christian_school_refused_to/', 'text': 'r/facepalm'}, {'link': 'https://www.reddit.com/r/facepalm/comments/12wqhvi/nashville_tennessee_christian_school_refused_to/', 'text': ''}], 'rest': [' 🇲\\u200b🇮\\u200b🇸\\u200b🇨\\u200b'], 'sub_reddit': 'r/facepalm', 'title': 'Nashville, Tennessee Christian School refused to allow a female student to enter prom because she was wearing a suit.', 'up_votes': '109k', 'user': 'u/abbiebe89'}\n"
     ]
    },
    {
     "name": "stderr",
     "output_type": "stream",
     "text": [
      "ic| X: 333.06363869767233\n",
      "ic| Y: 173\n"
     ]
    },
    {
     "ename": "KeyboardInterrupt",
     "evalue": "",
     "output_type": "error",
     "traceback": [
      "\u001b[1;31m---------------------------------------------------------------------------\u001b[0m",
      "\u001b[1;31mKeyboardInterrupt\u001b[0m                         Traceback (most recent call last)",
      "\u001b[1;32mc:\\Users\\nasooh\\Desktop\\School_is_cool\\Y5Project\\Surfer\\dev.ipynb Cell 9\u001b[0m in \u001b[0;36m2\n\u001b[0;32m      <a href='vscode-notebook-cell:/c%3A/Users/nasooh/Desktop/School_is_cool/Y5Project/Surfer/dev.ipynb#X10sZmlsZQ%3D%3D?line=0'>1</a>\u001b[0m time\u001b[39m.\u001b[39msleep(\u001b[39m4\u001b[39m)\n\u001b[1;32m----> <a href='vscode-notebook-cell:/c%3A/Users/nasooh/Desktop/School_is_cool/Y5Project/Surfer/dev.ipynb#X10sZmlsZQ%3D%3D?line=1'>2</a>\u001b[0m \u001b[39mfor\u001b[39;00m x \u001b[39min\u001b[39;00m islice(rf,\u001b[39m15\u001b[39m):\n\u001b[0;32m      <a href='vscode-notebook-cell:/c%3A/Users/nasooh/Desktop/School_is_cool/Y5Project/Surfer/dev.ipynb#X10sZmlsZQ%3D%3D?line=2'>3</a>\u001b[0m   \u001b[39mprint\u001b[39m(x)\n\u001b[0;32m      <a href='vscode-notebook-cell:/c%3A/Users/nasooh/Desktop/School_is_cool/Y5Project/Surfer/dev.ipynb#X10sZmlsZQ%3D%3D?line=3'>4</a>\u001b[0m   time\u001b[39m.\u001b[39msleep(\u001b[39m2\u001b[39m\u001b[39m*\u001b[39m\u001b[39mmax\u001b[39m(\u001b[39m1\u001b[39m,\u001b[39mlen\u001b[39m(x) \u001b[39m*\u001b[39m \u001b[39m0.01\u001b[39m))\n",
      "\u001b[1;32mc:\\Users\\nasooh\\Desktop\\School_is_cool\\Y5Project\\Surfer\\dev.ipynb Cell 9\u001b[0m in \u001b[0;36m1\n\u001b[0;32m     <a href='vscode-notebook-cell:/c%3A/Users/nasooh/Desktop/School_is_cool/Y5Project/Surfer/dev.ipynb#X10sZmlsZQ%3D%3D?line=13'>14</a>\u001b[0m \u001b[39mdef\u001b[39;00m \u001b[39m__iter__\u001b[39m(\u001b[39mself\u001b[39m) \u001b[39m-\u001b[39m\u001b[39m>\u001b[39m Iterator[Any]:\n\u001b[0;32m     <a href='vscode-notebook-cell:/c%3A/Users/nasooh/Desktop/School_is_cool/Y5Project/Surfer/dev.ipynb#X10sZmlsZQ%3D%3D?line=14'>15</a>\u001b[0m \t\u001b[39mwhile\u001b[39;00m \u001b[39mTrue\u001b[39;00m:\n\u001b[1;32m---> <a href='vscode-notebook-cell:/c%3A/Users/nasooh/Desktop/School_is_cool/Y5Project/Surfer/dev.ipynb#X10sZmlsZQ%3D%3D?line=15'>16</a>\u001b[0m \t\t\u001b[39mif\u001b[39;00m \u001b[39mnot\u001b[39;00m run_script(\u001b[39m'\u001b[39;49m\u001b[39mcheck curser\u001b[39;49m\u001b[39m'\u001b[39;49m,verbose\u001b[39m=\u001b[39;49m\u001b[39mself\u001b[39;49m\u001b[39m.\u001b[39;49mverbose)():\n\u001b[0;32m     <a href='vscode-notebook-cell:/c%3A/Users/nasooh/Desktop/School_is_cool/Y5Project/Surfer/dev.ipynb#X10sZmlsZQ%3D%3D?line=16'>17</a>\u001b[0m \t\t\t\u001b[39mcontinue\u001b[39;00m\n\u001b[0;32m     <a href='vscode-notebook-cell:/c%3A/Users/nasooh/Desktop/School_is_cool/Y5Project/Surfer/dev.ipynb#X10sZmlsZQ%3D%3D?line=17'>18</a>\u001b[0m \t\trun_script(\u001b[39m'\u001b[39m\u001b[39mscroll 2 curser\u001b[39m\u001b[39m'\u001b[39m,verbose\u001b[39m=\u001b[39m\u001b[39mself\u001b[39m\u001b[39m.\u001b[39mverbose)(N(bounds\u001b[39m=\u001b[39m[\u001b[39m0\u001b[39m,\u001b[39m1\u001b[39m]),N(bounds\u001b[39m=\u001b[39m[\u001b[39m0\u001b[39m,\u001b[39m1\u001b[39m]),random\u001b[39m.\u001b[39mrandint(\u001b[39m1\u001b[39m,\u001b[39m25\u001b[39m)\u001b[39m/\u001b[39m\u001b[39m100\u001b[39m)\n",
      "\u001b[1;32mc:\\Users\\nasooh\\Desktop\\School_is_cool\\Y5Project\\Surfer\\dev.ipynb Cell 9\u001b[0m in \u001b[0;36m1\n\u001b[0;32m     <a href='vscode-notebook-cell:/c%3A/Users/nasooh/Desktop/School_is_cool/Y5Project/Surfer/dev.ipynb#X10sZmlsZQ%3D%3D?line=13'>14</a>\u001b[0m \u001b[39mdef\u001b[39;00m \u001b[39mscript\u001b[39m(\u001b[39m*\u001b[39margs:Any):\n\u001b[0;32m     <a href='vscode-notebook-cell:/c%3A/Users/nasooh/Desktop/School_is_cool/Y5Project/Surfer/dev.ipynb#X10sZmlsZQ%3D%3D?line=14'>15</a>\u001b[0m   script_string \u001b[39m=\u001b[39m get_script(name)(\u001b[39m*\u001b[39margs)\n\u001b[1;32m---> <a href='vscode-notebook-cell:/c%3A/Users/nasooh/Desktop/School_is_cool/Y5Project/Surfer/dev.ipynb#X10sZmlsZQ%3D%3D?line=15'>16</a>\u001b[0m   answer \u001b[39m=\u001b[39m driver\u001b[39m.\u001b[39;49mexecute_script(script_string)\n\u001b[0;32m     <a href='vscode-notebook-cell:/c%3A/Users/nasooh/Desktop/School_is_cool/Y5Project/Surfer/dev.ipynb#X10sZmlsZQ%3D%3D?line=16'>17</a>\u001b[0m   \u001b[39mif\u001b[39;00m verbose:\n\u001b[0;32m     <a href='vscode-notebook-cell:/c%3A/Users/nasooh/Desktop/School_is_cool/Y5Project/Surfer/dev.ipynb#X10sZmlsZQ%3D%3D?line=17'>18</a>\u001b[0m     \u001b[39mprint\u001b[39m(\u001b[39m'\u001b[39m\u001b[39mscript_string: \u001b[39m\u001b[39m'\u001b[39m,script_string,\u001b[39m'\u001b[39m\u001b[39m Answer: \u001b[39m\u001b[39m'\u001b[39m, answer)\n",
      "File \u001b[1;32m~\\AppData\\Roaming\\Python\\Python310\\site-packages\\selenium\\webdriver\\remote\\webdriver.py:500\u001b[0m, in \u001b[0;36mWebDriver.execute_script\u001b[1;34m(self, script, *args)\u001b[0m\n\u001b[0;32m    497\u001b[0m converted_args \u001b[39m=\u001b[39m \u001b[39mlist\u001b[39m(args)\n\u001b[0;32m    498\u001b[0m command \u001b[39m=\u001b[39m Command\u001b[39m.\u001b[39mW3C_EXECUTE_SCRIPT\n\u001b[1;32m--> 500\u001b[0m \u001b[39mreturn\u001b[39;00m \u001b[39mself\u001b[39;49m\u001b[39m.\u001b[39;49mexecute(command, {\u001b[39m\"\u001b[39;49m\u001b[39mscript\u001b[39;49m\u001b[39m\"\u001b[39;49m: script, \u001b[39m\"\u001b[39;49m\u001b[39margs\u001b[39;49m\u001b[39m\"\u001b[39;49m: converted_args})[\u001b[39m\"\u001b[39m\u001b[39mvalue\u001b[39m\u001b[39m\"\u001b[39m]\n",
      "File \u001b[1;32m~\\AppData\\Roaming\\Python\\Python310\\site-packages\\selenium\\webdriver\\remote\\webdriver.py:438\u001b[0m, in \u001b[0;36mWebDriver.execute\u001b[1;34m(self, driver_command, params)\u001b[0m\n\u001b[0;32m    435\u001b[0m     \u001b[39melif\u001b[39;00m \u001b[39m\"\u001b[39m\u001b[39msessionId\u001b[39m\u001b[39m\"\u001b[39m \u001b[39mnot\u001b[39;00m \u001b[39min\u001b[39;00m params:\n\u001b[0;32m    436\u001b[0m         params[\u001b[39m\"\u001b[39m\u001b[39msessionId\u001b[39m\u001b[39m\"\u001b[39m] \u001b[39m=\u001b[39m \u001b[39mself\u001b[39m\u001b[39m.\u001b[39msession_id\n\u001b[1;32m--> 438\u001b[0m response \u001b[39m=\u001b[39m \u001b[39mself\u001b[39;49m\u001b[39m.\u001b[39;49mcommand_executor\u001b[39m.\u001b[39;49mexecute(driver_command, params)\n\u001b[0;32m    439\u001b[0m \u001b[39mif\u001b[39;00m response:\n\u001b[0;32m    440\u001b[0m     \u001b[39mself\u001b[39m\u001b[39m.\u001b[39merror_handler\u001b[39m.\u001b[39mcheck_response(response)\n",
      "File \u001b[1;32m~\\AppData\\Roaming\\Python\\Python310\\site-packages\\selenium\\webdriver\\remote\\remote_connection.py:290\u001b[0m, in \u001b[0;36mRemoteConnection.execute\u001b[1;34m(self, command, params)\u001b[0m\n\u001b[0;32m    288\u001b[0m data \u001b[39m=\u001b[39m utils\u001b[39m.\u001b[39mdump_json(params)\n\u001b[0;32m    289\u001b[0m url \u001b[39m=\u001b[39m \u001b[39mf\u001b[39m\u001b[39m\"\u001b[39m\u001b[39m{\u001b[39;00m\u001b[39mself\u001b[39m\u001b[39m.\u001b[39m_url\u001b[39m}\u001b[39;00m\u001b[39m{\u001b[39;00mpath\u001b[39m}\u001b[39;00m\u001b[39m\"\u001b[39m\n\u001b[1;32m--> 290\u001b[0m \u001b[39mreturn\u001b[39;00m \u001b[39mself\u001b[39;49m\u001b[39m.\u001b[39;49m_request(command_info[\u001b[39m0\u001b[39;49m], url, body\u001b[39m=\u001b[39;49mdata)\n",
      "File \u001b[1;32m~\\AppData\\Roaming\\Python\\Python310\\site-packages\\selenium\\webdriver\\remote\\remote_connection.py:311\u001b[0m, in \u001b[0;36mRemoteConnection._request\u001b[1;34m(self, method, url, body)\u001b[0m\n\u001b[0;32m    308\u001b[0m     body \u001b[39m=\u001b[39m \u001b[39mNone\u001b[39;00m\n\u001b[0;32m    310\u001b[0m \u001b[39mif\u001b[39;00m \u001b[39mself\u001b[39m\u001b[39m.\u001b[39mkeep_alive:\n\u001b[1;32m--> 311\u001b[0m     response \u001b[39m=\u001b[39m \u001b[39mself\u001b[39;49m\u001b[39m.\u001b[39;49m_conn\u001b[39m.\u001b[39;49mrequest(method, url, body\u001b[39m=\u001b[39;49mbody, headers\u001b[39m=\u001b[39;49mheaders)\n\u001b[0;32m    312\u001b[0m     statuscode \u001b[39m=\u001b[39m response\u001b[39m.\u001b[39mstatus\n\u001b[0;32m    313\u001b[0m \u001b[39melse\u001b[39;00m:\n",
      "File \u001b[1;32m~\\AppData\\Roaming\\Python\\Python310\\site-packages\\urllib3\\request.py:78\u001b[0m, in \u001b[0;36mRequestMethods.request\u001b[1;34m(self, method, url, fields, headers, **urlopen_kw)\u001b[0m\n\u001b[0;32m     74\u001b[0m     \u001b[39mreturn\u001b[39;00m \u001b[39mself\u001b[39m\u001b[39m.\u001b[39mrequest_encode_url(\n\u001b[0;32m     75\u001b[0m         method, url, fields\u001b[39m=\u001b[39mfields, headers\u001b[39m=\u001b[39mheaders, \u001b[39m*\u001b[39m\u001b[39m*\u001b[39murlopen_kw\n\u001b[0;32m     76\u001b[0m     )\n\u001b[0;32m     77\u001b[0m \u001b[39melse\u001b[39;00m:\n\u001b[1;32m---> 78\u001b[0m     \u001b[39mreturn\u001b[39;00m \u001b[39mself\u001b[39m\u001b[39m.\u001b[39mrequest_encode_body(\n\u001b[0;32m     79\u001b[0m         method, url, fields\u001b[39m=\u001b[39mfields, headers\u001b[39m=\u001b[39mheaders, \u001b[39m*\u001b[39m\u001b[39m*\u001b[39murlopen_kw\n\u001b[0;32m     80\u001b[0m     )\n",
      "File \u001b[1;32m~\\AppData\\Roaming\\Python\\Python310\\site-packages\\urllib3\\request.py:170\u001b[0m, in \u001b[0;36mRequestMethods.request_encode_body\u001b[1;34m(self, method, url, fields, headers, encode_multipart, multipart_boundary, **urlopen_kw)\u001b[0m\n\u001b[0;32m    167\u001b[0m extra_kw[\u001b[39m\"\u001b[39m\u001b[39mheaders\u001b[39m\u001b[39m\"\u001b[39m]\u001b[39m.\u001b[39mupdate(headers)\n\u001b[0;32m    168\u001b[0m extra_kw\u001b[39m.\u001b[39mupdate(urlopen_kw)\n\u001b[1;32m--> 170\u001b[0m \u001b[39mreturn\u001b[39;00m \u001b[39mself\u001b[39m\u001b[39m.\u001b[39murlopen(method, url, \u001b[39m*\u001b[39m\u001b[39m*\u001b[39mextra_kw)\n",
      "File \u001b[1;32m~\\AppData\\Roaming\\Python\\Python310\\site-packages\\urllib3\\poolmanager.py:376\u001b[0m, in \u001b[0;36mPoolManager.urlopen\u001b[1;34m(self, method, url, redirect, **kw)\u001b[0m\n\u001b[0;32m    374\u001b[0m     response \u001b[39m=\u001b[39m conn\u001b[39m.\u001b[39murlopen(method, url, \u001b[39m*\u001b[39m\u001b[39m*\u001b[39mkw)\n\u001b[0;32m    375\u001b[0m \u001b[39melse\u001b[39;00m:\n\u001b[1;32m--> 376\u001b[0m     response \u001b[39m=\u001b[39m conn\u001b[39m.\u001b[39murlopen(method, u\u001b[39m.\u001b[39mrequest_uri, \u001b[39m*\u001b[39m\u001b[39m*\u001b[39mkw)\n\u001b[0;32m    378\u001b[0m redirect_location \u001b[39m=\u001b[39m redirect \u001b[39mand\u001b[39;00m response\u001b[39m.\u001b[39mget_redirect_location()\n\u001b[0;32m    379\u001b[0m \u001b[39mif\u001b[39;00m \u001b[39mnot\u001b[39;00m redirect_location:\n",
      "File \u001b[1;32m~\\AppData\\Roaming\\Python\\Python310\\site-packages\\urllib3\\connectionpool.py:703\u001b[0m, in \u001b[0;36mHTTPConnectionPool.urlopen\u001b[1;34m(self, method, url, body, headers, retries, redirect, assert_same_host, timeout, pool_timeout, release_conn, chunked, body_pos, **response_kw)\u001b[0m\n\u001b[0;32m    700\u001b[0m     \u001b[39mself\u001b[39m\u001b[39m.\u001b[39m_prepare_proxy(conn)\n\u001b[0;32m    702\u001b[0m \u001b[39m# Make the request on the httplib connection object.\u001b[39;00m\n\u001b[1;32m--> 703\u001b[0m httplib_response \u001b[39m=\u001b[39m \u001b[39mself\u001b[39;49m\u001b[39m.\u001b[39;49m_make_request(\n\u001b[0;32m    704\u001b[0m     conn,\n\u001b[0;32m    705\u001b[0m     method,\n\u001b[0;32m    706\u001b[0m     url,\n\u001b[0;32m    707\u001b[0m     timeout\u001b[39m=\u001b[39;49mtimeout_obj,\n\u001b[0;32m    708\u001b[0m     body\u001b[39m=\u001b[39;49mbody,\n\u001b[0;32m    709\u001b[0m     headers\u001b[39m=\u001b[39;49mheaders,\n\u001b[0;32m    710\u001b[0m     chunked\u001b[39m=\u001b[39;49mchunked,\n\u001b[0;32m    711\u001b[0m )\n\u001b[0;32m    713\u001b[0m \u001b[39m# If we're going to release the connection in ``finally:``, then\u001b[39;00m\n\u001b[0;32m    714\u001b[0m \u001b[39m# the response doesn't need to know about the connection. Otherwise\u001b[39;00m\n\u001b[0;32m    715\u001b[0m \u001b[39m# it will also try to release it and we'll have a double-release\u001b[39;00m\n\u001b[0;32m    716\u001b[0m \u001b[39m# mess.\u001b[39;00m\n\u001b[0;32m    717\u001b[0m response_conn \u001b[39m=\u001b[39m conn \u001b[39mif\u001b[39;00m \u001b[39mnot\u001b[39;00m release_conn \u001b[39melse\u001b[39;00m \u001b[39mNone\u001b[39;00m\n",
      "File \u001b[1;32m~\\AppData\\Roaming\\Python\\Python310\\site-packages\\urllib3\\connectionpool.py:449\u001b[0m, in \u001b[0;36mHTTPConnectionPool._make_request\u001b[1;34m(self, conn, method, url, timeout, chunked, **httplib_request_kw)\u001b[0m\n\u001b[0;32m    444\u001b[0m             httplib_response \u001b[39m=\u001b[39m conn\u001b[39m.\u001b[39mgetresponse()\n\u001b[0;32m    445\u001b[0m         \u001b[39mexcept\u001b[39;00m \u001b[39mBaseException\u001b[39;00m \u001b[39mas\u001b[39;00m e:\n\u001b[0;32m    446\u001b[0m             \u001b[39m# Remove the TypeError from the exception chain in\u001b[39;00m\n\u001b[0;32m    447\u001b[0m             \u001b[39m# Python 3 (including for exceptions like SystemExit).\u001b[39;00m\n\u001b[0;32m    448\u001b[0m             \u001b[39m# Otherwise it looks like a bug in the code.\u001b[39;00m\n\u001b[1;32m--> 449\u001b[0m             six\u001b[39m.\u001b[39;49mraise_from(e, \u001b[39mNone\u001b[39;49;00m)\n\u001b[0;32m    450\u001b[0m \u001b[39mexcept\u001b[39;00m (SocketTimeout, BaseSSLError, SocketError) \u001b[39mas\u001b[39;00m e:\n\u001b[0;32m    451\u001b[0m     \u001b[39mself\u001b[39m\u001b[39m.\u001b[39m_raise_timeout(err\u001b[39m=\u001b[39me, url\u001b[39m=\u001b[39murl, timeout_value\u001b[39m=\u001b[39mread_timeout)\n",
      "File \u001b[1;32m<string>:3\u001b[0m, in \u001b[0;36mraise_from\u001b[1;34m(value, from_value)\u001b[0m\n",
      "File \u001b[1;32m~\\AppData\\Roaming\\Python\\Python310\\site-packages\\urllib3\\connectionpool.py:444\u001b[0m, in \u001b[0;36mHTTPConnectionPool._make_request\u001b[1;34m(self, conn, method, url, timeout, chunked, **httplib_request_kw)\u001b[0m\n\u001b[0;32m    441\u001b[0m \u001b[39mexcept\u001b[39;00m \u001b[39mTypeError\u001b[39;00m:\n\u001b[0;32m    442\u001b[0m     \u001b[39m# Python 3\u001b[39;00m\n\u001b[0;32m    443\u001b[0m     \u001b[39mtry\u001b[39;00m:\n\u001b[1;32m--> 444\u001b[0m         httplib_response \u001b[39m=\u001b[39m conn\u001b[39m.\u001b[39;49mgetresponse()\n\u001b[0;32m    445\u001b[0m     \u001b[39mexcept\u001b[39;00m \u001b[39mBaseException\u001b[39;00m \u001b[39mas\u001b[39;00m e:\n\u001b[0;32m    446\u001b[0m         \u001b[39m# Remove the TypeError from the exception chain in\u001b[39;00m\n\u001b[0;32m    447\u001b[0m         \u001b[39m# Python 3 (including for exceptions like SystemExit).\u001b[39;00m\n\u001b[0;32m    448\u001b[0m         \u001b[39m# Otherwise it looks like a bug in the code.\u001b[39;00m\n\u001b[0;32m    449\u001b[0m         six\u001b[39m.\u001b[39mraise_from(e, \u001b[39mNone\u001b[39;00m)\n",
      "File \u001b[1;32mc:\\Program Files\\Python310\\lib\\http\\client.py:1374\u001b[0m, in \u001b[0;36mHTTPConnection.getresponse\u001b[1;34m(self)\u001b[0m\n\u001b[0;32m   1372\u001b[0m \u001b[39mtry\u001b[39;00m:\n\u001b[0;32m   1373\u001b[0m     \u001b[39mtry\u001b[39;00m:\n\u001b[1;32m-> 1374\u001b[0m         response\u001b[39m.\u001b[39;49mbegin()\n\u001b[0;32m   1375\u001b[0m     \u001b[39mexcept\u001b[39;00m \u001b[39mConnectionError\u001b[39;00m:\n\u001b[0;32m   1376\u001b[0m         \u001b[39mself\u001b[39m\u001b[39m.\u001b[39mclose()\n",
      "File \u001b[1;32mc:\\Program Files\\Python310\\lib\\http\\client.py:318\u001b[0m, in \u001b[0;36mHTTPResponse.begin\u001b[1;34m(self)\u001b[0m\n\u001b[0;32m    316\u001b[0m \u001b[39m# read until we get a non-100 response\u001b[39;00m\n\u001b[0;32m    317\u001b[0m \u001b[39mwhile\u001b[39;00m \u001b[39mTrue\u001b[39;00m:\n\u001b[1;32m--> 318\u001b[0m     version, status, reason \u001b[39m=\u001b[39m \u001b[39mself\u001b[39;49m\u001b[39m.\u001b[39;49m_read_status()\n\u001b[0;32m    319\u001b[0m     \u001b[39mif\u001b[39;00m status \u001b[39m!=\u001b[39m CONTINUE:\n\u001b[0;32m    320\u001b[0m         \u001b[39mbreak\u001b[39;00m\n",
      "File \u001b[1;32mc:\\Program Files\\Python310\\lib\\http\\client.py:279\u001b[0m, in \u001b[0;36mHTTPResponse._read_status\u001b[1;34m(self)\u001b[0m\n\u001b[0;32m    278\u001b[0m \u001b[39mdef\u001b[39;00m \u001b[39m_read_status\u001b[39m(\u001b[39mself\u001b[39m):\n\u001b[1;32m--> 279\u001b[0m     line \u001b[39m=\u001b[39m \u001b[39mstr\u001b[39m(\u001b[39mself\u001b[39;49m\u001b[39m.\u001b[39;49mfp\u001b[39m.\u001b[39;49mreadline(_MAXLINE \u001b[39m+\u001b[39;49m \u001b[39m1\u001b[39;49m), \u001b[39m\"\u001b[39m\u001b[39miso-8859-1\u001b[39m\u001b[39m\"\u001b[39m)\n\u001b[0;32m    280\u001b[0m     \u001b[39mif\u001b[39;00m \u001b[39mlen\u001b[39m(line) \u001b[39m>\u001b[39m _MAXLINE:\n\u001b[0;32m    281\u001b[0m         \u001b[39mraise\u001b[39;00m LineTooLong(\u001b[39m\"\u001b[39m\u001b[39mstatus line\u001b[39m\u001b[39m\"\u001b[39m)\n",
      "File \u001b[1;32mc:\\Program Files\\Python310\\lib\\socket.py:705\u001b[0m, in \u001b[0;36mSocketIO.readinto\u001b[1;34m(self, b)\u001b[0m\n\u001b[0;32m    703\u001b[0m \u001b[39mwhile\u001b[39;00m \u001b[39mTrue\u001b[39;00m:\n\u001b[0;32m    704\u001b[0m     \u001b[39mtry\u001b[39;00m:\n\u001b[1;32m--> 705\u001b[0m         \u001b[39mreturn\u001b[39;00m \u001b[39mself\u001b[39;49m\u001b[39m.\u001b[39;49m_sock\u001b[39m.\u001b[39;49mrecv_into(b)\n\u001b[0;32m    706\u001b[0m     \u001b[39mexcept\u001b[39;00m timeout:\n\u001b[0;32m    707\u001b[0m         \u001b[39mself\u001b[39m\u001b[39m.\u001b[39m_timeout_occurred \u001b[39m=\u001b[39m \u001b[39mTrue\u001b[39;00m\n",
      "\u001b[1;31mKeyboardInterrupt\u001b[0m: "
     ]
    }
   ],
   "source": [
    "time.sleep(4)\n",
    "for x in islice(rf,15):\n",
    "  print(x)\n",
    "  time.sleep(2*max(1,len(x) * 0.01))\n",
    "  rf.click_post()"
   ]
  },
  {
   "cell_type": "code",
   "execution_count": 13,
   "metadata": {},
   "outputs": [
    {
     "name": "stderr",
     "output_type": "stream",
     "text": [
      "ic| X: 332.95704261695\n",
      "ic| Y: 234.21875\n"
     ]
    }
   ],
   "source": [
    "rf.click_post()"
   ]
  },
  {
   "cell_type": "code",
   "execution_count": null,
   "metadata": {},
   "outputs": [],
   "source": [
    "# decultter html\n",
    "# Array.from(x.querySelectorAll('*')).map((x,i)=>{\n",
    "#     const cl = Array.from(x.classList)\n",
    "#     const to_remove = cl.filter(x=> !/^[a-z-]+$/.exec(x))\n",
    "#     for (let cls of to_remove) {\n",
    "#         x.classList.remove(cls)\n",
    "#     }\n",
    "#     if (x.className === ''){\n",
    "#         x.removeAttribute('class')\n",
    "#     }\n",
    "# })"
   ]
  }
 ],
 "metadata": {
  "kernelspec": {
   "display_name": "Python 3",
   "language": "python",
   "name": "python3"
  },
  "language_info": {
   "codemirror_mode": {
    "name": "ipython",
    "version": 3
   },
   "file_extension": ".py",
   "mimetype": "text/x-python",
   "name": "python",
   "nbconvert_exporter": "python",
   "pygments_lexer": "ipython3",
   "version": "3.10.7"
  },
  "orig_nbformat": 4
 },
 "nbformat": 4,
 "nbformat_minor": 2
}
